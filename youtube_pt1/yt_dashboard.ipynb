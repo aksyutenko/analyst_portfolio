{
 "cells": [
  {
   "cell_type": "markdown",
   "id": "e48316d8",
   "metadata": {},
   "source": [
    "# Анализ показателей YouTube канала в соотвествии с методикой AIDA\n",
    "\n",
    "## Цель исследования\n",
    "\n",
    "Осуществить выгрузку метрик YouTube канала с помощью API и подготовить дашборд в Looker Studio в соответствии с методикой AIDA. На следующем этапе данная информация будет использоваться для расчета ROMI.\n",
    "\n",
    "## Задачи исследования\n",
    "- Импорт данных YouTube канала в разрезе видео роликов и дат в Google Sheets;\n",
    "- Подготовить дашборд в Looker Studio;\n"
   ]
  },
  {
   "cell_type": "markdown",
   "id": "7e1ad5d7",
   "metadata": {},
   "source": [
    "### Подготовка"
   ]
  },
  {
   "cell_type": "code",
   "execution_count": 1,
   "id": "316ed41c",
   "metadata": {},
   "outputs": [],
   "source": [
    "import pandas as pd\n",
    "import gspread\n",
    "from oauth2client.service_account import ServiceAccountCredentials\n",
    "from datetime import datetime, timedelta\n",
    "\n",
    "\n",
    "import os\n",
    "import google.oauth2.credentials\n",
    "import google_auth_oauthlib.flow\n",
    "from googleapiclient.discovery import build\n",
    "from googleapiclient.errors import HttpError\n",
    "from google_auth_oauthlib.flow import InstalledAppFlow"
   ]
  },
  {
   "cell_type": "code",
   "execution_count": 2,
   "id": "3b504a6e",
   "metadata": {},
   "outputs": [],
   "source": [
    "# ключ API\n",
    "api_key = '---'\n",
    "\n",
    "# айди канала для анализа\n",
    "channel_id = '---'\n",
    "\n",
    "youtube = build('youtube', 'v3', developerKey = api_key)"
   ]
  },
  {
   "cell_type": "markdown",
   "id": "5cefe65f",
   "metadata": {},
   "source": [
    "### Выгрузка данных в разбивке по видео"
   ]
  },
  {
   "cell_type": "markdown",
   "id": "830b5349",
   "metadata": {},
   "source": [
    "Выгрузим отчет с разбивкой по видео за период в 180 дней с помощью YouTube Analytics API"
   ]
  },
  {
   "cell_type": "code",
   "execution_count": 3,
   "id": "3fa9fb2b",
   "metadata": {
    "scrolled": true
   },
   "outputs": [
    {
     "name": "stdout",
     "output_type": "stream",
     "text": [
      "Please visit this URL to authorize this application: https://accounts.google.com/o/oauth2/auth?response_type=code&client_id=279986150789-1uvc3jj3aojufhucn1f63tl7fq8p0a8h.apps.googleusercontent.com&redirect_uri=urn%3Aietf%3Awg%3Aoauth%3A2.0%3Aoob&scope=https%3A%2F%2Fwww.googleapis.com%2Fauth%2Fyt-analytics.readonly&state=fVppIGKdNAVPV5dQ1kU4eTQltTHs67&prompt=consent&access_type=offline\n",
      "Enter the authorization code: 4/1AfgeXvs_7R5w4ZKNfJ5T5qSSZ0VyUcSnbUWhHqRzRfSPRlh9KaQXI-dgHOc\n",
      "{'kind': 'youtubeAnalytics#resultTable', 'columnHeaders': [{'name': 'video', 'columnType': 'DIMENSION', 'dataType': 'STRING'}, {'name': 'views', 'columnType': 'METRIC', 'dataType': 'INTEGER'}, {'name': 'estimatedMinutesWatched', 'columnType': 'METRIC', 'dataType': 'INTEGER'}, {'name': 'averageViewDuration', 'columnType': 'METRIC', 'dataType': 'INTEGER'}, {'name': 'likes', 'columnType': 'METRIC', 'dataType': 'INTEGER'}, {'name': 'dislikes', 'columnType': 'METRIC', 'dataType': 'INTEGER'}, {'name': 'comments', 'columnType': 'METRIC', 'dataType': 'INTEGER'}, {'name': 'shares', 'columnType': 'METRIC', 'dataType': 'INTEGER'}, {'name': 'subscribersGained', 'columnType': 'METRIC', 'dataType': 'INTEGER'}, {'name': 'cardImpressions', 'columnType': 'METRIC', 'dataType': 'INTEGER'}, {'name': 'cardClicks', 'columnType': 'METRIC', 'dataType': 'INTEGER'}, {'name': 'cardTeaserImpressions', 'columnType': 'METRIC', 'dataType': 'INTEGER'}, {'name': 'cardTeaserClicks', 'columnType': 'METRIC', 'dataType': 'INTEGER'}], 'rows': [['CMfLxO5Zrgg', 1632, 2010, 73, 6, 0, 0, 18, 3, 0, 0, 0, 0], ['Nnh4VkN9uc8', 1354, 2234, 99, 32, 2, 0, 16, 8, 0, 0, 0, 0], ['KIcqcGLl4E4', 805, 1670, 124, 21, 0, 1, 9, 8, 0, 0, 0, 0], ['9rn6HHnzCn4', 292, 426, 87, 8, 0, 0, 4, 2, 0, 0, 39, 0], ['xo4DKaouLto', 199, 338, 102, 5, 0, 1, 4, 2, 0, 0, 0, 0], ['65OyAKePEeA', 121, 170, 84, 3, 0, 1, 2, 0, 0, 0, 0, 0], ['aTKStcYnxY8', 119, 185, 93, 2, 0, 0, 2, 0, 0, 0, 0, 0], ['wtIGfXgb86M', 104, 71, 41, 2, 0, 1, 1, 0, 0, 0, 0, 0], ['jskdGV4mbN4', 82, 49, 36, 1, 0, 1, 1, 1, 0, 0, 0, 0], ['jdMoSS6HLJs', 64, 150, 141, 0, 0, 0, 1, 0, 0, 0, 0, 0], ['SSag5Iq6vaQ', 62, 95, 92, 2, 0, 0, 0, 0, 0, 0, 0, 0], ['NiXw6nl7jqM', 53, 75, 85, 2, 0, 0, 2, 1, 0, 0, 13, 0], ['d5dL0u_f99I', 53, 85, 97, 1, 0, 0, 2, 1, 0, 0, 9, 0], ['EaK2W_z8VoM', 49, 45, 56, 0, 0, 0, 1, 0, 0, 0, 29, 0], ['1BUYQ1t6IHY', 42, 11, 15, 0, 0, 0, 0, 0, 0, 0, 0, 0], ['wR4-iS2Tv2E', 39, 44, 67, 0, 0, 0, 1, 0, 0, 0, 0, 0], ['y2njpEVOego', 38, 24, 38, 0, 0, 0, 5, 0, 0, 0, 0, 0], ['Z3lev0rnFNE', 37, 33, 55, 1, 0, 0, 3, 0, 0, 0, 0, 0], ['eX_fZHN4MnI', 35, 34, 59, 1, 1, 0, 2, 0, 0, 0, 0, 0], ['GA0c2ViTnM4', 34, 65, 115, 1, 0, 0, 3, 0, 0, 0, 0, 0], ['U2thSQn516w', 34, 57, 100, 0, 0, 0, 1, 0, 0, 0, 5, 0], ['46tL9V_DPss', 31, 36, 70, 1, 0, 0, 1, 1, 0, 0, 0, 0], ['Epx9j6MrsCA', 31, 50, 97, 1, 0, 0, 5, 0, 0, 0, 0, 0], ['E14wpPE_NVc', 30, 19, 38, 0, 0, 0, 0, 0, 0, 0, 0, 0], ['EGtD0aDrO4U', 29, 11, 24, 0, 0, 0, 2, 0, 0, 0, 0, 0], ['0NlDdddXpr8', 24, 7, 19, 0, 0, 0, 0, 0, 0, 0, 0, 0], ['5pO8wUDVNtA', 23, 21, 57, 0, 0, 0, 1, 0, 0, 0, 16, 0], ['7kuhRwTVLr0', 22, 24, 66, 0, 0, 0, 0, 0, 0, 0, 2, 0], ['B6jUvWMh6E4', 22, 9, 26, 0, 0, 0, 2, 0, 0, 0, 0, 0], ['aGyyRA_T-XE', 21, 19, 55, 0, 0, 0, 0, 0, 0, 0, 0, 0], ['ltkje5i9pcE', 21, 11, 31, 0, 0, 0, 4, 0, 0, 0, 0, 0], ['yg4bLvpYnuk', 19, 9, 30, 0, 0, 1, 0, 2, 0, 0, 0, 0], ['P0OHigRMM-0', 18, 14, 49, 1, 0, 0, 0, 0, 0, 0, 2, 0], ['vODBFhoNi6Y', 18, 30, 101, 1, 0, 0, 1, 0, 0, 0, 0, 0], ['_kihPRL3R68', 17, 4, 14, 0, 0, 0, 0, 0, 0, 0, 3, 0], ['m9MVABTmvK4', 16, 10, 39, 0, 0, 0, 1, 0, 0, 0, 0, 0], ['1DHh1jvAhUY', 15, 14, 58, 0, 0, 0, 2, 0, 0, 0, 3, 0], ['fsstrV_X6r4', 15, 7, 31, 0, 0, 0, 2, 0, 0, 0, 0, 0], ['9dcKafa1ebw', 14, 10, 45, 0, 0, 0, 0, 0, 0, 0, 0, 0], ['jg8OmF0j9Qw', 14, 9, 40, 0, 0, 0, 0, 0, 0, 0, 0, 0], ['DFYOvP5ls3M', 13, 7, 36, 0, 0, 0, 2, 0, 0, 0, 0, 0], ['XjgHv1CUb4k', 13, 12, 56, 0, 0, 0, 3, 0, 0, 0, 0, 0], ['v9tfD2wz66I', 13, 22, 104, 0, 0, 0, 3, 0, 0, 0, 8, 0], ['xE34892Lr6A', 13, 2, 12, 0, 0, 0, 0, 0, 0, 0, 0, 0], ['4yqkqxU_UPQ', 12, 8, 42, 0, 0, 0, 0, 0, 0, 0, 0, 0], ['RlokiuajDaw', 12, 14, 74, 0, 0, 0, 2, 0, 0, 0, 0, 0], ['lERhHGDM61w', 12, 4, 20, 0, 0, 0, 0, 0, 0, 0, 1, 0], ['ueF8mh_220k', 12, 5, 25, 0, 0, 0, 2, 0, 0, 0, 4, 0], ['k4cjNql8n9o', 11, 2, 14, 0, 0, 0, 0, 0, 0, 0, 0, 0], ['s0YvhT12WQ4', 11, 3, 17, 0, 0, 0, 2, 0, 0, 0, 0, 0], ['vtnI8TGL-kQ', 11, 12, 68, 0, 0, 0, 1, 0, 0, 0, 4, 0], ['7mPl2YcufZA', 10, 7, 45, 0, 0, 0, 1, 0, 0, 0, 0, 0], ['KVTeDZYdAD8', 10, 4, 24, 0, 0, 0, 0, 0, 0, 0, 0, 0], ['moMOW18sanI', 10, 1, 11, 0, 0, 0, 0, 0, 0, 0, 0, 0], ['47KjjZmL2Vk', 9, 4, 33, 0, 0, 0, 0, 0, 0, 0, 0, 0], ['WK12m-n4EKo', 9, 10, 70, 0, 0, 0, 1, 0, 0, 0, 0, 0], ['Y9_FHz9kB6M', 9, 4, 29, 0, 0, 0, 0, 0, 0, 0, 0, 0], ['jtiuy41JsTw', 9, 4, 29, 0, 0, 0, 0, 0, 0, 0, 0, 0], ['E3TZVLIRTNA', 8, 12, 93, 0, 0, 0, 1, 0, 0, 0, 0, 0], ['EV4ZyDCdWrM', 8, 3, 26, 0, 0, 0, 0, 0, 0, 0, 2, 0], ['E_6fJy2hczw', 8, 3, 28, 0, 0, 0, 0, 0, 0, 0, 0, 0], ['YM809V6S0O8', 8, 2, 17, 0, 0, 0, 2, 0, 0, 0, 1, 0], ['qRe6TiyzDhg', 8, 3, 24, 0, 0, 0, 0, 0, 0, 0, 0, 0], ['5CwoCDpcRBY', 7, 4, 41, 0, 0, 0, 2, 0, 0, 0, 0, 0], ['F89q0_S75bs', 7, 1, 9, 0, 0, 0, 0, 0, 0, 0, 0, 0], ['MOk41erzzBM', 7, 1, 9, 0, 0, 0, 1, 0, 0, 0, 0, 0], ['NdFctxUYmNc', 7, 5, 45, 0, 0, 0, 0, 0, 0, 0, 0, 0], ['Q8o6RkdNnlU', 7, 6, 54, 0, 0, 0, 0, 1, 0, 0, 2, 0], ['w4M6x18c5hA', 7, 3, 28, 0, 0, 0, 0, 0, 0, 0, 0, 0], ['5ZJUMFItPak', 6, 3, 32, 0, 0, 0, 1, 0, 0, 0, 0, 0], ['90caewbUGHQ', 6, 4, 46, 0, 0, 0, 1, 0, 0, 0, 0, 0], ['E6DlhiYIJpI', 6, 5, 54, 0, 0, 0, 0, 0, 0, 0, 0, 0], ['HjrQTEbzjQM', 6, 6, 60, 0, 0, 0, 0, 0, 0, 0, 0, 0], ['Hy-ZFcK1uBo', 6, 6, 63, 0, 0, 0, 1, 0, 0, 0, 0, 0], ['PmsrKg6d6G0', 6, 3, 33, 0, 0, 0, 0, 0, 0, 0, 0, 0], ['TUdtVClNI0I', 6, 2, 22, 0, 0, 0, 0, 0, 0, 0, 0, 0], ['XLZnE7IL5lc', 6, 6, 66, 0, 0, 0, 2, 0, 0, 0, 2, 0], ['j4n2MERXMY4', 6, 2, 20, 0, 0, 0, 0, 0, 0, 0, 0, 0], ['neEGtTBhDoc', 6, 3, 39, 0, 0, 0, 0, 0, 0, 0, 0, 0], ['6OfhVnLyTAk', 5, 1, 16, 0, 0, 0, 0, 0, 0, 0, 0, 0], ['9LuwDg7a2tY', 5, 6, 73, 0, 0, 0, 0, 0, 0, 0, 0, 0], ['HTdJBJaQtHo', 5, 6, 75, -1, 0, 0, 0, 0, 0, 0, 0, 0], ['QDEXkiXNcFg', 5, 1, 17, 0, 0, 0, 0, 0, 0, 0, 4, 0], ['V30pwRLhpqk', 5, 3, 41, 0, 0, 0, 2, 0, 0, 0, 0, 0], ['cNIWcKbX0jY', 5, 1, 15, 0, 0, 0, 0, 0, 0, 0, 0, 0], ['jPphuc5kE2g', 5, 3, 43, 0, 0, 0, 0, 0, 0, 0, 0, 0], ['jtXrLJFHTsY', 5, 4, 50, 0, 0, 0, 1, 0, 0, 0, 0, 0], ['p2uEiQmGDwU', 5, 5, 63, 0, 0, 0, 0, 0, 0, 0, 0, 0], ['pI2glXMHRFI', 5, 2, 35, 0, 0, 0, 0, 0, 0, 0, 3, 0], ['qilbxQyRrD0', 5, 1, 15, 0, 0, 0, 0, 0, 0, 0, 4, 0], ['t8jK_WkOZig', 5, 3, 38, 0, 0, 0, 0, 0, 0, 0, 0, 0], ['uZC3ZWQAc3E', 5, 1, 16, 0, 0, 0, 0, 0, 0, 0, 1, 0], ['E--CV2jpssE', 4, 1, 24, 0, 0, 0, 0, 0, 0, 0, 0, 0], ['TFhMpRCOD60', 4, 3, 48, 0, 0, 0, 0, 0, 0, 0, 0, 0], ['Vq4wRmmQhwo', 4, 1, 17, 0, 0, 0, 0, 0, 0, 0, 0, 0], ['cpsLcKbcOt4', 4, 1, 20, 0, 0, 0, 3, 0, 0, 0, 1, 0], ['dLBqJQTz6T4', 4, 1, 15, 0, 0, 0, 0, 0, 0, 0, 0, 0], ['mnRJV6MWwTo', 4, 2, 33, 0, 0, 0, 0, 0, 0, 0, 1, 0], ['omw_ANcHRTs', 4, 3, 45, 0, 0, 0, 0, 0, 0, 0, 1, 0], ['xeUpTF6qrqI', 4, 4, 62, 0, 0, 0, 0, 0, 0, 0, 0, 0], ['BJMz6POZhtc', 3, 0, 16, 0, 0, 0, 0, 0, 0, 0, 0, 0], ['D90McGesHbg', 3, 1, 29, 0, 0, 0, 0, 0, 0, 0, 0, 0], ['E6dWejfvqxM', 3, 0, 16, 0, 0, 0, 2, 0, 0, 0, 0, 0], ['FL0Dk1vbqgQ', 3, 1, 26, 0, 0, 0, 0, 0, 0, 0, 0, 0], ['GPcih6UR2yY', 3, 1, 34, 0, 0, 0, 0, 0, 0, 0, 0, 0], ['GT0_B_jyyd4', 3, 1, 20, 0, 0, 0, 0, 0, 0, 0, 0, 0], ['HurqvgSyYw4', 3, 1, 31, 1, 0, 0, 0, 0, 0, 0, 0, 0], ['KTmGk1aetWM', 3, 3, 64, 0, 0, 0, 0, 0, 0, 0, 0, 0], ['NM32OzIIH7I', 3, 0, 12, 0, 0, 0, 0, 0, 0, 0, 0, 0], ['NXsakO-63N8', 3, 2, 43, 0, 0, 0, 2, 0, 0, 0, 4, 0], ['S6r_edkZqSA', 3, 0, 17, 0, 0, 0, 0, 0, 0, 0, 0, 0], ['Yny97Kf4dnk', 3, 1, 30, 0, 0, 0, 1, 0, 0, 0, 0, 0], ['cXo2i8cGEc4', 3, 1, 27, 0, 0, 0, 0, 0, 0, 0, 0, 0], ['cYC5nuWJUb8', 3, 0, 17, 0, 0, 0, 0, 0, 0, 0, 0, 0], ['egqjH_R-fFY', 3, 0, 16, 0, 0, 0, 1, 0, 0, 0, 2, 0], ['gidVRtv1JjE', 3, 0, 15, 0, 0, 0, 0, 0, 0, 0, 1, 0], ['oqDu9deU75I', 3, 1, 35, 0, 0, 0, 3, 0, 0, 0, 2, 0], ['tzVSXZ8Mneo', 3, 1, 20, 0, 0, 0, 0, 0, 0, 0, 1, 0], ['wVYSZRUfmLU', 3, 3, 68, 0, 0, 0, 1, 0, 0, 0, 1, 0], ['xHfEZEmVqOo', 3, 2, 50, 0, 0, 0, 0, 0, 0, 0, 0, 0], ['-Qqyp6pOwnA', 2, 0, 16, 0, 0, 0, 0, 0, 0, 0, 1, 0], ['-rhusejHR08', 2, 0, 14, 0, 0, 0, 0, 0, 0, 0, 0, 0], ['06qhDXhfBEg', 2, 0, 29, 0, 0, 0, 0, 0, 0, 0, 0, 0], ['2AVEKSey1rQ', 2, 0, 22, 0, 0, 0, 0, 0, 0, 0, 0, 0], ['5-LpQSsDwas', 2, 0, 22, 0, 0, 0, 0, 0, 0, 0, 0, 0], ['9id5CS3ZA1Q', 2, 0, 16, 0, 0, 0, 1, 0, 0, 0, 0, 0], ['Bc7G3rcBEhU', 2, 0, 25, 0, 0, 0, 0, 0, 0, 0, 0, 0], ['Crtk30LVg7A', 2, 1, 43, 0, 0, 0, 0, 0, 0, 0, 0, 0], ['CzZZZSCImP4', 2, 0, 2, 0, 0, 0, 0, 0, 0, 0, 0, 0], ['EmQoanTWb2Y', 2, 0, 6, 0, 0, 0, 0, 0, 0, 0, 0, 0], ['FcJ3Wobyrso', 2, 1, 50, 0, 0, 0, 0, 0, 0, 0, 0, 0], ['Gev3PGvlUHQ', 2, 0, 18, 0, 0, 0, 0, 0, 0, 0, 0, 0], ['H5-m0cg8cmY', 2, 1, 58, 0, 0, 0, 1, 0, 0, 0, 0, 0], ['KNa5A0csWWM', 2, 0, 24, 0, 0, 0, 0, 0, 0, 0, 0, 0], ['L_SJlDl8PUk', 2, 1, 34, 0, 0, 0, 1, 0, 0, 0, 0, 0], ['Lp-yGRPmll4', 2, 1, 36, 0, 0, 0, 0, 0, 0, 0, 0, 0], ['Mv5Sb3GBltg', 2, 0, 25, 0, 0, 0, 0, 0, 0, 0, 1, 0], ['OdIR9QJT7AA', 2, 0, 7, 0, 0, 0, 0, 0, 0, 0, 0, 0], ['RMAvA3zdbJo', 2, 1, 58, 0, 0, 0, 1, 0, 0, 0, 0, 0], ['RVdgDZt7jHY', 2, 0, 2, 0, 0, 0, 0, 0, 0, 0, 0, 0], ['RVoTo2yRkJk', 2, 0, 3, 0, 0, 0, 1, 0, 0, 0, 0, 0], ['S2stJhUNcos', 2, 1, 57, 0, 0, 0, 0, 0, 0, 0, 0, 0], ['U6YhBnyEtfc', 2, 0, 18, 0, 0, 0, 0, 0, 0, 0, 0, 0], ['UE7pBMuAvsU', 2, 1, 31, 0, 0, 0, 0, 0, 0, 0, 0, 0], ['XFDRnkm6kgk', 2, 1, 32, 1, 0, 0, 0, 0, 0, 0, 0, 0], ['XslnpMo0Sio', 2, 0, 12, 0, 0, 0, 2, 0, 0, 0, 0, 0], ['XtM7SMrJZJs', 2, 1, 54, 0, 0, 0, 0, 0, 0, 0, 0, 0], ['ZlVVvzFB8l4', 2, 2, 84, 0, 0, 0, 0, 0, 0, 0, 2, 0], ['__07h3uSH7g', 2, 1, 31, 0, 0, 0, 0, 0, 0, 0, 0, 0], ['_t8LyXez5sk', 2, 0, 15, 0, 0, 0, 0, 0, 0, 0, 0, 0], ['e-DPR7BOVLs', 2, 0, 11, 0, 0, 0, 0, 0, 0, 0, 0, 0], ['i6KlzfW1QXs', 2, 0, 17, 0, 0, 0, 1, 0, 0, 0, 0, 0], ['jZ52X6pQXAQ', 2, 0, 7, 0, 0, 0, 0, 0, 0, 0, 0, 0], ['nt20o9m4a_I', 2, 0, 3, 0, 0, 0, 1, 0, 0, 0, 0, 0], ['pCLD4C43m0Y', 2, 1, 36, 0, 0, 0, 0, 0, 0, 0, 1, 0], ['qT0j-Ckkds8', 2, 0, 8, 0, 0, 0, 0, 0, 0, 0, 0, 0], ['u1iA54hOVIM', 2, 0, 12, 0, 0, 0, 0, 0, 0, 0, 0, 0], ['uO8SVu4e4Fs', 2, 0, 12, 0, 0, 0, 0, 0, 0, 0, 0, 0], ['yIkzzg2-jNQ', 2, 1, 35, 0, 0, 0, 0, 0, 0, 0, 0, 0], ['-b6PerJkaW0', 1, 0, 25, 0, 0, 0, 0, 0, 0, 0, 0, 0], ['16YnOWDGY08', 1, 0, 12, 0, 0, 0, 0, 0, 0, 0, 0, 0], ['2GUM7AjbqSo', 1, 1, 63, 0, 0, 0, 0, 0, 0, 0, 0, 0], ['7ZJiMYLVYo4', 1, 0, 18, 0, 0, 0, 0, 0, 0, 0, 0, 0], ['9zNNj9dEOFg', 1, 0, 12, 0, 0, 0, 0, 0, 0, 0, 0, 0], ['ALWGUkNDUjk', 1, 1, 103, 1, 0, 0, 0, 0, 0, 0, 0, 0], ['CU07I8KirZs', 1, 0, 19, 0, 0, 0, 0, 0, 0, 0, 0, 0], ['ExV_7qzJxSQ', 1, 1, 78, 0, 0, 0, 0, 0, 0, 0, 0, 0], ['IS3-65u1QAI', 1, 0, 59, 0, 0, 0, 0, 0, 0, 0, 0, 0], ['JHWg012GtYY', 1, 0, 17, 0, 0, 0, 0, 0, 0, 0, 0, 0], ['JPQPX_D9MYE', 1, 0, 12, 0, 0, 0, 0, 0, 0, 0, 0, 0], ['NHc0YVl0CZQ', 1, 0, 21, 0, 0, 0, 0, 0, 0, 0, 0, 0], ['QGwMWiahq4Y', 1, 0, 13, 0, 0, 0, 0, 0, 0, 0, 0, 0], ['WVtEWOsQ3M8', 1, 0, 55, 0, 0, 0, 0, 0, 0, 0, 0, 0], ['ZpNTlXFiJZI', 1, 0, 23, 0, 0, 0, 0, 0, 0, 0, 1, 0], ['_sT71FJo5qc', 1, 0, 51, 0, 0, 0, 0, 0, 0, 0, 1, 0], ['ceXZC67IPAg', 1, 0, 10, 0, 0, 0, 0, 0, 0, 0, 0, 0], ['g6OPBEg0zF0', 1, 0, 29, 0, 0, 0, 0, 0, 0, 0, 0, 0], ['j-NKt-9TpFc', 1, 0, 23, 0, 0, 0, 0, 0, 0, 0, 0, 0], ['jizIdPchwuo', 1, 1, 83, 0, 0, 0, 0, 0, 0, 0, 1, 0], ['kk8Txmb7Xr8', 1, 1, 63, 0, 0, 0, 2, 0, 0, 0, 0, 0], ['kqnbyZFHAKA', 1, 0, 50, 0, 0, 0, 0, 0, 0, 0, 0, 0], ['mhF48BJTlU4', 1, 0, 30, 0, 0, 0, 0, 0, 0, 0, 0, 0], ['pq48fDLklgM', 1, 0, 6, 0, 0, 0, 0, 0, 0, 0, 0, 0], ['rnLdPyxgXB8', 1, 0, 30, 0, 0, 0, 0, 0, 0, 0, 0, 0], ['sGdYOG5A8RQ', 1, 0, 15, 0, 0, 0, 0, 0, 0, 0, 0, 0], ['ts-08RUJiQ4', 1, 2, 122, 0, 0, 0, 1, 0, 0, 0, 0, 0], ['vTsC7oyTuNU', 1, 1, 63, 0, 0, 0, 0, 0, 0, 0, 0, 0], ['vfBHo-si7xA', 1, 0, 37, 0, 0, 0, 0, 0, 0, 0, 0, 0], ['zltJOOR_-gY', 1, 0, 22, 0, 0, 0, 1, 0, 0, 0, 1, 0], ['RZ6-GyNxnFI', 0, 0, 0, 0, 0, 0, 0, 0, 0, 0, 0, 0]]}\n"
     ]
    }
   ],
   "source": [
    "# -*- coding: utf-8 -*-\n",
    "\n",
    "SCOPES = ['https://www.googleapis.com/auth/yt-analytics.readonly']\n",
    "\n",
    "API_SERVICE_NAME = 'youtubeAnalytics'\n",
    "API_VERSION = 'v2'\n",
    "CLIENT_SECRETS_FILE = 'client_secret.json'\n",
    "\n",
    "def get_service():\n",
    "  flow = InstalledAppFlow.from_client_secrets_file(CLIENT_SECRETS_FILE, SCOPES)\n",
    "  credentials = flow.run_console()\n",
    "  return build(API_SERVICE_NAME, API_VERSION, credentials = credentials)\n",
    "\n",
    "def execute_api_request(client_library_function, **kwargs):\n",
    "  response = client_library_function(\n",
    "      **kwargs\n",
    "  ).execute()\n",
    "\n",
    "  print(response)\n",
    "  return response\n",
    "\n",
    "if __name__ == '__main__':\n",
    "  # Disable OAuthlib's HTTPs verification when running locally.\n",
    "  # *DO NOT* leave this option enabled when running in production.\n",
    "  os.environ['OAUTHLIB_INSECURE_TRANSPORT'] = '1'\n",
    "\n",
    "  youtubeAnalytics = get_service()\n",
    "  stat = execute_api_request(\n",
    "      youtubeAnalytics.reports().query,\n",
    "      ids='channel==UCBC5Nwxcp1f8-bEdPOK53ug',\n",
    "      dimensions='video',\n",
    "      startDate=(datetime.today() - timedelta(days=180)).strftime('%Y-%m-%d'),\n",
    "      endDate=datetime.today().strftime('%Y-%m-%d'),\n",
    "      maxResults='200',\n",
    "      sort='-views',\n",
    "      metrics='views,estimatedMinutesWatched,averageViewDuration,likes,dislikes,comments,shares,subscribersGained,cardImpressions,cardClicks,cardTeaserImpressions,cardTeaserClicks'\n",
    "  )"
   ]
  },
  {
   "cell_type": "markdown",
   "id": "14e27b6a",
   "metadata": {},
   "source": [
    "Подготовим датафрейм с данными. Также выгрузим информацию о названии роликов и дате их загрузки."
   ]
  },
  {
   "cell_type": "code",
   "execution_count": 4,
   "id": "9e55b898",
   "metadata": {},
   "outputs": [],
   "source": [
    "headers = ['id','views','estimatedMinutesWatched','averageViewDuration','likes','dislikes','comments','shares','subscribersGained','cardImpressions','cardClicks','cardTeaserImpressions','cardTeaserClicks']\n",
    "by_video = pd.DataFrame(data=stat['rows'],columns=headers)"
   ]
  },
  {
   "cell_type": "code",
   "execution_count": 5,
   "id": "d88ad06c",
   "metadata": {},
   "outputs": [],
   "source": [
    "def get_video_details(youtube, video_ids):\n",
    "    all_video_stats = []\n",
    "    \n",
    "    for i in range(0, len(video_ids), 50):\n",
    "        request = youtube.videos().list(\n",
    "                    part='snippet,statistics',\n",
    "                    id=','.join(video_ids[i:i+50]))\n",
    "        response = request.execute()\n",
    "        \n",
    "        for video in response['items']:\n",
    "            video_stats = dict(id=video['id'], title = video['snippet']['title'],\n",
    "                               published_date = video['snippet']['publishedAt'])\n",
    "            all_video_stats.append(video_stats)\n",
    "    \n",
    "    return all_video_stats"
   ]
  },
  {
   "cell_type": "code",
   "execution_count": 6,
   "id": "36660c97",
   "metadata": {},
   "outputs": [
    {
     "data": {
      "text/html": [
       "<div>\n",
       "<style scoped>\n",
       "    .dataframe tbody tr th:only-of-type {\n",
       "        vertical-align: middle;\n",
       "    }\n",
       "\n",
       "    .dataframe tbody tr th {\n",
       "        vertical-align: top;\n",
       "    }\n",
       "\n",
       "    .dataframe thead th {\n",
       "        text-align: right;\n",
       "    }\n",
       "</style>\n",
       "<table border=\"1\" class=\"dataframe\">\n",
       "  <thead>\n",
       "    <tr style=\"text-align: right;\">\n",
       "      <th></th>\n",
       "      <th>id</th>\n",
       "      <th>title</th>\n",
       "      <th>published_date</th>\n",
       "    </tr>\n",
       "  </thead>\n",
       "  <tbody>\n",
       "    <tr>\n",
       "      <th>0</th>\n",
       "      <td>CMfLxO5Zrgg</td>\n",
       "      <td>Терминал B — Шереметьево Паркинг | Моушн-дизай...</td>\n",
       "      <td>2019-04-15T11:02:54Z</td>\n",
       "    </tr>\n",
       "    <tr>\n",
       "      <th>1</th>\n",
       "      <td>Nnh4VkN9uc8</td>\n",
       "      <td>Служебное огнестрельное оружие в работе охранн...</td>\n",
       "      <td>2018-10-02T21:27:14Z</td>\n",
       "    </tr>\n",
       "    <tr>\n",
       "      <th>2</th>\n",
       "      <td>KIcqcGLl4E4</td>\n",
       "      <td>Служебное огнестрельное оружие в работе охранн...</td>\n",
       "      <td>2018-12-01T21:35:39Z</td>\n",
       "    </tr>\n",
       "    <tr>\n",
       "      <th>3</th>\n",
       "      <td>9rn6HHnzCn4</td>\n",
       "      <td>Правила противопожарной безопасности в ТЦ | Ду...</td>\n",
       "      <td>2018-09-15T07:39:16Z</td>\n",
       "    </tr>\n",
       "    <tr>\n",
       "      <th>4</th>\n",
       "      <td>xo4DKaouLto</td>\n",
       "      <td>Шокер для охранников. Как использовать спецсре...</td>\n",
       "      <td>2018-08-25T21:21:40Z</td>\n",
       "    </tr>\n",
       "  </tbody>\n",
       "</table>\n",
       "</div>"
      ],
      "text/plain": [
       "            id                                              title  \\\n",
       "0  CMfLxO5Zrgg  Терминал B — Шереметьево Паркинг | Моушн-дизай...   \n",
       "1  Nnh4VkN9uc8  Служебное огнестрельное оружие в работе охранн...   \n",
       "2  KIcqcGLl4E4  Служебное огнестрельное оружие в работе охранн...   \n",
       "3  9rn6HHnzCn4  Правила противопожарной безопасности в ТЦ | Ду...   \n",
       "4  xo4DKaouLto  Шокер для охранников. Как использовать спецсре...   \n",
       "\n",
       "         published_date  \n",
       "0  2019-04-15T11:02:54Z  \n",
       "1  2018-10-02T21:27:14Z  \n",
       "2  2018-12-01T21:35:39Z  \n",
       "3  2018-09-15T07:39:16Z  \n",
       "4  2018-08-25T21:21:40Z  "
      ]
     },
     "execution_count": 6,
     "metadata": {},
     "output_type": "execute_result"
    }
   ],
   "source": [
    "video_titles = pd.DataFrame(get_video_details(youtube, by_video['id']))\n",
    "video_titles.head()"
   ]
  },
  {
   "cell_type": "code",
   "execution_count": 7,
   "id": "6a75bc14",
   "metadata": {},
   "outputs": [],
   "source": [
    "by_video = by_video.merge(video_titles, on='id')"
   ]
  },
  {
   "cell_type": "code",
   "execution_count": 8,
   "id": "abdea333",
   "metadata": {},
   "outputs": [],
   "source": [
    "by_video['published_date'] = pd.to_datetime(by_video['published_date'])\n",
    "by_video['published_date'] = by_video['published_date'].dt.strftime('%Y-%m-%d')"
   ]
  },
  {
   "cell_type": "code",
   "execution_count": 9,
   "id": "66f9f324",
   "metadata": {},
   "outputs": [
    {
     "data": {
      "text/html": [
       "<div>\n",
       "<style scoped>\n",
       "    .dataframe tbody tr th:only-of-type {\n",
       "        vertical-align: middle;\n",
       "    }\n",
       "\n",
       "    .dataframe tbody tr th {\n",
       "        vertical-align: top;\n",
       "    }\n",
       "\n",
       "    .dataframe thead th {\n",
       "        text-align: right;\n",
       "    }\n",
       "</style>\n",
       "<table border=\"1\" class=\"dataframe\">\n",
       "  <thead>\n",
       "    <tr style=\"text-align: right;\">\n",
       "      <th></th>\n",
       "      <th>id</th>\n",
       "      <th>views</th>\n",
       "      <th>estimatedMinutesWatched</th>\n",
       "      <th>averageViewDuration</th>\n",
       "      <th>likes</th>\n",
       "      <th>dislikes</th>\n",
       "      <th>comments</th>\n",
       "      <th>shares</th>\n",
       "      <th>subscribersGained</th>\n",
       "      <th>cardImpressions</th>\n",
       "      <th>cardClicks</th>\n",
       "      <th>cardTeaserImpressions</th>\n",
       "      <th>cardTeaserClicks</th>\n",
       "      <th>title</th>\n",
       "      <th>published_date</th>\n",
       "    </tr>\n",
       "  </thead>\n",
       "  <tbody>\n",
       "    <tr>\n",
       "      <th>0</th>\n",
       "      <td>CMfLxO5Zrgg</td>\n",
       "      <td>1632</td>\n",
       "      <td>2010</td>\n",
       "      <td>73</td>\n",
       "      <td>6</td>\n",
       "      <td>0</td>\n",
       "      <td>0</td>\n",
       "      <td>18</td>\n",
       "      <td>3</td>\n",
       "      <td>0</td>\n",
       "      <td>0</td>\n",
       "      <td>0</td>\n",
       "      <td>0</td>\n",
       "      <td>Терминал B — Шереметьево Паркинг | Моушн-дизай...</td>\n",
       "      <td>2019-04-15</td>\n",
       "    </tr>\n",
       "    <tr>\n",
       "      <th>1</th>\n",
       "      <td>Nnh4VkN9uc8</td>\n",
       "      <td>1354</td>\n",
       "      <td>2234</td>\n",
       "      <td>99</td>\n",
       "      <td>32</td>\n",
       "      <td>2</td>\n",
       "      <td>0</td>\n",
       "      <td>16</td>\n",
       "      <td>8</td>\n",
       "      <td>0</td>\n",
       "      <td>0</td>\n",
       "      <td>0</td>\n",
       "      <td>0</td>\n",
       "      <td>Служебное огнестрельное оружие в работе охранн...</td>\n",
       "      <td>2018-10-02</td>\n",
       "    </tr>\n",
       "    <tr>\n",
       "      <th>2</th>\n",
       "      <td>KIcqcGLl4E4</td>\n",
       "      <td>805</td>\n",
       "      <td>1670</td>\n",
       "      <td>124</td>\n",
       "      <td>21</td>\n",
       "      <td>0</td>\n",
       "      <td>1</td>\n",
       "      <td>9</td>\n",
       "      <td>8</td>\n",
       "      <td>0</td>\n",
       "      <td>0</td>\n",
       "      <td>0</td>\n",
       "      <td>0</td>\n",
       "      <td>Служебное огнестрельное оружие в работе охранн...</td>\n",
       "      <td>2018-12-01</td>\n",
       "    </tr>\n",
       "    <tr>\n",
       "      <th>3</th>\n",
       "      <td>9rn6HHnzCn4</td>\n",
       "      <td>292</td>\n",
       "      <td>426</td>\n",
       "      <td>87</td>\n",
       "      <td>8</td>\n",
       "      <td>0</td>\n",
       "      <td>0</td>\n",
       "      <td>4</td>\n",
       "      <td>2</td>\n",
       "      <td>0</td>\n",
       "      <td>0</td>\n",
       "      <td>39</td>\n",
       "      <td>0</td>\n",
       "      <td>Правила противопожарной безопасности в ТЦ | Ду...</td>\n",
       "      <td>2018-09-15</td>\n",
       "    </tr>\n",
       "    <tr>\n",
       "      <th>4</th>\n",
       "      <td>xo4DKaouLto</td>\n",
       "      <td>199</td>\n",
       "      <td>338</td>\n",
       "      <td>102</td>\n",
       "      <td>5</td>\n",
       "      <td>0</td>\n",
       "      <td>1</td>\n",
       "      <td>4</td>\n",
       "      <td>2</td>\n",
       "      <td>0</td>\n",
       "      <td>0</td>\n",
       "      <td>0</td>\n",
       "      <td>0</td>\n",
       "      <td>Шокер для охранников. Как использовать спецсре...</td>\n",
       "      <td>2018-08-25</td>\n",
       "    </tr>\n",
       "  </tbody>\n",
       "</table>\n",
       "</div>"
      ],
      "text/plain": [
       "            id  views  estimatedMinutesWatched  averageViewDuration  likes  \\\n",
       "0  CMfLxO5Zrgg   1632                     2010                   73      6   \n",
       "1  Nnh4VkN9uc8   1354                     2234                   99     32   \n",
       "2  KIcqcGLl4E4    805                     1670                  124     21   \n",
       "3  9rn6HHnzCn4    292                      426                   87      8   \n",
       "4  xo4DKaouLto    199                      338                  102      5   \n",
       "\n",
       "   dislikes  comments  shares  subscribersGained  cardImpressions  cardClicks  \\\n",
       "0         0         0      18                  3                0           0   \n",
       "1         2         0      16                  8                0           0   \n",
       "2         0         1       9                  8                0           0   \n",
       "3         0         0       4                  2                0           0   \n",
       "4         0         1       4                  2                0           0   \n",
       "\n",
       "   cardTeaserImpressions  cardTeaserClicks  \\\n",
       "0                      0                 0   \n",
       "1                      0                 0   \n",
       "2                      0                 0   \n",
       "3                     39                 0   \n",
       "4                      0                 0   \n",
       "\n",
       "                                               title published_date  \n",
       "0  Терминал B — Шереметьево Паркинг | Моушн-дизай...     2019-04-15  \n",
       "1  Служебное огнестрельное оружие в работе охранн...     2018-10-02  \n",
       "2  Служебное огнестрельное оружие в работе охранн...     2018-12-01  \n",
       "3  Правила противопожарной безопасности в ТЦ | Ду...     2018-09-15  \n",
       "4  Шокер для охранников. Как использовать спецсре...     2018-08-25  "
      ]
     },
     "execution_count": 9,
     "metadata": {},
     "output_type": "execute_result"
    }
   ],
   "source": [
    "by_video.head()"
   ]
  },
  {
   "cell_type": "markdown",
   "id": "a7dddbd6",
   "metadata": {},
   "source": [
    "### Выгрузка данных в разбивке по датам"
   ]
  },
  {
   "cell_type": "markdown",
   "id": "7fad27b9",
   "metadata": {},
   "source": [
    "Аналогичным образом выгрузим отчет в разрезе дней за период в предшествующие 180 дней."
   ]
  },
  {
   "cell_type": "code",
   "execution_count": 10,
   "id": "2dd735c6",
   "metadata": {
    "scrolled": true
   },
   "outputs": [
    {
     "name": "stdout",
     "output_type": "stream",
     "text": [
      "Please visit this URL to authorize this application: https://accounts.google.com/o/oauth2/auth?response_type=code&client_id=279986150789-1uvc3jj3aojufhucn1f63tl7fq8p0a8h.apps.googleusercontent.com&redirect_uri=urn%3Aietf%3Awg%3Aoauth%3A2.0%3Aoob&scope=https%3A%2F%2Fwww.googleapis.com%2Fauth%2Fyt-analytics.readonly&state=3I7BivDA0jHQmrNvC0hbhso77D8RV7&prompt=consent&access_type=offline\n",
      "Enter the authorization code: 4/1AfgeXvurnFuwapgoDo3EbhHO5qEyYg04QR9bUPhhyNle5b4rBnRlP295PpI\n",
      "{'kind': 'youtubeAnalytics#resultTable', 'columnHeaders': [{'name': 'day', 'columnType': 'DIMENSION', 'dataType': 'STRING'}, {'name': 'views', 'columnType': 'METRIC', 'dataType': 'INTEGER'}, {'name': 'estimatedMinutesWatched', 'columnType': 'METRIC', 'dataType': 'INTEGER'}, {'name': 'averageViewDuration', 'columnType': 'METRIC', 'dataType': 'INTEGER'}, {'name': 'likes', 'columnType': 'METRIC', 'dataType': 'INTEGER'}, {'name': 'dislikes', 'columnType': 'METRIC', 'dataType': 'INTEGER'}, {'name': 'comments', 'columnType': 'METRIC', 'dataType': 'INTEGER'}, {'name': 'shares', 'columnType': 'METRIC', 'dataType': 'INTEGER'}, {'name': 'subscribersGained', 'columnType': 'METRIC', 'dataType': 'INTEGER'}, {'name': 'cardImpressions', 'columnType': 'METRIC', 'dataType': 'INTEGER'}, {'name': 'cardClicks', 'columnType': 'METRIC', 'dataType': 'INTEGER'}, {'name': 'cardTeaserImpressions', 'columnType': 'METRIC', 'dataType': 'INTEGER'}, {'name': 'cardTeaserClicks', 'columnType': 'METRIC', 'dataType': 'INTEGER'}], 'rows': [['2022-05-26', 26, 36, 84, 1, 0, 0, 1, 1, 0, 0, 3, 0], ['2022-05-27', 49, 56, 69, 0, 0, 0, 3, 0, 0, 0, 4, 0], ['2022-05-28', 35, 55, 94, 1, 0, 0, 2, 1, 0, 0, 1, 0], ['2022-05-29', 33, 47, 87, 0, 0, 0, 0, 0, 0, 0, 2, 0], ['2022-05-30', 40, 51, 77, 0, 0, 0, 0, 1, 0, 0, 0, 0], ['2022-05-31', 39, 58, 89, 4, 0, 0, 0, 0, 0, 0, 0, 0], ['2022-06-01', 20, 32, 97, 0, 0, 0, 0, 1, 0, 0, 0, 0], ['2022-06-02', 45, 65, 87, 0, 0, 0, 2, 1, 0, 0, 4, 0], ['2022-06-03', 36, 50, 83, 0, 0, 0, 0, 0, 0, 0, 5, 0], ['2022-06-04', 27, 39, 87, 1, 0, 0, 1, 0, 0, 0, 1, 0], ['2022-06-05', 27, 35, 79, 0, 0, 0, 0, 1, 0, 0, 0, 0], ['2022-06-06', 23, 37, 98, 1, 0, 0, 0, 1, 0, 0, 0, 0], ['2022-06-07', 36, 34, 58, 0, 0, 0, 0, 0, 0, 0, 3, 0], ['2022-06-08', 28, 31, 68, 0, 0, 0, 1, 0, 0, 0, 1, 0], ['2022-06-09', 44, 73, 100, 0, 0, 0, 2, 0, 0, 0, 0, 0], ['2022-06-10', 57, 93, 98, 0, 0, 1, 2, 0, 0, 0, 9, 0], ['2022-06-11', 23, 42, 109, 0, 0, 0, 0, 0, 0, 0, 0, 0], ['2022-06-12', 28, 35, 76, 0, 0, 0, 0, 0, 0, 0, 1, 0], ['2022-06-13', 37, 50, 81, 0, 0, 0, 0, 1, 0, 0, 0, 0], ['2022-06-14', 27, 40, 90, 1, 0, 0, 0, 1, 0, 0, 0, 0], ['2022-06-15', 37, 56, 92, 0, 0, 0, 0, 0, 0, 0, 2, 0], ['2022-06-16', 43, 55, 77, 1, 0, 0, 8, 0, 0, 0, 2, 0], ['2022-06-17', 33, 66, 121, 0, 0, 0, 0, 0, 0, 0, 1, 0], ['2022-06-18', 33, 57, 104, 0, 0, 0, 0, 0, 0, 0, 1, 0], ['2022-06-19', 27, 40, 90, 0, 0, 0, 0, 1, 0, 0, 0, 0], ['2022-06-20', 33, 50, 92, 0, 0, 0, 0, 1, 0, 0, 0, 0], ['2022-06-21', 41, 63, 92, 0, 0, 0, 1, 0, 0, 0, 0, 0], ['2022-06-22', 30, 52, 105, 0, 0, 0, 0, 0, 0, 0, 1, 0], ['2022-06-23', 33, 40, 73, 1, 0, 0, 1, 1, 0, 0, 1, 0], ['2022-06-24', 46, 65, 84, 0, 0, 0, 1, 0, 0, 0, 1, 0], ['2022-06-25', 30, 31, 62, 1, 0, 0, 1, 0, 0, 0, 0, 0], ['2022-06-26', 28, 37, 79, 0, 0, 0, 0, 0, 0, 0, 1, 0], ['2022-06-27', 42, 53, 76, 3, 0, 0, 0, 1, 0, 0, 0, 0], ['2022-06-28', 46, 51, 67, 1, 0, 0, 2, 0, 0, 0, 2, 0], ['2022-06-29', 63, 48, 46, 0, 0, 0, 0, 0, 0, 0, 0, 0], ['2022-06-30', 33, 53, 96, 1, 0, 0, 0, 0, 0, 0, 0, 0], ['2022-07-01', 34, 55, 97, 0, 0, 0, 0, 0, 0, 0, 0, 0], ['2022-07-02', 41, 49, 72, 1, 0, 0, 1, 0, 0, 0, 0, 0], ['2022-07-03', 36, 40, 67, 0, 0, 1, 0, 1, 0, 0, 0, 0], ['2022-07-04', 38, 40, 64, 7, 0, 0, 0, 0, 0, 0, 1, 0], ['2022-07-05', 18, 31, 103, 1, 0, 0, 0, 0, 0, 0, 0, 0], ['2022-07-06', 26, 32, 75, 0, 0, 0, 0, 0, 0, 0, 2, 0], ['2022-07-07', 38, 65, 103, 0, 0, 0, 1, 0, 0, 0, 0, 0], ['2022-07-08', 28, 38, 82, 0, 0, 0, 2, 0, 0, 0, 0, 0], ['2022-07-09', 37, 65, 106, 1, 0, 0, 0, 0, 0, 0, 3, 0], ['2022-07-10', 26, 28, 66, 1, 0, 1, 1, 0, 0, 0, 1, 0], ['2022-07-11', 31, 46, 90, 1, 0, 0, 0, 0, 0, 0, 2, 0], ['2022-07-12', 32, 47, 89, 0, 0, 0, 1, 0, 0, 0, 1, 0], ['2022-07-13', 29, 41, 84, 1, 0, 0, 0, 0, 0, 0, 0, 0], ['2022-07-14', 44, 64, 88, 2, 0, 0, 1, 0, 0, 0, 0, 0], ['2022-07-15', 34, 47, 83, 1, 0, 0, 1, 1, 0, 0, 1, 0], ['2022-07-16', 34, 56, 100, 1, 0, 0, 1, 0, 0, 0, 1, 0], ['2022-07-17', 33, 56, 102, 0, 0, 0, 1, 0, 0, 0, 1, 0], ['2022-07-18', 38, 54, 86, 0, 0, 0, 1, 0, 0, 0, 1, 0], ['2022-07-19', 42, 49, 71, 0, 0, 0, 0, 0, 0, 0, 4, 0], ['2022-07-20', 27, 40, 88, 2, 0, 0, 0, 0, 0, 0, 0, 0], ['2022-07-21', 26, 32, 75, 1, 0, 0, 0, 0, 0, 0, 1, 0], ['2022-07-22', 29, 33, 70, 0, 0, 0, 0, 0, 0, 0, 0, 0], ['2022-07-23', 21, 34, 98, 0, 0, 0, 0, 0, 0, 0, 0, 0], ['2022-07-24', 49, 50, 62, 0, 0, 0, 2, 0, 0, 0, 1, 0], ['2022-07-25', 25, 38, 91, 1, 0, 0, 0, 1, 0, 0, 0, 0], ['2022-07-26', 26, 36, 83, 0, 0, 0, 1, 0, 0, 0, 0, 0], ['2022-07-27', 48, 51, 63, 1, 1, 0, 14, 1, 0, 0, 6, 0], ['2022-07-28', 52, 58, 68, 0, 0, 0, 11, 0, 0, 0, 1, 0], ['2022-07-29', 24, 37, 93, 1, 0, 0, 0, 2, 0, 0, 0, 0], ['2022-07-30', 30, 44, 89, 1, 0, 0, 0, 0, 0, 0, 1, 0], ['2022-07-31', 27, 47, 106, 1, 0, 0, 0, 0, 0, 0, 0, 0], ['2022-08-01', 35, 50, 85, 2, 0, 0, 0, 1, 0, 0, 1, 0], ['2022-08-02', 44, 60, 82, 0, 0, 0, 0, 0, 0, 0, 1, 0], ['2022-08-03', 45, 51, 68, 0, 0, 0, 1, 1, 0, 0, 0, 0], ['2022-08-04', 39, 54, 84, 1, 0, 1, 1, 1, 0, 0, 1, 0], ['2022-08-05', 51, 57, 67, 2, 0, 1, 0, 2, 0, 0, 1, 0], ['2022-08-06', 31, 49, 96, 0, 0, 0, 0, 0, 0, 0, 0, 0], ['2022-08-07', 114, 108, 57, 3, 0, 0, 3, 2, 0, 0, 1, 0], ['2022-08-08', 32, 48, 90, 2, 0, 0, 0, 0, 0, 0, 0, 0], ['2022-08-09', 48, 91, 114, 0, 0, 0, 0, 0, 0, 0, 2, 0], ['2022-08-10', 41, 64, 94, 1, 0, 0, 0, 0, 0, 0, 1, 0], ['2022-08-11', 39, 55, 85, 0, 0, 0, 1, 0, 0, 0, 2, 0], ['2022-08-12', 41, 53, 78, 1, 1, 0, 0, 0, 0, 0, 0, 0], ['2022-08-13', 39, 35, 54, 0, 0, 0, 0, 0, 0, 0, 1, 0], ['2022-08-14', 22, 26, 72, 0, 0, 0, 0, 0, 0, 0, 1, 0], ['2022-08-15', 39, 51, 79, 2, 0, 0, 0, 0, 0, 0, 0, 0], ['2022-08-16', 29, 32, 67, 0, 0, 0, 0, 2, 0, 0, 3, 0], ['2022-08-17', 25, 21, 51, 0, 0, 0, 0, 0, 0, 0, 1, 0], ['2022-08-18', 25, 44, 107, 0, 0, 0, 0, 0, 0, 0, 0, 0], ['2022-08-19', 25, 35, 84, 1, 0, 0, 0, 0, 0, 0, 1, 0], ['2022-08-20', 23, 29, 77, 0, 0, 0, 0, 0, 0, 0, 1, 0], ['2022-08-21', 27, 40, 90, 0, 0, 0, 0, 1, 0, 0, 0, 0], ['2022-08-22', 37, 44, 72, 1, 1, 0, 0, 0, 0, 0, 0, 0], ['2022-08-23', 30, 43, 87, 1, 0, 0, 2, 0, 0, 0, 0, 0], ['2022-08-24', 35, 54, 92, 0, 0, 0, 0, 0, 0, 0, 0, 0], ['2022-08-25', 44, 76, 104, 1, 0, 0, 0, 0, 0, 0, 5, 0], ['2022-08-26', 52, 48, 56, 0, 0, 0, 0, 0, 0, 0, 0, 0], ['2022-08-27', 23, 35, 92, 1, 0, 0, 1, 1, 0, 0, 0, 0], ['2022-08-28', 34, 49, 87, 1, 0, 0, 0, 0, 0, 0, 0, 0], ['2022-08-29', 42, 51, 73, 0, 0, 0, 3, 0, 0, 0, 0, 0], ['2022-08-30', 44, 54, 74, 0, 0, 0, 1, 1, 0, 0, 1, 0], ['2022-08-31', 27, 39, 87, 0, 0, 0, 0, 0, 0, 0, 0, 0], ['2022-09-01', 25, 29, 70, 0, 0, 0, 0, 0, 0, 0, 0, 0], ['2022-09-02', 18, 23, 79, 0, 0, 0, 0, 0, 0, 0, 0, 0], ['2022-09-03', 26, 36, 84, 1, 0, 0, 0, 1, 0, 0, 0, 0], ['2022-09-04', 42, 80, 115, 0, 0, 0, 2, 0, 0, 0, 1, 0], ['2022-09-05', 33, 40, 73, 1, 0, 0, 1, 0, 0, 0, 0, 0], ['2022-09-06', 25, 38, 91, 0, 0, 0, 1, 1, 0, 0, 2, 0], ['2022-09-07', 33, 50, 92, 0, 0, 0, 0, 0, 0, 0, 0, 0], ['2022-09-08', 26, 34, 78, 0, 0, 0, 1, 0, 0, 0, 1, 0], ['2022-09-09', 64, 62, 58, 0, 0, 0, 1, 0, 0, 0, 10, 0], ['2022-09-10', 46, 50, 66, 0, 0, 0, 0, 0, 0, 0, 1, 0], ['2022-09-11', 36, 54, 91, 0, 0, 0, 0, 0, 0, 0, 0, 0], ['2022-09-12', 29, 33, 69, 0, 0, 0, 0, 0, 0, 0, 0, 0], ['2022-09-13', 42, 57, 82, 2, 0, 0, 2, 0, 0, 0, 1, 0], ['2022-09-14', 40, 64, 96, 0, 0, 0, 0, 1, 0, 0, 2, 0], ['2022-09-15', 40, 57, 86, 0, 0, 0, 12, 0, 0, 0, 4, 0], ['2022-09-16', 31, 42, 81, 0, 0, 0, 0, 0, 0, 0, 0, 0], ['2022-09-17', 41, 40, 59, 0, 0, 0, 2, 0, 0, 0, 0, 0], ['2022-09-18', 22, 26, 71, 0, 0, 0, 0, 1, 0, 0, 0, 0], ['2022-09-19', 33, 46, 84, 1, 0, 0, 0, 0, 0, 0, 1, 0], ['2022-09-20', 41, 62, 91, 1, 0, 0, 1, 1, 0, 0, 1, 0], ['2022-09-21', 31, 31, 61, 0, 0, 0, 0, 0, 0, 0, 0, 0], ['2022-09-22', 26, 20, 47, 0, 0, 0, 3, 0, 0, 0, 0, 0], ['2022-09-23', 19, 27, 85, 0, 0, 0, 0, 0, 0, 0, 0, 0], ['2022-09-24', 29, 42, 87, 0, 0, 0, 0, 0, 0, 0, 0, 0], ['2022-09-25', 28, 44, 95, 3, 0, 0, 1, 0, 0, 0, 0, 0], ['2022-09-26', 30, 50, 101, 0, 0, 0, 0, 0, 0, 0, 0, 0], ['2022-09-27', 18, 29, 97, -1, 0, 0, 1, 0, 0, 0, 0, 0], ['2022-09-28', 30, 44, 88, 0, 0, 0, 1, 0, 0, 0, 0, 0], ['2022-09-29', 53, 49, 56, 0, 0, 0, 1, 1, 0, 0, 1, 0], ['2022-09-30', 25, 25, 61, 1, 0, 0, 0, 1, 0, 0, 0, 0], ['2022-10-01', 27, 29, 65, 1, 0, 0, 0, 1, 0, 0, 0, 0], ['2022-10-02', 26, 29, 67, 1, 0, 0, 0, 0, 0, 0, 0, 0], ['2022-10-03', 44, 61, 83, 1, 0, 0, 8, 1, 0, 0, 5, 0], ['2022-10-04', 40, 60, 91, 0, 0, 0, 1, 0, 0, 0, 4, 0], ['2022-10-05', 43, 46, 64, 0, 0, 0, 0, 0, 0, 0, 1, 0], ['2022-10-06', 33, 26, 48, -1, 0, 0, 0, 0, 0, 0, 5, 0], ['2022-10-07', 25, 31, 76, 0, 0, 0, 0, 0, 0, 0, 0, 0], ['2022-10-08', 37, 45, 74, 1, 0, 0, 0, 0, 0, 0, 0, 0], ['2022-10-09', 40, 58, 87, 0, 0, 0, 0, 0, 0, 0, 0, 0], ['2022-10-10', 29, 48, 100, 1, 0, 0, 0, 0, 0, 0, 0, 0], ['2022-10-11', 44, 73, 99, 1, 0, 0, 0, 1, 0, 0, 2, 0], ['2022-10-12', 36, 48, 81, 0, 0, 0, 0, 0, 0, 0, 0, 0], ['2022-10-13', 30, 55, 111, 0, 0, 0, 0, 1, 0, 0, 1, 0], ['2022-10-14', 35, 42, 73, 1, 0, 0, 2, 0, 0, 0, 0, 0], ['2022-10-15', 27, 44, 99, 0, 0, 1, 1, 1, 0, 0, 0, 0], ['2022-10-16', 17, 21, 76, 0, 0, 0, 0, 0, 0, 0, 0, 0], ['2022-10-17', 36, 55, 91, 1, 0, 0, 1, 1, 0, 0, 1, 0], ['2022-10-18', 38, 57, 90, 1, 0, 0, 0, 0, 0, 0, 2, 0], ['2022-10-19', 41, 61, 89, 0, 0, 0, 0, 0, 0, 0, 0, 0], ['2022-10-20', 23, 36, 95, 0, 0, 0, 0, 0, 0, 0, 2, 0], ['2022-10-21', 27, 26, 58, 0, 0, 0, 0, 0, 0, 0, 0, 0], ['2022-10-22', 41, 72, 106, 0, 0, 0, 2, 0, 0, 0, 0, 0], ['2022-10-23', 43, 69, 96, 1, 0, 0, 0, 0, 0, 0, 1, 0], ['2022-10-24', 29, 37, 78, 1, 0, 0, 1, 0, 0, 0, 0, 0], ['2022-10-25', 33, 41, 75, 1, 0, 0, 0, 0, 0, 0, 2, 0], ['2022-10-26', 22, 39, 108, 0, 0, 0, 0, 0, 0, 0, 0, 0], ['2022-10-27', 32, 56, 105, 1, 0, 0, 0, 0, 0, 0, 0, 0], ['2022-10-28', 23, 30, 78, 0, 0, 0, 0, 1, 0, 0, 1, 0], ['2022-10-29', 28, 31, 68, 1, 0, 0, 0, 1, 0, 0, 0, 0], ['2022-10-30', 18, 23, 79, 0, 0, 0, 0, 0, 0, 0, 0, 0], ['2022-10-31', 38, 40, 63, 1, 0, 0, 0, 0, 0, 0, 0, 0], ['2022-11-01', 31, 41, 80, 0, 0, 0, 0, 0, 0, 0, 2, 0], ['2022-11-02', 53, 80, 91, 0, 0, 0, 0, 0, 0, 0, 1, 0], ['2022-11-03', 32, 39, 74, 0, 0, 0, 0, 0, 0, 0, 2, 0], ['2022-11-04', 29, 37, 78, 0, 0, 0, 1, 0, 0, 0, 2, 0], ['2022-11-05', 49, 78, 96, 2, 0, 0, 1, 0, 0, 0, 2, 0], ['2022-11-06', 34, 42, 75, 1, 0, 0, 0, 1, 0, 0, 1, 0], ['2022-11-07', 37, 54, 88, 0, 0, 0, 0, 0, 0, 0, 0, 0], ['2022-11-08', 37, 54, 89, 0, 0, 0, 0, 0, 0, 0, 1, 0], ['2022-11-09', 78, 96, 74, 0, 0, 0, 0, 1, 0, 0, 6, 0], ['2022-11-10', 41, 44, 65, 1, 0, 0, 3, 0, 0, 0, 2, 0], ['2022-11-11', 25, 27, 64, 0, 0, 0, 0, 0, 0, 0, 1, 0], ['2022-11-12', 40, 60, 91, 2, 0, 0, 1, 1, 0, 0, 0, 0], ['2022-11-13', 34, 54, 95, 0, 0, 0, 0, 0, 0, 0, 1, 0], ['2022-11-14', 47, 63, 81, 0, 0, 0, 1, 0, 0, 0, 3, 0], ['2022-11-15', 33, 41, 75, 0, 0, 0, 1, 0, 0, 0, 0, 0], ['2022-11-16', 40, 61, 92, 1, 0, 0, 1, 1, 0, 0, 0, 0], ['2022-11-17', 47, 77, 99, 0, 0, 0, 1, 0, 0, 0, 0, 0], ['2022-11-18', 29, 40, 83, 0, 0, 0, 3, 1, 0, 0, 0, 0], ['2022-11-19', 68, 87, 76, 2, 0, 0, 17, 1, 0, 0, 6, 0]]}\n"
     ]
    }
   ],
   "source": [
    "if __name__ == '__main__':\n",
    "  # Disable OAuthlib's HTTPs verification when running locally.\n",
    "  # *DO NOT* leave this option enabled when running in production.\n",
    "  os.environ['OAUTHLIB_INSECURE_TRANSPORT'] = '1'\n",
    "\n",
    "  youtubeAnalytics = get_service()\n",
    "  stat = execute_api_request(\n",
    "      youtubeAnalytics.reports().query,\n",
    "      ids='channel==UCBC5Nwxcp1f8-bEdPOK53ug',\n",
    "      dimensions='day',\n",
    "      startDate=(datetime.today() - timedelta(days=180)).strftime('%Y-%m-%d'),\n",
    "      endDate=datetime.today().strftime('%Y-%m-%d'),\n",
    "      metrics='views,estimatedMinutesWatched,averageViewDuration,likes,dislikes,comments,shares,subscribersGained,cardImpressions,cardClicks,cardTeaserImpressions,cardTeaserClicks'\n",
    "  )"
   ]
  },
  {
   "cell_type": "code",
   "execution_count": 11,
   "id": "97e24537",
   "metadata": {},
   "outputs": [],
   "source": [
    "headers = ['date','views','estimatedMinutesWatched','averageViewDuration','likes','dislikes','comments','shares','subscribersGained','cardImpressions','cardClicks','cardTeaserImpressions','cardTeaserClicks']\n",
    "by_date = pd.DataFrame(data=stat['rows'],columns=headers)"
   ]
  },
  {
   "cell_type": "code",
   "execution_count": 12,
   "id": "7228ddb6",
   "metadata": {},
   "outputs": [
    {
     "data": {
      "text/html": [
       "<div>\n",
       "<style scoped>\n",
       "    .dataframe tbody tr th:only-of-type {\n",
       "        vertical-align: middle;\n",
       "    }\n",
       "\n",
       "    .dataframe tbody tr th {\n",
       "        vertical-align: top;\n",
       "    }\n",
       "\n",
       "    .dataframe thead th {\n",
       "        text-align: right;\n",
       "    }\n",
       "</style>\n",
       "<table border=\"1\" class=\"dataframe\">\n",
       "  <thead>\n",
       "    <tr style=\"text-align: right;\">\n",
       "      <th></th>\n",
       "      <th>date</th>\n",
       "      <th>views</th>\n",
       "      <th>estimatedMinutesWatched</th>\n",
       "      <th>averageViewDuration</th>\n",
       "      <th>likes</th>\n",
       "      <th>dislikes</th>\n",
       "      <th>comments</th>\n",
       "      <th>shares</th>\n",
       "      <th>subscribersGained</th>\n",
       "      <th>cardImpressions</th>\n",
       "      <th>cardClicks</th>\n",
       "      <th>cardTeaserImpressions</th>\n",
       "      <th>cardTeaserClicks</th>\n",
       "    </tr>\n",
       "  </thead>\n",
       "  <tbody>\n",
       "    <tr>\n",
       "      <th>0</th>\n",
       "      <td>2022-05-26</td>\n",
       "      <td>26</td>\n",
       "      <td>36</td>\n",
       "      <td>84</td>\n",
       "      <td>1</td>\n",
       "      <td>0</td>\n",
       "      <td>0</td>\n",
       "      <td>1</td>\n",
       "      <td>1</td>\n",
       "      <td>0</td>\n",
       "      <td>0</td>\n",
       "      <td>3</td>\n",
       "      <td>0</td>\n",
       "    </tr>\n",
       "    <tr>\n",
       "      <th>1</th>\n",
       "      <td>2022-05-27</td>\n",
       "      <td>49</td>\n",
       "      <td>56</td>\n",
       "      <td>69</td>\n",
       "      <td>0</td>\n",
       "      <td>0</td>\n",
       "      <td>0</td>\n",
       "      <td>3</td>\n",
       "      <td>0</td>\n",
       "      <td>0</td>\n",
       "      <td>0</td>\n",
       "      <td>4</td>\n",
       "      <td>0</td>\n",
       "    </tr>\n",
       "    <tr>\n",
       "      <th>2</th>\n",
       "      <td>2022-05-28</td>\n",
       "      <td>35</td>\n",
       "      <td>55</td>\n",
       "      <td>94</td>\n",
       "      <td>1</td>\n",
       "      <td>0</td>\n",
       "      <td>0</td>\n",
       "      <td>2</td>\n",
       "      <td>1</td>\n",
       "      <td>0</td>\n",
       "      <td>0</td>\n",
       "      <td>1</td>\n",
       "      <td>0</td>\n",
       "    </tr>\n",
       "    <tr>\n",
       "      <th>3</th>\n",
       "      <td>2022-05-29</td>\n",
       "      <td>33</td>\n",
       "      <td>47</td>\n",
       "      <td>87</td>\n",
       "      <td>0</td>\n",
       "      <td>0</td>\n",
       "      <td>0</td>\n",
       "      <td>0</td>\n",
       "      <td>0</td>\n",
       "      <td>0</td>\n",
       "      <td>0</td>\n",
       "      <td>2</td>\n",
       "      <td>0</td>\n",
       "    </tr>\n",
       "    <tr>\n",
       "      <th>4</th>\n",
       "      <td>2022-05-30</td>\n",
       "      <td>40</td>\n",
       "      <td>51</td>\n",
       "      <td>77</td>\n",
       "      <td>0</td>\n",
       "      <td>0</td>\n",
       "      <td>0</td>\n",
       "      <td>0</td>\n",
       "      <td>1</td>\n",
       "      <td>0</td>\n",
       "      <td>0</td>\n",
       "      <td>0</td>\n",
       "      <td>0</td>\n",
       "    </tr>\n",
       "  </tbody>\n",
       "</table>\n",
       "</div>"
      ],
      "text/plain": [
       "         date  views  estimatedMinutesWatched  averageViewDuration  likes  \\\n",
       "0  2022-05-26     26                       36                   84      1   \n",
       "1  2022-05-27     49                       56                   69      0   \n",
       "2  2022-05-28     35                       55                   94      1   \n",
       "3  2022-05-29     33                       47                   87      0   \n",
       "4  2022-05-30     40                       51                   77      0   \n",
       "\n",
       "   dislikes  comments  shares  subscribersGained  cardImpressions  cardClicks  \\\n",
       "0         0         0       1                  1                0           0   \n",
       "1         0         0       3                  0                0           0   \n",
       "2         0         0       2                  1                0           0   \n",
       "3         0         0       0                  0                0           0   \n",
       "4         0         0       0                  1                0           0   \n",
       "\n",
       "   cardTeaserImpressions  cardTeaserClicks  \n",
       "0                      3                 0  \n",
       "1                      4                 0  \n",
       "2                      1                 0  \n",
       "3                      2                 0  \n",
       "4                      0                 0  "
      ]
     },
     "execution_count": 12,
     "metadata": {},
     "output_type": "execute_result"
    }
   ],
   "source": [
    "by_date.head()"
   ]
  },
  {
   "cell_type": "markdown",
   "id": "5b1c5fd3",
   "metadata": {},
   "source": [
    "### Экспорт таблиц в Google Sheets"
   ]
  },
  {
   "cell_type": "code",
   "execution_count": 13,
   "id": "dcea778b",
   "metadata": {},
   "outputs": [],
   "source": [
    "scope = [\"https://spreadsheets.google.com/feeds\",\n",
    "         \"https://www.googleapis.com/auth/spreadsheets\",\n",
    "         \"https://www.googleapis.com/auth/drive.file\",\n",
    "         \"https://www.googleapis.com/auth/drive\"]\n",
    "\n",
    "credentials = ServiceAccountCredentials.from_json_keyfile_name('client_key.json', scope)\n",
    "client = gspread.authorize(credentials)\n",
    "\n",
    "\n",
    "gc = gspread.authorize(credentials)"
   ]
  },
  {
   "cell_type": "code",
   "execution_count": 14,
   "id": "f6965d40",
   "metadata": {
    "scrolled": true
   },
   "outputs": [],
   "source": [
    "sh = gc.open('yt_dashboard')"
   ]
  },
  {
   "cell_type": "code",
   "execution_count": 15,
   "id": "d6567070",
   "metadata": {},
   "outputs": [],
   "source": [
    "video_worksheet = sh.add_worksheet(title=\"video_data\", rows=100, cols=20)\n",
    "date_worksheet = sh.add_worksheet(title=\"date_data\", rows=100, cols=20)"
   ]
  },
  {
   "cell_type": "code",
   "execution_count": 16,
   "id": "95537e73",
   "metadata": {},
   "outputs": [
    {
     "data": {
      "text/plain": [
       "{'spreadsheetId': '1luzzPeoj3LzkU6ApoZwiCWj9wqvOmF1sJw-1bxdfUTU',\n",
       " 'updatedRange': 'date_data!A1:M179',\n",
       " 'updatedRows': 179,\n",
       " 'updatedColumns': 13,\n",
       " 'updatedCells': 2327}"
      ]
     },
     "execution_count": 16,
     "metadata": {},
     "output_type": "execute_result"
    }
   ],
   "source": [
    "video_worksheet.update([by_video.columns.values.tolist()] + by_video.values.tolist())\n",
    "date_worksheet.update([by_date.columns.values.tolist()] + by_date.values.tolist())"
   ]
  },
  {
   "cell_type": "markdown",
   "id": "f89e6b4b",
   "metadata": {},
   "source": [
    "## Результаты"
   ]
  },
  {
   "cell_type": "markdown",
   "id": "de139634",
   "metadata": {},
   "source": [
    "В ходе работы:\n",
    "- получен доступ к информации о роликах канала с помощью YouTube Analytics API;\n",
    "- выгружены метрики в разрезе видео и дней за период в 180 дней и переданы в Looker Studio;\n",
    "- подготовлен [дашборд](https://datastudio.google.com/reporting/d8c8a0af-4a13-4a02-9141-f3007a7d13b2) в соответствии с методикой AIDA."
   ]
  }
 ],
 "metadata": {
  "kernelspec": {
   "display_name": "Python 3 (ipykernel)",
   "language": "python",
   "name": "python3"
  },
  "language_info": {
   "codemirror_mode": {
    "name": "ipython",
    "version": 3
   },
   "file_extension": ".py",
   "mimetype": "text/x-python",
   "name": "python",
   "nbconvert_exporter": "python",
   "pygments_lexer": "ipython3",
   "version": "3.9.13"
  }
 },
 "nbformat": 4,
 "nbformat_minor": 5
}
