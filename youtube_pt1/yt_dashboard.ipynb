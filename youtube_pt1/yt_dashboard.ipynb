{
 "cells": [
  {
   "cell_type": "markdown",
   "id": "e48316d8",
   "metadata": {},
   "source": [
    "# Анализ показателей YouTube канала в соотвествии с методикой AIDA\n",
    "\n",
    "## Цель исследования\n",
    "\n",
    "Осуществить выгрузку метрик YouTube канала с помощью API и подготовить дашборд в Looker Studio в соответствии с методикой AIDA. На следующем этапе данная информация будет использоваться для расчета ROMI.\n",
    "\n",
    "## Задачи исследования\n",
    "- Импорт данных YouTube канала в разрезе видео роликов и дат в Google Sheets;\n",
    "- Подготовить дашборд в Looker Studio;\n"
   ]
  },
  {
   "cell_type": "markdown",
   "id": "7e1ad5d7",
   "metadata": {},
   "source": [
    "### Подготовка"
   ]
  },
  {
   "cell_type": "code",
   "execution_count": 1,
   "id": "316ed41c",
   "metadata": {},
   "outputs": [],
   "source": [
    "import pandas as pd\n",
    "import gspread\n",
    "from oauth2client.service_account import ServiceAccountCredentials\n",
    "from datetime import datetime, timedelta\n",
    "\n",
    "\n",
    "import os\n",
    "import google.oauth2.credentials\n",
    "import google_auth_oauthlib.flow\n",
    "from googleapiclient.discovery import build\n",
    "from googleapiclient.errors import HttpError\n",
    "from google_auth_oauthlib.flow import InstalledAppFlow"
   ]
  },
  {
   "cell_type": "code",
   "execution_count": 2,
   "id": "3b504a6e",
   "metadata": {},
   "outputs": [],
   "source": [
    "# ключ API\n",
    "api_key = '---'\n",
    "\n",
    "# айди канала для анализа\n",
    "channel_id = '---'\n",
    "\n",
    "youtube = build('youtube', 'v3', developerKey = api_key)"
   ]
  },
  {
   "cell_type": "markdown",
   "id": "5cefe65f",
   "metadata": {},
   "source": [
    "### Выгрузка данных в разбивке по видео"
   ]
  },
  {
   "cell_type": "markdown",
   "id": "830b5349",
   "metadata": {},
   "source": [
    "Выгрузим отчет с разбивкой по видео за период в 180 дней с помощью YouTube Analytics API"
   ]
  },
  {
   "cell_type": "code",
   "execution_count": null,
   "id": "3fa9fb2b",
   "metadata": {
    "scrolled": true
   },
   "outputs": [],
   "source": [
    "# -*- coding: utf-8 -*-\n",
    "\n",
    "SCOPES = ['https://www.googleapis.com/auth/yt-analytics.readonly']\n",
    "\n",
    "API_SERVICE_NAME = 'youtubeAnalytics'\n",
    "API_VERSION = 'v2'\n",
    "CLIENT_SECRETS_FILE = 'client_secret.json'\n",
    "\n",
    "def get_service():\n",
    "  flow = InstalledAppFlow.from_client_secrets_file(CLIENT_SECRETS_FILE, SCOPES)\n",
    "  credentials = flow.run_console()\n",
    "  return build(API_SERVICE_NAME, API_VERSION, credentials = credentials)\n",
    "\n",
    "def execute_api_request(client_library_function, **kwargs):\n",
    "  response = client_library_function(\n",
    "      **kwargs\n",
    "  ).execute()\n",
    "\n",
    "  print(response)\n",
    "  return response\n",
    "\n",
    "if __name__ == '__main__':\n",
    "  # Disable OAuthlib's HTTPs verification when running locally.\n",
    "  # *DO NOT* leave this option enabled when running in production.\n",
    "  os.environ['OAUTHLIB_INSECURE_TRANSPORT'] = '1'\n",
    "\n",
    "  youtubeAnalytics = get_service()\n",
    "  stat = execute_api_request(\n",
    "      youtubeAnalytics.reports().query,\n",
    "      ids='channel==---',\n",
    "      dimensions='video',\n",
    "      startDate=(datetime.today() - timedelta(days=180)).strftime('%Y-%m-%d'),\n",
    "      endDate=datetime.today().strftime('%Y-%m-%d'),\n",
    "      maxResults='200',\n",
    "      sort='-views',\n",
    "      metrics='views,estimatedMinutesWatched,averageViewDuration,likes,dislikes,comments,shares,subscribersGained,cardImpressions,cardClicks,cardTeaserImpressions,cardTeaserClicks'\n",
    "  )"
   ]
  },
  {
   "cell_type": "markdown",
   "id": "14e27b6a",
   "metadata": {},
   "source": [
    "Подготовим датафрейм с данными. Также выгрузим информацию о названии роликов и дате их загрузки."
   ]
  },
  {
   "cell_type": "code",
   "execution_count": 4,
   "id": "9e55b898",
   "metadata": {},
   "outputs": [],
   "source": [
    "headers = ['id','views','estimatedMinutesWatched','averageViewDuration','likes','dislikes','comments','shares','subscribersGained','cardImpressions','cardClicks','cardTeaserImpressions','cardTeaserClicks']\n",
    "by_video = pd.DataFrame(data=stat['rows'],columns=headers)"
   ]
  },
  {
   "cell_type": "code",
   "execution_count": 5,
   "id": "d88ad06c",
   "metadata": {},
   "outputs": [],
   "source": [
    "def get_video_details(youtube, video_ids):\n",
    "    all_video_stats = []\n",
    "    \n",
    "    for i in range(0, len(video_ids), 50):\n",
    "        request = youtube.videos().list(\n",
    "                    part='snippet,statistics',\n",
    "                    id=','.join(video_ids[i:i+50]))\n",
    "        response = request.execute()\n",
    "        \n",
    "        for video in response['items']:\n",
    "            video_stats = dict(id=video['id'], title = video['snippet']['title'],\n",
    "                               published_date = video['snippet']['publishedAt'])\n",
    "            all_video_stats.append(video_stats)\n",
    "    \n",
    "    return all_video_stats"
   ]
  },
  {
   "cell_type": "code",
   "execution_count": 6,
   "id": "36660c97",
   "metadata": {},
   "outputs": [
    {
     "data": {
      "text/html": [
       "<div>\n",
       "<style scoped>\n",
       "    .dataframe tbody tr th:only-of-type {\n",
       "        vertical-align: middle;\n",
       "    }\n",
       "\n",
       "    .dataframe tbody tr th {\n",
       "        vertical-align: top;\n",
       "    }\n",
       "\n",
       "    .dataframe thead th {\n",
       "        text-align: right;\n",
       "    }\n",
       "</style>\n",
       "<table border=\"1\" class=\"dataframe\">\n",
       "  <thead>\n",
       "    <tr style=\"text-align: right;\">\n",
       "      <th></th>\n",
       "      <th>id</th>\n",
       "      <th>title</th>\n",
       "      <th>published_date</th>\n",
       "    </tr>\n",
       "  </thead>\n",
       "  <tbody>\n",
       "    <tr>\n",
       "      <th>0</th>\n",
       "      <td>CMfLxO5Zrgg</td>\n",
       "      <td>Терминал B — Шереметьево Паркинг | Моушн-дизай...</td>\n",
       "      <td>2019-04-15T11:02:54Z</td>\n",
       "    </tr>\n",
       "    <tr>\n",
       "      <th>1</th>\n",
       "      <td>Nnh4VkN9uc8</td>\n",
       "      <td>Служебное огнестрельное оружие в работе охранн...</td>\n",
       "      <td>2018-10-02T21:27:14Z</td>\n",
       "    </tr>\n",
       "    <tr>\n",
       "      <th>2</th>\n",
       "      <td>KIcqcGLl4E4</td>\n",
       "      <td>Служебное огнестрельное оружие в работе охранн...</td>\n",
       "      <td>2018-12-01T21:35:39Z</td>\n",
       "    </tr>\n",
       "    <tr>\n",
       "      <th>3</th>\n",
       "      <td>9rn6HHnzCn4</td>\n",
       "      <td>Правила противопожарной безопасности в ТЦ | Ду...</td>\n",
       "      <td>2018-09-15T07:39:16Z</td>\n",
       "    </tr>\n",
       "    <tr>\n",
       "      <th>4</th>\n",
       "      <td>xo4DKaouLto</td>\n",
       "      <td>Шокер для охранников. Как использовать спецсре...</td>\n",
       "      <td>2018-08-25T21:21:40Z</td>\n",
       "    </tr>\n",
       "  </tbody>\n",
       "</table>\n",
       "</div>"
      ],
      "text/plain": [
       "            id                                              title  \\\n",
       "0  CMfLxO5Zrgg  Терминал B — Шереметьево Паркинг | Моушн-дизай...   \n",
       "1  Nnh4VkN9uc8  Служебное огнестрельное оружие в работе охранн...   \n",
       "2  KIcqcGLl4E4  Служебное огнестрельное оружие в работе охранн...   \n",
       "3  9rn6HHnzCn4  Правила противопожарной безопасности в ТЦ | Ду...   \n",
       "4  xo4DKaouLto  Шокер для охранников. Как использовать спецсре...   \n",
       "\n",
       "         published_date  \n",
       "0  2019-04-15T11:02:54Z  \n",
       "1  2018-10-02T21:27:14Z  \n",
       "2  2018-12-01T21:35:39Z  \n",
       "3  2018-09-15T07:39:16Z  \n",
       "4  2018-08-25T21:21:40Z  "
      ]
     },
     "execution_count": 6,
     "metadata": {},
     "output_type": "execute_result"
    }
   ],
   "source": [
    "video_titles = pd.DataFrame(get_video_details(youtube, by_video['id']))\n",
    "video_titles.head()"
   ]
  },
  {
   "cell_type": "code",
   "execution_count": 7,
   "id": "6a75bc14",
   "metadata": {},
   "outputs": [],
   "source": [
    "by_video = by_video.merge(video_titles, on='id')"
   ]
  },
  {
   "cell_type": "code",
   "execution_count": 8,
   "id": "abdea333",
   "metadata": {},
   "outputs": [],
   "source": [
    "by_video['published_date'] = pd.to_datetime(by_video['published_date'])\n",
    "by_video['published_date'] = by_video['published_date'].dt.strftime('%Y-%m-%d')"
   ]
  },
  {
   "cell_type": "code",
   "execution_count": 9,
   "id": "66f9f324",
   "metadata": {},
   "outputs": [
    {
     "data": {
      "text/html": [
       "<div>\n",
       "<style scoped>\n",
       "    .dataframe tbody tr th:only-of-type {\n",
       "        vertical-align: middle;\n",
       "    }\n",
       "\n",
       "    .dataframe tbody tr th {\n",
       "        vertical-align: top;\n",
       "    }\n",
       "\n",
       "    .dataframe thead th {\n",
       "        text-align: right;\n",
       "    }\n",
       "</style>\n",
       "<table border=\"1\" class=\"dataframe\">\n",
       "  <thead>\n",
       "    <tr style=\"text-align: right;\">\n",
       "      <th></th>\n",
       "      <th>id</th>\n",
       "      <th>views</th>\n",
       "      <th>estimatedMinutesWatched</th>\n",
       "      <th>averageViewDuration</th>\n",
       "      <th>likes</th>\n",
       "      <th>dislikes</th>\n",
       "      <th>comments</th>\n",
       "      <th>shares</th>\n",
       "      <th>subscribersGained</th>\n",
       "      <th>cardImpressions</th>\n",
       "      <th>cardClicks</th>\n",
       "      <th>cardTeaserImpressions</th>\n",
       "      <th>cardTeaserClicks</th>\n",
       "      <th>title</th>\n",
       "      <th>published_date</th>\n",
       "    </tr>\n",
       "  </thead>\n",
       "  <tbody>\n",
       "    <tr>\n",
       "      <th>0</th>\n",
       "      <td>CMfLxO5Zrgg</td>\n",
       "      <td>1632</td>\n",
       "      <td>2010</td>\n",
       "      <td>73</td>\n",
       "      <td>6</td>\n",
       "      <td>0</td>\n",
       "      <td>0</td>\n",
       "      <td>18</td>\n",
       "      <td>3</td>\n",
       "      <td>0</td>\n",
       "      <td>0</td>\n",
       "      <td>0</td>\n",
       "      <td>0</td>\n",
       "      <td>Терминал B — Шереметьево Паркинг | Моушн-дизай...</td>\n",
       "      <td>2019-04-15</td>\n",
       "    </tr>\n",
       "    <tr>\n",
       "      <th>1</th>\n",
       "      <td>Nnh4VkN9uc8</td>\n",
       "      <td>1354</td>\n",
       "      <td>2234</td>\n",
       "      <td>99</td>\n",
       "      <td>32</td>\n",
       "      <td>2</td>\n",
       "      <td>0</td>\n",
       "      <td>16</td>\n",
       "      <td>8</td>\n",
       "      <td>0</td>\n",
       "      <td>0</td>\n",
       "      <td>0</td>\n",
       "      <td>0</td>\n",
       "      <td>Служебное огнестрельное оружие в работе охранн...</td>\n",
       "      <td>2018-10-02</td>\n",
       "    </tr>\n",
       "    <tr>\n",
       "      <th>2</th>\n",
       "      <td>KIcqcGLl4E4</td>\n",
       "      <td>805</td>\n",
       "      <td>1670</td>\n",
       "      <td>124</td>\n",
       "      <td>21</td>\n",
       "      <td>0</td>\n",
       "      <td>1</td>\n",
       "      <td>9</td>\n",
       "      <td>8</td>\n",
       "      <td>0</td>\n",
       "      <td>0</td>\n",
       "      <td>0</td>\n",
       "      <td>0</td>\n",
       "      <td>Служебное огнестрельное оружие в работе охранн...</td>\n",
       "      <td>2018-12-01</td>\n",
       "    </tr>\n",
       "    <tr>\n",
       "      <th>3</th>\n",
       "      <td>9rn6HHnzCn4</td>\n",
       "      <td>292</td>\n",
       "      <td>426</td>\n",
       "      <td>87</td>\n",
       "      <td>8</td>\n",
       "      <td>0</td>\n",
       "      <td>0</td>\n",
       "      <td>4</td>\n",
       "      <td>2</td>\n",
       "      <td>0</td>\n",
       "      <td>0</td>\n",
       "      <td>39</td>\n",
       "      <td>0</td>\n",
       "      <td>Правила противопожарной безопасности в ТЦ | Ду...</td>\n",
       "      <td>2018-09-15</td>\n",
       "    </tr>\n",
       "    <tr>\n",
       "      <th>4</th>\n",
       "      <td>xo4DKaouLto</td>\n",
       "      <td>199</td>\n",
       "      <td>338</td>\n",
       "      <td>102</td>\n",
       "      <td>5</td>\n",
       "      <td>0</td>\n",
       "      <td>1</td>\n",
       "      <td>4</td>\n",
       "      <td>2</td>\n",
       "      <td>0</td>\n",
       "      <td>0</td>\n",
       "      <td>0</td>\n",
       "      <td>0</td>\n",
       "      <td>Шокер для охранников. Как использовать спецсре...</td>\n",
       "      <td>2018-08-25</td>\n",
       "    </tr>\n",
       "  </tbody>\n",
       "</table>\n",
       "</div>"
      ],
      "text/plain": [
       "            id  views  estimatedMinutesWatched  averageViewDuration  likes  \\\n",
       "0  CMfLxO5Zrgg   1632                     2010                   73      6   \n",
       "1  Nnh4VkN9uc8   1354                     2234                   99     32   \n",
       "2  KIcqcGLl4E4    805                     1670                  124     21   \n",
       "3  9rn6HHnzCn4    292                      426                   87      8   \n",
       "4  xo4DKaouLto    199                      338                  102      5   \n",
       "\n",
       "   dislikes  comments  shares  subscribersGained  cardImpressions  cardClicks  \\\n",
       "0         0         0      18                  3                0           0   \n",
       "1         2         0      16                  8                0           0   \n",
       "2         0         1       9                  8                0           0   \n",
       "3         0         0       4                  2                0           0   \n",
       "4         0         1       4                  2                0           0   \n",
       "\n",
       "   cardTeaserImpressions  cardTeaserClicks  \\\n",
       "0                      0                 0   \n",
       "1                      0                 0   \n",
       "2                      0                 0   \n",
       "3                     39                 0   \n",
       "4                      0                 0   \n",
       "\n",
       "                                               title published_date  \n",
       "0  Терминал B — Шереметьево Паркинг | Моушн-дизай...     2019-04-15  \n",
       "1  Служебное огнестрельное оружие в работе охранн...     2018-10-02  \n",
       "2  Служебное огнестрельное оружие в работе охранн...     2018-12-01  \n",
       "3  Правила противопожарной безопасности в ТЦ | Ду...     2018-09-15  \n",
       "4  Шокер для охранников. Как использовать спецсре...     2018-08-25  "
      ]
     },
     "execution_count": 9,
     "metadata": {},
     "output_type": "execute_result"
    }
   ],
   "source": [
    "by_video.head()"
   ]
  },
  {
   "cell_type": "markdown",
   "id": "a7dddbd6",
   "metadata": {},
   "source": [
    "### Выгрузка данных в разбивке по датам"
   ]
  },
  {
   "cell_type": "markdown",
   "id": "7fad27b9",
   "metadata": {},
   "source": [
    "Аналогичным образом выгрузим отчет в разрезе дней за период в предшествующие 180 дней."
   ]
  },
  {
   "cell_type": "code",
   "execution_count": null,
   "id": "2dd735c6",
   "metadata": {
    "scrolled": true
   },
   "outputs": [],
   "source": [
    "if __name__ == '__main__':\n",
    "  # Disable OAuthlib's HTTPs verification when running locally.\n",
    "  # *DO NOT* leave this option enabled when running in production.\n",
    "  os.environ['OAUTHLIB_INSECURE_TRANSPORT'] = '1'\n",
    "\n",
    "  youtubeAnalytics = get_service()\n",
    "  stat = execute_api_request(\n",
    "      youtubeAnalytics.reports().query,\n",
    "      ids='channel==---',\n",
    "      dimensions='day',\n",
    "      startDate=(datetime.today() - timedelta(days=180)).strftime('%Y-%m-%d'),\n",
    "      endDate=datetime.today().strftime('%Y-%m-%d'),\n",
    "      metrics='views,estimatedMinutesWatched,averageViewDuration,likes,dislikes,comments,shares,subscribersGained,cardImpressions,cardClicks,cardTeaserImpressions,cardTeaserClicks'\n",
    "  )"
   ]
  },
  {
   "cell_type": "code",
   "execution_count": 11,
   "id": "97e24537",
   "metadata": {},
   "outputs": [],
   "source": [
    "headers = ['date','views','estimatedMinutesWatched','averageViewDuration','likes','dislikes','comments','shares','subscribersGained','cardImpressions','cardClicks','cardTeaserImpressions','cardTeaserClicks']\n",
    "by_date = pd.DataFrame(data=stat['rows'],columns=headers)"
   ]
  },
  {
   "cell_type": "code",
   "execution_count": 12,
   "id": "7228ddb6",
   "metadata": {},
   "outputs": [
    {
     "data": {
      "text/html": [
       "<div>\n",
       "<style scoped>\n",
       "    .dataframe tbody tr th:only-of-type {\n",
       "        vertical-align: middle;\n",
       "    }\n",
       "\n",
       "    .dataframe tbody tr th {\n",
       "        vertical-align: top;\n",
       "    }\n",
       "\n",
       "    .dataframe thead th {\n",
       "        text-align: right;\n",
       "    }\n",
       "</style>\n",
       "<table border=\"1\" class=\"dataframe\">\n",
       "  <thead>\n",
       "    <tr style=\"text-align: right;\">\n",
       "      <th></th>\n",
       "      <th>date</th>\n",
       "      <th>views</th>\n",
       "      <th>estimatedMinutesWatched</th>\n",
       "      <th>averageViewDuration</th>\n",
       "      <th>likes</th>\n",
       "      <th>dislikes</th>\n",
       "      <th>comments</th>\n",
       "      <th>shares</th>\n",
       "      <th>subscribersGained</th>\n",
       "      <th>cardImpressions</th>\n",
       "      <th>cardClicks</th>\n",
       "      <th>cardTeaserImpressions</th>\n",
       "      <th>cardTeaserClicks</th>\n",
       "    </tr>\n",
       "  </thead>\n",
       "  <tbody>\n",
       "    <tr>\n",
       "      <th>0</th>\n",
       "      <td>2022-05-26</td>\n",
       "      <td>26</td>\n",
       "      <td>36</td>\n",
       "      <td>84</td>\n",
       "      <td>1</td>\n",
       "      <td>0</td>\n",
       "      <td>0</td>\n",
       "      <td>1</td>\n",
       "      <td>1</td>\n",
       "      <td>0</td>\n",
       "      <td>0</td>\n",
       "      <td>3</td>\n",
       "      <td>0</td>\n",
       "    </tr>\n",
       "    <tr>\n",
       "      <th>1</th>\n",
       "      <td>2022-05-27</td>\n",
       "      <td>49</td>\n",
       "      <td>56</td>\n",
       "      <td>69</td>\n",
       "      <td>0</td>\n",
       "      <td>0</td>\n",
       "      <td>0</td>\n",
       "      <td>3</td>\n",
       "      <td>0</td>\n",
       "      <td>0</td>\n",
       "      <td>0</td>\n",
       "      <td>4</td>\n",
       "      <td>0</td>\n",
       "    </tr>\n",
       "    <tr>\n",
       "      <th>2</th>\n",
       "      <td>2022-05-28</td>\n",
       "      <td>35</td>\n",
       "      <td>55</td>\n",
       "      <td>94</td>\n",
       "      <td>1</td>\n",
       "      <td>0</td>\n",
       "      <td>0</td>\n",
       "      <td>2</td>\n",
       "      <td>1</td>\n",
       "      <td>0</td>\n",
       "      <td>0</td>\n",
       "      <td>1</td>\n",
       "      <td>0</td>\n",
       "    </tr>\n",
       "    <tr>\n",
       "      <th>3</th>\n",
       "      <td>2022-05-29</td>\n",
       "      <td>33</td>\n",
       "      <td>47</td>\n",
       "      <td>87</td>\n",
       "      <td>0</td>\n",
       "      <td>0</td>\n",
       "      <td>0</td>\n",
       "      <td>0</td>\n",
       "      <td>0</td>\n",
       "      <td>0</td>\n",
       "      <td>0</td>\n",
       "      <td>2</td>\n",
       "      <td>0</td>\n",
       "    </tr>\n",
       "    <tr>\n",
       "      <th>4</th>\n",
       "      <td>2022-05-30</td>\n",
       "      <td>40</td>\n",
       "      <td>51</td>\n",
       "      <td>77</td>\n",
       "      <td>0</td>\n",
       "      <td>0</td>\n",
       "      <td>0</td>\n",
       "      <td>0</td>\n",
       "      <td>1</td>\n",
       "      <td>0</td>\n",
       "      <td>0</td>\n",
       "      <td>0</td>\n",
       "      <td>0</td>\n",
       "    </tr>\n",
       "  </tbody>\n",
       "</table>\n",
       "</div>"
      ],
      "text/plain": [
       "         date  views  estimatedMinutesWatched  averageViewDuration  likes  \\\n",
       "0  2022-05-26     26                       36                   84      1   \n",
       "1  2022-05-27     49                       56                   69      0   \n",
       "2  2022-05-28     35                       55                   94      1   \n",
       "3  2022-05-29     33                       47                   87      0   \n",
       "4  2022-05-30     40                       51                   77      0   \n",
       "\n",
       "   dislikes  comments  shares  subscribersGained  cardImpressions  cardClicks  \\\n",
       "0         0         0       1                  1                0           0   \n",
       "1         0         0       3                  0                0           0   \n",
       "2         0         0       2                  1                0           0   \n",
       "3         0         0       0                  0                0           0   \n",
       "4         0         0       0                  1                0           0   \n",
       "\n",
       "   cardTeaserImpressions  cardTeaserClicks  \n",
       "0                      3                 0  \n",
       "1                      4                 0  \n",
       "2                      1                 0  \n",
       "3                      2                 0  \n",
       "4                      0                 0  "
      ]
     },
     "execution_count": 12,
     "metadata": {},
     "output_type": "execute_result"
    }
   ],
   "source": [
    "by_date.head()"
   ]
  },
  {
   "cell_type": "markdown",
   "id": "5b1c5fd3",
   "metadata": {},
   "source": [
    "### Экспорт таблиц в Google Sheets"
   ]
  },
  {
   "cell_type": "code",
   "execution_count": 13,
   "id": "dcea778b",
   "metadata": {},
   "outputs": [],
   "source": [
    "scope = [\"https://spreadsheets.google.com/feeds\",\n",
    "         \"https://www.googleapis.com/auth/spreadsheets\",\n",
    "         \"https://www.googleapis.com/auth/drive.file\",\n",
    "         \"https://www.googleapis.com/auth/drive\"]\n",
    "\n",
    "credentials = ServiceAccountCredentials.from_json_keyfile_name('client_key.json', scope)\n",
    "client = gspread.authorize(credentials)\n",
    "\n",
    "\n",
    "gc = gspread.authorize(credentials)"
   ]
  },
  {
   "cell_type": "code",
   "execution_count": 14,
   "id": "f6965d40",
   "metadata": {
    "scrolled": true
   },
   "outputs": [],
   "source": [
    "sh = gc.open('yt_dashboard')"
   ]
  },
  {
   "cell_type": "code",
   "execution_count": 15,
   "id": "d6567070",
   "metadata": {},
   "outputs": [],
   "source": [
    "video_worksheet = sh.add_worksheet(title=\"video_data\", rows=100, cols=20)\n",
    "date_worksheet = sh.add_worksheet(title=\"date_data\", rows=100, cols=20)"
   ]
  },
  {
   "cell_type": "code",
   "execution_count": 16,
   "id": "95537e73",
   "metadata": {},
   "outputs": [
    {
     "data": {
      "text/plain": [
       "{'spreadsheetId': '1luzzPeoj3LzkU6ApoZwiCWj9wqvOmF1sJw-1bxdfUTU',\n",
       " 'updatedRange': 'date_data!A1:M179',\n",
       " 'updatedRows': 179,\n",
       " 'updatedColumns': 13,\n",
       " 'updatedCells': 2327}"
      ]
     },
     "execution_count": 16,
     "metadata": {},
     "output_type": "execute_result"
    }
   ],
   "source": [
    "video_worksheet.update([by_video.columns.values.tolist()] + by_video.values.tolist())\n",
    "date_worksheet.update([by_date.columns.values.tolist()] + by_date.values.tolist())"
   ]
  },
  {
   "cell_type": "markdown",
   "id": "f89e6b4b",
   "metadata": {},
   "source": [
    "## Результаты"
   ]
  },
  {
   "cell_type": "markdown",
   "id": "de139634",
   "metadata": {},
   "source": [
    "В ходе работы:\n",
    "- получен доступ к информации о роликах канала с помощью YouTube Analytics API;\n",
    "- выгружены метрики в разрезе видео и дней за период в 180 дней и переданы в Looker Studio;\n",
    "- подготовлен [дашборд](https://datastudio.google.com/reporting/d8c8a0af-4a13-4a02-9141-f3007a7d13b2) в соответствии с методикой AIDA."
   ]
  }
 ],
 "metadata": {
  "kernelspec": {
   "display_name": "Python 3 (ipykernel)",
   "language": "python",
   "name": "python3"
  },
  "language_info": {
   "codemirror_mode": {
    "name": "ipython",
    "version": 3
   },
   "file_extension": ".py",
   "mimetype": "text/x-python",
   "name": "python",
   "nbconvert_exporter": "python",
   "pygments_lexer": "ipython3",
   "version": "3.9.13"
  }
 },
 "nbformat": 4,
 "nbformat_minor": 5
}
