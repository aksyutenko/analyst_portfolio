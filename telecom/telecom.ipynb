{
 "cells": [
  {
   "cell_type": "markdown",
   "id": "e6243f19",
   "metadata": {},
   "source": [
    "# Телеком \"Нупозвони\"\n",
    "\n",
    "## Цель исследования\n",
    "\n",
    "Провести мониторинг клиентов, которые экономически неэффективно используют услуги на своих тарифах, и могут снизить свои расходы, если перейдут на другие тарифы, с более выгодными для них условиями.\n",
    "\n",
    "## Задачи исследования\n",
    "- изучить динамику работы клиентов и выделить активных клиентов для проведения расчетов;\n",
    "- изучить текущую выручку компании (в разрезе месяца), а также динамику за весь период (по тарифам), включая изучение среднего чека в разрезе тарифа;\n",
    "- определить клиентов, которые неэффективно используют услуги (платят больше, чем могли бы платить на другом тарифе);\n",
    "- изучить потери в выручке, если все клиенты перейдут на выгодные тарифы;\n",
    "- предложить пути решения проблемы потери выручки.\n",
    "\n",
    "## Ход исследования\n",
    "[Загрузка и обзор данных](#data-review)  \n",
    "[Предобработка данных](#pre-processing)  \n",
    "[Исследовательский анализ данных](#analysis)  \n",
    "[Оптимизация расходов клиентов](#clients)  \n",
    "[Проверка статистических гипотез](#test)  \n",
    "[Выводы](#summary)"
   ]
  },
  {
   "cell_type": "markdown",
   "id": "0de09872",
   "metadata": {},
   "source": [
    "## Загрузка и обзор данных<a class=\"anchor\" id=\"data-review\"></a>"
   ]
  },
  {
   "cell_type": "code",
   "execution_count": 1,
   "id": "0a5654ef",
   "metadata": {},
   "outputs": [],
   "source": [
    "import pandas as pd\n",
    "import numpy as np\n",
    "import seaborn as sns\n",
    "import matplotlib.pyplot as plt\n",
    "from matplotlib.dates import DateFormatter\n",
    "import matplotlib.dates as mdates\n",
    "from scipy import stats as st"
   ]
  },
  {
   "cell_type": "code",
   "execution_count": 2,
   "id": "88b3f7bc",
   "metadata": {},
   "outputs": [],
   "source": [
    "try:\n",
    "    calls = pd.read_csv('---')\n",
    "    clients = pd.read_csv('---')\n",
    "except:\n",
    "    calls = pd.read_csv('link')\n",
    "    clients = pd.read_csv('link')"
   ]
  },
  {
   "cell_type": "code",
   "execution_count": 3,
   "id": "f0e3b039",
   "metadata": {},
   "outputs": [
    {
     "name": "stdout",
     "output_type": "stream",
     "text": [
      "<class 'pandas.core.frame.DataFrame'>\n",
      "RangeIndex: 53902 entries, 0 to 53901\n",
      "Data columns (total 9 columns):\n",
      " #   Column               Non-Null Count  Dtype  \n",
      "---  ------               --------------  -----  \n",
      " 0   user_id              53902 non-null  int64  \n",
      " 1   date                 53902 non-null  object \n",
      " 2   direction            53902 non-null  object \n",
      " 3   internal             53785 non-null  object \n",
      " 4   operator_id          45730 non-null  float64\n",
      " 5   is_missed_call       53902 non-null  bool   \n",
      " 6   calls_count          53902 non-null  int64  \n",
      " 7   call_duration        53902 non-null  int64  \n",
      " 8   total_call_duration  53902 non-null  int64  \n",
      "dtypes: bool(1), float64(1), int64(4), object(3)\n",
      "memory usage: 3.3+ MB\n",
      "None\n",
      "\n",
      "<class 'pandas.core.frame.DataFrame'>\n",
      "RangeIndex: 732 entries, 0 to 731\n",
      "Data columns (total 3 columns):\n",
      " #   Column       Non-Null Count  Dtype \n",
      "---  ------       --------------  ----- \n",
      " 0   user_id      732 non-null    int64 \n",
      " 1   tariff_plan  732 non-null    object\n",
      " 2   date_start   732 non-null    object\n",
      "dtypes: int64(1), object(2)\n",
      "memory usage: 17.3+ KB\n",
      "None\n"
     ]
    }
   ],
   "source": [
    "print(calls.info())\n",
    "print()\n",
    "print(clients.info())"
   ]
  },
  {
   "cell_type": "code",
   "execution_count": 4,
   "id": "504c7aca",
   "metadata": {},
   "outputs": [
    {
     "data": {
      "text/html": [
       "<div>\n",
       "<style scoped>\n",
       "    .dataframe tbody tr th:only-of-type {\n",
       "        vertical-align: middle;\n",
       "    }\n",
       "\n",
       "    .dataframe tbody tr th {\n",
       "        vertical-align: top;\n",
       "    }\n",
       "\n",
       "    .dataframe thead th {\n",
       "        text-align: right;\n",
       "    }\n",
       "</style>\n",
       "<table border=\"1\" class=\"dataframe\">\n",
       "  <thead>\n",
       "    <tr style=\"text-align: right;\">\n",
       "      <th></th>\n",
       "      <th>user_id</th>\n",
       "      <th>date</th>\n",
       "      <th>direction</th>\n",
       "      <th>internal</th>\n",
       "      <th>operator_id</th>\n",
       "      <th>is_missed_call</th>\n",
       "      <th>calls_count</th>\n",
       "      <th>call_duration</th>\n",
       "      <th>total_call_duration</th>\n",
       "    </tr>\n",
       "  </thead>\n",
       "  <tbody>\n",
       "    <tr>\n",
       "      <th>0</th>\n",
       "      <td>166377</td>\n",
       "      <td>2019-08-04 00:00:00+03:00</td>\n",
       "      <td>in</td>\n",
       "      <td>False</td>\n",
       "      <td>NaN</td>\n",
       "      <td>True</td>\n",
       "      <td>2</td>\n",
       "      <td>0</td>\n",
       "      <td>4</td>\n",
       "    </tr>\n",
       "    <tr>\n",
       "      <th>1</th>\n",
       "      <td>166377</td>\n",
       "      <td>2019-08-05 00:00:00+03:00</td>\n",
       "      <td>out</td>\n",
       "      <td>True</td>\n",
       "      <td>880022.0</td>\n",
       "      <td>True</td>\n",
       "      <td>3</td>\n",
       "      <td>0</td>\n",
       "      <td>5</td>\n",
       "    </tr>\n",
       "    <tr>\n",
       "      <th>2</th>\n",
       "      <td>166377</td>\n",
       "      <td>2019-08-05 00:00:00+03:00</td>\n",
       "      <td>out</td>\n",
       "      <td>True</td>\n",
       "      <td>880020.0</td>\n",
       "      <td>True</td>\n",
       "      <td>1</td>\n",
       "      <td>0</td>\n",
       "      <td>1</td>\n",
       "    </tr>\n",
       "    <tr>\n",
       "      <th>3</th>\n",
       "      <td>166377</td>\n",
       "      <td>2019-08-05 00:00:00+03:00</td>\n",
       "      <td>out</td>\n",
       "      <td>True</td>\n",
       "      <td>880020.0</td>\n",
       "      <td>False</td>\n",
       "      <td>1</td>\n",
       "      <td>10</td>\n",
       "      <td>18</td>\n",
       "    </tr>\n",
       "    <tr>\n",
       "      <th>4</th>\n",
       "      <td>166377</td>\n",
       "      <td>2019-08-05 00:00:00+03:00</td>\n",
       "      <td>out</td>\n",
       "      <td>False</td>\n",
       "      <td>880022.0</td>\n",
       "      <td>True</td>\n",
       "      <td>3</td>\n",
       "      <td>0</td>\n",
       "      <td>25</td>\n",
       "    </tr>\n",
       "  </tbody>\n",
       "</table>\n",
       "</div>"
      ],
      "text/plain": [
       "   user_id                       date direction internal  operator_id  \\\n",
       "0   166377  2019-08-04 00:00:00+03:00        in    False          NaN   \n",
       "1   166377  2019-08-05 00:00:00+03:00       out     True     880022.0   \n",
       "2   166377  2019-08-05 00:00:00+03:00       out     True     880020.0   \n",
       "3   166377  2019-08-05 00:00:00+03:00       out     True     880020.0   \n",
       "4   166377  2019-08-05 00:00:00+03:00       out    False     880022.0   \n",
       "\n",
       "   is_missed_call  calls_count  call_duration  total_call_duration  \n",
       "0            True            2              0                    4  \n",
       "1            True            3              0                    5  \n",
       "2            True            1              0                    1  \n",
       "3           False            1             10                   18  \n",
       "4            True            3              0                   25  "
      ]
     },
     "metadata": {},
     "output_type": "display_data"
    },
    {
     "data": {
      "text/html": [
       "<div>\n",
       "<style scoped>\n",
       "    .dataframe tbody tr th:only-of-type {\n",
       "        vertical-align: middle;\n",
       "    }\n",
       "\n",
       "    .dataframe tbody tr th {\n",
       "        vertical-align: top;\n",
       "    }\n",
       "\n",
       "    .dataframe thead th {\n",
       "        text-align: right;\n",
       "    }\n",
       "</style>\n",
       "<table border=\"1\" class=\"dataframe\">\n",
       "  <thead>\n",
       "    <tr style=\"text-align: right;\">\n",
       "      <th></th>\n",
       "      <th>user_id</th>\n",
       "      <th>tariff_plan</th>\n",
       "      <th>date_start</th>\n",
       "    </tr>\n",
       "  </thead>\n",
       "  <tbody>\n",
       "    <tr>\n",
       "      <th>0</th>\n",
       "      <td>166713</td>\n",
       "      <td>A</td>\n",
       "      <td>2019-08-15</td>\n",
       "    </tr>\n",
       "    <tr>\n",
       "      <th>1</th>\n",
       "      <td>166901</td>\n",
       "      <td>A</td>\n",
       "      <td>2019-08-23</td>\n",
       "    </tr>\n",
       "    <tr>\n",
       "      <th>2</th>\n",
       "      <td>168527</td>\n",
       "      <td>A</td>\n",
       "      <td>2019-10-29</td>\n",
       "    </tr>\n",
       "    <tr>\n",
       "      <th>3</th>\n",
       "      <td>167097</td>\n",
       "      <td>A</td>\n",
       "      <td>2019-09-01</td>\n",
       "    </tr>\n",
       "    <tr>\n",
       "      <th>4</th>\n",
       "      <td>168193</td>\n",
       "      <td>A</td>\n",
       "      <td>2019-10-16</td>\n",
       "    </tr>\n",
       "  </tbody>\n",
       "</table>\n",
       "</div>"
      ],
      "text/plain": [
       "   user_id tariff_plan  date_start\n",
       "0   166713           A  2019-08-15\n",
       "1   166901           A  2019-08-23\n",
       "2   168527           A  2019-10-29\n",
       "3   167097           A  2019-09-01\n",
       "4   168193           A  2019-10-16"
      ]
     },
     "metadata": {},
     "output_type": "display_data"
    }
   ],
   "source": [
    "display(calls.head())\n",
    "display()\n",
    "display(clients.head())"
   ]
  },
  {
   "cell_type": "markdown",
   "id": "999bd587",
   "metadata": {},
   "source": [
    "**Датасет `telecom_dataset`**\n",
    "\n",
    "- `user_id` — идентификатор клиента;\n",
    "- `date` — дата статистики;\n",
    "- `direction` — направление вызовов: `out` — исходящий вызов, `in` — входящий;\n",
    "- `internal` — маркер внутренних и внешних вызовов;\n",
    "- `operator_id` — идентификатор оператора;\n",
    "- `is_missed_call` — маркер пропущенных вызовов;\n",
    "- `calls_count` — количество звонков;\n",
    "- `call_duration` — длительность звонка без учёта времени ожидания;\n",
    "- `total_call_duration` — длительность звонка с учётом времени ожидания.\n",
    "\n",
    "**Датасет `telecom_clients`**\n",
    "\n",
    "- `user_id` — идентификатор клиента;\n",
    "- `tariff_plan` — тарифный план клиента;\n",
    "- `date_start` — дата регистрации клиента в сервисе."
   ]
  },
  {
   "cell_type": "markdown",
   "id": "72872818",
   "metadata": {},
   "source": [
    "### Правила формирования тарифов\n",
    "\n",
    "**Ежемесячная плата за тариф:**\n",
    "\n",
    "- А — 5000 ₽,\n",
    "- B — 2000 ₽,\n",
    "- С — 1000 ₽.\n",
    "\n",
    "**Входящие звонки** — бесплатны на всех тарифах,\n",
    "\n",
    "**Исходящие звонки внутри сети** — бесплатны до 2000 минут в месяц на всех тарифах. Цена сверх лимита:\n",
    "\n",
    "- A — 0.1 ₽/мин.,\n",
    "- B — 0.15 ₽/мин.,\n",
    "- C — 0.3 ₽/мин.\n",
    "\n",
    "**Исходящие звонки, кроме внутренних:**\n",
    "\n",
    "- A — 0.4 ₽/мин.,\n",
    "- B — 0.5 ₽/мин.,\n",
    "- C — 0.7 ₽/мин.\n",
    "\n",
    "За каждого оператора клиент платит 100 ₽ в месяц на любом тарифе — дополнительно к стоимости тарифа и цене звонков.\n",
    "\n",
    "Оформим тарифную сетку в виде таблицы:"
   ]
  },
  {
   "cell_type": "code",
   "execution_count": 5,
   "id": "7a8da293",
   "metadata": {},
   "outputs": [
    {
     "data": {
      "text/html": [
       "<div>\n",
       "<style scoped>\n",
       "    .dataframe tbody tr th:only-of-type {\n",
       "        vertical-align: middle;\n",
       "    }\n",
       "\n",
       "    .dataframe tbody tr th {\n",
       "        vertical-align: top;\n",
       "    }\n",
       "\n",
       "    .dataframe thead th {\n",
       "        text-align: right;\n",
       "    }\n",
       "</style>\n",
       "<table border=\"1\" class=\"dataframe\">\n",
       "  <thead>\n",
       "    <tr style=\"text-align: right;\">\n",
       "      <th></th>\n",
       "      <th>tariff</th>\n",
       "      <th>monthly</th>\n",
       "      <th>internal_per_minute</th>\n",
       "      <th>internal_free_limit</th>\n",
       "      <th>external_per_minute</th>\n",
       "      <th>monthly_per_operator</th>\n",
       "    </tr>\n",
       "  </thead>\n",
       "  <tbody>\n",
       "    <tr>\n",
       "      <th>0</th>\n",
       "      <td>A</td>\n",
       "      <td>5000</td>\n",
       "      <td>0.10</td>\n",
       "      <td>2000</td>\n",
       "      <td>0.4</td>\n",
       "      <td>100</td>\n",
       "    </tr>\n",
       "    <tr>\n",
       "      <th>1</th>\n",
       "      <td>B</td>\n",
       "      <td>2000</td>\n",
       "      <td>0.15</td>\n",
       "      <td>2000</td>\n",
       "      <td>0.5</td>\n",
       "      <td>100</td>\n",
       "    </tr>\n",
       "    <tr>\n",
       "      <th>2</th>\n",
       "      <td>C</td>\n",
       "      <td>1000</td>\n",
       "      <td>0.30</td>\n",
       "      <td>2000</td>\n",
       "      <td>0.7</td>\n",
       "      <td>100</td>\n",
       "    </tr>\n",
       "  </tbody>\n",
       "</table>\n",
       "</div>"
      ],
      "text/plain": [
       "  tariff  monthly  internal_per_minute  internal_free_limit  \\\n",
       "0      A     5000                 0.10                 2000   \n",
       "1      B     2000                 0.15                 2000   \n",
       "2      C     1000                 0.30                 2000   \n",
       "\n",
       "   external_per_minute  monthly_per_operator  \n",
       "0                  0.4                   100  \n",
       "1                  0.5                   100  \n",
       "2                  0.7                   100  "
      ]
     },
     "execution_count": 5,
     "metadata": {},
     "output_type": "execute_result"
    }
   ],
   "source": [
    "rates = pd.DataFrame({\n",
    "    'tariff': ['A', 'B', 'C'],\n",
    "    'monthly': [5000, 2000, 1000],\n",
    "    'internal_per_minute': [0.1, 0.15, 0.3],\n",
    "    'internal_free_limit': [2000, 2000, 2000],\n",
    "    'external_per_minute': [0.4, 0.5, 0.7],\n",
    "    'monthly_per_operator': [100, 100, 100]\n",
    "})\n",
    "rates"
   ]
  },
  {
   "cell_type": "markdown",
   "id": "22a30f9a",
   "metadata": {},
   "source": [
    "Было импортировано две базы данных с информацией о звонках (почти 54 тысячи строк) и клиентах (чуть больше 700 строк).  \n",
    "Также в отдельную таблицу оформлена информация о применяемых тарифах.  \n",
    "Сразу видно большое количество пропусков в колонке 'operator_id' таблицы calls."
   ]
  },
  {
   "cell_type": "markdown",
   "id": "3b083cab",
   "metadata": {},
   "source": [
    "## Предобработка данных<a class=\"anchor\" id=\"pre-processing\"></a>"
   ]
  },
  {
   "cell_type": "markdown",
   "id": "202fd5fd",
   "metadata": {},
   "source": [
    "Для начала определим единицы измерения колонки 'total_call_duration'. Это критически важно так как данная переменная используется для выставления счетов. Посчитаем по дням медианную длительность всех вызовов и разделим на медианное количество операторов обработавших эти вызовы:"
   ]
  },
  {
   "cell_type": "code",
   "execution_count": 6,
   "id": "52d4a28c",
   "metadata": {
    "scrolled": true
   },
   "outputs": [
    {
     "data": {
      "text/plain": [
       "3406.4651162790697"
      ]
     },
     "execution_count": 6,
     "metadata": {},
     "output_type": "execute_result"
    }
   ],
   "source": [
    "calls.groupby('date')['total_call_duration'].sum().median() / calls.groupby('date')['operator_id'].nunique().median()"
   ]
  },
  {
   "cell_type": "markdown",
   "id": "651d7d9d",
   "metadata": {},
   "source": [
    "В день один оператор обработал около 3400 единиц вызовов:\n",
    "- если предположить что это секнуды: один оператор обработывал 57 минут вызовов в день;\n",
    "- если предположить что это минуты: один оператор обработывал 57 часов вызовов в день.  \n",
    "\n",
    "Второй вариант невозможен физически, так что можно утверждать что на данный момент вызовы указаны в секнудах. Переведем в минуты для использования в будущих расчетах.\n",
    "\n",
    "NB: 57 минут вызовов за день кажется довольно низкой цифрой для 12 часового рабочего дня. Нужно иметь в виду при дальнейшем анализе."
   ]
  },
  {
   "cell_type": "code",
   "execution_count": 7,
   "id": "659ddb59",
   "metadata": {},
   "outputs": [],
   "source": [
    "calls['call_duration'] = np.ceil(calls['call_duration']/60).astype(int)\n",
    "calls['total_call_duration'] = np.ceil(calls['total_call_duration']/60).astype(int)"
   ]
  },
  {
   "cell_type": "markdown",
   "id": "c5742fde",
   "metadata": {},
   "source": [
    "### Поиск пропусков"
   ]
  },
  {
   "cell_type": "code",
   "execution_count": 8,
   "id": "384a9762",
   "metadata": {},
   "outputs": [
    {
     "name": "stdout",
     "output_type": "stream",
     "text": [
      "user_id                   0\n",
      "date                      0\n",
      "direction                 0\n",
      "internal                117\n",
      "operator_id            8172\n",
      "is_missed_call            0\n",
      "calls_count               0\n",
      "call_duration             0\n",
      "total_call_duration       0\n",
      "dtype: int64\n",
      "\n",
      "user_id        0\n",
      "tariff_plan    0\n",
      "date_start     0\n",
      "dtype: int64\n"
     ]
    }
   ],
   "source": [
    "print(calls.isna().sum())\n",
    "print()\n",
    "print(clients.isna().sum())"
   ]
  },
  {
   "cell_type": "code",
   "execution_count": 9,
   "id": "d815c84a",
   "metadata": {
    "scrolled": false
   },
   "outputs": [
    {
     "data": {
      "text/html": [
       "<div>\n",
       "<style scoped>\n",
       "    .dataframe tbody tr th:only-of-type {\n",
       "        vertical-align: middle;\n",
       "    }\n",
       "\n",
       "    .dataframe tbody tr th {\n",
       "        vertical-align: top;\n",
       "    }\n",
       "\n",
       "    .dataframe thead th {\n",
       "        text-align: right;\n",
       "    }\n",
       "</style>\n",
       "<table border=\"1\" class=\"dataframe\">\n",
       "  <thead>\n",
       "    <tr style=\"text-align: right;\">\n",
       "      <th></th>\n",
       "      <th>user_id</th>\n",
       "      <th>date</th>\n",
       "      <th>direction</th>\n",
       "      <th>internal</th>\n",
       "      <th>operator_id</th>\n",
       "      <th>is_missed_call</th>\n",
       "      <th>calls_count</th>\n",
       "      <th>call_duration</th>\n",
       "      <th>total_call_duration</th>\n",
       "    </tr>\n",
       "  </thead>\n",
       "  <tbody>\n",
       "    <tr>\n",
       "      <th>1007</th>\n",
       "      <td>166405</td>\n",
       "      <td>2019-09-18 00:00:00+03:00</td>\n",
       "      <td>in</td>\n",
       "      <td>NaN</td>\n",
       "      <td>NaN</td>\n",
       "      <td>True</td>\n",
       "      <td>1</td>\n",
       "      <td>0</td>\n",
       "      <td>1</td>\n",
       "    </tr>\n",
       "    <tr>\n",
       "      <th>1090</th>\n",
       "      <td>166405</td>\n",
       "      <td>2019-10-01 00:00:00+03:00</td>\n",
       "      <td>in</td>\n",
       "      <td>NaN</td>\n",
       "      <td>NaN</td>\n",
       "      <td>True</td>\n",
       "      <td>1</td>\n",
       "      <td>0</td>\n",
       "      <td>1</td>\n",
       "    </tr>\n",
       "    <tr>\n",
       "      <th>1864</th>\n",
       "      <td>166406</td>\n",
       "      <td>2019-08-20 00:00:00+03:00</td>\n",
       "      <td>in</td>\n",
       "      <td>NaN</td>\n",
       "      <td>NaN</td>\n",
       "      <td>True</td>\n",
       "      <td>1</td>\n",
       "      <td>0</td>\n",
       "      <td>1</td>\n",
       "    </tr>\n",
       "    <tr>\n",
       "      <th>1924</th>\n",
       "      <td>166406</td>\n",
       "      <td>2019-09-02 00:00:00+03:00</td>\n",
       "      <td>in</td>\n",
       "      <td>NaN</td>\n",
       "      <td>879898.0</td>\n",
       "      <td>False</td>\n",
       "      <td>1</td>\n",
       "      <td>1</td>\n",
       "      <td>1</td>\n",
       "    </tr>\n",
       "    <tr>\n",
       "      <th>6210</th>\n",
       "      <td>166541</td>\n",
       "      <td>2019-09-26 00:00:00+03:00</td>\n",
       "      <td>in</td>\n",
       "      <td>NaN</td>\n",
       "      <td>908960.0</td>\n",
       "      <td>False</td>\n",
       "      <td>1</td>\n",
       "      <td>7</td>\n",
       "      <td>8</td>\n",
       "    </tr>\n",
       "  </tbody>\n",
       "</table>\n",
       "</div>"
      ],
      "text/plain": [
       "      user_id                       date direction internal  operator_id  \\\n",
       "1007   166405  2019-09-18 00:00:00+03:00        in      NaN          NaN   \n",
       "1090   166405  2019-10-01 00:00:00+03:00        in      NaN          NaN   \n",
       "1864   166406  2019-08-20 00:00:00+03:00        in      NaN          NaN   \n",
       "1924   166406  2019-09-02 00:00:00+03:00        in      NaN     879898.0   \n",
       "6210   166541  2019-09-26 00:00:00+03:00        in      NaN     908960.0   \n",
       "\n",
       "      is_missed_call  calls_count  call_duration  total_call_duration  \n",
       "1007            True            1              0                    1  \n",
       "1090            True            1              0                    1  \n",
       "1864            True            1              0                    1  \n",
       "1924           False            1              1                    1  \n",
       "6210           False            1              7                    8  "
      ]
     },
     "execution_count": 9,
     "metadata": {},
     "output_type": "execute_result"
    }
   ],
   "source": [
    "calls[calls['internal'].isna()].head()"
   ]
  },
  {
   "cell_type": "code",
   "execution_count": 10,
   "id": "32bc2d94",
   "metadata": {},
   "outputs": [
    {
     "name": "stdout",
     "output_type": "stream",
     "text": [
      "Доля пропущенных значений в столбце internal: 0.22%\n",
      "Доля пропущенных значений в столбце operator_id: 15.16%\n"
     ]
    }
   ],
   "source": [
    "for column in calls.columns:\n",
    "    if calls[column].isna().sum() > 0:\n",
    "        ratio_isna = calls[column].isna().sum() / len(calls[column])\n",
    "        print(f'Доля пропущенных значений в столбце {column}: {ratio_isna:.2%}')"
   ]
  },
  {
   "cell_type": "markdown",
   "id": "39639c7a",
   "metadata": {},
   "source": [
    "Больше всего пропусков в колонке с айди оператора: больше 15% строк. Проверим параметры вызовов с пропущенными операторами:"
   ]
  },
  {
   "cell_type": "code",
   "execution_count": 11,
   "id": "51c4a04d",
   "metadata": {},
   "outputs": [
    {
     "data": {
      "text/html": [
       "<div>\n",
       "<style scoped>\n",
       "    .dataframe tbody tr th:only-of-type {\n",
       "        vertical-align: middle;\n",
       "    }\n",
       "\n",
       "    .dataframe tbody tr th {\n",
       "        vertical-align: top;\n",
       "    }\n",
       "\n",
       "    .dataframe thead th {\n",
       "        text-align: right;\n",
       "    }\n",
       "</style>\n",
       "<table border=\"1\" class=\"dataframe\">\n",
       "  <thead>\n",
       "    <tr style=\"text-align: right;\">\n",
       "      <th></th>\n",
       "      <th></th>\n",
       "      <th></th>\n",
       "      <th>user_id</th>\n",
       "      <th>calls_count</th>\n",
       "      <th>total_call_duration</th>\n",
       "      <th>calls_share</th>\n",
       "    </tr>\n",
       "    <tr>\n",
       "      <th>is_missed_call</th>\n",
       "      <th>direction</th>\n",
       "      <th>internal</th>\n",
       "      <th></th>\n",
       "      <th></th>\n",
       "      <th></th>\n",
       "      <th></th>\n",
       "    </tr>\n",
       "  </thead>\n",
       "  <tbody>\n",
       "    <tr>\n",
       "      <th rowspan=\"4\" valign=\"top\">False</th>\n",
       "      <th rowspan=\"2\" valign=\"top\">in</th>\n",
       "      <th>False</th>\n",
       "      <td>10</td>\n",
       "      <td>704</td>\n",
       "      <td>5967</td>\n",
       "      <td>0.006191</td>\n",
       "    </tr>\n",
       "    <tr>\n",
       "      <th>True</th>\n",
       "      <td>1</td>\n",
       "      <td>10</td>\n",
       "      <td>18</td>\n",
       "      <td>0.000088</td>\n",
       "    </tr>\n",
       "    <tr>\n",
       "      <th rowspan=\"2\" valign=\"top\">out</th>\n",
       "      <th>False</th>\n",
       "      <td>3</td>\n",
       "      <td>325</td>\n",
       "      <td>3182</td>\n",
       "      <td>0.002858</td>\n",
       "    </tr>\n",
       "    <tr>\n",
       "      <th>True</th>\n",
       "      <td>2</td>\n",
       "      <td>9</td>\n",
       "      <td>19</td>\n",
       "      <td>0.000079</td>\n",
       "    </tr>\n",
       "    <tr>\n",
       "      <th rowspan=\"4\" valign=\"top\">True</th>\n",
       "      <th rowspan=\"2\" valign=\"top\">in</th>\n",
       "      <th>False</th>\n",
       "      <td>303</td>\n",
       "      <td>111295</td>\n",
       "      <td>26863</td>\n",
       "      <td>0.978710</td>\n",
       "    </tr>\n",
       "    <tr>\n",
       "      <th>True</th>\n",
       "      <td>76</td>\n",
       "      <td>995</td>\n",
       "      <td>509</td>\n",
       "      <td>0.008750</td>\n",
       "    </tr>\n",
       "    <tr>\n",
       "      <th rowspan=\"2\" valign=\"top\">out</th>\n",
       "      <th>False</th>\n",
       "      <td>37</td>\n",
       "      <td>153</td>\n",
       "      <td>31</td>\n",
       "      <td>0.001345</td>\n",
       "    </tr>\n",
       "    <tr>\n",
       "      <th>True</th>\n",
       "      <td>14</td>\n",
       "      <td>56</td>\n",
       "      <td>21</td>\n",
       "      <td>0.000492</td>\n",
       "    </tr>\n",
       "  </tbody>\n",
       "</table>\n",
       "</div>"
      ],
      "text/plain": [
       "                                   user_id  calls_count  total_call_duration  \\\n",
       "is_missed_call direction internal                                              \n",
       "False          in        False          10          704                 5967   \n",
       "                         True            1           10                   18   \n",
       "               out       False           3          325                 3182   \n",
       "                         True            2            9                   19   \n",
       "True           in        False         303       111295                26863   \n",
       "                         True           76          995                  509   \n",
       "               out       False          37          153                   31   \n",
       "                         True           14           56                   21   \n",
       "\n",
       "                                   calls_share  \n",
       "is_missed_call direction internal               \n",
       "False          in        False        0.006191  \n",
       "                         True         0.000088  \n",
       "               out       False        0.002858  \n",
       "                         True         0.000079  \n",
       "True           in        False        0.978710  \n",
       "                         True         0.008750  \n",
       "               out       False        0.001345  \n",
       "                         True         0.000492  "
      ]
     },
     "execution_count": 11,
     "metadata": {},
     "output_type": "execute_result"
    }
   ],
   "source": [
    "(calls[calls['operator_id'].isna()]\n",
    " .groupby(['is_missed_call','direction','internal'])\n",
    " .agg({'user_id':'nunique','calls_count':'sum','total_call_duration':'sum'})\n",
    " .assign(calls_share = lambda x: x['calls_count'] / calls[calls['operator_id'].isna()].calls_count.sum())\n",
    ")"
   ]
  },
  {
   "cell_type": "markdown",
   "id": "5ab54d82",
   "metadata": {},
   "source": [
    "Подавляющее большинство строк без оператора (почти 98%) содержат информацию о пропущенных внешних входящих выховах, то есть оператор не был назначен на поступащий в колл-центр звонок. Например, потому что все операторы были заняты. Такие пропуски не тарифицируются и не повлияют на расчет выручки, поэтому заменим для них номер оператора на нули, чтобы в дальнейшем изменить тип данных на целочисленный.\n",
    "\n",
    "Пропуски в колонке направления звонка влияют на расчет тарифа, но их невозможно восставновить на основе других данных. Так как их очень мало просто удалим эти строки."
   ]
  },
  {
   "cell_type": "code",
   "execution_count": 12,
   "id": "8ff61bca",
   "metadata": {
    "scrolled": true
   },
   "outputs": [],
   "source": [
    "calls['operator_id'] = calls['operator_id'].fillna(0)\n",
    "calls.dropna(subset=['internal'], inplace=True)"
   ]
  },
  {
   "cell_type": "code",
   "execution_count": 13,
   "id": "8f5c61bb",
   "metadata": {},
   "outputs": [
    {
     "name": "stdout",
     "output_type": "stream",
     "text": [
      "<class 'pandas.core.frame.DataFrame'>\n",
      "Int64Index: 53785 entries, 0 to 53901\n",
      "Data columns (total 9 columns):\n",
      " #   Column               Non-Null Count  Dtype  \n",
      "---  ------               --------------  -----  \n",
      " 0   user_id              53785 non-null  int64  \n",
      " 1   date                 53785 non-null  object \n",
      " 2   direction            53785 non-null  object \n",
      " 3   internal             53785 non-null  object \n",
      " 4   operator_id          53785 non-null  float64\n",
      " 5   is_missed_call       53785 non-null  bool   \n",
      " 6   calls_count          53785 non-null  int64  \n",
      " 7   call_duration        53785 non-null  int64  \n",
      " 8   total_call_duration  53785 non-null  int64  \n",
      "dtypes: bool(1), float64(1), int64(4), object(3)\n",
      "memory usage: 3.7+ MB\n"
     ]
    }
   ],
   "source": [
    "calls.info()"
   ]
  },
  {
   "cell_type": "markdown",
   "id": "b199ea4c",
   "metadata": {},
   "source": [
    "### Поиск дубликатов"
   ]
  },
  {
   "cell_type": "code",
   "execution_count": 14,
   "id": "7fad3295",
   "metadata": {},
   "outputs": [
    {
     "name": "stdout",
     "output_type": "stream",
     "text": [
      "calls: 4893\n",
      "\n",
      "clients: 0\n"
     ]
    }
   ],
   "source": [
    "print('calls:', calls.duplicated().sum())\n",
    "print()\n",
    "print('clients:', clients.duplicated().sum())"
   ]
  },
  {
   "cell_type": "code",
   "execution_count": 15,
   "id": "942fd782",
   "metadata": {},
   "outputs": [
    {
     "data": {
      "text/html": [
       "<div>\n",
       "<style scoped>\n",
       "    .dataframe tbody tr th:only-of-type {\n",
       "        vertical-align: middle;\n",
       "    }\n",
       "\n",
       "    .dataframe tbody tr th {\n",
       "        vertical-align: top;\n",
       "    }\n",
       "\n",
       "    .dataframe thead th {\n",
       "        text-align: right;\n",
       "    }\n",
       "</style>\n",
       "<table border=\"1\" class=\"dataframe\">\n",
       "  <thead>\n",
       "    <tr style=\"text-align: right;\">\n",
       "      <th></th>\n",
       "      <th>user_id</th>\n",
       "      <th>date</th>\n",
       "      <th>direction</th>\n",
       "      <th>internal</th>\n",
       "      <th>operator_id</th>\n",
       "      <th>is_missed_call</th>\n",
       "      <th>calls_count</th>\n",
       "      <th>call_duration</th>\n",
       "      <th>total_call_duration</th>\n",
       "    </tr>\n",
       "  </thead>\n",
       "  <tbody>\n",
       "    <tr>\n",
       "      <th>8</th>\n",
       "      <td>166377</td>\n",
       "      <td>2019-08-05 00:00:00+03:00</td>\n",
       "      <td>out</td>\n",
       "      <td>False</td>\n",
       "      <td>880020.0</td>\n",
       "      <td>True</td>\n",
       "      <td>8</td>\n",
       "      <td>0</td>\n",
       "      <td>1</td>\n",
       "    </tr>\n",
       "    <tr>\n",
       "      <th>28</th>\n",
       "      <td>166377</td>\n",
       "      <td>2019-08-12 00:00:00+03:00</td>\n",
       "      <td>in</td>\n",
       "      <td>False</td>\n",
       "      <td>0.0</td>\n",
       "      <td>True</td>\n",
       "      <td>2</td>\n",
       "      <td>0</td>\n",
       "      <td>1</td>\n",
       "    </tr>\n",
       "    <tr>\n",
       "      <th>44</th>\n",
       "      <td>166377</td>\n",
       "      <td>2019-08-14 00:00:00+03:00</td>\n",
       "      <td>out</td>\n",
       "      <td>False</td>\n",
       "      <td>880026.0</td>\n",
       "      <td>False</td>\n",
       "      <td>10</td>\n",
       "      <td>27</td>\n",
       "      <td>28</td>\n",
       "    </tr>\n",
       "    <tr>\n",
       "      <th>45</th>\n",
       "      <td>166377</td>\n",
       "      <td>2019-08-14 00:00:00+03:00</td>\n",
       "      <td>in</td>\n",
       "      <td>False</td>\n",
       "      <td>0.0</td>\n",
       "      <td>True</td>\n",
       "      <td>1</td>\n",
       "      <td>0</td>\n",
       "      <td>1</td>\n",
       "    </tr>\n",
       "    <tr>\n",
       "      <th>51</th>\n",
       "      <td>166377</td>\n",
       "      <td>2019-08-15 00:00:00+03:00</td>\n",
       "      <td>out</td>\n",
       "      <td>False</td>\n",
       "      <td>880026.0</td>\n",
       "      <td>False</td>\n",
       "      <td>11</td>\n",
       "      <td>24</td>\n",
       "      <td>25</td>\n",
       "    </tr>\n",
       "  </tbody>\n",
       "</table>\n",
       "</div>"
      ],
      "text/plain": [
       "    user_id                       date direction internal  operator_id  \\\n",
       "8    166377  2019-08-05 00:00:00+03:00       out    False     880020.0   \n",
       "28   166377  2019-08-12 00:00:00+03:00        in    False          0.0   \n",
       "44   166377  2019-08-14 00:00:00+03:00       out    False     880026.0   \n",
       "45   166377  2019-08-14 00:00:00+03:00        in    False          0.0   \n",
       "51   166377  2019-08-15 00:00:00+03:00       out    False     880026.0   \n",
       "\n",
       "    is_missed_call  calls_count  call_duration  total_call_duration  \n",
       "8             True            8              0                    1  \n",
       "28            True            2              0                    1  \n",
       "44           False           10             27                   28  \n",
       "45            True            1              0                    1  \n",
       "51           False           11             24                   25  "
      ]
     },
     "execution_count": 15,
     "metadata": {},
     "output_type": "execute_result"
    }
   ],
   "source": [
    "calls[calls.duplicated()].head()"
   ]
  },
  {
   "cell_type": "code",
   "execution_count": 16,
   "id": "906d162c",
   "metadata": {},
   "outputs": [
    {
     "data": {
      "text/plain": [
       "False    4382\n",
       "True      511\n",
       "Name: internal, dtype: int64"
      ]
     },
     "execution_count": 16,
     "metadata": {},
     "output_type": "execute_result"
    }
   ],
   "source": [
    "calls[calls.duplicated()]['internal'].value_counts()"
   ]
  },
  {
   "cell_type": "markdown",
   "id": "2d97e87e",
   "metadata": {},
   "source": [
    "Почти все дубликаты -- внешние звонки. На данном этапе нет возможности утверждать откуда они берутся.  \n",
    "Чтобы не искажать результаты анализа отбросим все дубликаты."
   ]
  },
  {
   "cell_type": "code",
   "execution_count": 17,
   "id": "917acb6c",
   "metadata": {},
   "outputs": [],
   "source": [
    "calls = calls.drop_duplicates()"
   ]
  },
  {
   "cell_type": "markdown",
   "id": "406416a0",
   "metadata": {},
   "source": [
    "### Изменение типов данных "
   ]
  },
  {
   "cell_type": "code",
   "execution_count": 18,
   "id": "8266c00f",
   "metadata": {},
   "outputs": [
    {
     "name": "stdout",
     "output_type": "stream",
     "text": [
      "<class 'pandas.core.frame.DataFrame'>\n",
      "Int64Index: 48892 entries, 0 to 53901\n",
      "Data columns (total 9 columns):\n",
      " #   Column               Non-Null Count  Dtype  \n",
      "---  ------               --------------  -----  \n",
      " 0   user_id              48892 non-null  int64  \n",
      " 1   date                 48892 non-null  object \n",
      " 2   direction            48892 non-null  object \n",
      " 3   internal             48892 non-null  object \n",
      " 4   operator_id          48892 non-null  float64\n",
      " 5   is_missed_call       48892 non-null  bool   \n",
      " 6   calls_count          48892 non-null  int64  \n",
      " 7   call_duration        48892 non-null  int64  \n",
      " 8   total_call_duration  48892 non-null  int64  \n",
      "dtypes: bool(1), float64(1), int64(4), object(3)\n",
      "memory usage: 3.4+ MB\n"
     ]
    }
   ],
   "source": [
    "calls.info()"
   ]
  },
  {
   "cell_type": "code",
   "execution_count": 19,
   "id": "eefe5dc7",
   "metadata": {},
   "outputs": [],
   "source": [
    "calls['internal'] = calls['internal'].astype('bool', errors='ignore')\n",
    "calls['operator_id'] = calls['operator_id'].astype('int32')"
   ]
  },
  {
   "cell_type": "code",
   "execution_count": 20,
   "id": "49c7b3a5",
   "metadata": {},
   "outputs": [],
   "source": [
    "calls['date'] = pd.to_datetime(calls['date'], format='%Y-%m-%d %H:%M:%S')\n",
    "clients['date_start'] = pd.to_datetime(clients['date_start'], format='%Y-%m-%d')"
   ]
  },
  {
   "cell_type": "code",
   "execution_count": 21,
   "id": "f21a5dda",
   "metadata": {},
   "outputs": [
    {
     "name": "stdout",
     "output_type": "stream",
     "text": [
      "<class 'pandas.core.frame.DataFrame'>\n",
      "Int64Index: 48892 entries, 0 to 53901\n",
      "Data columns (total 9 columns):\n",
      " #   Column               Non-Null Count  Dtype                                \n",
      "---  ------               --------------  -----                                \n",
      " 0   user_id              48892 non-null  int64                                \n",
      " 1   date                 48892 non-null  datetime64[ns, pytz.FixedOffset(180)]\n",
      " 2   direction            48892 non-null  object                               \n",
      " 3   internal             48892 non-null  bool                                 \n",
      " 4   operator_id          48892 non-null  int32                                \n",
      " 5   is_missed_call       48892 non-null  bool                                 \n",
      " 6   calls_count          48892 non-null  int64                                \n",
      " 7   call_duration        48892 non-null  int64                                \n",
      " 8   total_call_duration  48892 non-null  int64                                \n",
      "dtypes: bool(2), datetime64[ns, pytz.FixedOffset(180)](1), int32(1), int64(4), object(1)\n",
      "memory usage: 2.9+ MB\n"
     ]
    }
   ],
   "source": [
    "calls.info()"
   ]
  },
  {
   "cell_type": "code",
   "execution_count": 22,
   "id": "9c49c8ab",
   "metadata": {},
   "outputs": [
    {
     "data": {
      "text/html": [
       "<div>\n",
       "<style scoped>\n",
       "    .dataframe tbody tr th:only-of-type {\n",
       "        vertical-align: middle;\n",
       "    }\n",
       "\n",
       "    .dataframe tbody tr th {\n",
       "        vertical-align: top;\n",
       "    }\n",
       "\n",
       "    .dataframe thead th {\n",
       "        text-align: right;\n",
       "    }\n",
       "</style>\n",
       "<table border=\"1\" class=\"dataframe\">\n",
       "  <thead>\n",
       "    <tr style=\"text-align: right;\">\n",
       "      <th></th>\n",
       "      <th>user_id</th>\n",
       "      <th>date</th>\n",
       "      <th>direction</th>\n",
       "      <th>internal</th>\n",
       "      <th>operator_id</th>\n",
       "      <th>is_missed_call</th>\n",
       "      <th>calls_count</th>\n",
       "      <th>call_duration</th>\n",
       "      <th>total_call_duration</th>\n",
       "    </tr>\n",
       "  </thead>\n",
       "  <tbody>\n",
       "    <tr>\n",
       "      <th>0</th>\n",
       "      <td>166377</td>\n",
       "      <td>2019-08-04 00:00:00+03:00</td>\n",
       "      <td>in</td>\n",
       "      <td>False</td>\n",
       "      <td>0</td>\n",
       "      <td>True</td>\n",
       "      <td>2</td>\n",
       "      <td>0</td>\n",
       "      <td>1</td>\n",
       "    </tr>\n",
       "    <tr>\n",
       "      <th>1</th>\n",
       "      <td>166377</td>\n",
       "      <td>2019-08-05 00:00:00+03:00</td>\n",
       "      <td>out</td>\n",
       "      <td>True</td>\n",
       "      <td>880022</td>\n",
       "      <td>True</td>\n",
       "      <td>3</td>\n",
       "      <td>0</td>\n",
       "      <td>1</td>\n",
       "    </tr>\n",
       "    <tr>\n",
       "      <th>2</th>\n",
       "      <td>166377</td>\n",
       "      <td>2019-08-05 00:00:00+03:00</td>\n",
       "      <td>out</td>\n",
       "      <td>True</td>\n",
       "      <td>880020</td>\n",
       "      <td>True</td>\n",
       "      <td>1</td>\n",
       "      <td>0</td>\n",
       "      <td>1</td>\n",
       "    </tr>\n",
       "    <tr>\n",
       "      <th>3</th>\n",
       "      <td>166377</td>\n",
       "      <td>2019-08-05 00:00:00+03:00</td>\n",
       "      <td>out</td>\n",
       "      <td>True</td>\n",
       "      <td>880020</td>\n",
       "      <td>False</td>\n",
       "      <td>1</td>\n",
       "      <td>1</td>\n",
       "      <td>1</td>\n",
       "    </tr>\n",
       "    <tr>\n",
       "      <th>4</th>\n",
       "      <td>166377</td>\n",
       "      <td>2019-08-05 00:00:00+03:00</td>\n",
       "      <td>out</td>\n",
       "      <td>False</td>\n",
       "      <td>880022</td>\n",
       "      <td>True</td>\n",
       "      <td>3</td>\n",
       "      <td>0</td>\n",
       "      <td>1</td>\n",
       "    </tr>\n",
       "  </tbody>\n",
       "</table>\n",
       "</div>"
      ],
      "text/plain": [
       "   user_id                      date direction  internal  operator_id  \\\n",
       "0   166377 2019-08-04 00:00:00+03:00        in     False            0   \n",
       "1   166377 2019-08-05 00:00:00+03:00       out      True       880022   \n",
       "2   166377 2019-08-05 00:00:00+03:00       out      True       880020   \n",
       "3   166377 2019-08-05 00:00:00+03:00       out      True       880020   \n",
       "4   166377 2019-08-05 00:00:00+03:00       out     False       880022   \n",
       "\n",
       "   is_missed_call  calls_count  call_duration  total_call_duration  \n",
       "0            True            2              0                    1  \n",
       "1            True            3              0                    1  \n",
       "2            True            1              0                    1  \n",
       "3           False            1              1                    1  \n",
       "4            True            3              0                    1  "
      ]
     },
     "execution_count": 22,
     "metadata": {},
     "output_type": "execute_result"
    }
   ],
   "source": [
    "calls.head()"
   ]
  },
  {
   "cell_type": "markdown",
   "id": "dea87fa8",
   "metadata": {},
   "source": [
    "Добавим колонку с месяцем для удобства группировки:"
   ]
  },
  {
   "cell_type": "code",
   "execution_count": 23,
   "id": "7e6e01c1",
   "metadata": {},
   "outputs": [
    {
     "name": "stderr",
     "output_type": "stream",
     "text": [
      "/Users/aksyutenko/opt/anaconda3/lib/python3.9/site-packages/pandas/core/arrays/datetimes.py:1143: UserWarning: Converting to PeriodArray/Index representation will drop timezone information.\n",
      "  warnings.warn(\n"
     ]
    }
   ],
   "source": [
    "calls['month'] = calls['date'].dt.to_period('M')"
   ]
  },
  {
   "cell_type": "markdown",
   "id": "b8ad37c5",
   "metadata": {},
   "source": [
    "В ходе предобработки данных: \n",
    "- определены единицы измерения длительности звонков в базе данных и переведены в минуты для удобства дальнейших расчетов;\n",
    "- большинство пропусков содержится в столбце 'operator_id' и не влияет на расчет выручки, так как относится в подавляющей части ко входящим вызовам;\n",
    "- дубликаты удалены, на данный момент нет возможности высянить причину их появления;\n",
    "- изменены типы данных где это необходимо."
   ]
  },
  {
   "cell_type": "markdown",
   "id": "13e5ad19",
   "metadata": {},
   "source": [
    "## Исследовательский анализ данных<a class=\"anchor\" id=\"analysis\"></a>"
   ]
  },
  {
   "cell_type": "markdown",
   "id": "9a19979d",
   "metadata": {},
   "source": [
    "### Исследование диапазона значений"
   ]
  },
  {
   "cell_type": "code",
   "execution_count": 24,
   "id": "0834224e",
   "metadata": {},
   "outputs": [
    {
     "name": "stdout",
     "output_type": "stream",
     "text": [
      "2019-08-02 00:00:00+03:00\n",
      "2019-11-28 00:00:00+03:00\n"
     ]
    }
   ],
   "source": [
    "print(calls['date'].min())\n",
    "print(calls['date'].max())"
   ]
  },
  {
   "cell_type": "code",
   "execution_count": 25,
   "id": "1fe85b7d",
   "metadata": {},
   "outputs": [
    {
     "name": "stdout",
     "output_type": "stream",
     "text": [
      "Уникальных клиентов в датафрейме clients: 732\n",
      "Уникальных клиентов в датафрейме calls: 307\n",
      "Уникальных операторов: 1093\n"
     ]
    }
   ],
   "source": [
    "print('Уникальных клиентов в датафрейме clients:', clients['user_id'].nunique())\n",
    "print('Уникальных клиентов в датафрейме calls:', calls['user_id'].nunique())\n",
    "print('Уникальных операторов:', calls['operator_id'].nunique())"
   ]
  },
  {
   "cell_type": "markdown",
   "id": "427c08e4",
   "metadata": {},
   "source": [
    "Больше половины клиентов из нашей базы данных вообще не пользовались услугами за анализируемый период. Очевидно, что нет смысла предлагать им переход на другой тариф.\n",
    "\n",
    "Посмотрим на распределение тарифов среди пользователей:"
   ]
  },
  {
   "cell_type": "code",
   "execution_count": 26,
   "id": "15305bb6",
   "metadata": {},
   "outputs": [
    {
     "data": {
      "image/png": "[encoded data removed]",
      "text/plain": [
       "<Figure size 432x432 with 1 Axes>"
      ]
     },
     "metadata": {},
     "output_type": "display_data"
    }
   ],
   "source": [
    "fig,ax = plt.subplots(figsize=(6, 6))\n",
    "ax.pie(clients.groupby('tariff_plan')['user_id'].count(), \n",
    "       labels=clients.groupby('tariff_plan')['user_id'].count().index,\n",
    "       autopct='%.2f%%')\n",
    "ax.set_title('Соотношение тарифов среди пользователей')\n",
    "plt.show()"
   ]
  },
  {
   "cell_type": "markdown",
   "id": "226ab6c2",
   "metadata": {},
   "source": [
    "Большинство использует тариф С, с минимальной фиксированной платой.\n",
    "\n",
    "Проверим меняли ли пользователи тариф за текущий период:"
   ]
  },
  {
   "cell_type": "code",
   "execution_count": 27,
   "id": "6370485f",
   "metadata": {},
   "outputs": [
    {
     "data": {
      "text/plain": [
       "166713    1\n",
       "168361    1\n",
       "168527    1\n",
       "167097    1\n",
       "168193    1\n",
       "         ..\n",
       "166702    1\n",
       "166554    1\n",
       "166911    1\n",
       "166867    1\n",
       "166565    1\n",
       "Name: user_id, Length: 732, dtype: int64"
      ]
     },
     "execution_count": 27,
     "metadata": {},
     "output_type": "execute_result"
    }
   ],
   "source": [
    "clients['user_id'].value_counts().sort_values()"
   ]
  },
  {
   "cell_type": "markdown",
   "id": "aa1f9a58",
   "metadata": {},
   "source": [
    "Никто из клиентов не менял тариф за выбранный период.\n",
    "\n",
    "Построим графики динамики использования услуг клиентами:"
   ]
  },
  {
   "cell_type": "code",
   "execution_count": 28,
   "id": "f3253ace",
   "metadata": {},
   "outputs": [
    {
     "data": {
      "image/png": "[encoded data removed]",
      "text/plain": [
       "<Figure size 1152x288 with 1 Axes>"
      ]
     },
     "metadata": {
      "needs_background": "light"
     },
     "output_type": "display_data"
    }
   ],
   "source": [
    "df = (calls[calls['internal'] == False]\n",
    " .sort_values('date')\n",
    " .groupby('date')['total_call_duration']\n",
    " .sum()\n",
    " .reset_index())\n",
    "\n",
    "df['date'] = df['date'].dt.to_period('D')\n",
    "\n",
    "ax = df.plot(x='date', y='total_call_duration', kind='bar', figsize=(16,4))\n",
    "\n",
    "ax.xaxis.set_major_locator(mdates.WeekdayLocator(interval=3))\n",
    "ax.set(title='Количество исходящих вызовов')\n",
    "ax.set_xlabel('дата')\n",
    "ax.set_ylabel('минуты')\n",
    "plt.xticks(rotation = 0)\n",
    "ax.get_legend().remove()\n",
    "plt.show()"
   ]
  },
  {
   "cell_type": "code",
   "execution_count": 29,
   "id": "8e9d6fd3",
   "metadata": {},
   "outputs": [
    {
     "data": {
      "image/png": "[encoded data removed]",
      "text/plain": [
       "<Figure size 1152x288 with 1 Axes>"
      ]
     },
     "metadata": {
      "needs_background": "light"
     },
     "output_type": "display_data"
    }
   ],
   "source": [
    "df = (calls[calls['internal'] == False]\n",
    " .sort_values('date')\n",
    " .groupby('date')['operator_id'].nunique()\n",
    " .reset_index())\n",
    " \n",
    "df['date'] = df['date'].dt.to_period('D')\n",
    "\n",
    "ax = df.plot(x='date', y='operator_id', kind='bar', figsize=(16,4))\n",
    "\n",
    "ax.xaxis.set_major_locator(mdates.WeekdayLocator(interval=3))\n",
    "ax.set(title='Количество работавших операторов')\n",
    "ax.set_xlabel('дата')\n",
    "ax.set_ylabel('операторы')\n",
    "plt.xticks(rotation = 0)\n",
    "ax.get_legend().remove()\n",
    "plt.show()"
   ]
  },
  {
   "cell_type": "markdown",
   "id": "d59f1cb7",
   "metadata": {},
   "source": [
    "Из двух графиков видно постепенное нарастание количества минут и операторов в течение всего периода. Возможно это связано с сезонностью, либо есть другие особенности работы компании или данных в выгрузке. Также видна недельная цикличность: паттерн поторяется примерно каждые семь дней.\n",
    "\n",
    "Также неизвестна система назначения айди для операторов. Действительно ли штат операторов увеличился в несколько раз или есть система назначения айди при которой у одного опертора несколько айди? Например, для разделения затрат между пользователями.\n",
    "\n",
    "Количество пользователей растет примерно до середины октября:"
   ]
  },
  {
   "cell_type": "code",
   "execution_count": 30,
   "id": "1a0e8e6f",
   "metadata": {},
   "outputs": [
    {
     "data": {
      "image/png": "[encoded data removed]",
      "text/plain": [
       "<Figure size 1152x288 with 1 Axes>"
      ]
     },
     "metadata": {
      "needs_background": "light"
     },
     "output_type": "display_data"
    }
   ],
   "source": [
    "df = (calls[calls['internal'] == False]\n",
    " .sort_values('date')\n",
    " .groupby('date')['user_id'].nunique()\n",
    " .reset_index())\n",
    "\n",
    "df['date'] = df['date'].dt.to_period('D')\n",
    "\n",
    "ax = df.plot(x='date', y='user_id', kind='bar', figsize=(16,4))\n",
    "\n",
    "ax.xaxis.set_major_locator(mdates.WeekdayLocator(interval=3))\n",
    "ax.set(title='Количество активных пользователей')\n",
    "ax.set_xlabel('дата')\n",
    "ax.set_ylabel('пользователи')\n",
    "plt.xticks(rotation = 0)\n",
    "ax.get_legend().remove()\n",
    "plt.show()"
   ]
  },
  {
   "cell_type": "markdown",
   "id": "17cf9665",
   "metadata": {},
   "source": [
    "При этом приток новых пользователей довольно стабильный:"
   ]
  },
  {
   "cell_type": "code",
   "execution_count": 31,
   "id": "c8a17029",
   "metadata": {},
   "outputs": [
    {
     "data": {
      "text/plain": [
       "array([[<AxesSubplot:title={'center':'date_start'}>]], dtype=object)"
      ]
     },
     "execution_count": 31,
     "metadata": {},
     "output_type": "execute_result"
    },
    {
     "data": {
      "image/png": "[encoded data removed]",
      "text/plain": [
       "<Figure size 1152x288 with 1 Axes>"
      ]
     },
     "metadata": {
      "needs_background": "light"
     },
     "output_type": "display_data"
    }
   ],
   "source": [
    "clients.hist('date_start', bins=100, figsize=(16,4))"
   ]
  },
  {
   "cell_type": "markdown",
   "id": "93ed0aed",
   "metadata": {},
   "source": [
    "Компания наращивает обороты практически с нуля. Это может быть вызвано особоенностью выборки, сезонностью или недавним началом деятельности компании."
   ]
  },
  {
   "cell_type": "markdown",
   "id": "a14cb287",
   "metadata": {},
   "source": [
    "### Поиск и устранение аномалий"
   ]
  },
  {
   "cell_type": "markdown",
   "id": "86bb2aeb",
   "metadata": {},
   "source": [
    "По сообщению от заказчика, у некоторых колл-центров за отчетный период был сбой системы распределения звонков и все звонки записывались на одного из операторов. Проверим распрделение нагрузки по пользователям и операторам."
   ]
  },
  {
   "cell_type": "code",
   "execution_count": 32,
   "id": "9109882b",
   "metadata": {},
   "outputs": [
    {
     "data": {
      "text/plain": [
       "user_id\n",
       "166582    197627\n",
       "168361     95158\n",
       "167626     78093\n",
       "166658     43628\n",
       "168252     33689\n",
       "168187     27447\n",
       "166405     24702\n",
       "167827     22251\n",
       "167125     19087\n",
       "168062     18396\n",
       "Name: total_call_duration, dtype: int64"
      ]
     },
     "execution_count": 32,
     "metadata": {},
     "output_type": "execute_result"
    }
   ],
   "source": [
    "calls.groupby('user_id')['total_call_duration'].sum().sort_values(ascending=False).head(10)"
   ]
  },
  {
   "cell_type": "code",
   "execution_count": 33,
   "id": "4e03ff26",
   "metadata": {
    "scrolled": false
   },
   "outputs": [
    {
     "data": {
      "text/plain": [
       "operator_id\n",
       "885876    95690\n",
       "885890    79860\n",
       "0         33796\n",
       "925922    20917\n",
       "929428    10586\n",
       "Name: total_call_duration, dtype: int64"
      ]
     },
     "execution_count": 33,
     "metadata": {},
     "output_type": "execute_result"
    }
   ],
   "source": [
    "(calls\n",
    " .groupby('operator_id')['total_call_duration'].sum()\n",
    " .sort_values(ascending=False)\n",
    " .head())"
   ]
  },
  {
   "cell_type": "markdown",
   "id": "b7d282a6",
   "metadata": {},
   "source": [
    "Пользователь 166582 и операторы 885876, 885890 и 925922 явно выбиваются из общей картины. Проверим сколько часов в день работали эти операторы и какие операторы обслаживали пользователя 166582:"
   ]
  },
  {
   "cell_type": "code",
   "execution_count": 34,
   "id": "3ce12d7a",
   "metadata": {},
   "outputs": [
    {
     "name": "stdout",
     "output_type": "stream",
     "text": [
      "Оператор 885876: 16.44\n",
      "Оператор 885890: 16.64\n",
      "Оператор 0: 4.73\n",
      "Оператор 925922: 14.53\n",
      "Оператор 929428: 5.35\n"
     ]
    }
   ],
   "source": [
    "top5_operators = (calls\n",
    "                  .groupby('operator_id')['total_call_duration'].sum()\n",
    "                  .sort_values(ascending=False)\n",
    "                  .head()\n",
    "                  .reset_index()['operator_id'])\n",
    "\n",
    "for o in top5_operators:\n",
    "    min_per_day = calls[calls['operator_id'] == o]['total_call_duration'].sum() / calls[calls['operator_id'] == o]['date'].nunique()\n",
    "    print(f'Оператор {o}: {min_per_day/60:.2f}')"
   ]
  },
  {
   "cell_type": "markdown",
   "id": "70870ff3",
   "metadata": {},
   "source": [
    "Первые три оператора сильно выделяются, с физически невозможным количеством часов в день."
   ]
  },
  {
   "cell_type": "code",
   "execution_count": 35,
   "id": "82edbb31",
   "metadata": {},
   "outputs": [
    {
     "data": {
      "text/html": [
       "<div>\n",
       "<style scoped>\n",
       "    .dataframe tbody tr th:only-of-type {\n",
       "        vertical-align: middle;\n",
       "    }\n",
       "\n",
       "    .dataframe tbody tr th {\n",
       "        vertical-align: top;\n",
       "    }\n",
       "\n",
       "    .dataframe thead th {\n",
       "        text-align: right;\n",
       "    }\n",
       "</style>\n",
       "<table border=\"1\" class=\"dataframe\">\n",
       "  <thead>\n",
       "    <tr style=\"text-align: right;\">\n",
       "      <th>operator_id</th>\n",
       "      <th>0</th>\n",
       "      <th>885876</th>\n",
       "      <th>885890</th>\n",
       "      <th>925922</th>\n",
       "    </tr>\n",
       "    <tr>\n",
       "      <th>user_id</th>\n",
       "      <th></th>\n",
       "      <th></th>\n",
       "      <th></th>\n",
       "      <th></th>\n",
       "    </tr>\n",
       "  </thead>\n",
       "  <tbody>\n",
       "    <tr>\n",
       "      <th>166582</th>\n",
       "      <td>1160</td>\n",
       "      <td>95690</td>\n",
       "      <td>79860</td>\n",
       "      <td>20917</td>\n",
       "    </tr>\n",
       "  </tbody>\n",
       "</table>\n",
       "</div>"
      ],
      "text/plain": [
       "operator_id  0       885876  885890  925922\n",
       "user_id                                    \n",
       "166582         1160   95690   79860   20917"
      ]
     },
     "execution_count": 35,
     "metadata": {},
     "output_type": "execute_result"
    }
   ],
   "source": [
    "calls.query('user_id == 166582').pivot_table(index='user_id',\n",
    "                                        columns='operator_id',\n",
    "                                        values='total_call_duration',\n",
    "                                        aggfunc='sum')"
   ]
  },
  {
   "cell_type": "markdown",
   "id": "8b13233f",
   "metadata": {},
   "source": [
    "Судя по всему именно на эти три айди операторов записывались все звонки пользователя 166582. Посмотрим распределение по месяцам:"
   ]
  },
  {
   "cell_type": "code",
   "execution_count": 36,
   "id": "45a06698",
   "metadata": {},
   "outputs": [
    {
     "data": {
      "text/html": [
       "<div>\n",
       "<style scoped>\n",
       "    .dataframe tbody tr th:only-of-type {\n",
       "        vertical-align: middle;\n",
       "    }\n",
       "\n",
       "    .dataframe tbody tr th {\n",
       "        vertical-align: top;\n",
       "    }\n",
       "\n",
       "    .dataframe thead th {\n",
       "        text-align: right;\n",
       "    }\n",
       "</style>\n",
       "<table border=\"1\" class=\"dataframe\">\n",
       "  <thead>\n",
       "    <tr style=\"text-align: right;\">\n",
       "      <th>month</th>\n",
       "      <th>2019-08</th>\n",
       "      <th>2019-09</th>\n",
       "      <th>2019-10</th>\n",
       "      <th>2019-11</th>\n",
       "    </tr>\n",
       "    <tr>\n",
       "      <th>operator_id</th>\n",
       "      <th></th>\n",
       "      <th></th>\n",
       "      <th></th>\n",
       "      <th></th>\n",
       "    </tr>\n",
       "  </thead>\n",
       "  <tbody>\n",
       "    <tr>\n",
       "      <th>0</th>\n",
       "      <td>125.0</td>\n",
       "      <td>593.0</td>\n",
       "      <td>417.0</td>\n",
       "      <td>25.0</td>\n",
       "    </tr>\n",
       "    <tr>\n",
       "      <th>885876</th>\n",
       "      <td>12517.0</td>\n",
       "      <td>53571.0</td>\n",
       "      <td>28025.0</td>\n",
       "      <td>1577.0</td>\n",
       "    </tr>\n",
       "    <tr>\n",
       "      <th>885890</th>\n",
       "      <td>19463.0</td>\n",
       "      <td>31791.0</td>\n",
       "      <td>28606.0</td>\n",
       "      <td>NaN</td>\n",
       "    </tr>\n",
       "    <tr>\n",
       "      <th>925922</th>\n",
       "      <td>NaN</td>\n",
       "      <td>NaN</td>\n",
       "      <td>20917.0</td>\n",
       "      <td>NaN</td>\n",
       "    </tr>\n",
       "  </tbody>\n",
       "</table>\n",
       "</div>"
      ],
      "text/plain": [
       "month        2019-08  2019-09  2019-10  2019-11\n",
       "operator_id                                    \n",
       "0              125.0    593.0    417.0     25.0\n",
       "885876       12517.0  53571.0  28025.0   1577.0\n",
       "885890       19463.0  31791.0  28606.0      NaN\n",
       "925922           NaN      NaN  20917.0      NaN"
      ]
     },
     "execution_count": 36,
     "metadata": {},
     "output_type": "execute_result"
    }
   ],
   "source": [
    "(calls.query('user_id == 166582')\n",
    " .pivot_table(index='operator_id',\n",
    "              columns='month',\n",
    "              values='total_call_duration',\n",
    "              aggfunc='sum'))"
   ]
  },
  {
   "cell_type": "markdown",
   "id": "fadce446",
   "metadata": {},
   "source": [
    "Удостоверимся что эти операторы работали только с одним пользователем."
   ]
  },
  {
   "cell_type": "code",
   "execution_count": 37,
   "id": "593c5351",
   "metadata": {},
   "outputs": [
    {
     "data": {
      "text/html": [
       "<div>\n",
       "<style scoped>\n",
       "    .dataframe tbody tr th:only-of-type {\n",
       "        vertical-align: middle;\n",
       "    }\n",
       "\n",
       "    .dataframe tbody tr th {\n",
       "        vertical-align: top;\n",
       "    }\n",
       "\n",
       "    .dataframe thead th {\n",
       "        text-align: right;\n",
       "    }\n",
       "</style>\n",
       "<table border=\"1\" class=\"dataframe\">\n",
       "  <thead>\n",
       "    <tr style=\"text-align: right;\">\n",
       "      <th>user_id</th>\n",
       "      <th>166582</th>\n",
       "    </tr>\n",
       "    <tr>\n",
       "      <th>operator_id</th>\n",
       "      <th></th>\n",
       "    </tr>\n",
       "  </thead>\n",
       "  <tbody>\n",
       "    <tr>\n",
       "      <th>885876</th>\n",
       "      <td>95690</td>\n",
       "    </tr>\n",
       "    <tr>\n",
       "      <th>885890</th>\n",
       "      <td>79860</td>\n",
       "    </tr>\n",
       "    <tr>\n",
       "      <th>925922</th>\n",
       "      <td>20917</td>\n",
       "    </tr>\n",
       "  </tbody>\n",
       "</table>\n",
       "</div>"
      ],
      "text/plain": [
       "user_id      166582\n",
       "operator_id        \n",
       "885876        95690\n",
       "885890        79860\n",
       "925922        20917"
      ]
     },
     "execution_count": 37,
     "metadata": {},
     "output_type": "execute_result"
    }
   ],
   "source": [
    "(calls\n",
    " .query('operator_id in [885876, 885890, 925922]')\n",
    " .pivot_table(index='operator_id',\n",
    "             columns='user_id',\n",
    "             values='total_call_duration',\n",
    "             aggfunc='sum'))"
   ]
  },
  {
   "cell_type": "code",
   "execution_count": 38,
   "id": "23fb9b45",
   "metadata": {},
   "outputs": [
    {
     "data": {
      "text/plain": [
       "20.38204933308444"
      ]
     },
     "execution_count": 38,
     "metadata": {},
     "output_type": "execute_result"
    }
   ],
   "source": [
    "calls.query('user_id == 166582')['total_call_duration'].sum() / calls['total_call_duration'].sum() * 100"
   ]
  },
  {
   "cell_type": "markdown",
   "id": "d9a4e7f7",
   "metadata": {},
   "source": [
    "Звонки пользователя 166582 составляют больше 20% от всех учтенных за анализируемый период! Просто избавиться от этих данных будет неправильно, так как мы не учтём очень большую часть выручки.\n",
    "\n",
    "Рассчитаем медианное значение длительности вызовов которое оператор обрабатывает за день. На основе этого числа посчитаем какое количество операторов смогли бы обработать вызовы пользователя 166582."
   ]
  },
  {
   "cell_type": "code",
   "execution_count": 39,
   "id": "d759e282",
   "metadata": {},
   "outputs": [
    {
     "data": {
      "text/plain": [
       "count     1093.000000\n",
       "mean       887.111619\n",
       "std       4115.974336\n",
       "min          0.000000\n",
       "25%         13.000000\n",
       "50%        123.000000\n",
       "75%        776.000000\n",
       "max      95690.000000\n",
       "Name: total_call_duration, dtype: float64"
      ]
     },
     "execution_count": 39,
     "metadata": {},
     "output_type": "execute_result"
    }
   ],
   "source": [
    "calls.groupby('operator_id')['total_call_duration'].sum().describe()"
   ]
  },
  {
   "cell_type": "code",
   "execution_count": 40,
   "id": "3b24a8e2",
   "metadata": {
    "scrolled": true
   },
   "outputs": [
    {
     "data": {
      "text/plain": [
       "count     1090.000000\n",
       "mean       709.308257\n",
       "std       1614.864030\n",
       "min          0.000000\n",
       "25%         13.000000\n",
       "50%        122.500000\n",
       "75%        770.000000\n",
       "max      33796.000000\n",
       "Name: total_call_duration, dtype: float64"
      ]
     },
     "execution_count": 40,
     "metadata": {},
     "output_type": "execute_result"
    }
   ],
   "source": [
    "new_calls = calls.query('operator_id not in [885876, 885890, 925922]')\n",
    "new_calls.groupby('operator_id')['total_call_duration'].sum().describe()"
   ]
  },
  {
   "cell_type": "markdown",
   "id": "7a572413",
   "metadata": {},
   "source": [
    "Так как аномальный пользователь у нас лишь один, он не сильно влияет на статистику, только значительно смещает среднее при группировке по операторам.\n",
    "\n",
    "Посчитаем количество минут в день для каждого оператора и количество отработанных дней. Далее используме 75й перцентиль у топ-10 пользователей для того чтобы посчитать теоритическое количество операторов, которые могли обработать вызовы самого крупного из наших пользователей."
   ]
  },
  {
   "cell_type": "code",
   "execution_count": 41,
   "id": "2209915d",
   "metadata": {},
   "outputs": [
    {
     "data": {
      "text/html": [
       "<div>\n",
       "<style scoped>\n",
       "    .dataframe tbody tr th:only-of-type {\n",
       "        vertical-align: middle;\n",
       "    }\n",
       "\n",
       "    .dataframe tbody tr th {\n",
       "        vertical-align: top;\n",
       "    }\n",
       "\n",
       "    .dataframe thead th {\n",
       "        text-align: right;\n",
       "    }\n",
       "</style>\n",
       "<table border=\"1\" class=\"dataframe\">\n",
       "  <thead>\n",
       "    <tr style=\"text-align: right;\">\n",
       "      <th></th>\n",
       "      <th>operator_id</th>\n",
       "      <th>date</th>\n",
       "      <th>total_call_duration</th>\n",
       "      <th>minutes_per_day</th>\n",
       "    </tr>\n",
       "  </thead>\n",
       "  <tbody>\n",
       "    <tr>\n",
       "      <th>28</th>\n",
       "      <td>885876</td>\n",
       "      <td>97</td>\n",
       "      <td>95690</td>\n",
       "      <td>986.494845</td>\n",
       "    </tr>\n",
       "    <tr>\n",
       "      <th>29</th>\n",
       "      <td>885890</td>\n",
       "      <td>80</td>\n",
       "      <td>79860</td>\n",
       "      <td>998.250000</td>\n",
       "    </tr>\n",
       "    <tr>\n",
       "      <th>551</th>\n",
       "      <td>925922</td>\n",
       "      <td>24</td>\n",
       "      <td>20917</td>\n",
       "      <td>871.541667</td>\n",
       "    </tr>\n",
       "    <tr>\n",
       "      <th>583</th>\n",
       "      <td>929428</td>\n",
       "      <td>33</td>\n",
       "      <td>10586</td>\n",
       "      <td>320.787879</td>\n",
       "    </tr>\n",
       "    <tr>\n",
       "      <th>958</th>\n",
       "      <td>952948</td>\n",
       "      <td>26</td>\n",
       "      <td>8261</td>\n",
       "      <td>317.730769</td>\n",
       "    </tr>\n",
       "    <tr>\n",
       "      <th>203</th>\n",
       "      <td>901880</td>\n",
       "      <td>88</td>\n",
       "      <td>8199</td>\n",
       "      <td>93.170455</td>\n",
       "    </tr>\n",
       "    <tr>\n",
       "      <th>582</th>\n",
       "      <td>929426</td>\n",
       "      <td>32</td>\n",
       "      <td>7932</td>\n",
       "      <td>247.875000</td>\n",
       "    </tr>\n",
       "    <tr>\n",
       "      <th>853</th>\n",
       "      <td>945302</td>\n",
       "      <td>35</td>\n",
       "      <td>7688</td>\n",
       "      <td>219.657143</td>\n",
       "    </tr>\n",
       "    <tr>\n",
       "      <th>12</th>\n",
       "      <td>882686</td>\n",
       "      <td>80</td>\n",
       "      <td>7301</td>\n",
       "      <td>91.262500</td>\n",
       "    </tr>\n",
       "    <tr>\n",
       "      <th>368</th>\n",
       "      <td>913938</td>\n",
       "      <td>65</td>\n",
       "      <td>7070</td>\n",
       "      <td>108.769231</td>\n",
       "    </tr>\n",
       "  </tbody>\n",
       "</table>\n",
       "</div>"
      ],
      "text/plain": [
       "     operator_id  date  total_call_duration  minutes_per_day\n",
       "28        885876    97                95690       986.494845\n",
       "29        885890    80                79860       998.250000\n",
       "551       925922    24                20917       871.541667\n",
       "583       929428    33                10586       320.787879\n",
       "958       952948    26                 8261       317.730769\n",
       "203       901880    88                 8199        93.170455\n",
       "582       929426    32                 7932       247.875000\n",
       "853       945302    35                 7688       219.657143\n",
       "12        882686    80                 7301        91.262500\n",
       "368       913938    65                 7070       108.769231"
      ]
     },
     "execution_count": 41,
     "metadata": {},
     "output_type": "execute_result"
    }
   ],
   "source": [
    "# считаем количество минут и количество рабочих для каждого оператора\n",
    "\n",
    "time_per_day = (calls[calls['operator_id'] != 0]\n",
    " .pivot_table(index='operator_id',\n",
    "              values=['total_call_duration', 'date'],\n",
    "              aggfunc={'total_call_duration':'sum', 'date':pd.Series.nunique})\n",
    " .reset_index()\n",
    " .sort_values(by='total_call_duration', ascending=False)\n",
    " .fillna(0))\n",
    "\n",
    "# считаем среднее количество отработанных минут в день для каждого оператора\n",
    "\n",
    "for i in range(len(time_per_day)):\n",
    "    time_per_day.loc[i, 'minutes_per_day'] = time_per_day.loc[i, 'total_call_duration'] / time_per_day.loc[i, 'date']\n",
    "    \n",
    "time_per_day.head(10)"
   ]
  },
  {
   "cell_type": "code",
   "execution_count": 42,
   "id": "588157c3",
   "metadata": {},
   "outputs": [
    {
     "data": {
      "text/plain": [
       "233.76607142857142"
      ]
     },
     "execution_count": 42,
     "metadata": {},
     "output_type": "execute_result"
    }
   ],
   "source": [
    "\"\"\"\n",
    "считаем медианное количество минут в день для топ-10 операторов\n",
    "которые работали меньше 12 часов в день (720 минут)\n",
    "\"\"\"\n",
    "median_time = (time_per_day\n",
    "               # счиатем только по операторам без аномально высоких значений времени работы\n",
    "               .query('minutes_per_day < 720')['minutes_per_day']\n",
    "               # считаем медианное время для топ-10 операторов\n",
    "               .head(10)\n",
    "               .median())\n",
    "median_time"
   ]
  },
  {
   "cell_type": "code",
   "execution_count": 43,
   "id": "0b389149",
   "metadata": {},
   "outputs": [
    {
     "data": {
      "text/html": [
       "<div>\n",
       "<style scoped>\n",
       "    .dataframe tbody tr th:only-of-type {\n",
       "        vertical-align: middle;\n",
       "    }\n",
       "\n",
       "    .dataframe tbody tr th {\n",
       "        vertical-align: top;\n",
       "    }\n",
       "\n",
       "    .dataframe thead th {\n",
       "        text-align: right;\n",
       "    }\n",
       "</style>\n",
       "<table border=\"1\" class=\"dataframe\">\n",
       "  <thead>\n",
       "    <tr style=\"text-align: right;\">\n",
       "      <th></th>\n",
       "      <th>month</th>\n",
       "      <th>n_operators</th>\n",
       "    </tr>\n",
       "  </thead>\n",
       "  <tbody>\n",
       "    <tr>\n",
       "      <th>0</th>\n",
       "      <td>2019-08</td>\n",
       "      <td>12</td>\n",
       "    </tr>\n",
       "    <tr>\n",
       "      <th>1</th>\n",
       "      <td>2019-09</td>\n",
       "      <td>20</td>\n",
       "    </tr>\n",
       "    <tr>\n",
       "      <th>2</th>\n",
       "      <td>2019-10</td>\n",
       "      <td>21</td>\n",
       "    </tr>\n",
       "    <tr>\n",
       "      <th>3</th>\n",
       "      <td>2019-11</td>\n",
       "      <td>1</td>\n",
       "    </tr>\n",
       "  </tbody>\n",
       "</table>\n",
       "</div>"
      ],
      "text/plain": [
       "     month  n_operators\n",
       "0  2019-08           12\n",
       "1  2019-09           20\n",
       "2  2019-10           21\n",
       "3  2019-11            1"
      ]
     },
     "execution_count": 43,
     "metadata": {},
     "output_type": "execute_result"
    }
   ],
   "source": [
    "\"\"\"\n",
    "посчитаем максимальное количество операторов\n",
    "которые могли обработать вызовы пользователя 166582\n",
    "в соответствии с рассчитанным медианным временем\n",
    "\"\"\"\n",
    "new_operators = (calls\n",
    "                 .query('user_id == 166582')\n",
    "                 .groupby(['month','date'])\n",
    "                 .agg({'total_call_duration':'sum'})\n",
    "                 # по медианному времени для топ-10 операторов:\n",
    "                 .assign(n_operators = lambda x: np.ceil(x['total_call_duration'] / median_time))\n",
    "                 .groupby(['month'])\n",
    "                 .agg({'n_operators':'max'})\n",
    "                 .reset_index())\n",
    "\n",
    "new_operators['n_operators'] = new_operators['n_operators'].astype('int32')\n",
    "\n",
    "new_operators"
   ]
  },
  {
   "cell_type": "markdown",
   "id": "d62f1edf",
   "metadata": {},
   "source": [
    "### Анализ динамики использоавния услуг и выделение активных клиентов"
   ]
  },
  {
   "cell_type": "markdown",
   "id": "fbe949a6",
   "metadata": {},
   "source": [
    "Для расчета выручки выделим только тарифицируемые звонки, то есть исходящие:"
   ]
  },
  {
   "cell_type": "code",
   "execution_count": 44,
   "id": "105e8c60",
   "metadata": {
    "scrolled": false
   },
   "outputs": [
    {
     "data": {
      "text/html": [
       "<div>\n",
       "<style scoped>\n",
       "    .dataframe tbody tr th:only-of-type {\n",
       "        vertical-align: middle;\n",
       "    }\n",
       "\n",
       "    .dataframe tbody tr th {\n",
       "        vertical-align: top;\n",
       "    }\n",
       "\n",
       "    .dataframe thead th {\n",
       "        text-align: right;\n",
       "    }\n",
       "</style>\n",
       "<table border=\"1\" class=\"dataframe\">\n",
       "  <thead>\n",
       "    <tr style=\"text-align: right;\">\n",
       "      <th></th>\n",
       "      <th>user_id</th>\n",
       "      <th>date</th>\n",
       "      <th>direction</th>\n",
       "      <th>internal</th>\n",
       "      <th>operator_id</th>\n",
       "      <th>is_missed_call</th>\n",
       "      <th>calls_count</th>\n",
       "      <th>call_duration</th>\n",
       "      <th>total_call_duration</th>\n",
       "      <th>month</th>\n",
       "    </tr>\n",
       "  </thead>\n",
       "  <tbody>\n",
       "    <tr>\n",
       "      <th>1</th>\n",
       "      <td>166377</td>\n",
       "      <td>2019-08-05 00:00:00+03:00</td>\n",
       "      <td>out</td>\n",
       "      <td>True</td>\n",
       "      <td>880022</td>\n",
       "      <td>True</td>\n",
       "      <td>3</td>\n",
       "      <td>0</td>\n",
       "      <td>1</td>\n",
       "      <td>2019-08</td>\n",
       "    </tr>\n",
       "    <tr>\n",
       "      <th>2</th>\n",
       "      <td>166377</td>\n",
       "      <td>2019-08-05 00:00:00+03:00</td>\n",
       "      <td>out</td>\n",
       "      <td>True</td>\n",
       "      <td>880020</td>\n",
       "      <td>True</td>\n",
       "      <td>1</td>\n",
       "      <td>0</td>\n",
       "      <td>1</td>\n",
       "      <td>2019-08</td>\n",
       "    </tr>\n",
       "    <tr>\n",
       "      <th>3</th>\n",
       "      <td>166377</td>\n",
       "      <td>2019-08-05 00:00:00+03:00</td>\n",
       "      <td>out</td>\n",
       "      <td>True</td>\n",
       "      <td>880020</td>\n",
       "      <td>False</td>\n",
       "      <td>1</td>\n",
       "      <td>1</td>\n",
       "      <td>1</td>\n",
       "      <td>2019-08</td>\n",
       "    </tr>\n",
       "    <tr>\n",
       "      <th>4</th>\n",
       "      <td>166377</td>\n",
       "      <td>2019-08-05 00:00:00+03:00</td>\n",
       "      <td>out</td>\n",
       "      <td>False</td>\n",
       "      <td>880022</td>\n",
       "      <td>True</td>\n",
       "      <td>3</td>\n",
       "      <td>0</td>\n",
       "      <td>1</td>\n",
       "      <td>2019-08</td>\n",
       "    </tr>\n",
       "    <tr>\n",
       "      <th>5</th>\n",
       "      <td>166377</td>\n",
       "      <td>2019-08-05 00:00:00+03:00</td>\n",
       "      <td>out</td>\n",
       "      <td>False</td>\n",
       "      <td>880020</td>\n",
       "      <td>False</td>\n",
       "      <td>2</td>\n",
       "      <td>1</td>\n",
       "      <td>1</td>\n",
       "      <td>2019-08</td>\n",
       "    </tr>\n",
       "  </tbody>\n",
       "</table>\n",
       "</div>"
      ],
      "text/plain": [
       "   user_id                      date direction  internal  operator_id  \\\n",
       "1   166377 2019-08-05 00:00:00+03:00       out      True       880022   \n",
       "2   166377 2019-08-05 00:00:00+03:00       out      True       880020   \n",
       "3   166377 2019-08-05 00:00:00+03:00       out      True       880020   \n",
       "4   166377 2019-08-05 00:00:00+03:00       out     False       880022   \n",
       "5   166377 2019-08-05 00:00:00+03:00       out     False       880020   \n",
       "\n",
       "   is_missed_call  calls_count  call_duration  total_call_duration    month  \n",
       "1            True            3              0                    1  2019-08  \n",
       "2            True            1              0                    1  2019-08  \n",
       "3           False            1              1                    1  2019-08  \n",
       "4            True            3              0                    1  2019-08  \n",
       "5           False            2              1                    1  2019-08  "
      ]
     },
     "execution_count": 44,
     "metadata": {},
     "output_type": "execute_result"
    }
   ],
   "source": [
    "rated_calls = calls[(calls['direction'] == 'out')]\n",
    "rated_calls.head()"
   ]
  },
  {
   "cell_type": "markdown",
   "id": "c903f65f",
   "metadata": {},
   "source": [
    "Для каждого пользователя посчитаем помесячное количество, исходящих и входящих минут и далее объединим в одну таблицу:"
   ]
  },
  {
   "cell_type": "code",
   "execution_count": 45,
   "id": "ea9f73fd",
   "metadata": {},
   "outputs": [
    {
     "data": {
      "text/html": [
       "<div>\n",
       "<style scoped>\n",
       "    .dataframe tbody tr th:only-of-type {\n",
       "        vertical-align: middle;\n",
       "    }\n",
       "\n",
       "    .dataframe tbody tr th {\n",
       "        vertical-align: top;\n",
       "    }\n",
       "\n",
       "    .dataframe thead th {\n",
       "        text-align: right;\n",
       "    }\n",
       "</style>\n",
       "<table border=\"1\" class=\"dataframe\">\n",
       "  <thead>\n",
       "    <tr style=\"text-align: right;\">\n",
       "      <th></th>\n",
       "      <th></th>\n",
       "      <th>operator_id</th>\n",
       "    </tr>\n",
       "    <tr>\n",
       "      <th>user_id</th>\n",
       "      <th>month</th>\n",
       "      <th></th>\n",
       "    </tr>\n",
       "  </thead>\n",
       "  <tbody>\n",
       "    <tr>\n",
       "      <th rowspan=\"4\" valign=\"top\">166377</th>\n",
       "      <th>2019-08</th>\n",
       "      <td>5</td>\n",
       "    </tr>\n",
       "    <tr>\n",
       "      <th>2019-09</th>\n",
       "      <td>4</td>\n",
       "    </tr>\n",
       "    <tr>\n",
       "      <th>2019-10</th>\n",
       "      <td>5</td>\n",
       "    </tr>\n",
       "    <tr>\n",
       "      <th>2019-11</th>\n",
       "      <td>4</td>\n",
       "    </tr>\n",
       "    <tr>\n",
       "      <th>166391</th>\n",
       "      <th>2019-08</th>\n",
       "      <td>2</td>\n",
       "    </tr>\n",
       "  </tbody>\n",
       "</table>\n",
       "</div>"
      ],
      "text/plain": [
       "                 operator_id\n",
       "user_id month               \n",
       "166377  2019-08            5\n",
       "        2019-09            4\n",
       "        2019-10            5\n",
       "        2019-11            4\n",
       "166391  2019-08            2"
      ]
     },
     "execution_count": 45,
     "metadata": {},
     "output_type": "execute_result"
    }
   ],
   "source": [
    "operators = (calls\n",
    "             .query('operator_id != 0')\n",
    "             .pivot_table(index=['user_id', 'month'],\n",
    "                                    values='operator_id',\n",
    "                                    aggfunc=pd.Series.nunique))\n",
    "operators.head()"
   ]
  },
  {
   "cell_type": "code",
   "execution_count": 46,
   "id": "8431f650",
   "metadata": {},
   "outputs": [
    {
     "data": {
      "text/html": [
       "<div>\n",
       "<style scoped>\n",
       "    .dataframe tbody tr th:only-of-type {\n",
       "        vertical-align: middle;\n",
       "    }\n",
       "\n",
       "    .dataframe tbody tr th {\n",
       "        vertical-align: top;\n",
       "    }\n",
       "\n",
       "    .dataframe thead th {\n",
       "        text-align: right;\n",
       "    }\n",
       "</style>\n",
       "<table border=\"1\" class=\"dataframe\">\n",
       "  <thead>\n",
       "    <tr style=\"text-align: right;\">\n",
       "      <th></th>\n",
       "      <th></th>\n",
       "      <th>total_call_duration</th>\n",
       "    </tr>\n",
       "    <tr>\n",
       "      <th>user_id</th>\n",
       "      <th>month</th>\n",
       "      <th></th>\n",
       "    </tr>\n",
       "  </thead>\n",
       "  <tbody>\n",
       "    <tr>\n",
       "      <th rowspan=\"4\" valign=\"top\">166377</th>\n",
       "      <th>2019-08</th>\n",
       "      <td>8</td>\n",
       "    </tr>\n",
       "    <tr>\n",
       "      <th>2019-09</th>\n",
       "      <td>5</td>\n",
       "    </tr>\n",
       "    <tr>\n",
       "      <th>2019-10</th>\n",
       "      <td>2</td>\n",
       "    </tr>\n",
       "    <tr>\n",
       "      <th>2019-11</th>\n",
       "      <td>4</td>\n",
       "    </tr>\n",
       "    <tr>\n",
       "      <th>166391</th>\n",
       "      <th>2019-08</th>\n",
       "      <td>1</td>\n",
       "    </tr>\n",
       "  </tbody>\n",
       "</table>\n",
       "</div>"
      ],
      "text/plain": [
       "                 total_call_duration\n",
       "user_id month                       \n",
       "166377  2019-08                    8\n",
       "        2019-09                    5\n",
       "        2019-10                    2\n",
       "        2019-11                    4\n",
       "166391  2019-08                    1"
      ]
     },
     "execution_count": 46,
     "metadata": {},
     "output_type": "execute_result"
    }
   ],
   "source": [
    "internal = (calls\n",
    "            .query('internal == True & direction == \"out\"')\n",
    "            .pivot_table(index=['user_id', 'month'],\n",
    "                         values='total_call_duration',\n",
    "                         aggfunc='sum'))\n",
    "internal.head()"
   ]
  },
  {
   "cell_type": "code",
   "execution_count": 47,
   "id": "6aa9671a",
   "metadata": {},
   "outputs": [
    {
     "data": {
      "text/html": [
       "<div>\n",
       "<style scoped>\n",
       "    .dataframe tbody tr th:only-of-type {\n",
       "        vertical-align: middle;\n",
       "    }\n",
       "\n",
       "    .dataframe tbody tr th {\n",
       "        vertical-align: top;\n",
       "    }\n",
       "\n",
       "    .dataframe thead th {\n",
       "        text-align: right;\n",
       "    }\n",
       "</style>\n",
       "<table border=\"1\" class=\"dataframe\">\n",
       "  <thead>\n",
       "    <tr style=\"text-align: right;\">\n",
       "      <th></th>\n",
       "      <th></th>\n",
       "      <th>total_call_duration</th>\n",
       "    </tr>\n",
       "    <tr>\n",
       "      <th>user_id</th>\n",
       "      <th>month</th>\n",
       "      <th></th>\n",
       "    </tr>\n",
       "  </thead>\n",
       "  <tbody>\n",
       "    <tr>\n",
       "      <th rowspan=\"4\" valign=\"top\">166377</th>\n",
       "      <th>2019-08</th>\n",
       "      <td>1337</td>\n",
       "    </tr>\n",
       "    <tr>\n",
       "      <th>2019-09</th>\n",
       "      <td>1818</td>\n",
       "    </tr>\n",
       "    <tr>\n",
       "      <th>2019-10</th>\n",
       "      <td>1704</td>\n",
       "    </tr>\n",
       "    <tr>\n",
       "      <th>2019-11</th>\n",
       "      <td>1633</td>\n",
       "    </tr>\n",
       "    <tr>\n",
       "      <th>166405</th>\n",
       "      <th>2019-08</th>\n",
       "      <td>875</td>\n",
       "    </tr>\n",
       "  </tbody>\n",
       "</table>\n",
       "</div>"
      ],
      "text/plain": [
       "                 total_call_duration\n",
       "user_id month                       \n",
       "166377  2019-08                 1337\n",
       "        2019-09                 1818\n",
       "        2019-10                 1704\n",
       "        2019-11                 1633\n",
       "166405  2019-08                  875"
      ]
     },
     "execution_count": 47,
     "metadata": {},
     "output_type": "execute_result"
    }
   ],
   "source": [
    "external = (calls\n",
    "            .query('internal == False & direction == \"out\"')\n",
    "            .pivot_table(index=['user_id', 'month'],\n",
    "                         values='total_call_duration',\n",
    "                         aggfunc='sum'))\n",
    "external.head()"
   ]
  },
  {
   "cell_type": "code",
   "execution_count": 48,
   "id": "91cc9b21",
   "metadata": {},
   "outputs": [
    {
     "data": {
      "text/html": [
       "<div>\n",
       "<style scoped>\n",
       "    .dataframe tbody tr th:only-of-type {\n",
       "        vertical-align: middle;\n",
       "    }\n",
       "\n",
       "    .dataframe tbody tr th {\n",
       "        vertical-align: top;\n",
       "    }\n",
       "\n",
       "    .dataframe thead th {\n",
       "        text-align: right;\n",
       "    }\n",
       "</style>\n",
       "<table border=\"1\" class=\"dataframe\">\n",
       "  <thead>\n",
       "    <tr style=\"text-align: right;\">\n",
       "      <th></th>\n",
       "      <th>user_id</th>\n",
       "      <th>month</th>\n",
       "      <th>operators</th>\n",
       "      <th>internal</th>\n",
       "      <th>external</th>\n",
       "      <th>tariff_plan</th>\n",
       "    </tr>\n",
       "  </thead>\n",
       "  <tbody>\n",
       "    <tr>\n",
       "      <th>0</th>\n",
       "      <td>166377</td>\n",
       "      <td>2019-08</td>\n",
       "      <td>5</td>\n",
       "      <td>8</td>\n",
       "      <td>1337</td>\n",
       "      <td>B</td>\n",
       "    </tr>\n",
       "    <tr>\n",
       "      <th>1</th>\n",
       "      <td>166377</td>\n",
       "      <td>2019-09</td>\n",
       "      <td>4</td>\n",
       "      <td>5</td>\n",
       "      <td>1818</td>\n",
       "      <td>B</td>\n",
       "    </tr>\n",
       "    <tr>\n",
       "      <th>2</th>\n",
       "      <td>166377</td>\n",
       "      <td>2019-10</td>\n",
       "      <td>5</td>\n",
       "      <td>2</td>\n",
       "      <td>1704</td>\n",
       "      <td>B</td>\n",
       "    </tr>\n",
       "    <tr>\n",
       "      <th>3</th>\n",
       "      <td>166377</td>\n",
       "      <td>2019-11</td>\n",
       "      <td>4</td>\n",
       "      <td>4</td>\n",
       "      <td>1633</td>\n",
       "      <td>B</td>\n",
       "    </tr>\n",
       "    <tr>\n",
       "      <th>4</th>\n",
       "      <td>166391</td>\n",
       "      <td>2019-08</td>\n",
       "      <td>2</td>\n",
       "      <td>1</td>\n",
       "      <td>0</td>\n",
       "      <td>C</td>\n",
       "    </tr>\n",
       "  </tbody>\n",
       "</table>\n",
       "</div>"
      ],
      "text/plain": [
       "   user_id    month  operators  internal  external tariff_plan\n",
       "0   166377  2019-08          5         8      1337           B\n",
       "1   166377  2019-09          4         5      1818           B\n",
       "2   166377  2019-10          5         2      1704           B\n",
       "3   166377  2019-11          4         4      1633           B\n",
       "4   166391  2019-08          2         1         0           C"
      ]
     },
     "execution_count": 48,
     "metadata": {},
     "output_type": "execute_result"
    }
   ],
   "source": [
    "user_revenue = (pd.concat([operators, internal, external], axis=1)\n",
    "                .reset_index()\n",
    "                .set_axis(['user_id',\n",
    "                           'month',\n",
    "                           'operators',\n",
    "                           'internal',\n",
    "                           'external'], axis=1)\n",
    "                .fillna({'internal':0,'external':0})\n",
    "                .astype({'operators':'int32',\n",
    "                         'internal':'int32',\n",
    "                         'external':'int32'},\n",
    "                        errors='ignore')\n",
    "                .merge(clients[['user_id','tariff_plan']],\n",
    "                       on=['user_id']))\n",
    "user_revenue.head()"
   ]
  },
  {
   "cell_type": "code",
   "execution_count": 49,
   "id": "24279b0b",
   "metadata": {},
   "outputs": [
    {
     "data": {
      "text/html": [
       "<div>\n",
       "<style scoped>\n",
       "    .dataframe tbody tr th:only-of-type {\n",
       "        vertical-align: middle;\n",
       "    }\n",
       "\n",
       "    .dataframe tbody tr th {\n",
       "        vertical-align: top;\n",
       "    }\n",
       "\n",
       "    .dataframe thead th {\n",
       "        text-align: right;\n",
       "    }\n",
       "</style>\n",
       "<table border=\"1\" class=\"dataframe\">\n",
       "  <thead>\n",
       "    <tr style=\"text-align: right;\">\n",
       "      <th></th>\n",
       "      <th>user_id</th>\n",
       "      <th>month</th>\n",
       "      <th>operators</th>\n",
       "      <th>internal</th>\n",
       "      <th>external</th>\n",
       "      <th>tariff_plan</th>\n",
       "    </tr>\n",
       "  </thead>\n",
       "  <tbody>\n",
       "    <tr>\n",
       "      <th>66</th>\n",
       "      <td>166582</td>\n",
       "      <td>2019-08</td>\n",
       "      <td>12</td>\n",
       "      <td>1</td>\n",
       "      <td>31410</td>\n",
       "      <td>A</td>\n",
       "    </tr>\n",
       "    <tr>\n",
       "      <th>67</th>\n",
       "      <td>166582</td>\n",
       "      <td>2019-09</td>\n",
       "      <td>20</td>\n",
       "      <td>0</td>\n",
       "      <td>84136</td>\n",
       "      <td>A</td>\n",
       "    </tr>\n",
       "    <tr>\n",
       "      <th>68</th>\n",
       "      <td>166582</td>\n",
       "      <td>2019-10</td>\n",
       "      <td>21</td>\n",
       "      <td>0</td>\n",
       "      <td>75993</td>\n",
       "      <td>A</td>\n",
       "    </tr>\n",
       "    <tr>\n",
       "      <th>69</th>\n",
       "      <td>166582</td>\n",
       "      <td>2019-11</td>\n",
       "      <td>1</td>\n",
       "      <td>0</td>\n",
       "      <td>1564</td>\n",
       "      <td>A</td>\n",
       "    </tr>\n",
       "  </tbody>\n",
       "</table>\n",
       "</div>"
      ],
      "text/plain": [
       "    user_id    month  operators  internal  external tariff_plan\n",
       "66   166582  2019-08         12         1     31410           A\n",
       "67   166582  2019-09         20         0     84136           A\n",
       "68   166582  2019-10         21         0     75993           A\n",
       "69   166582  2019-11          1         0      1564           A"
      ]
     },
     "execution_count": 49,
     "metadata": {},
     "output_type": "execute_result"
    }
   ],
   "source": [
    "user_revenue.loc[user_revenue['user_id'] == 166582, 'operators'] = new_operators['n_operators'].tolist()\n",
    "user_revenue['operators'] = user_revenue['operators'].astype('int32')\n",
    "user_revenue[user_revenue['user_id'] == 166582]"
   ]
  },
  {
   "cell_type": "markdown",
   "id": "d68f07b2",
   "metadata": {},
   "source": [
    "Удостоверимся что нигде не потеряли драгоценные минуты:"
   ]
  },
  {
   "cell_type": "code",
   "execution_count": 50,
   "id": "548de29c",
   "metadata": {},
   "outputs": [
    {
     "name": "stdout",
     "output_type": "stream",
     "text": [
      "753395\n",
      "753395\n"
     ]
    }
   ],
   "source": [
    "print(calls.query('direction == \"out\"')['total_call_duration'].sum())\n",
    "print(external['total_call_duration'].sum() + internal['total_call_duration'].sum())"
   ]
  },
  {
   "cell_type": "code",
   "execution_count": 51,
   "id": "0584b531",
   "metadata": {
    "scrolled": true
   },
   "outputs": [
    {
     "data": {
      "text/plain": [
       "457    1540\n",
       "226    1459\n",
       "622     755\n",
       "616     653\n",
       "341     486\n",
       "Name: internal, dtype: int32"
      ]
     },
     "execution_count": 51,
     "metadata": {},
     "output_type": "execute_result"
    }
   ],
   "source": [
    "user_revenue['internal'].sort_values(ascending=False).head()"
   ]
  },
  {
   "cell_type": "markdown",
   "id": "5e7458c9",
   "metadata": {},
   "source": [
    "Никто из пользователей в течение анализируемого периода не использовал больше 2000 внутренних вызовов, а значит для выделения активных пользователей этой метрикой можно пренебречь и сконцентрироваться на внешних вызовах. Тем более именно они приносят основную выручу.\n",
    "\n",
    "*Также можно предположить что количество операторов определяется нагрузкой на колл-центр, то есть первичной метрикой является именно количество минут. Поэтому для выделения активных пользователей будем использовать именно эту метрику.*\n",
    "\n",
    "Посмотрим на распрделение внешних минут среди пользователей разных тарифов:"
   ]
  },
  {
   "cell_type": "code",
   "execution_count": 52,
   "id": "922e282f",
   "metadata": {},
   "outputs": [
    {
     "name": "stdout",
     "output_type": "stream",
     "text": [
      "Тариф A\n",
      "Среднее количество исходящих минут: 5256.34\n",
      "Дисперсия: 257496722.20\n",
      "Cтандартное отклонение: 16046.70\n",
      "\n",
      "Тариф B\n",
      "Среднее количество исходящих минут: 596.14\n",
      "Дисперсия: 2146478.10\n",
      "Cтандартное отклонение: 1465.09\n",
      "\n",
      "Тариф C\n",
      "Среднее количество исходящих минут: 437.42\n",
      "Дисперсия: 1708044.90\n",
      "Cтандартное отклонение: 1306.92\n",
      "\n"
     ]
    }
   ],
   "source": [
    "for tariff in rates['tariff'].unique():\n",
    "    mean = 0\n",
    "    variance = 0\n",
    "    std = 0\n",
    "    mean = user_revenue.query('tariff_plan == @tariff')['external'].mean()\n",
    "    variance = np.var(user_revenue.query('tariff_plan == @tariff')['external'])\n",
    "    std = np.sqrt(variance)\n",
    "    print(f'Тариф {tariff}')\n",
    "    print(f'Среднее количество исходящих минут: {mean:.2f}')\n",
    "    print(f'Дисперсия: {variance:.2f}')\n",
    "    print(f'Cтандартное отклонение: {std:.2f}')\n",
    "    print()"
   ]
  },
  {
   "cell_type": "code",
   "execution_count": 53,
   "id": "8151e497",
   "metadata": {
    "scrolled": false
   },
   "outputs": [
    {
     "data": {
      "image/png": "[encoded data removed]",
      "text/plain": [
       "<Figure size 288x720 with 1 Axes>"
      ]
     },
     "metadata": {
      "needs_background": "light"
     },
     "output_type": "display_data"
    }
   ],
   "source": [
    "plt.figure(figsize = [4,10])\n",
    "ax = sns.boxplot(data = user_revenue, x = 'tariff_plan', y = 'external', order = rates['tariff'])\n",
    "ax.set(title='Активность клиентов по тарифам')\n",
    "ax.set_xlabel('тариф')\n",
    "ax.set_ylabel('исходящие минуты')\n",
    "plt.ylim(0,2000)\n",
    "plt.show()"
   ]
  },
  {
   "cell_type": "markdown",
   "id": "e29d8707",
   "metadata": {},
   "source": [
    "Рост активности довольно равномерный от тарифа к тарифу.\n",
    "\n",
    "Для выделения активных пользователей используем медиану исходящих минут по всем пользователям:"
   ]
  },
  {
   "cell_type": "code",
   "execution_count": 54,
   "id": "86446a99",
   "metadata": {},
   "outputs": [],
   "source": [
    "active_users = user_revenue[user_revenue['external'] > user_revenue['external'].median()]['user_id'].unique()"
   ]
  },
  {
   "cell_type": "code",
   "execution_count": 55,
   "id": "139a7410",
   "metadata": {},
   "outputs": [
    {
     "name": "stdout",
     "output_type": "stream",
     "text": [
      "Уникальных клиентов в датафрейме clients: 732\n",
      "Уникальных клиентов в датафрейме calls: 307\n",
      "Уникальных активных клиентов: 161\n"
     ]
    }
   ],
   "source": [
    "print('Уникальных клиентов в датафрейме clients:', clients['user_id'].nunique())\n",
    "print('Уникальных клиентов в датафрейме calls:', calls['user_id'].nunique())\n",
    "print('Уникальных активных клиентов:', len(active_users))"
   ]
  },
  {
   "cell_type": "code",
   "execution_count": 56,
   "id": "cc1181d6",
   "metadata": {},
   "outputs": [
    {
     "data": {
      "image/png": "[encoded data removed]",
      "text/plain": [
       "<Figure size 432x432 with 1 Axes>"
      ]
     },
     "metadata": {},
     "output_type": "display_data"
    }
   ],
   "source": [
    "fig,ax = plt.subplots(figsize=(6, 6))\n",
    "ax.pie(clients.query('user_id in @active_users')['tariff_plan'].value_counts(), \n",
    "       labels=clients.query('user_id in @active_users')['tariff_plan'].value_counts().index,\n",
    "       autopct='%.2f%%')\n",
    "ax.set_title('Соотношение тарифов среди активных пользователей')\n",
    "plt.show()"
   ]
  },
  {
   "cell_type": "markdown",
   "id": "cc3792ab",
   "metadata": {},
   "source": [
    "### Анализ выручки (за месяц и весь период) + средний чек"
   ]
  },
  {
   "cell_type": "code",
   "execution_count": 57,
   "id": "a63aa47a",
   "metadata": {
    "scrolled": true
   },
   "outputs": [
    {
     "data": {
      "text/html": [
       "<div>\n",
       "<style scoped>\n",
       "    .dataframe tbody tr th:only-of-type {\n",
       "        vertical-align: middle;\n",
       "    }\n",
       "\n",
       "    .dataframe tbody tr th {\n",
       "        vertical-align: top;\n",
       "    }\n",
       "\n",
       "    .dataframe thead th {\n",
       "        text-align: right;\n",
       "    }\n",
       "</style>\n",
       "<table border=\"1\" class=\"dataframe\">\n",
       "  <thead>\n",
       "    <tr style=\"text-align: right;\">\n",
       "      <th></th>\n",
       "      <th>tariff</th>\n",
       "      <th>monthly</th>\n",
       "      <th>internal_per_minute</th>\n",
       "      <th>internal_free_limit</th>\n",
       "      <th>external_per_minute</th>\n",
       "      <th>monthly_per_operator</th>\n",
       "    </tr>\n",
       "  </thead>\n",
       "  <tbody>\n",
       "    <tr>\n",
       "      <th>0</th>\n",
       "      <td>A</td>\n",
       "      <td>5000</td>\n",
       "      <td>0.10</td>\n",
       "      <td>2000</td>\n",
       "      <td>0.4</td>\n",
       "      <td>100</td>\n",
       "    </tr>\n",
       "    <tr>\n",
       "      <th>1</th>\n",
       "      <td>B</td>\n",
       "      <td>2000</td>\n",
       "      <td>0.15</td>\n",
       "      <td>2000</td>\n",
       "      <td>0.5</td>\n",
       "      <td>100</td>\n",
       "    </tr>\n",
       "    <tr>\n",
       "      <th>2</th>\n",
       "      <td>C</td>\n",
       "      <td>1000</td>\n",
       "      <td>0.30</td>\n",
       "      <td>2000</td>\n",
       "      <td>0.7</td>\n",
       "      <td>100</td>\n",
       "    </tr>\n",
       "  </tbody>\n",
       "</table>\n",
       "</div>"
      ],
      "text/plain": [
       "  tariff  monthly  internal_per_minute  internal_free_limit  \\\n",
       "0      A     5000                 0.10                 2000   \n",
       "1      B     2000                 0.15                 2000   \n",
       "2      C     1000                 0.30                 2000   \n",
       "\n",
       "   external_per_minute  monthly_per_operator  \n",
       "0                  0.4                   100  \n",
       "1                  0.5                   100  \n",
       "2                  0.7                   100  "
      ]
     },
     "execution_count": 57,
     "metadata": {},
     "output_type": "execute_result"
    }
   ],
   "source": [
    "rates"
   ]
  },
  {
   "cell_type": "code",
   "execution_count": 58,
   "id": "a06aaaad",
   "metadata": {},
   "outputs": [
    {
     "data": {
      "text/html": [
       "<div>\n",
       "<style scoped>\n",
       "    .dataframe tbody tr th:only-of-type {\n",
       "        vertical-align: middle;\n",
       "    }\n",
       "\n",
       "    .dataframe tbody tr th {\n",
       "        vertical-align: top;\n",
       "    }\n",
       "\n",
       "    .dataframe thead th {\n",
       "        text-align: right;\n",
       "    }\n",
       "</style>\n",
       "<table border=\"1\" class=\"dataframe\">\n",
       "  <thead>\n",
       "    <tr style=\"text-align: right;\">\n",
       "      <th></th>\n",
       "      <th>user_id</th>\n",
       "      <th>month</th>\n",
       "      <th>operators</th>\n",
       "      <th>internal</th>\n",
       "      <th>external</th>\n",
       "      <th>tariff_plan</th>\n",
       "    </tr>\n",
       "  </thead>\n",
       "  <tbody>\n",
       "    <tr>\n",
       "      <th>0</th>\n",
       "      <td>166377</td>\n",
       "      <td>2019-08</td>\n",
       "      <td>5</td>\n",
       "      <td>8</td>\n",
       "      <td>1337</td>\n",
       "      <td>B</td>\n",
       "    </tr>\n",
       "    <tr>\n",
       "      <th>1</th>\n",
       "      <td>166377</td>\n",
       "      <td>2019-09</td>\n",
       "      <td>4</td>\n",
       "      <td>5</td>\n",
       "      <td>1818</td>\n",
       "      <td>B</td>\n",
       "    </tr>\n",
       "    <tr>\n",
       "      <th>2</th>\n",
       "      <td>166377</td>\n",
       "      <td>2019-10</td>\n",
       "      <td>5</td>\n",
       "      <td>2</td>\n",
       "      <td>1704</td>\n",
       "      <td>B</td>\n",
       "    </tr>\n",
       "    <tr>\n",
       "      <th>3</th>\n",
       "      <td>166377</td>\n",
       "      <td>2019-11</td>\n",
       "      <td>4</td>\n",
       "      <td>4</td>\n",
       "      <td>1633</td>\n",
       "      <td>B</td>\n",
       "    </tr>\n",
       "    <tr>\n",
       "      <th>4</th>\n",
       "      <td>166391</td>\n",
       "      <td>2019-08</td>\n",
       "      <td>2</td>\n",
       "      <td>1</td>\n",
       "      <td>0</td>\n",
       "      <td>C</td>\n",
       "    </tr>\n",
       "  </tbody>\n",
       "</table>\n",
       "</div>"
      ],
      "text/plain": [
       "   user_id    month  operators  internal  external tariff_plan\n",
       "0   166377  2019-08          5         8      1337           B\n",
       "1   166377  2019-09          4         5      1818           B\n",
       "2   166377  2019-10          5         2      1704           B\n",
       "3   166377  2019-11          4         4      1633           B\n",
       "4   166391  2019-08          2         1         0           C"
      ]
     },
     "execution_count": 58,
     "metadata": {},
     "output_type": "execute_result"
    }
   ],
   "source": [
    "user_revenue.head()"
   ]
  },
  {
   "cell_type": "code",
   "execution_count": 59,
   "id": "2969870d",
   "metadata": {},
   "outputs": [],
   "source": [
    "def revenue_calc(row):\n",
    "    month_revenue = 0\n",
    "    \n",
    "    # Считаем разницу между потраченными минутами и объемом услуг, включенных в абонентскую плату:\n",
    "    delta_internal_calls = row['internal'] - int(rates[rates['tariff'] == row['tariff_plan']]['internal_free_limit']) \n",
    "    \n",
    "    if delta_internal_calls > 0:\n",
    "        month_revenue += row['internal'] * float(rates[rates['tariff'] == row['tariff_plan']]['internal_per_minute'])\n",
    "   \n",
    "    # прогоняем расчет основной выручки в зависимости от тарифа:\n",
    "    month_revenue += row['external'] * float(rates[rates['tariff'] == row['tariff_plan']]['external_per_minute'])\n",
    "    month_revenue += row['operators'] * int(rates[rates['tariff'] == row['tariff_plan']]['monthly_per_operator'])\n",
    "    month_revenue += int(rates[rates['tariff'] == row['tariff_plan']]['monthly'])\n",
    "    \n",
    "    row['revenue'] = month_revenue  \n",
    "    return row"
   ]
  },
  {
   "cell_type": "code",
   "execution_count": 60,
   "id": "cd5a35de",
   "metadata": {},
   "outputs": [
    {
     "data": {
      "text/html": [
       "<div>\n",
       "<style scoped>\n",
       "    .dataframe tbody tr th:only-of-type {\n",
       "        vertical-align: middle;\n",
       "    }\n",
       "\n",
       "    .dataframe tbody tr th {\n",
       "        vertical-align: top;\n",
       "    }\n",
       "\n",
       "    .dataframe thead th {\n",
       "        text-align: right;\n",
       "    }\n",
       "</style>\n",
       "<table border=\"1\" class=\"dataframe\">\n",
       "  <thead>\n",
       "    <tr style=\"text-align: right;\">\n",
       "      <th></th>\n",
       "      <th>user_id</th>\n",
       "      <th>month</th>\n",
       "      <th>operators</th>\n",
       "      <th>internal</th>\n",
       "      <th>external</th>\n",
       "      <th>tariff_plan</th>\n",
       "      <th>revenue</th>\n",
       "    </tr>\n",
       "  </thead>\n",
       "  <tbody>\n",
       "    <tr>\n",
       "      <th>0</th>\n",
       "      <td>166377</td>\n",
       "      <td>2019-08</td>\n",
       "      <td>5</td>\n",
       "      <td>8</td>\n",
       "      <td>1337</td>\n",
       "      <td>B</td>\n",
       "      <td>3168.5</td>\n",
       "    </tr>\n",
       "    <tr>\n",
       "      <th>1</th>\n",
       "      <td>166377</td>\n",
       "      <td>2019-09</td>\n",
       "      <td>4</td>\n",
       "      <td>5</td>\n",
       "      <td>1818</td>\n",
       "      <td>B</td>\n",
       "      <td>3309.0</td>\n",
       "    </tr>\n",
       "  </tbody>\n",
       "</table>\n",
       "</div>"
      ],
      "text/plain": [
       "   user_id    month  operators  internal  external tariff_plan  revenue\n",
       "0   166377  2019-08          5         8      1337           B   3168.5\n",
       "1   166377  2019-09          4         5      1818           B   3309.0"
      ]
     },
     "metadata": {},
     "output_type": "display_data"
    },
    {
     "data": {
      "text/plain": [
       "tariff_plan\n",
       "A    644208.0\n",
       "B    653416.0\n",
       "C    554760.6\n",
       "Name: revenue, dtype: float64"
      ]
     },
     "execution_count": 60,
     "metadata": {},
     "output_type": "execute_result"
    }
   ],
   "source": [
    "user_revenue = user_revenue.apply(revenue_calc, axis=1)\n",
    "display(user_revenue.head(2))\n",
    "user_revenue.groupby('tariff_plan')['revenue'].sum()"
   ]
  },
  {
   "cell_type": "markdown",
   "id": "c5311c13",
   "metadata": {},
   "source": [
    "Построим несколько графиков для визуализации динамики выручки по тарифам:"
   ]
  },
  {
   "cell_type": "code",
   "execution_count": 61,
   "id": "d3ce1599",
   "metadata": {},
   "outputs": [
    {
     "data": {
      "image/png": "[encoded data removed]",
      "text/plain": [
       "<Figure size 432x288 with 1 Axes>"
      ]
     },
     "metadata": {
      "needs_background": "light"
     },
     "output_type": "display_data"
    }
   ],
   "source": [
    "ax = (user_revenue\n",
    " .pivot_table(index='month',\n",
    "              values='revenue',\n",
    "              columns='tariff_plan',\n",
    "              aggfunc='sum')\n",
    " .reset_index()\n",
    " .plot(x='month', y=['A', 'B', 'C'], kind=\"bar\")\n",
    ")\n",
    "ax.set(title='Ежемесячная выручка по тарифам')\n",
    "ax.set_xlabel('месяц')\n",
    "ax.set_ylabel('выручка')\n",
    "plt.xticks(rotation = 0)\n",
    "plt.legend(title='Тариф', fontsize='small')\n",
    "plt.show()"
   ]
  },
  {
   "cell_type": "code",
   "execution_count": 62,
   "id": "8055b3c4",
   "metadata": {},
   "outputs": [
    {
     "data": {
      "image/png": "[encoded data removed]",
      "text/plain": [
       "<Figure size 432x288 with 1 Axes>"
      ]
     },
     "metadata": {
      "needs_background": "light"
     },
     "output_type": "display_data"
    }
   ],
   "source": [
    "ax = (user_revenue\n",
    "      .pivot_table(index='month',\n",
    "                   columns='tariff_plan',\n",
    "                   values='revenue',\n",
    "                   aggfunc='mean')\n",
    "      .reset_index()\n",
    "      .plot(x='month', y=['A', 'B', 'C'], kind=\"bar\"))\n",
    "ax.set(title='Ежемесячный средний чек')\n",
    "ax.set_xlabel('месяц')\n",
    "ax.set_ylabel('сумма чека')\n",
    "plt.xticks(rotation = 0)\n",
    "plt.legend(title='Тариф', fontsize='small')\n",
    "plt.show()"
   ]
  },
  {
   "cell_type": "code",
   "execution_count": 63,
   "id": "4459adc7",
   "metadata": {},
   "outputs": [
    {
     "data": {
      "image/png": "[encoded data removed]",
      "text/plain": [
       "<Figure size 432x648 with 1 Axes>"
      ]
     },
     "metadata": {
      "needs_background": "light"
     },
     "output_type": "display_data"
    }
   ],
   "source": [
    "plt.figure(figsize = [6,9])\n",
    "ax = sns.boxplot(data = user_revenue, x = 'tariff_plan', y = 'revenue', order = rates['tariff'])\n",
    "ax.set(title='Выручка клиентов по тарифам')\n",
    "ax.set_xlabel('тариф')\n",
    "ax.set_ylabel('выручка')\n",
    "plt.ylim(0,10000)\n",
    "plt.show()"
   ]
  },
  {
   "cell_type": "code",
   "execution_count": 64,
   "id": "f0e8d575",
   "metadata": {},
   "outputs": [
    {
     "data": {
      "image/png": "[encoded data removed]",
      "text/plain": [
       "<Figure size 1008x432 with 1 Axes>"
      ]
     },
     "metadata": {
      "needs_background": "light"
     },
     "output_type": "display_data"
    }
   ],
   "source": [
    "plt.figure(figsize=(14,6))\n",
    "for tariff, val in user_revenue.groupby(by='tariff_plan'):\n",
    "    ax = plt.hist(val['revenue'], histtype='step', label=tariff, linewidth=1, bins=100, range=(0,10000))\n",
    "plt.legend()\n",
    "plt.title('Распределение месячной выручки среди клиентов по тарифам')\n",
    "plt.xlabel('выручка за месяц')\n",
    "plt.ylabel('частота')\n",
    "plt.show()"
   ]
  },
  {
   "cell_type": "code",
   "execution_count": 65,
   "id": "d977964a",
   "metadata": {},
   "outputs": [
    {
     "data": {
      "image/png": "[encoded data removed]",
      "text/plain": [
       "<Figure size 1008x432 with 1 Axes>"
      ]
     },
     "metadata": {
      "needs_background": "light"
     },
     "output_type": "display_data"
    }
   ],
   "source": [
    "plt.figure(figsize=(14,6))\n",
    "for tariff, val in user_revenue.groupby(by='tariff_plan'):\n",
    "    plt.hist(val['external'], histtype='step', label=tariff, linewidth=1, bins=100, range=(0,5000))\n",
    "plt.legend()\n",
    "plt.title('Распределение исходящих минут среди клиентов по тарифам')\n",
    "plt.xlabel('исходящие минуты за месяц')\n",
    "plt.ylabel('частота')\n",
    "plt.show()"
   ]
  },
  {
   "cell_type": "code",
   "execution_count": 66,
   "id": "4c622366",
   "metadata": {},
   "outputs": [
    {
     "name": "stdout",
     "output_type": "stream",
     "text": [
      "Тариф A\n",
      "Средний месячный чек: 7856.20\n",
      "Дисперсия: 49894026.53\n",
      "Cтандартное отклонение: 7063.57\n",
      "\n",
      "Тариф B\n",
      "Средний месячный чек: 2603.25\n",
      "Дисперсия: 897995.94\n",
      "Cтандартное отклонение: 947.63\n",
      "\n",
      "Тариф C\n",
      "Средний месячный чек: 1519.89\n",
      "Дисперсия: 1018948.23\n",
      "Cтандартное отклонение: 1009.43\n",
      "\n"
     ]
    }
   ],
   "source": [
    "for tariff in rates['tariff'].unique():\n",
    "    mean = 0\n",
    "    variance = 0\n",
    "    std = 0\n",
    "    mean = user_revenue[user_revenue['tariff_plan'] == tariff]['revenue'].mean()\n",
    "    variance = np.var(user_revenue[user_revenue['tariff_plan'] == tariff]['revenue'])\n",
    "    std = np.sqrt(variance)\n",
    "    print(f'Тариф {tariff}')\n",
    "    print(f'Средний месячный чек: {mean:.2f}')\n",
    "    print(f'Дисперсия: {variance:.2f}')\n",
    "    print(f'Cтандартное отклонение: {std:.2f}')\n",
    "    print()"
   ]
  },
  {
   "cell_type": "markdown",
   "id": "f8d076f6",
   "metadata": {},
   "source": [
    "По резульататам исследовательского анализа данных можно сделать выводы:\n",
    "- В среднем пользователи более дорогих тарифов больше ползуются услугами (больше исходящих внешних вызовов);\n",
    "- Выделены активные клиенты (с длительностью исходящих вызовов больше медианной), всего 161 клиент;\n",
    "- Средняя выручка по месяцам довольно равномерно распрделеная среди тарифов. Меньшее количество более дорогих тарифов тратят больше, а пользователи тарифа С берут количеством;\n",
    "- Средний чек по тарифу А значительно превышает остальные тарифы."
   ]
  },
  {
   "cell_type": "markdown",
   "id": "76150088",
   "metadata": {},
   "source": [
    "## Оптимизация расходов клиентов<a class=\"anchor\" id=\"clients\"></a>"
   ]
  },
  {
   "cell_type": "markdown",
   "id": "b7ca6d37",
   "metadata": {},
   "source": [
    "### Анализ расходов клиентов неэффективно использующих услуги и подбор оптимального тарифного плана для снижения расходов"
   ]
  },
  {
   "cell_type": "code",
   "execution_count": 67,
   "id": "7ebf1ea6",
   "metadata": {},
   "outputs": [
    {
     "data": {
      "text/html": [
       "<div>\n",
       "<style scoped>\n",
       "    .dataframe tbody tr th:only-of-type {\n",
       "        vertical-align: middle;\n",
       "    }\n",
       "\n",
       "    .dataframe tbody tr th {\n",
       "        vertical-align: top;\n",
       "    }\n",
       "\n",
       "    .dataframe thead th {\n",
       "        text-align: right;\n",
       "    }\n",
       "</style>\n",
       "<table border=\"1\" class=\"dataframe\">\n",
       "  <thead>\n",
       "    <tr style=\"text-align: right;\">\n",
       "      <th></th>\n",
       "      <th>user_id</th>\n",
       "      <th>month</th>\n",
       "      <th>operators</th>\n",
       "      <th>internal</th>\n",
       "      <th>external</th>\n",
       "      <th>tariff_plan</th>\n",
       "      <th>revenue</th>\n",
       "      <th>revenue_A</th>\n",
       "      <th>revenue_B</th>\n",
       "      <th>revenue_C</th>\n",
       "    </tr>\n",
       "  </thead>\n",
       "  <tbody>\n",
       "    <tr>\n",
       "      <th>0</th>\n",
       "      <td>166377</td>\n",
       "      <td>2019-08</td>\n",
       "      <td>5</td>\n",
       "      <td>8</td>\n",
       "      <td>1337</td>\n",
       "      <td>B</td>\n",
       "      <td>3168.5</td>\n",
       "      <td>6034.8</td>\n",
       "      <td>3168.5</td>\n",
       "      <td>2435.9</td>\n",
       "    </tr>\n",
       "    <tr>\n",
       "      <th>1</th>\n",
       "      <td>166377</td>\n",
       "      <td>2019-09</td>\n",
       "      <td>4</td>\n",
       "      <td>5</td>\n",
       "      <td>1818</td>\n",
       "      <td>B</td>\n",
       "      <td>3309.0</td>\n",
       "      <td>6127.2</td>\n",
       "      <td>3309.0</td>\n",
       "      <td>2672.6</td>\n",
       "    </tr>\n",
       "  </tbody>\n",
       "</table>\n",
       "</div>"
      ],
      "text/plain": [
       "   user_id    month  operators  internal  external tariff_plan  revenue  \\\n",
       "0   166377  2019-08          5         8      1337           B   3168.5   \n",
       "1   166377  2019-09          4         5      1818           B   3309.0   \n",
       "\n",
       "   revenue_A  revenue_B  revenue_C  \n",
       "0     6034.8     3168.5     2435.9  \n",
       "1     6127.2     3309.0     2672.6  "
      ]
     },
     "metadata": {},
     "output_type": "display_data"
    }
   ],
   "source": [
    "def optimal_revenue_calc(row):\n",
    "    \n",
    "    # считаем выручку по каждому тарифу, который у нас есть в базе:\n",
    "    revenue_var = {}\n",
    "    for i in list(rates['tariff'].unique()):\n",
    "        tariff_name = str(i)\n",
    "        \n",
    "        revenue = 0\n",
    "        \n",
    "        # считаем разницу между потраченными минутами и объемом услуг, включенных в абонентскую плату:\n",
    "        delta_internal_calls = row['internal'] - int(rates[rates['tariff'] == tariff_name]['internal_free_limit'])     \n",
    "        if delta_internal_calls > 0:\n",
    "            revenue += row['internal'] * float(rates[rates['tariff'] == tariff_name]['internal_per_minute'])\n",
    "        revenue += row['operators'] * int(rates[rates['tariff'] == tariff_name]['monthly_per_operator'])\n",
    "        revenue += row['external'] * float(rates[rates['tariff'] == tariff_name]['external_per_minute'])\n",
    "        revenue += int(rates[rates['tariff'] == tariff_name]['monthly'])\n",
    "        # записываем выручку по каждому тарифу в отдельный столбец\n",
    "        row['revenue_' + str(i)] = revenue\n",
    "    \n",
    "    return row\n",
    "\n",
    "user_revenue = user_revenue.apply(optimal_revenue_calc, axis=1)\n",
    "display(user_revenue.head(2))"
   ]
  },
  {
   "cell_type": "code",
   "execution_count": 68,
   "id": "b50f2d43",
   "metadata": {},
   "outputs": [],
   "source": [
    "# считаем оптимальную выручку для каждого месяца\n",
    "\n",
    "for i in range(len(user_revenue)):\n",
    "    if (user_revenue.loc[i, 'revenue_C'] <= user_revenue.loc[i, 'revenue_B']) & (user_revenue.loc[i, 'revenue_C'] <= user_revenue.loc[i, 'revenue_A']):\n",
    "        user_revenue.loc[i, 'optimal'] = 'C'\n",
    "        user_revenue.loc[i, 'optimal_revenue'] = user_revenue.loc[i, 'revenue_C']\n",
    "    elif (user_revenue.loc[i, 'revenue_B'] <= user_revenue.loc[i, 'revenue_C']) & (user_revenue.loc[i, 'revenue_B'] <= user_revenue.loc[i, 'revenue_A']):\n",
    "        user_revenue.loc[i, 'optimal'] = 'B'\n",
    "        user_revenue.loc[i, 'optimal_revenue'] = user_revenue.loc[i, 'revenue_B']\n",
    "    else:\n",
    "        user_revenue.loc[i, 'optimal'] = 'A'\n",
    "        user_revenue.loc[i, 'optimal_revenue'] = user_revenue.loc[i, 'revenue_A']"
   ]
  },
  {
   "cell_type": "markdown",
   "id": "74288b02",
   "metadata": {},
   "source": [
    "Построим таблицу с суммарной выручкой пользователей за весь период:"
   ]
  },
  {
   "cell_type": "code",
   "execution_count": 69,
   "id": "93bd4bf7",
   "metadata": {},
   "outputs": [
    {
     "data": {
      "text/html": [
       "<div>\n",
       "<style scoped>\n",
       "    .dataframe tbody tr th:only-of-type {\n",
       "        vertical-align: middle;\n",
       "    }\n",
       "\n",
       "    .dataframe tbody tr th {\n",
       "        vertical-align: top;\n",
       "    }\n",
       "\n",
       "    .dataframe thead th {\n",
       "        text-align: right;\n",
       "    }\n",
       "</style>\n",
       "<table border=\"1\" class=\"dataframe\">\n",
       "  <thead>\n",
       "    <tr style=\"text-align: right;\">\n",
       "      <th></th>\n",
       "      <th>user_id</th>\n",
       "      <th>tariff_plan</th>\n",
       "      <th>external</th>\n",
       "      <th>month</th>\n",
       "      <th>revenue</th>\n",
       "      <th>revenue_A</th>\n",
       "      <th>revenue_B</th>\n",
       "      <th>revenue_C</th>\n",
       "    </tr>\n",
       "  </thead>\n",
       "  <tbody>\n",
       "    <tr>\n",
       "      <th>21</th>\n",
       "      <td>166582</td>\n",
       "      <td>A</td>\n",
       "      <td>193103</td>\n",
       "      <td>4</td>\n",
       "      <td>102641.2</td>\n",
       "      <td>102641.2</td>\n",
       "      <td>109951.5</td>\n",
       "      <td>144572.1</td>\n",
       "    </tr>\n",
       "    <tr>\n",
       "      <th>270</th>\n",
       "      <td>168361</td>\n",
       "      <td>A</td>\n",
       "      <td>94030</td>\n",
       "      <td>2</td>\n",
       "      <td>52412.0</td>\n",
       "      <td>52412.0</td>\n",
       "      <td>55815.0</td>\n",
       "      <td>72621.0</td>\n",
       "    </tr>\n",
       "    <tr>\n",
       "      <th>170</th>\n",
       "      <td>167626</td>\n",
       "      <td>A</td>\n",
       "      <td>73395</td>\n",
       "      <td>2</td>\n",
       "      <td>48558.0</td>\n",
       "      <td>48558.0</td>\n",
       "      <td>49897.5</td>\n",
       "      <td>62576.5</td>\n",
       "    </tr>\n",
       "    <tr>\n",
       "      <th>28</th>\n",
       "      <td>166658</td>\n",
       "      <td>B</td>\n",
       "      <td>36649</td>\n",
       "      <td>4</td>\n",
       "      <td>32424.5</td>\n",
       "      <td>40759.6</td>\n",
       "      <td>32424.5</td>\n",
       "      <td>35754.3</td>\n",
       "    </tr>\n",
       "    <tr>\n",
       "      <th>252</th>\n",
       "      <td>168187</td>\n",
       "      <td>A</td>\n",
       "      <td>14683</td>\n",
       "      <td>2</td>\n",
       "      <td>24173.2</td>\n",
       "      <td>24173.2</td>\n",
       "      <td>19641.5</td>\n",
       "      <td>20578.1</td>\n",
       "    </tr>\n",
       "  </tbody>\n",
       "</table>\n",
       "</div>"
      ],
      "text/plain": [
       "     user_id tariff_plan  external  month   revenue  revenue_A  revenue_B  \\\n",
       "21    166582           A    193103      4  102641.2   102641.2   109951.5   \n",
       "270   168361           A     94030      2   52412.0    52412.0    55815.0   \n",
       "170   167626           A     73395      2   48558.0    48558.0    49897.5   \n",
       "28    166658           B     36649      4   32424.5    40759.6    32424.5   \n",
       "252   168187           A     14683      2   24173.2    24173.2    19641.5   \n",
       "\n",
       "     revenue_C  \n",
       "21    144572.1  \n",
       "270    72621.0  \n",
       "170    62576.5  \n",
       "28     35754.3  \n",
       "252    20578.1  "
      ]
     },
     "execution_count": 69,
     "metadata": {},
     "output_type": "execute_result"
    }
   ],
   "source": [
    "comparison = (user_revenue\n",
    " .pivot_table(index=['user_id', 'tariff_plan'],\n",
    "                         values=['external',\n",
    "                                 'revenue',\n",
    "                                 'revenue_A',\n",
    "                                 'revenue_B',\n",
    "                                 'revenue_C',\n",
    "                                 'month'],\n",
    "                         aggfunc={'external': 'sum',\n",
    "                                  'revenue': 'sum',\n",
    "                                  'revenue_A': 'sum',\n",
    "                                  'revenue_B': 'sum',\n",
    "                                  'revenue_C': 'sum',\n",
    "                                  'month': pd.Series.nunique})\n",
    " .reset_index()\n",
    ")\n",
    "\n",
    "comparison.sort_values(by='revenue', ascending=False).head()"
   ]
  },
  {
   "cell_type": "markdown",
   "id": "0751db28",
   "metadata": {},
   "source": [
    "Сравним фактическую выручку с выручкой по каждому из тарифов и в качестве оптимального тарифа запишем тариф с минимальными расходами: "
   ]
  },
  {
   "cell_type": "code",
   "execution_count": 70,
   "id": "e01d3b65",
   "metadata": {},
   "outputs": [],
   "source": [
    "for i in range(len(comparison)):\n",
    "    if (comparison.loc[i, 'revenue_C'] <= comparison.loc[i, 'revenue_B']) & (comparison.loc[i, 'revenue_C'] <= comparison.loc[i, 'revenue_A']):\n",
    "        comparison.loc[i, 'optimal'] = 'C'\n",
    "        comparison.loc[i, 'optimal_revenue'] = comparison.loc[i, 'revenue_C']\n",
    "    elif (comparison.loc[i, 'revenue_B'] <= comparison.loc[i, 'revenue_C']) & (comparison.loc[i, 'revenue_B'] <= comparison.loc[i, 'revenue_A']):\n",
    "        comparison.loc[i, 'optimal'] = 'B'\n",
    "        comparison.loc[i, 'optimal_revenue'] = comparison.loc[i, 'revenue_B']\n",
    "    else:\n",
    "        comparison.loc[i, 'optimal'] = 'A'\n",
    "        comparison.loc[i, 'optimal_revenue'] = comparison.loc[i, 'revenue_A']"
   ]
  },
  {
   "cell_type": "code",
   "execution_count": 71,
   "id": "29512327",
   "metadata": {},
   "outputs": [
    {
     "data": {
      "text/html": [
       "<div>\n",
       "<style scoped>\n",
       "    .dataframe tbody tr th:only-of-type {\n",
       "        vertical-align: middle;\n",
       "    }\n",
       "\n",
       "    .dataframe tbody tr th {\n",
       "        vertical-align: top;\n",
       "    }\n",
       "\n",
       "    .dataframe thead th {\n",
       "        text-align: right;\n",
       "    }\n",
       "</style>\n",
       "<table border=\"1\" class=\"dataframe\">\n",
       "  <thead>\n",
       "    <tr style=\"text-align: right;\">\n",
       "      <th></th>\n",
       "      <th>user_id</th>\n",
       "      <th>tariff_plan</th>\n",
       "      <th>external</th>\n",
       "      <th>month</th>\n",
       "      <th>revenue</th>\n",
       "      <th>revenue_A</th>\n",
       "      <th>revenue_B</th>\n",
       "      <th>revenue_C</th>\n",
       "      <th>optimal</th>\n",
       "      <th>optimal_revenue</th>\n",
       "    </tr>\n",
       "  </thead>\n",
       "  <tbody>\n",
       "    <tr>\n",
       "      <th>0</th>\n",
       "      <td>166377</td>\n",
       "      <td>B</td>\n",
       "      <td>6492</td>\n",
       "      <td>4</td>\n",
       "      <td>13046.0</td>\n",
       "      <td>24396.8</td>\n",
       "      <td>13046.0</td>\n",
       "      <td>10344.4</td>\n",
       "      <td>C</td>\n",
       "      <td>10344.4</td>\n",
       "    </tr>\n",
       "    <tr>\n",
       "      <th>4</th>\n",
       "      <td>166405</td>\n",
       "      <td>B</td>\n",
       "      <td>16228</td>\n",
       "      <td>4</td>\n",
       "      <td>18514.0</td>\n",
       "      <td>28891.2</td>\n",
       "      <td>18514.0</td>\n",
       "      <td>17759.6</td>\n",
       "      <td>C</td>\n",
       "      <td>17759.6</td>\n",
       "    </tr>\n",
       "    <tr>\n",
       "      <th>5</th>\n",
       "      <td>166406</td>\n",
       "      <td>B</td>\n",
       "      <td>7229</td>\n",
       "      <td>4</td>\n",
       "      <td>12514.5</td>\n",
       "      <td>23791.6</td>\n",
       "      <td>12514.5</td>\n",
       "      <td>9960.3</td>\n",
       "      <td>C</td>\n",
       "      <td>9960.3</td>\n",
       "    </tr>\n",
       "    <tr>\n",
       "      <th>6</th>\n",
       "      <td>166407</td>\n",
       "      <td>A</td>\n",
       "      <td>424</td>\n",
       "      <td>4</td>\n",
       "      <td>22569.6</td>\n",
       "      <td>22569.6</td>\n",
       "      <td>10612.0</td>\n",
       "      <td>6696.8</td>\n",
       "      <td>C</td>\n",
       "      <td>6696.8</td>\n",
       "    </tr>\n",
       "    <tr>\n",
       "      <th>7</th>\n",
       "      <td>166428</td>\n",
       "      <td>B</td>\n",
       "      <td>0</td>\n",
       "      <td>4</td>\n",
       "      <td>8600.0</td>\n",
       "      <td>20600.0</td>\n",
       "      <td>8600.0</td>\n",
       "      <td>4600.0</td>\n",
       "      <td>C</td>\n",
       "      <td>4600.0</td>\n",
       "    </tr>\n",
       "  </tbody>\n",
       "</table>\n",
       "</div>"
      ],
      "text/plain": [
       "   user_id tariff_plan  external  month  revenue  revenue_A  revenue_B  \\\n",
       "0   166377           B      6492      4  13046.0    24396.8    13046.0   \n",
       "4   166405           B     16228      4  18514.0    28891.2    18514.0   \n",
       "5   166406           B      7229      4  12514.5    23791.6    12514.5   \n",
       "6   166407           A       424      4  22569.6    22569.6    10612.0   \n",
       "7   166428           B         0      4   8600.0    20600.0     8600.0   \n",
       "\n",
       "   revenue_C optimal  optimal_revenue  \n",
       "0    10344.4       C          10344.4  \n",
       "4    17759.6       C          17759.6  \n",
       "5     9960.3       C           9960.3  \n",
       "6     6696.8       C           6696.8  \n",
       "7     4600.0       C           4600.0  "
      ]
     },
     "execution_count": 71,
     "metadata": {},
     "output_type": "execute_result"
    }
   ],
   "source": [
    "comparison.query('optimal != tariff_plan').head()"
   ]
  },
  {
   "cell_type": "code",
   "execution_count": 72,
   "id": "d1fe72f9",
   "metadata": {},
   "outputs": [
    {
     "data": {
      "text/plain": [
       "C    157\n",
       "B    101\n",
       "A     32\n",
       "Name: tariff_plan, dtype: int64"
      ]
     },
     "execution_count": 72,
     "metadata": {},
     "output_type": "execute_result"
    }
   ],
   "source": [
    "comparison['tariff_plan'].value_counts()"
   ]
  },
  {
   "cell_type": "code",
   "execution_count": 73,
   "id": "2b3a3889",
   "metadata": {},
   "outputs": [
    {
     "data": {
      "text/plain": [
       "C    281\n",
       "B      6\n",
       "A      3\n",
       "Name: optimal, dtype: int64"
      ]
     },
     "execution_count": 73,
     "metadata": {},
     "output_type": "execute_result"
    }
   ],
   "source": [
    "comparison['optimal'].value_counts()"
   ]
  },
  {
   "cell_type": "code",
   "execution_count": 74,
   "id": "b6b8e223",
   "metadata": {},
   "outputs": [
    {
     "data": {
      "text/html": [
       "<div>\n",
       "<style scoped>\n",
       "    .dataframe tbody tr th:only-of-type {\n",
       "        vertical-align: middle;\n",
       "    }\n",
       "\n",
       "    .dataframe tbody tr th {\n",
       "        vertical-align: top;\n",
       "    }\n",
       "\n",
       "    .dataframe thead th {\n",
       "        text-align: right;\n",
       "    }\n",
       "</style>\n",
       "<table border=\"1\" class=\"dataframe\">\n",
       "  <thead>\n",
       "    <tr style=\"text-align: right;\">\n",
       "      <th>optimal</th>\n",
       "      <th>A</th>\n",
       "      <th>B</th>\n",
       "      <th>C</th>\n",
       "      <th>All</th>\n",
       "    </tr>\n",
       "    <tr>\n",
       "      <th>tariff_plan</th>\n",
       "      <th></th>\n",
       "      <th></th>\n",
       "      <th></th>\n",
       "      <th></th>\n",
       "    </tr>\n",
       "  </thead>\n",
       "  <tbody>\n",
       "    <tr>\n",
       "      <th>A</th>\n",
       "      <td>3</td>\n",
       "      <td>3</td>\n",
       "      <td>26</td>\n",
       "      <td>32</td>\n",
       "    </tr>\n",
       "    <tr>\n",
       "      <th>B</th>\n",
       "      <td>0</td>\n",
       "      <td>1</td>\n",
       "      <td>100</td>\n",
       "      <td>101</td>\n",
       "    </tr>\n",
       "    <tr>\n",
       "      <th>C</th>\n",
       "      <td>0</td>\n",
       "      <td>2</td>\n",
       "      <td>155</td>\n",
       "      <td>157</td>\n",
       "    </tr>\n",
       "    <tr>\n",
       "      <th>All</th>\n",
       "      <td>3</td>\n",
       "      <td>6</td>\n",
       "      <td>281</td>\n",
       "      <td>290</td>\n",
       "    </tr>\n",
       "  </tbody>\n",
       "</table>\n",
       "</div>"
      ],
      "text/plain": [
       "optimal      A  B    C  All\n",
       "tariff_plan                \n",
       "A            3  3   26   32\n",
       "B            0  1  100  101\n",
       "C            0  2  155  157\n",
       "All          3  6  281  290"
      ]
     },
     "execution_count": 74,
     "metadata": {},
     "output_type": "execute_result"
    }
   ],
   "source": [
    "(comparison\n",
    " .pivot_table(index='tariff_plan',\n",
    "              columns='optimal',\n",
    "              values='user_id',\n",
    "              aggfunc='count',\n",
    "              margins=True)\n",
    " .fillna(0)\n",
    " .astype('int32')\n",
    ")"
   ]
  },
  {
   "cell_type": "markdown",
   "id": "c85ecb99",
   "metadata": {},
   "source": [
    "При текущей тарифной сетке очень мало кому выгодны тарифы А и В, только для 3 и 6 клиентов, соответственно.  \n",
    "Подавляющему большинству выгоднее перейти на тариф С, данный тариф выгоден для 281 клиента из 290."
   ]
  },
  {
   "cell_type": "markdown",
   "id": "e683c272",
   "metadata": {},
   "source": [
    "### Расчет снижения выручки вследствие перехода активных клиентов на выгодные тарифы и предложения по снижению потерь"
   ]
  },
  {
   "cell_type": "code",
   "execution_count": 75,
   "id": "fb67d6c7",
   "metadata": {},
   "outputs": [
    {
     "data": {
      "text/html": [
       "<div>\n",
       "<style scoped>\n",
       "    .dataframe tbody tr th:only-of-type {\n",
       "        vertical-align: middle;\n",
       "    }\n",
       "\n",
       "    .dataframe tbody tr th {\n",
       "        vertical-align: top;\n",
       "    }\n",
       "\n",
       "    .dataframe thead th {\n",
       "        text-align: right;\n",
       "    }\n",
       "</style>\n",
       "<table border=\"1\" class=\"dataframe\">\n",
       "  <thead>\n",
       "    <tr style=\"text-align: right;\">\n",
       "      <th></th>\n",
       "      <th>user_id</th>\n",
       "      <th>tariff_plan</th>\n",
       "      <th>external</th>\n",
       "      <th>month</th>\n",
       "      <th>revenue</th>\n",
       "      <th>revenue_A</th>\n",
       "      <th>revenue_B</th>\n",
       "      <th>revenue_C</th>\n",
       "      <th>optimal</th>\n",
       "      <th>optimal_revenue</th>\n",
       "    </tr>\n",
       "  </thead>\n",
       "  <tbody>\n",
       "    <tr>\n",
       "      <th>0</th>\n",
       "      <td>166377</td>\n",
       "      <td>B</td>\n",
       "      <td>6492</td>\n",
       "      <td>4</td>\n",
       "      <td>13046.0</td>\n",
       "      <td>24396.8</td>\n",
       "      <td>13046.0</td>\n",
       "      <td>10344.4</td>\n",
       "      <td>C</td>\n",
       "      <td>10344.4</td>\n",
       "    </tr>\n",
       "    <tr>\n",
       "      <th>4</th>\n",
       "      <td>166405</td>\n",
       "      <td>B</td>\n",
       "      <td>16228</td>\n",
       "      <td>4</td>\n",
       "      <td>18514.0</td>\n",
       "      <td>28891.2</td>\n",
       "      <td>18514.0</td>\n",
       "      <td>17759.6</td>\n",
       "      <td>C</td>\n",
       "      <td>17759.6</td>\n",
       "    </tr>\n",
       "    <tr>\n",
       "      <th>5</th>\n",
       "      <td>166406</td>\n",
       "      <td>B</td>\n",
       "      <td>7229</td>\n",
       "      <td>4</td>\n",
       "      <td>12514.5</td>\n",
       "      <td>23791.6</td>\n",
       "      <td>12514.5</td>\n",
       "      <td>9960.3</td>\n",
       "      <td>C</td>\n",
       "      <td>9960.3</td>\n",
       "    </tr>\n",
       "    <tr>\n",
       "      <th>6</th>\n",
       "      <td>166407</td>\n",
       "      <td>A</td>\n",
       "      <td>424</td>\n",
       "      <td>4</td>\n",
       "      <td>22569.6</td>\n",
       "      <td>22569.6</td>\n",
       "      <td>10612.0</td>\n",
       "      <td>6696.8</td>\n",
       "      <td>C</td>\n",
       "      <td>6696.8</td>\n",
       "    </tr>\n",
       "    <tr>\n",
       "      <th>10</th>\n",
       "      <td>166485</td>\n",
       "      <td>B</td>\n",
       "      <td>7529</td>\n",
       "      <td>4</td>\n",
       "      <td>13464.5</td>\n",
       "      <td>24711.6</td>\n",
       "      <td>13464.5</td>\n",
       "      <td>10970.3</td>\n",
       "      <td>C</td>\n",
       "      <td>10970.3</td>\n",
       "    </tr>\n",
       "  </tbody>\n",
       "</table>\n",
       "</div>"
      ],
      "text/plain": [
       "    user_id tariff_plan  external  month  revenue  revenue_A  revenue_B  \\\n",
       "0    166377           B      6492      4  13046.0    24396.8    13046.0   \n",
       "4    166405           B     16228      4  18514.0    28891.2    18514.0   \n",
       "5    166406           B      7229      4  12514.5    23791.6    12514.5   \n",
       "6    166407           A       424      4  22569.6    22569.6    10612.0   \n",
       "10   166485           B      7529      4  13464.5    24711.6    13464.5   \n",
       "\n",
       "    revenue_C optimal  optimal_revenue  \n",
       "0     10344.4       C          10344.4  \n",
       "4     17759.6       C          17759.6  \n",
       "5      9960.3       C           9960.3  \n",
       "6      6696.8       C           6696.8  \n",
       "10    10970.3       C          10970.3  "
      ]
     },
     "execution_count": 75,
     "metadata": {},
     "output_type": "execute_result"
    }
   ],
   "source": [
    "comparison.query('user_id in @active_users & tariff_plan != optimal').head()"
   ]
  },
  {
   "cell_type": "code",
   "execution_count": 76,
   "id": "7556b62d",
   "metadata": {},
   "outputs": [
    {
     "data": {
      "text/plain": [
       "C    85\n",
       "B     5\n",
       "Name: optimal, dtype: int64"
      ]
     },
     "execution_count": 76,
     "metadata": {},
     "output_type": "execute_result"
    }
   ],
   "source": [
    "comparison.query('user_id in @active_users & tariff_plan != optimal')['optimal'].value_counts()"
   ]
  },
  {
   "cell_type": "code",
   "execution_count": 77,
   "id": "83906b1d",
   "metadata": {},
   "outputs": [
    {
     "name": "stdout",
     "output_type": "stream",
     "text": [
      "Текущая выручка: 1852384.60\n",
      "Абсолютное снижение выручки после перехода на оптимальные тарифы: 506477.00\n",
      "Относитльное снижение выручки после перехода на оптимальные тарифы: 27.34%\n"
     ]
    }
   ],
   "source": [
    "current_revenue = user_revenue['revenue'].sum()\n",
    "revenue_drop = round(comparison['revenue'].sum() - comparison['optimal_revenue'].sum())\n",
    "print(f'Текущая выручка: {current_revenue:.2f}')\n",
    "print(f'Абсолютное снижение выручки после перехода на оптимальные тарифы: {revenue_drop:.2f}')\n",
    "print(f'Относитльное снижение выручки после перехода на оптимальные тарифы: {(revenue_drop / current_revenue):.2%}')"
   ]
  },
  {
   "cell_type": "markdown",
   "id": "05cef8d0",
   "metadata": {},
   "source": [
    "При переходе активных пользователей на более выгодные тарифы комания потеряет около 27% выручки.\n",
    "\n",
    "В качестве предолжений для снижения потерь можно выдлить:\n",
    "- Почти всем пользователем более выгоден тариф С с минимальной абонентской платой. Возможно стоит актуализировать тарифную сетку: уменьшить фиксированную сумму на более дорогих тарифах или понизить стоимость минуты;\n",
    "- Возможно создание премиум тарифа для самых крупных клиентов. Таких всего несколько, но их выручка составляет очень значительную часть. Может быть её можно увеличить за счет дополнительных услуг;\n",
    "- Нужно проверить уровень загруженности операторов. Изучить возможность увеличения нагрузки и привлечения новых пользователей."
   ]
  },
  {
   "cell_type": "code",
   "execution_count": 78,
   "id": "6d41081f",
   "metadata": {},
   "outputs": [
    {
     "name": "stdout",
     "output_type": "stream",
     "text": [
      "Всего активных клиентов: 161\n"
     ]
    }
   ],
   "source": [
    "print('Всего активных клиентов:', len(active_users))"
   ]
  },
  {
   "cell_type": "code",
   "execution_count": 79,
   "id": "d453ab3a",
   "metadata": {},
   "outputs": [
    {
     "data": {
      "image/png": "[encoded data removed]",
      "text/plain": [
       "<Figure size 432x432 with 1 Axes>"
      ]
     },
     "metadata": {},
     "output_type": "display_data"
    }
   ],
   "source": [
    "fig,ax = plt.subplots(figsize=(6, 6))\n",
    "ax.pie(clients.query('user_id in @active_users')['tariff_plan'].value_counts(), \n",
    "       labels=clients.query('user_id in @active_users')['tariff_plan'].value_counts().index,\n",
    "       autopct='%.2f%%')\n",
    "ax.set_title('Соотношение тарифов среди активных пользователей')\n",
    "plt.show()"
   ]
  },
  {
   "cell_type": "markdown",
   "id": "ec8115e5",
   "metadata": {},
   "source": [
    "Построим таблицу со всеми пользователями и распределением оптимальных тарифов среди них:"
   ]
  },
  {
   "cell_type": "code",
   "execution_count": 80,
   "id": "a5b9fec4",
   "metadata": {},
   "outputs": [
    {
     "data": {
      "text/html": [
       "<div>\n",
       "<style scoped>\n",
       "    .dataframe tbody tr th:only-of-type {\n",
       "        vertical-align: middle;\n",
       "    }\n",
       "\n",
       "    .dataframe tbody tr th {\n",
       "        vertical-align: top;\n",
       "    }\n",
       "\n",
       "    .dataframe thead th {\n",
       "        text-align: right;\n",
       "    }\n",
       "</style>\n",
       "<table border=\"1\" class=\"dataframe\">\n",
       "  <thead>\n",
       "    <tr style=\"text-align: right;\">\n",
       "      <th></th>\n",
       "      <th>current_tariff</th>\n",
       "      <th>total_users</th>\n",
       "      <th>optimal_tariff</th>\n",
       "      <th>users</th>\n",
       "      <th>share</th>\n",
       "    </tr>\n",
       "  </thead>\n",
       "  <tbody>\n",
       "    <tr>\n",
       "      <th>0</th>\n",
       "      <td>A</td>\n",
       "      <td>25</td>\n",
       "      <td>A</td>\n",
       "      <td>3</td>\n",
       "      <td>12.0</td>\n",
       "    </tr>\n",
       "    <tr>\n",
       "      <th>1</th>\n",
       "      <td>A</td>\n",
       "      <td>25</td>\n",
       "      <td>B</td>\n",
       "      <td>3</td>\n",
       "      <td>12.0</td>\n",
       "    </tr>\n",
       "    <tr>\n",
       "      <th>2</th>\n",
       "      <td>A</td>\n",
       "      <td>25</td>\n",
       "      <td>C</td>\n",
       "      <td>19</td>\n",
       "      <td>76.0</td>\n",
       "    </tr>\n",
       "    <tr>\n",
       "      <th>3</th>\n",
       "      <td>B</td>\n",
       "      <td>67</td>\n",
       "      <td>B</td>\n",
       "      <td>1</td>\n",
       "      <td>1.5</td>\n",
       "    </tr>\n",
       "    <tr>\n",
       "      <th>4</th>\n",
       "      <td>B</td>\n",
       "      <td>67</td>\n",
       "      <td>C</td>\n",
       "      <td>66</td>\n",
       "      <td>98.5</td>\n",
       "    </tr>\n",
       "    <tr>\n",
       "      <th>5</th>\n",
       "      <td>C</td>\n",
       "      <td>69</td>\n",
       "      <td>B</td>\n",
       "      <td>2</td>\n",
       "      <td>2.9</td>\n",
       "    </tr>\n",
       "    <tr>\n",
       "      <th>6</th>\n",
       "      <td>C</td>\n",
       "      <td>69</td>\n",
       "      <td>C</td>\n",
       "      <td>67</td>\n",
       "      <td>97.1</td>\n",
       "    </tr>\n",
       "  </tbody>\n",
       "</table>\n",
       "</div>"
      ],
      "text/plain": [
       "  current_tariff  total_users optimal_tariff  users  share\n",
       "0              A           25              A      3   12.0\n",
       "1              A           25              B      3   12.0\n",
       "2              A           25              C     19   76.0\n",
       "3              B           67              B      1    1.5\n",
       "4              B           67              C     66   98.5\n",
       "5              C           69              B      2    2.9\n",
       "6              C           69              C     67   97.1"
      ]
     },
     "execution_count": 80,
     "metadata": {},
     "output_type": "execute_result"
    }
   ],
   "source": [
    "((comparison\n",
    " .query('user_id in @active_users')\n",
    " .groupby('tariff_plan')\n",
    " .agg({'user_id':'nunique'})\n",
    " .reset_index()\n",
    ")\n",
    " .merge((comparison\n",
    "         .query('user_id in @active_users')\n",
    "         .groupby(['tariff_plan','optimal'])\n",
    "         .agg({'user_id':'nunique'})\n",
    "         .reset_index()),\n",
    "        how = 'left', on = 'tariff_plan'\n",
    "       ).assign(share = lambda x: round((x['user_id_y'] / x['user_id_x']*100),1))\n",
    " .rename(columns={'tariff_plan': 'current_tariff', \n",
    "                  'user_id_x': 'total_users',\n",
    "                  'optimal': 'optimal_tariff',\n",
    "                  'user_id_y': 'users'}))"
   ]
  },
  {
   "cell_type": "markdown",
   "id": "0a133488",
   "metadata": {},
   "source": [
    "Построим таблицу с активными пользователями, которым выгодно сменить тариф и какой тариф им лучше выбрать:"
   ]
  },
  {
   "cell_type": "code",
   "execution_count": 81,
   "id": "bf436274",
   "metadata": {
    "scrolled": true
   },
   "outputs": [
    {
     "data": {
      "text/html": [
       "<div>\n",
       "<style scoped>\n",
       "    .dataframe tbody tr th:only-of-type {\n",
       "        vertical-align: middle;\n",
       "    }\n",
       "\n",
       "    .dataframe tbody tr th {\n",
       "        vertical-align: top;\n",
       "    }\n",
       "\n",
       "    .dataframe thead th {\n",
       "        text-align: right;\n",
       "    }\n",
       "</style>\n",
       "<table border=\"1\" class=\"dataframe\">\n",
       "  <thead>\n",
       "    <tr style=\"text-align: right;\">\n",
       "      <th></th>\n",
       "      <th>current_tariff</th>\n",
       "      <th>total_users</th>\n",
       "      <th>optimal_tariff</th>\n",
       "      <th>users</th>\n",
       "    </tr>\n",
       "  </thead>\n",
       "  <tbody>\n",
       "    <tr>\n",
       "      <th>0</th>\n",
       "      <td>A</td>\n",
       "      <td>22</td>\n",
       "      <td>B</td>\n",
       "      <td>3</td>\n",
       "    </tr>\n",
       "    <tr>\n",
       "      <th>1</th>\n",
       "      <td>A</td>\n",
       "      <td>22</td>\n",
       "      <td>C</td>\n",
       "      <td>19</td>\n",
       "    </tr>\n",
       "    <tr>\n",
       "      <th>2</th>\n",
       "      <td>B</td>\n",
       "      <td>66</td>\n",
       "      <td>C</td>\n",
       "      <td>66</td>\n",
       "    </tr>\n",
       "    <tr>\n",
       "      <th>3</th>\n",
       "      <td>C</td>\n",
       "      <td>2</td>\n",
       "      <td>B</td>\n",
       "      <td>2</td>\n",
       "    </tr>\n",
       "  </tbody>\n",
       "</table>\n",
       "</div>"
      ],
      "text/plain": [
       "  current_tariff  total_users optimal_tariff  users\n",
       "0              A           22              B      3\n",
       "1              A           22              C     19\n",
       "2              B           66              C     66\n",
       "3              C            2              B      2"
      ]
     },
     "execution_count": 81,
     "metadata": {},
     "output_type": "execute_result"
    }
   ],
   "source": [
    "((comparison\n",
    " .query('user_id in @active_users & tariff_plan != optimal')\n",
    " .groupby('tariff_plan')\n",
    " .agg({'user_id':'nunique'})\n",
    " .reset_index()\n",
    ")\n",
    " .merge((comparison\n",
    "         .query('user_id in @active_users  & tariff_plan != optimal')\n",
    "         .groupby(['tariff_plan','optimal'])\n",
    "         .agg({'user_id':'nunique'})\n",
    "         .reset_index()),\n",
    "        how = 'left', on = 'tariff_plan'\n",
    "       )\n",
    " .rename(columns={'tariff_plan': 'current_tariff', \n",
    "                  'user_id_x': 'total_users',\n",
    "                  'optimal': 'optimal_tariff',\n",
    "                  'user_id_y': 'users'}))"
   ]
  },
  {
   "cell_type": "markdown",
   "id": "1c19baaf",
   "metadata": {},
   "source": [
    "Почти всем пользователям выгодно перейти на тариф С"
   ]
  },
  {
   "cell_type": "code",
   "execution_count": 82,
   "id": "5f4b6f4f",
   "metadata": {},
   "outputs": [
    {
     "data": {
      "image/png": "[encoded data removed]",
      "text/plain": [
       "<Figure size 432x288 with 1 Axes>"
      ]
     },
     "metadata": {
      "needs_background": "light"
     },
     "output_type": "display_data"
    }
   ],
   "source": [
    "ax = (user_revenue\n",
    " .pivot_table(index='month',\n",
    "              values='revenue',\n",
    "              columns='tariff_plan',\n",
    "              aggfunc='sum')\n",
    " .reset_index()\n",
    " .plot(x='month', y=['A', 'B', 'C'], kind=\"bar\")\n",
    ")\n",
    "ax.set(title='Ежемесячная выручка по тарифам')\n",
    "ax.set_xlabel('месяц')\n",
    "ax.set_ylabel('выручка')\n",
    "plt.xticks(rotation = 0)\n",
    "plt.legend(title='Тариф', fontsize='small')\n",
    "plt.show()"
   ]
  },
  {
   "cell_type": "code",
   "execution_count": 83,
   "id": "c33874d8",
   "metadata": {},
   "outputs": [
    {
     "data": {
      "image/png": "[encoded data removed]",
      "text/plain": [
       "<Figure size 432x288 with 1 Axes>"
      ]
     },
     "metadata": {
      "needs_background": "light"
     },
     "output_type": "display_data"
    }
   ],
   "source": [
    "ax = (user_revenue\n",
    "      .pivot_table(index='month',\n",
    "                   columns='tariff_plan',\n",
    "                   values='revenue',\n",
    "                   aggfunc='mean')\n",
    "      .reset_index()\n",
    "      .plot(x='month', y=['A', 'B', 'C'], kind=\"bar\"))\n",
    "ax.set(title='Ежемесячный средний чек')\n",
    "ax.set_xlabel('месяц')\n",
    "ax.set_ylabel('сумма чека')\n",
    "plt.xticks(rotation = 0)\n",
    "plt.legend(title='Тариф', fontsize='small')\n",
    "plt.show()"
   ]
  },
  {
   "cell_type": "code",
   "execution_count": 84,
   "id": "d3dfeada",
   "metadata": {},
   "outputs": [
    {
     "data": {
      "image/png": "[encoded data removed]",
      "text/plain": [
       "<Figure size 432x288 with 1 Axes>"
      ]
     },
     "metadata": {
      "needs_background": "light"
     },
     "output_type": "display_data"
    }
   ],
   "source": [
    "ax = (user_revenue\n",
    " .assign(diff = lambda x: x['revenue'] - x['optimal_revenue'])\n",
    " .pivot_table(index='month',\n",
    "              columns='tariff_plan',\n",
    "              values='diff',\n",
    "                   aggfunc='sum')\n",
    "      .reset_index()\n",
    "      .plot(x='month', y=['A', 'B', 'C'], kind=\"bar\"))\n",
    "ax.set(title='Помесячная переплата пользователей неоптимальных тарифов')\n",
    "ax.set_xlabel('месяц')\n",
    "ax.set_ylabel('сумма переплаты')\n",
    "plt.xticks(rotation = 0)\n",
    "plt.legend(title='Тариф', fontsize='small')\n",
    "plt.show()"
   ]
  },
  {
   "cell_type": "markdown",
   "id": "c13ea84c",
   "metadata": {},
   "source": [
    "Выводы по результатм исследования:\n",
    "- активных пользователей больше всего среди тарифво В и С, примерно по 40%;\n",
    "- для подавляющего большинства пользователей тарифов А и В, 86% и 98,5% соответсвенно, эти тарифы невыогдны;\n",
    "- почти всем пользователям выгоден тариф С;\n",
    "- самый высокий средний чек и самая большая переплата у пользователей тарива А."
   ]
  },
  {
   "cell_type": "markdown",
   "id": "5928f163",
   "metadata": {},
   "source": [
    "##  Проверка статистических гипотез<a class=\"anchor\" id=\"test\"></a>"
   ]
  },
  {
   "cell_type": "markdown",
   "id": "7cef4170",
   "metadata": {},
   "source": [
    "Для нулевой гипотезы выбриаем утверждения которые содержат в себе равенство.  \n",
    "Критический уровень статистической значимости 1%, так как у нас очень большая выборка.\n",
    "\n",
    "В двух выборках дисперсии сильно отличаются, укажем параметр equal_var равным False.  \n",
    "В обоих случаях распределение не является нормальным, так как распрделение активности соответствует генеральной совокупности."
   ]
  },
  {
   "cell_type": "markdown",
   "id": "aa7ed239",
   "metadata": {},
   "source": [
    "### Гипотеза 1\n",
    "<b>Нулевая гипотеза:</b> Активные клиенты пользуются услугами наравне с остальными клиентами;  \n",
    "<b>Альтернативная гипотеза:</b> Активные клиенты используют больший объем услуг."
   ]
  },
  {
   "cell_type": "code",
   "execution_count": 85,
   "id": "457f811f",
   "metadata": {
    "scrolled": true
   },
   "outputs": [
    {
     "data": {
      "text/plain": [
       "True     426\n",
       "False    272\n",
       "Name: active, dtype: int64"
      ]
     },
     "execution_count": 85,
     "metadata": {},
     "output_type": "execute_result"
    }
   ],
   "source": [
    "user_revenue['active'] = False\n",
    "user_revenue.loc[user_revenue['user_id'].isin(active_users), 'active'] = True\n",
    "user_revenue['active'].value_counts()"
   ]
  },
  {
   "cell_type": "code",
   "execution_count": 86,
   "id": "a27ddef0",
   "metadata": {},
   "outputs": [
    {
     "data": {
      "text/plain": [
       "<matplotlib.legend.Legend at 0x7fd6e8c62670>"
      ]
     },
     "execution_count": 86,
     "metadata": {},
     "output_type": "execute_result"
    },
    {
     "data": {
      "image/png": "[encoded data removed]",
      "text/plain": [
       "<Figure size 864x432 with 1 Axes>"
      ]
     },
     "metadata": {
      "needs_background": "light"
     },
     "output_type": "display_data"
    }
   ],
   "source": [
    "plt.figure(figsize=(12,6))\n",
    "for active, val in user_revenue.groupby(by='active'):\n",
    "    plt.hist(val['external'], histtype='step', label=active, linewidth=1, bins=100)\n",
    "plt.legend()"
   ]
  },
  {
   "cell_type": "code",
   "execution_count": 87,
   "id": "3ca90d79",
   "metadata": {
    "scrolled": true
   },
   "outputs": [
    {
     "data": {
      "text/plain": [
       "active\n",
       "False       725\n",
       "True     739585\n",
       "Name: external, dtype: int64"
      ]
     },
     "execution_count": 87,
     "metadata": {},
     "output_type": "execute_result"
    }
   ],
   "source": [
    "user_revenue.groupby(by='active')['external'].sum()"
   ]
  },
  {
   "cell_type": "code",
   "execution_count": 88,
   "id": "be97fe20",
   "metadata": {},
   "outputs": [
    {
     "name": "stdout",
     "output_type": "stream",
     "text": [
      "Дисперсия выборки 1: 54970759.40, дисперсия выборки 2: 42.08\n",
      "\n",
      "2.0027490249380384e-06\n",
      "\n",
      "Отвергаем нулевую гипотезу\n"
     ]
    }
   ],
   "source": [
    "sample_active = user_revenue.query('user_id in @active_users')['external']\n",
    "sample_other = user_revenue.query('user_id not in @active_users')['external']\n",
    "alpha = .01\n",
    "\n",
    "variance_active = np.var(sample_active)\n",
    "variance_other = np.var(sample_other)\n",
    "print(f'Дисперсия выборки 1: {variance_active:.2f}, дисперсия выборки 2: {variance_other:.2f}')\n",
    "print()\n",
    "\n",
    "results_active = st.ttest_ind(sample_active, sample_other, equal_var = False)\n",
    "\n",
    "print(results_active.pvalue)\n",
    "print()\n",
    "\n",
    "if results_active.pvalue / 2 < alpha:\n",
    "    print('Отвергаем нулевую гипотезу')\n",
    "else:\n",
    "    print('Не получилось отвергнуть нулевую гипотезу')"
   ]
  },
  {
   "cell_type": "markdown",
   "id": "74b17b80",
   "metadata": {},
   "source": [
    "В целом график и разброс в активности между пользователями двух групп говорит за себя. Активные пользователи намного активнее."
   ]
  },
  {
   "cell_type": "markdown",
   "id": "96d9e374",
   "metadata": {},
   "source": [
    "### Гипотеза 2\n",
    "<b>Нулевая гипотеза:</b> Клиенты с неоптимальными тарифами пользуются услугами наравне с остальными</b>;  \n",
    "<b>Альтернативная гипотеза:</b> Клиенты с неоптимальными тарифами пользуются услугами не наравне с остальными</b>."
   ]
  },
  {
   "cell_type": "code",
   "execution_count": 89,
   "id": "31364a2b",
   "metadata": {},
   "outputs": [
    {
     "data": {
      "text/plain": [
       "True     371\n",
       "False    327\n",
       "Name: optimal_flag, dtype: int64"
      ]
     },
     "execution_count": 89,
     "metadata": {},
     "output_type": "execute_result"
    }
   ],
   "source": [
    "user_revenue['optimal_flag'] = False\n",
    "user_revenue.loc[user_revenue['tariff_plan'] == user_revenue['optimal'], 'optimal_flag'] = True\n",
    "user_revenue['optimal_flag'].value_counts()"
   ]
  },
  {
   "cell_type": "code",
   "execution_count": 90,
   "id": "de0187f7",
   "metadata": {},
   "outputs": [
    {
     "data": {
      "text/plain": [
       "<matplotlib.legend.Legend at 0x7fd700945d00>"
      ]
     },
     "execution_count": 90,
     "metadata": {},
     "output_type": "execute_result"
    },
    {
     "data": {
      "image/png": "[encoded data removed]",
      "text/plain": [
       "<Figure size 864x432 with 1 Axes>"
      ]
     },
     "metadata": {
      "needs_background": "light"
     },
     "output_type": "display_data"
    }
   ],
   "source": [
    "plt.figure(figsize=(12,6))\n",
    "for optimal, val in user_revenue.groupby(by='optimal_flag'):\n",
    "    plt.hist(val['external'], histtype='step', label=optimal, linewidth=1, bins=100)\n",
    "plt.legend()"
   ]
  },
  {
   "cell_type": "code",
   "execution_count": 91,
   "id": "11a01975",
   "metadata": {
    "scrolled": false
   },
   "outputs": [
    {
     "name": "stdout",
     "output_type": "stream",
     "text": [
      "Дисперсия выборки 1: 325636243.81, дисперсия выборки 2: 14148775.91\n",
      "\n",
      "0.29752204381707276\n",
      "\n",
      "Не получилось отвергнуть нулевую гипотезу\n"
     ]
    }
   ],
   "source": [
    "sample_optimal = comparison.query('optimal == tariff_plan')['external']\n",
    "sample_not_optimal = comparison.query('optimal != tariff_plan')['external']\n",
    "alpha = .01\n",
    "\n",
    "variance_optimal = np.var(sample_optimal)\n",
    "variance_not_optimal = np.var(sample_not_optimal)\n",
    "print(f'Дисперсия выборки 1: {variance_optimal:.2f}, дисперсия выборки 2: {variance_not_optimal:.2f}')\n",
    "print()\n",
    "\n",
    "results_optimal = st.ttest_ind(sample_optimal, sample_not_optimal, equal_var = False)\n",
    "\n",
    "print(results_optimal.pvalue)\n",
    "print()\n",
    "\n",
    "if results_optimal.pvalue < alpha:\n",
    "    print('Отвергаем нулевую гипотезу')\n",
    "else:\n",
    "    print('Не получилось отвергнуть нулевую гипотезу')"
   ]
  },
  {
   "cell_type": "markdown",
   "id": "438d4530",
   "metadata": {},
   "source": [
    "Вторую нулевую гипотезу не получилоь отвергнуть со значительным запасом. P-значение намного выше выбранной альфы в 0.1. То есть клиенты с неоптимальными тарифами с большой вероятностью используют услуги также как и клиенты с оптимальными тарифами. Просто тариф не тот..."
   ]
  },
  {
   "cell_type": "markdown",
   "id": "73e35bbe",
   "metadata": {},
   "source": [
    "В случае обоих гипотез тестируем генеральные совокупности с большой разницей диспресии, поэтому при проверке гипотез указываем флаг False для equal_var.\n",
    "\n",
    "Выводы по результатам проверки гипотез:\n",
    "1. Активные клиенты используют больший объем услуг;\n",
    "2. Клиенты с неоптимальными тарифами пользуются услугами наравне с остальными."
   ]
  },
  {
   "cell_type": "markdown",
   "id": "ec013ca7",
   "metadata": {},
   "source": [
    "## Результат исследования<a class=\"anchor\" id=\"summary\"></a>"
   ]
  },
  {
   "cell_type": "markdown",
   "id": "7ba5b480",
   "metadata": {},
   "source": [
    "### Выводы по результатам исследования"
   ]
  },
  {
   "cell_type": "markdown",
   "id": "fcb83727",
   "metadata": {},
   "source": [
    "- Всего выявлен 131 клиент с неоптимальным тарифом, из них 90 активных;\n",
    "- При переходе всех активных клиентов на оптимальный тариф снижение выручки составило бы 27% или около 500 тысяч;\n",
    "- Почти для всех активных клиентов более выгоден тариф С и только для 5 из них — тариф В.\n",
    "\n",
    "В качестве предолжений для снижения потерь можно выдлить:\n",
    "- Почти всем пользователем более выгоден тариф С с минимальной абонентской платой. Возможно стоит актуализировать тарифную сетку: уменьшить фиксированную сумму на более дорогих тарифах или понизить стоимость минуты;\n",
    "- Возможно создание премиум тарифа для самых крупных клиентов. Таких всего несколько, но их выручка составляет очень значительную часть. Может быть её можно увеличить за счет дополнительных услуг;\n",
    "- Нужно проверить уровень загруженности операторов. Изучить возможность увеличения нагрузки и привлечения новых пользователей.\n",
    "\n",
    "Также были проверены две гипотезы и сделаны выводы:\n",
    "1. Активные клиенты используют больший объем услуг;\n",
    "2. Клиенты с неоптимальными тарифами пользуются услугами наравне с остальными."
   ]
  },
  {
   "cell_type": "markdown",
   "id": "7e30422b",
   "metadata": {},
   "source": [
    "### Отчет для коммерческого департамента\n",
    "Список клиентов, которым целесообразно предложить переход на иной тариф:"
   ]
  },
  {
   "cell_type": "code",
   "execution_count": 92,
   "id": "bd41a722",
   "metadata": {
    "scrolled": false
   },
   "outputs": [
    {
     "data": {
      "text/html": [
       "<div>\n",
       "<style scoped>\n",
       "    .dataframe tbody tr th:only-of-type {\n",
       "        vertical-align: middle;\n",
       "    }\n",
       "\n",
       "    .dataframe tbody tr th {\n",
       "        vertical-align: top;\n",
       "    }\n",
       "\n",
       "    .dataframe thead th {\n",
       "        text-align: right;\n",
       "    }\n",
       "</style>\n",
       "<table border=\"1\" class=\"dataframe\">\n",
       "  <thead>\n",
       "    <tr style=\"text-align: right;\">\n",
       "      <th></th>\n",
       "      <th>user_id</th>\n",
       "      <th>current_tariff</th>\n",
       "      <th>external</th>\n",
       "      <th>months_active</th>\n",
       "      <th>current_revenue</th>\n",
       "      <th>optimal_tariff</th>\n",
       "      <th>optimal_revenue</th>\n",
       "    </tr>\n",
       "  </thead>\n",
       "  <tbody>\n",
       "    <tr>\n",
       "      <th>0</th>\n",
       "      <td>166377</td>\n",
       "      <td>B</td>\n",
       "      <td>6492</td>\n",
       "      <td>4</td>\n",
       "      <td>13046.0</td>\n",
       "      <td>C</td>\n",
       "      <td>10344.4</td>\n",
       "    </tr>\n",
       "    <tr>\n",
       "      <th>1</th>\n",
       "      <td>166405</td>\n",
       "      <td>B</td>\n",
       "      <td>16228</td>\n",
       "      <td>4</td>\n",
       "      <td>18514.0</td>\n",
       "      <td>C</td>\n",
       "      <td>17759.6</td>\n",
       "    </tr>\n",
       "    <tr>\n",
       "      <th>2</th>\n",
       "      <td>166406</td>\n",
       "      <td>B</td>\n",
       "      <td>7229</td>\n",
       "      <td>4</td>\n",
       "      <td>12514.5</td>\n",
       "      <td>C</td>\n",
       "      <td>9960.3</td>\n",
       "    </tr>\n",
       "    <tr>\n",
       "      <th>3</th>\n",
       "      <td>166407</td>\n",
       "      <td>A</td>\n",
       "      <td>424</td>\n",
       "      <td>4</td>\n",
       "      <td>22569.6</td>\n",
       "      <td>C</td>\n",
       "      <td>6696.8</td>\n",
       "    </tr>\n",
       "    <tr>\n",
       "      <th>4</th>\n",
       "      <td>166485</td>\n",
       "      <td>B</td>\n",
       "      <td>7529</td>\n",
       "      <td>4</td>\n",
       "      <td>13464.5</td>\n",
       "      <td>C</td>\n",
       "      <td>10970.3</td>\n",
       "    </tr>\n",
       "    <tr>\n",
       "      <th>5</th>\n",
       "      <td>166495</td>\n",
       "      <td>B</td>\n",
       "      <td>3260</td>\n",
       "      <td>4</td>\n",
       "      <td>10230.0</td>\n",
       "      <td>C</td>\n",
       "      <td>6882.0</td>\n",
       "    </tr>\n",
       "    <tr>\n",
       "      <th>6</th>\n",
       "      <td>166503</td>\n",
       "      <td>B</td>\n",
       "      <td>1204</td>\n",
       "      <td>4</td>\n",
       "      <td>9902.0</td>\n",
       "      <td>C</td>\n",
       "      <td>6142.8</td>\n",
       "    </tr>\n",
       "    <tr>\n",
       "      <th>7</th>\n",
       "      <td>166533</td>\n",
       "      <td>B</td>\n",
       "      <td>1444</td>\n",
       "      <td>3</td>\n",
       "      <td>7022.0</td>\n",
       "      <td>C</td>\n",
       "      <td>4310.8</td>\n",
       "    </tr>\n",
       "    <tr>\n",
       "      <th>8</th>\n",
       "      <td>166536</td>\n",
       "      <td>B</td>\n",
       "      <td>1520</td>\n",
       "      <td>4</td>\n",
       "      <td>9760.0</td>\n",
       "      <td>C</td>\n",
       "      <td>6064.0</td>\n",
       "    </tr>\n",
       "    <tr>\n",
       "      <th>9</th>\n",
       "      <td>166541</td>\n",
       "      <td>A</td>\n",
       "      <td>300</td>\n",
       "      <td>3</td>\n",
       "      <td>16020.0</td>\n",
       "      <td>C</td>\n",
       "      <td>4110.0</td>\n",
       "    </tr>\n",
       "  </tbody>\n",
       "</table>\n",
       "</div>"
      ],
      "text/plain": [
       "   user_id current_tariff  external  months_active  current_revenue  \\\n",
       "0   166377              B      6492              4          13046.0   \n",
       "1   166405              B     16228              4          18514.0   \n",
       "2   166406              B      7229              4          12514.5   \n",
       "3   166407              A       424              4          22569.6   \n",
       "4   166485              B      7529              4          13464.5   \n",
       "5   166495              B      3260              4          10230.0   \n",
       "6   166503              B      1204              4           9902.0   \n",
       "7   166533              B      1444              3           7022.0   \n",
       "8   166536              B      1520              4           9760.0   \n",
       "9   166541              A       300              3          16020.0   \n",
       "\n",
       "  optimal_tariff  optimal_revenue  \n",
       "0              C          10344.4  \n",
       "1              C          17759.6  \n",
       "2              C           9960.3  \n",
       "3              C           6696.8  \n",
       "4              C          10970.3  \n",
       "5              C           6882.0  \n",
       "6              C           6142.8  \n",
       "7              C           4310.8  \n",
       "8              C           6064.0  \n",
       "9              C           4110.0  "
      ]
     },
     "execution_count": 92,
     "metadata": {},
     "output_type": "execute_result"
    }
   ],
   "source": [
    "(comparison\n",
    " .query('optimal != tariff_plan & user_id in @active_users')\n",
    " .reset_index(drop=True)\n",
    " .drop(['revenue_A', 'revenue_B', 'revenue_C'], axis=1)\n",
    " .rename(columns = {'tariff_plan':'current_tariff',\n",
    "                    'revenue':'current_revenue',\n",
    "                    'optimal': 'optimal_tariff',\n",
    "                    'month': 'months_active'})).head(10)"
   ]
  },
  {
   "cell_type": "code",
   "execution_count": 93,
   "id": "02c34fc4",
   "metadata": {
    "scrolled": false
   },
   "outputs": [
    {
     "data": {
      "image/png": "[encoded data removed]",
      "text/plain": [
       "<Figure size 432x432 with 1 Axes>"
      ]
     },
     "metadata": {},
     "output_type": "display_data"
    }
   ],
   "source": [
    "fig,ax = plt.subplots(figsize=(6, 6))\n",
    "ax.pie(comparison['tariff_plan'].value_counts(), \n",
    "       labels=comparison['tariff_plan'].value_counts().index,\n",
    "       autopct='%.1f%%')\n",
    "ax.set_title('Текущее соотношение тарифов среди пользователей')\n",
    "plt.show()"
   ]
  },
  {
   "cell_type": "code",
   "execution_count": 94,
   "id": "d02b6a74",
   "metadata": {
    "scrolled": false
   },
   "outputs": [
    {
     "data": {
      "image/png": "[encoded data removed]",
      "text/plain": [
       "<Figure size 432x432 with 1 Axes>"
      ]
     },
     "metadata": {},
     "output_type": "display_data"
    }
   ],
   "source": [
    "fig,ax = plt.subplots(figsize=(6, 6))\n",
    "ax.pie(comparison['optimal'].value_counts(), \n",
    "       labels=comparison['optimal'].value_counts().index,\n",
    "       autopct='%.1f%%')\n",
    "ax.set_title('Текущее соотношение тарифов среди пользователей')\n",
    "plt.show()"
   ]
  },
  {
   "cell_type": "markdown",
   "id": "19f9f612",
   "metadata": {},
   "source": [
    "Текущие тарифы А и В практически неактуальны для клиентов. Необходимо пересмотреть тарифную сетку."
   ]
  },
  {
   "cell_type": "markdown",
   "id": "3612c1a6",
   "metadata": {},
   "source": [
    "### <a href=\"https://disk.yandex.ru/i/orwEnhLkUPPssA\">Презентация для коммерческого директора</a>"
   ]
  },
  {
   "cell_type": "markdown",
   "id": "9530e2fb",
   "metadata": {},
   "source": [
    "### <a href=\"https://public.tableau.com/app/profile/sergey5253/viz/Telecom_16606868114600/Dashboard1\">Дашборд</a>"
   ]
  }
 ],
 "metadata": {
  "ExecuteTimeLog": [
   {
    "duration": 1241,
    "start_time": "2022-08-17T19:14:38.378Z"
   },
   {
    "duration": 158,
    "start_time": "2022-08-17T19:14:39.621Z"
   },
   {
    "duration": 0,
    "start_time": "2022-08-17T19:14:39.782Z"
   },
   {
    "duration": 0,
    "start_time": "2022-08-17T19:14:39.784Z"
   },
   {
    "duration": 0,
    "start_time": "2022-08-17T19:14:39.785Z"
   },
   {
    "duration": 0,
    "start_time": "2022-08-17T19:14:39.787Z"
   },
   {
    "duration": 0,
    "start_time": "2022-08-17T19:14:39.788Z"
   },
   {
    "duration": 0,
    "start_time": "2022-08-17T19:14:39.789Z"
   },
   {
    "duration": 0,
    "start_time": "2022-08-17T19:14:39.790Z"
   },
   {
    "duration": 0,
    "start_time": "2022-08-17T19:14:39.807Z"
   },
   {
    "duration": 0,
    "start_time": "2022-08-17T19:14:39.808Z"
   },
   {
    "duration": 0,
    "start_time": "2022-08-17T19:14:39.808Z"
   },
   {
    "duration": 0,
    "start_time": "2022-08-17T19:14:39.809Z"
   },
   {
    "duration": 0,
    "start_time": "2022-08-17T19:14:39.809Z"
   },
   {
    "duration": 0,
    "start_time": "2022-08-17T19:14:39.810Z"
   },
   {
    "duration": 0,
    "start_time": "2022-08-17T19:14:39.810Z"
   },
   {
    "duration": 0,
    "start_time": "2022-08-17T19:14:39.814Z"
   },
   {
    "duration": 0,
    "start_time": "2022-08-17T19:14:39.815Z"
   },
   {
    "duration": 0,
    "start_time": "2022-08-17T19:14:39.815Z"
   },
   {
    "duration": 0,
    "start_time": "2022-08-17T19:14:39.816Z"
   },
   {
    "duration": 0,
    "start_time": "2022-08-17T19:14:39.816Z"
   },
   {
    "duration": 0,
    "start_time": "2022-08-17T19:14:39.817Z"
   },
   {
    "duration": 0,
    "start_time": "2022-08-17T19:14:39.818Z"
   },
   {
    "duration": 0,
    "start_time": "2022-08-17T19:14:39.818Z"
   },
   {
    "duration": 0,
    "start_time": "2022-08-17T19:14:39.819Z"
   },
   {
    "duration": 0,
    "start_time": "2022-08-17T19:14:39.820Z"
   },
   {
    "duration": 0,
    "start_time": "2022-08-17T19:14:39.821Z"
   },
   {
    "duration": 0,
    "start_time": "2022-08-17T19:14:39.823Z"
   },
   {
    "duration": 0,
    "start_time": "2022-08-17T19:14:39.824Z"
   },
   {
    "duration": 0,
    "start_time": "2022-08-17T19:14:39.827Z"
   },
   {
    "duration": 0,
    "start_time": "2022-08-17T19:14:39.828Z"
   },
   {
    "duration": 0,
    "start_time": "2022-08-17T19:14:39.829Z"
   },
   {
    "duration": 0,
    "start_time": "2022-08-17T19:14:39.830Z"
   },
   {
    "duration": 0,
    "start_time": "2022-08-17T19:14:39.831Z"
   },
   {
    "duration": 0,
    "start_time": "2022-08-17T19:14:39.832Z"
   },
   {
    "duration": 0,
    "start_time": "2022-08-17T19:14:39.834Z"
   },
   {
    "duration": 0,
    "start_time": "2022-08-17T19:14:39.835Z"
   },
   {
    "duration": 0,
    "start_time": "2022-08-17T19:14:39.836Z"
   },
   {
    "duration": 0,
    "start_time": "2022-08-17T19:14:39.837Z"
   },
   {
    "duration": 0,
    "start_time": "2022-08-17T19:14:39.839Z"
   },
   {
    "duration": 0,
    "start_time": "2022-08-17T19:14:39.839Z"
   },
   {
    "duration": 0,
    "start_time": "2022-08-17T19:14:39.841Z"
   },
   {
    "duration": 0,
    "start_time": "2022-08-17T19:14:39.842Z"
   },
   {
    "duration": 0,
    "start_time": "2022-08-17T19:14:39.844Z"
   },
   {
    "duration": 1,
    "start_time": "2022-08-17T19:14:39.845Z"
   },
   {
    "duration": 0,
    "start_time": "2022-08-17T19:14:39.847Z"
   },
   {
    "duration": 0,
    "start_time": "2022-08-17T19:14:39.848Z"
   },
   {
    "duration": 0,
    "start_time": "2022-08-17T19:14:39.911Z"
   },
   {
    "duration": 0,
    "start_time": "2022-08-17T19:14:39.912Z"
   },
   {
    "duration": 0,
    "start_time": "2022-08-17T19:14:39.912Z"
   },
   {
    "duration": 0,
    "start_time": "2022-08-17T19:14:39.913Z"
   },
   {
    "duration": 0,
    "start_time": "2022-08-17T19:14:39.913Z"
   },
   {
    "duration": 0,
    "start_time": "2022-08-17T19:14:39.914Z"
   },
   {
    "duration": 0,
    "start_time": "2022-08-17T19:14:39.915Z"
   },
   {
    "duration": 0,
    "start_time": "2022-08-17T19:14:39.918Z"
   },
   {
    "duration": 0,
    "start_time": "2022-08-17T19:14:39.918Z"
   },
   {
    "duration": 0,
    "start_time": "2022-08-17T19:14:39.919Z"
   },
   {
    "duration": 0,
    "start_time": "2022-08-17T19:14:39.920Z"
   },
   {
    "duration": 0,
    "start_time": "2022-08-17T19:14:39.921Z"
   },
   {
    "duration": 0,
    "start_time": "2022-08-17T19:14:39.921Z"
   },
   {
    "duration": 0,
    "start_time": "2022-08-17T19:14:39.922Z"
   },
   {
    "duration": 0,
    "start_time": "2022-08-17T19:14:39.923Z"
   },
   {
    "duration": 0,
    "start_time": "2022-08-17T19:14:39.924Z"
   },
   {
    "duration": 0,
    "start_time": "2022-08-17T19:14:39.925Z"
   },
   {
    "duration": 0,
    "start_time": "2022-08-17T19:14:39.926Z"
   },
   {
    "duration": 0,
    "start_time": "2022-08-17T19:14:39.927Z"
   },
   {
    "duration": 0,
    "start_time": "2022-08-17T19:14:39.928Z"
   },
   {
    "duration": 0,
    "start_time": "2022-08-17T19:14:39.929Z"
   },
   {
    "duration": 0,
    "start_time": "2022-08-17T19:14:39.929Z"
   },
   {
    "duration": 0,
    "start_time": "2022-08-17T19:14:39.930Z"
   },
   {
    "duration": 0,
    "start_time": "2022-08-17T19:14:39.931Z"
   },
   {
    "duration": 0,
    "start_time": "2022-08-17T19:14:39.932Z"
   },
   {
    "duration": 0,
    "start_time": "2022-08-17T19:14:39.932Z"
   },
   {
    "duration": 0,
    "start_time": "2022-08-17T19:14:39.933Z"
   },
   {
    "duration": 0,
    "start_time": "2022-08-17T19:14:39.934Z"
   },
   {
    "duration": 0,
    "start_time": "2022-08-17T19:14:39.934Z"
   },
   {
    "duration": 0,
    "start_time": "2022-08-17T19:14:39.935Z"
   },
   {
    "duration": 0,
    "start_time": "2022-08-17T19:14:39.936Z"
   },
   {
    "duration": 0,
    "start_time": "2022-08-17T19:14:39.937Z"
   },
   {
    "duration": 0,
    "start_time": "2022-08-17T19:14:39.938Z"
   },
   {
    "duration": 0,
    "start_time": "2022-08-17T19:14:39.938Z"
   },
   {
    "duration": 0,
    "start_time": "2022-08-17T19:14:39.939Z"
   },
   {
    "duration": 0,
    "start_time": "2022-08-17T19:14:39.940Z"
   },
   {
    "duration": 0,
    "start_time": "2022-08-17T19:14:39.941Z"
   },
   {
    "duration": 0,
    "start_time": "2022-08-17T19:14:39.942Z"
   },
   {
    "duration": 0,
    "start_time": "2022-08-17T19:14:39.942Z"
   },
   {
    "duration": 0,
    "start_time": "2022-08-17T19:14:39.943Z"
   },
   {
    "duration": 0,
    "start_time": "2022-08-17T19:14:39.944Z"
   },
   {
    "duration": 13,
    "start_time": "2022-08-17T19:20:23.090Z"
   },
   {
    "duration": 376,
    "start_time": "2022-08-17T19:20:32.086Z"
   },
   {
    "duration": 1127,
    "start_time": "2022-08-17T19:20:36.331Z"
   },
   {
    "duration": 89,
    "start_time": "2022-08-17T19:20:37.460Z"
   },
   {
    "duration": 22,
    "start_time": "2022-08-17T19:20:37.551Z"
   },
   {
    "duration": 19,
    "start_time": "2022-08-17T19:20:37.574Z"
   },
   {
    "duration": 9,
    "start_time": "2022-08-17T19:20:37.596Z"
   },
   {
    "duration": 18,
    "start_time": "2022-08-17T19:20:37.607Z"
   },
   {
    "duration": 6,
    "start_time": "2022-08-17T19:20:37.627Z"
   },
   {
    "duration": 10,
    "start_time": "2022-08-17T19:20:37.634Z"
   },
   {
    "duration": 11,
    "start_time": "2022-08-17T19:20:37.646Z"
   },
   {
    "duration": 7,
    "start_time": "2022-08-17T19:20:37.658Z"
   },
   {
    "duration": 5,
    "start_time": "2022-08-17T19:20:37.667Z"
   },
   {
    "duration": 11,
    "start_time": "2022-08-17T19:20:37.706Z"
   },
   {
    "duration": 13,
    "start_time": "2022-08-17T19:20:37.718Z"
   },
   {
    "duration": 17,
    "start_time": "2022-08-17T19:20:37.734Z"
   },
   {
    "duration": 22,
    "start_time": "2022-08-17T19:20:37.752Z"
   },
   {
    "duration": 41,
    "start_time": "2022-08-17T19:20:37.776Z"
   },
   {
    "duration": 17,
    "start_time": "2022-08-17T19:20:37.818Z"
   },
   {
    "duration": 14,
    "start_time": "2022-08-17T19:20:37.836Z"
   },
   {
    "duration": 5,
    "start_time": "2022-08-17T19:20:37.851Z"
   },
   {
    "duration": 15,
    "start_time": "2022-08-17T19:20:37.857Z"
   },
   {
    "duration": 32,
    "start_time": "2022-08-17T19:20:37.874Z"
   },
   {
    "duration": 12,
    "start_time": "2022-08-17T19:20:37.907Z"
   },
   {
    "duration": 4,
    "start_time": "2022-08-17T19:20:37.920Z"
   },
   {
    "duration": 6,
    "start_time": "2022-08-17T19:20:37.925Z"
   },
   {
    "duration": 96,
    "start_time": "2022-08-17T19:20:37.932Z"
   },
   {
    "duration": 6,
    "start_time": "2022-08-17T19:20:38.029Z"
   },
   {
    "duration": 21,
    "start_time": "2022-08-17T19:20:38.037Z"
   },
   {
    "duration": 438,
    "start_time": "2022-08-17T19:20:38.060Z"
   },
   {
    "duration": 421,
    "start_time": "2022-08-17T19:20:38.500Z"
   },
   {
    "duration": 467,
    "start_time": "2022-08-17T19:20:38.923Z"
   },
   {
    "duration": 424,
    "start_time": "2022-08-17T19:20:39.392Z"
   },
   {
    "duration": 261,
    "start_time": "2022-08-17T19:20:39.817Z"
   },
   {
    "duration": 7,
    "start_time": "2022-08-17T19:20:40.080Z"
   },
   {
    "duration": 9,
    "start_time": "2022-08-17T19:20:40.088Z"
   },
   {
    "duration": 14,
    "start_time": "2022-08-17T19:20:40.106Z"
   },
   {
    "duration": 17,
    "start_time": "2022-08-17T19:20:40.121Z"
   },
   {
    "duration": 18,
    "start_time": "2022-08-17T19:20:40.139Z"
   },
   {
    "duration": 15,
    "start_time": "2022-08-17T19:20:40.158Z"
   },
   {
    "duration": 35,
    "start_time": "2022-08-17T19:20:40.175Z"
   },
   {
    "duration": 10,
    "start_time": "2022-08-17T19:20:40.212Z"
   },
   {
    "duration": 15,
    "start_time": "2022-08-17T19:20:40.227Z"
   },
   {
    "duration": 671,
    "start_time": "2022-08-17T19:20:40.244Z"
   },
   {
    "duration": 7,
    "start_time": "2022-08-17T19:20:40.916Z"
   },
   {
    "duration": 19,
    "start_time": "2022-08-17T19:20:40.924Z"
   },
   {
    "duration": 14,
    "start_time": "2022-08-17T19:20:40.944Z"
   },
   {
    "duration": 88,
    "start_time": "2022-08-17T19:20:40.959Z"
   },
   {
    "duration": 14,
    "start_time": "2022-08-17T19:20:41.048Z"
   },
   {
    "duration": 16,
    "start_time": "2022-08-17T19:20:41.063Z"
   },
   {
    "duration": 51,
    "start_time": "2022-08-17T19:20:41.080Z"
   },
   {
    "duration": 10,
    "start_time": "2022-08-17T19:20:41.133Z"
   },
   {
    "duration": 7,
    "start_time": "2022-08-17T19:20:41.144Z"
   },
   {
    "duration": 7,
    "start_time": "2022-08-17T19:20:41.152Z"
   },
   {
    "duration": 12,
    "start_time": "2022-08-17T19:20:41.160Z"
   },
   {
    "duration": 149,
    "start_time": "2022-08-17T19:20:41.173Z"
   },
   {
    "duration": 5,
    "start_time": "2022-08-17T19:20:41.323Z"
   },
   {
    "duration": 10,
    "start_time": "2022-08-17T19:20:41.329Z"
   },
   {
    "duration": 90,
    "start_time": "2022-08-17T19:20:41.340Z"
   },
   {
    "duration": 4,
    "start_time": "2022-08-17T19:20:41.432Z"
   },
   {
    "duration": 16,
    "start_time": "2022-08-17T19:20:41.437Z"
   },
   {
    "duration": 6,
    "start_time": "2022-08-17T19:20:41.455Z"
   },
   {
    "duration": 154,
    "start_time": "2022-08-17T19:20:41.463Z"
   },
   {
    "duration": 247,
    "start_time": "2022-08-17T19:20:41.618Z"
   },
   {
    "duration": 137,
    "start_time": "2022-08-17T19:20:41.866Z"
   },
   {
    "duration": 181,
    "start_time": "2022-08-17T19:20:42.004Z"
   },
   {
    "duration": 156,
    "start_time": "2022-08-17T19:20:42.187Z"
   },
   {
    "duration": 14,
    "start_time": "2022-08-17T19:20:42.351Z"
   },
   {
    "duration": 10,
    "start_time": "2022-08-17T19:20:42.367Z"
   },
   {
    "duration": 5,
    "start_time": "2022-08-17T19:20:42.378Z"
   },
   {
    "duration": 95,
    "start_time": "2022-08-17T19:20:42.384Z"
   },
   {
    "duration": 15,
    "start_time": "2022-08-17T19:20:42.480Z"
   },
   {
    "duration": 246,
    "start_time": "2022-08-17T19:20:42.505Z"
   },
   {
    "duration": 12,
    "start_time": "2022-08-17T19:20:42.753Z"
   },
   {
    "duration": 24,
    "start_time": "2022-08-17T19:20:42.766Z"
   },
   {
    "duration": 136,
    "start_time": "2022-08-17T19:20:42.791Z"
   },
   {
    "duration": 18,
    "start_time": "2022-08-17T19:20:42.929Z"
   },
   {
    "duration": 19,
    "start_time": "2022-08-17T19:20:42.948Z"
   },
   {
    "duration": 5,
    "start_time": "2022-08-17T19:20:42.968Z"
   },
   {
    "duration": 6,
    "start_time": "2022-08-17T19:20:42.974Z"
   },
   {
    "duration": 25,
    "start_time": "2022-08-17T19:20:42.981Z"
   },
   {
    "duration": 18,
    "start_time": "2022-08-17T19:20:43.007Z"
   },
   {
    "duration": 7,
    "start_time": "2022-08-17T19:20:43.026Z"
   },
   {
    "duration": 6,
    "start_time": "2022-08-17T19:20:43.034Z"
   },
   {
    "duration": 156,
    "start_time": "2022-08-17T19:20:43.041Z"
   },
   {
    "duration": 13,
    "start_time": "2022-08-17T19:20:43.198Z"
   },
   {
    "duration": 10,
    "start_time": "2022-08-17T19:20:43.212Z"
   },
   {
    "duration": 16,
    "start_time": "2022-08-17T19:20:43.223Z"
   },
   {
    "duration": 85,
    "start_time": "2022-08-17T19:20:43.240Z"
   },
   {
    "duration": 85,
    "start_time": "2022-08-17T19:20:43.326Z"
   },
   {
    "duration": 154,
    "start_time": "2022-08-17T19:38:34.324Z"
   },
   {
    "duration": 24,
    "start_time": "2022-08-17T20:07:42.639Z"
   },
   {
    "duration": 14,
    "start_time": "2022-08-17T20:22:14.483Z"
   },
   {
    "duration": 25,
    "start_time": "2022-08-17T20:23:16.322Z"
   },
   {
    "duration": 26,
    "start_time": "2022-08-17T20:24:34.030Z"
   },
   {
    "duration": 25,
    "start_time": "2022-08-17T20:25:34.630Z"
   },
   {
    "duration": 20,
    "start_time": "2022-08-17T20:25:45.949Z"
   },
   {
    "duration": 23,
    "start_time": "2022-08-17T20:25:50.226Z"
   },
   {
    "duration": 31,
    "start_time": "2022-08-17T20:25:52.299Z"
   },
   {
    "duration": 22,
    "start_time": "2022-08-17T20:25:55.774Z"
   },
   {
    "duration": 19,
    "start_time": "2022-08-17T20:26:21.951Z"
   },
   {
    "duration": 19,
    "start_time": "2022-08-17T20:26:47.350Z"
   },
   {
    "duration": 28,
    "start_time": "2022-08-17T20:27:01.850Z"
   },
   {
    "duration": 29,
    "start_time": "2022-08-17T20:27:15.475Z"
   },
   {
    "duration": 5,
    "start_time": "2022-08-17T20:28:19.151Z"
   },
   {
    "duration": 29,
    "start_time": "2022-08-17T20:28:21.202Z"
   },
   {
    "duration": 15,
    "start_time": "2022-08-17T20:28:42.976Z"
   },
   {
    "duration": 35,
    "start_time": "2022-08-17T20:31:52.484Z"
   },
   {
    "duration": 7,
    "start_time": "2022-08-17T20:32:08.403Z"
   },
   {
    "duration": 30,
    "start_time": "2022-08-17T20:32:12.428Z"
   },
   {
    "duration": 29,
    "start_time": "2022-08-17T20:32:22.003Z"
   },
   {
    "duration": 28,
    "start_time": "2022-08-17T20:32:52.879Z"
   },
   {
    "duration": 9,
    "start_time": "2022-08-17T20:38:39.410Z"
   },
   {
    "duration": 18,
    "start_time": "2022-08-17T20:38:47.213Z"
   },
   {
    "duration": 25,
    "start_time": "2022-08-17T20:43:59.711Z"
   },
   {
    "duration": 48,
    "start_time": "2022-08-18T09:53:04.525Z"
   },
   {
    "duration": 1683,
    "start_time": "2022-08-18T09:53:09.476Z"
   },
   {
    "duration": 2151,
    "start_time": "2022-08-18T09:53:14.198Z"
   },
   {
    "duration": 2510,
    "start_time": "2022-08-18T09:58:20.480Z"
   },
   {
    "duration": 683,
    "start_time": "2022-08-18T09:59:36.803Z"
   },
   {
    "duration": 31,
    "start_time": "2022-08-18T10:00:25.656Z"
   },
   {
    "duration": 1122,
    "start_time": "2022-08-18T10:00:44.196Z"
   },
   {
    "duration": 12,
    "start_time": "2022-08-18T10:00:49.138Z"
   },
   {
    "duration": 1643,
    "start_time": "2022-08-18T10:03:39.505Z"
   },
   {
    "duration": 4,
    "start_time": "2022-08-18T10:03:43.850Z"
   },
   {
    "duration": 1467,
    "start_time": "2022-08-18T10:03:44.684Z"
   },
   {
    "duration": 62,
    "start_time": "2022-08-18T10:03:47.704Z"
   },
   {
    "duration": 46,
    "start_time": "2022-08-18T10:03:56.093Z"
   },
   {
    "duration": 2837,
    "start_time": "2022-08-18T10:04:22.597Z"
   },
   {
    "duration": 30,
    "start_time": "2022-08-18T10:04:26.859Z"
   },
   {
    "duration": 20,
    "start_time": "2022-08-18T10:04:28.967Z"
   },
   {
    "duration": 5,
    "start_time": "2022-08-18T10:13:09.039Z"
   },
   {
    "duration": 6,
    "start_time": "2022-08-18T10:13:26.572Z"
   },
   {
    "duration": 10,
    "start_time": "2022-08-18T10:14:21.766Z"
   },
   {
    "duration": 12,
    "start_time": "2022-08-18T10:14:31.529Z"
   },
   {
    "duration": 4,
    "start_time": "2022-08-18T10:14:43.698Z"
   },
   {
    "duration": 236,
    "start_time": "2022-08-18T10:15:18.429Z"
   },
   {
    "duration": 18,
    "start_time": "2022-08-18T10:15:53.077Z"
   },
   {
    "duration": 22,
    "start_time": "2022-08-18T10:16:36.939Z"
   },
   {
    "duration": 7,
    "start_time": "2022-08-18T10:27:54.249Z"
   },
   {
    "duration": 119,
    "start_time": "2022-08-18T10:28:17.026Z"
   },
   {
    "duration": 117,
    "start_time": "2022-08-18T10:28:44.206Z"
   },
   {
    "duration": 238,
    "start_time": "2022-08-18T10:29:00.376Z"
   },
   {
    "duration": 88,
    "start_time": "2022-08-18T10:29:15.057Z"
   },
   {
    "duration": 179,
    "start_time": "2022-08-18T10:29:54.427Z"
   },
   {
    "duration": 211,
    "start_time": "2022-08-18T10:30:34.979Z"
   },
   {
    "duration": 6,
    "start_time": "2022-08-18T10:30:42.797Z"
   },
   {
    "duration": 88,
    "start_time": "2022-08-18T10:30:49.620Z"
   },
   {
    "duration": 194,
    "start_time": "2022-08-18T10:30:56.810Z"
   },
   {
    "duration": 167,
    "start_time": "2022-08-18T10:31:03.937Z"
   },
   {
    "duration": 121,
    "start_time": "2022-08-18T10:31:09.909Z"
   },
   {
    "duration": 98,
    "start_time": "2022-08-18T10:31:15.477Z"
   },
   {
    "duration": 10,
    "start_time": "2022-08-18T10:34:51.700Z"
   },
   {
    "duration": 6,
    "start_time": "2022-08-18T10:35:06.029Z"
   },
   {
    "duration": 14,
    "start_time": "2022-08-18T10:35:18.851Z"
   },
   {
    "duration": 5,
    "start_time": "2022-08-18T10:35:29.750Z"
   },
   {
    "duration": 4233,
    "start_time": "2022-08-18T10:35:39.820Z"
   },
   {
    "duration": 0,
    "start_time": "2022-08-18T10:35:44.055Z"
   },
   {
    "duration": 3,
    "start_time": "2022-08-18T10:35:50.781Z"
   },
   {
    "duration": 2775,
    "start_time": "2022-08-18T10:35:51.188Z"
   },
   {
    "duration": 23,
    "start_time": "2022-08-18T10:35:58.319Z"
   },
   {
    "duration": 15,
    "start_time": "2022-08-18T10:35:58.410Z"
   },
   {
    "duration": 10,
    "start_time": "2022-08-18T10:35:58.650Z"
   },
   {
    "duration": 19,
    "start_time": "2022-08-18T10:35:59.319Z"
   },
   {
    "duration": 6,
    "start_time": "2022-08-18T10:35:59.410Z"
   },
   {
    "duration": 13,
    "start_time": "2022-08-18T10:35:59.679Z"
   },
   {
    "duration": 13,
    "start_time": "2022-08-18T10:35:59.900Z"
   },
   {
    "duration": 15,
    "start_time": "2022-08-18T10:35:59.990Z"
   },
   {
    "duration": 8,
    "start_time": "2022-08-18T10:36:00.150Z"
   },
   {
    "duration": 8,
    "start_time": "2022-08-18T10:36:00.242Z"
   },
   {
    "duration": 12,
    "start_time": "2022-08-18T10:36:00.478Z"
   },
   {
    "duration": 17,
    "start_time": "2022-08-18T10:36:00.492Z"
   },
   {
    "duration": 26,
    "start_time": "2022-08-18T10:36:00.700Z"
   },
   {
    "duration": 22,
    "start_time": "2022-08-18T10:36:01.033Z"
   },
   {
    "duration": 25,
    "start_time": "2022-08-18T10:36:01.082Z"
   },
   {
    "duration": 24,
    "start_time": "2022-08-18T10:36:01.901Z"
   },
   {
    "duration": 21,
    "start_time": "2022-08-18T10:36:02.469Z"
   },
   {
    "duration": 16,
    "start_time": "2022-08-18T10:36:02.759Z"
   },
   {
    "duration": 5,
    "start_time": "2022-08-18T10:36:02.777Z"
   },
   {
    "duration": 18,
    "start_time": "2022-08-18T10:36:02.870Z"
   },
   {
    "duration": 17,
    "start_time": "2022-08-18T10:36:02.948Z"
   },
   {
    "duration": 14,
    "start_time": "2022-08-18T10:36:03.110Z"
   },
   {
    "duration": 5,
    "start_time": "2022-08-18T10:36:03.641Z"
   },
   {
    "duration": 9,
    "start_time": "2022-08-18T10:36:03.648Z"
   },
   {
    "duration": 81,
    "start_time": "2022-08-18T10:36:03.881Z"
   },
   {
    "duration": 84,
    "start_time": "2022-08-18T10:36:04.260Z"
   },
   {
    "duration": 6,
    "start_time": "2022-08-18T10:36:04.346Z"
   },
   {
    "duration": 20,
    "start_time": "2022-08-18T10:36:04.379Z"
   },
   {
    "duration": 499,
    "start_time": "2022-08-18T10:36:04.492Z"
   },
   {
    "duration": 559,
    "start_time": "2022-08-18T10:36:04.994Z"
   },
   {
    "duration": 486,
    "start_time": "2022-08-18T10:36:05.555Z"
   },
   {
    "duration": 306,
    "start_time": "2022-08-18T10:36:06.043Z"
   },
   {
    "duration": 9,
    "start_time": "2022-08-18T10:36:06.991Z"
   },
   {
    "duration": 3782,
    "start_time": "2022-08-18T10:36:07.002Z"
   },
   {
    "duration": 0,
    "start_time": "2022-08-18T10:36:10.785Z"
   },
   {
    "duration": 0,
    "start_time": "2022-08-18T10:36:10.786Z"
   },
   {
    "duration": 0,
    "start_time": "2022-08-18T10:36:10.787Z"
   },
   {
    "duration": 0,
    "start_time": "2022-08-18T10:36:10.789Z"
   },
   {
    "duration": 19,
    "start_time": "2022-08-18T10:36:13.573Z"
   },
   {
    "duration": 32,
    "start_time": "2022-08-18T10:36:15.350Z"
   },
   {
    "duration": 6,
    "start_time": "2022-08-18T10:36:31.130Z"
   },
   {
    "duration": 5,
    "start_time": "2022-08-18T10:36:35.171Z"
   },
   {
    "duration": 10,
    "start_time": "2022-08-18T10:37:01.586Z"
   },
   {
    "duration": 4,
    "start_time": "2022-08-18T10:37:04.231Z"
   },
   {
    "duration": 19,
    "start_time": "2022-08-18T10:37:08.590Z"
   },
   {
    "duration": 9,
    "start_time": "2022-08-18T10:38:04.793Z"
   },
   {
    "duration": 9,
    "start_time": "2022-08-18T10:38:46.182Z"
   },
   {
    "duration": 22,
    "start_time": "2022-08-18T10:39:53.230Z"
   },
   {
    "duration": 26,
    "start_time": "2022-08-18T10:39:53.575Z"
   },
   {
    "duration": 23,
    "start_time": "2022-08-18T10:39:53.900Z"
   },
   {
    "duration": 9,
    "start_time": "2022-08-18T10:39:54.060Z"
   },
   {
    "duration": 17,
    "start_time": "2022-08-18T10:39:54.344Z"
   },
   {
    "duration": 23,
    "start_time": "2022-08-18T10:39:54.502Z"
   },
   {
    "duration": 825,
    "start_time": "2022-08-18T10:39:55.435Z"
   },
   {
    "duration": 11,
    "start_time": "2022-08-18T10:39:56.262Z"
   },
   {
    "duration": 29,
    "start_time": "2022-08-18T10:39:56.275Z"
   },
   {
    "duration": 23,
    "start_time": "2022-08-18T10:39:56.495Z"
   },
   {
    "duration": 9,
    "start_time": "2022-08-18T10:42:31.969Z"
   },
   {
    "duration": 8,
    "start_time": "2022-08-18T10:42:34.202Z"
   },
   {
    "duration": 8,
    "start_time": "2022-08-18T10:42:53.902Z"
   },
   {
    "duration": 745,
    "start_time": "2022-08-18T10:51:04.813Z"
   },
   {
    "duration": 11,
    "start_time": "2022-08-18T10:51:21.085Z"
   },
   {
    "duration": 10,
    "start_time": "2022-08-18T10:52:41.512Z"
   },
   {
    "duration": 12,
    "start_time": "2022-08-18T10:53:33.121Z"
   },
   {
    "duration": 15,
    "start_time": "2022-08-18T10:54:06.717Z"
   },
   {
    "duration": 11,
    "start_time": "2022-08-18T10:54:55.824Z"
   },
   {
    "duration": 9,
    "start_time": "2022-08-18T10:54:59.234Z"
   },
   {
    "duration": 11,
    "start_time": "2022-08-18T10:55:16.362Z"
   },
   {
    "duration": 29,
    "start_time": "2022-08-18T10:57:10.173Z"
   },
   {
    "duration": 28,
    "start_time": "2022-08-18T11:01:51.793Z"
   },
   {
    "duration": 162,
    "start_time": "2022-08-18T11:47:30.161Z"
   },
   {
    "duration": 30,
    "start_time": "2022-08-18T11:50:18.833Z"
   },
   {
    "duration": 7,
    "start_time": "2022-08-18T11:54:33.330Z"
   },
   {
    "duration": 37,
    "start_time": "2022-08-18T11:54:45.343Z"
   },
   {
    "duration": 19,
    "start_time": "2022-08-18T12:05:59.786Z"
   },
   {
    "duration": 17,
    "start_time": "2022-08-18T12:07:32.603Z"
   },
   {
    "duration": 18,
    "start_time": "2022-08-18T12:07:51.625Z"
   },
   {
    "duration": 25,
    "start_time": "2022-08-18T12:08:07.664Z"
   },
   {
    "duration": 20,
    "start_time": "2022-08-18T12:09:10.571Z"
   },
   {
    "duration": 19,
    "start_time": "2022-08-18T12:09:23.203Z"
   },
   {
    "duration": 18,
    "start_time": "2022-08-18T12:11:01.421Z"
   },
   {
    "duration": 117,
    "start_time": "2022-08-18T12:11:03.639Z"
   },
   {
    "duration": 132,
    "start_time": "2022-08-18T12:11:46.423Z"
   },
   {
    "duration": 68,
    "start_time": "2022-08-18T12:12:22.244Z"
   },
   {
    "duration": 102,
    "start_time": "2022-08-18T12:12:29.850Z"
   },
   {
    "duration": 26,
    "start_time": "2022-08-18T12:17:38.098Z"
   },
   {
    "duration": 23,
    "start_time": "2022-08-18T12:17:46.562Z"
   },
   {
    "duration": 19,
    "start_time": "2022-08-18T12:18:18.436Z"
   },
   {
    "duration": 25,
    "start_time": "2022-08-18T12:18:42.497Z"
   },
   {
    "duration": 20,
    "start_time": "2022-08-18T12:18:48.090Z"
   },
   {
    "duration": 24,
    "start_time": "2022-08-18T12:19:16.529Z"
   },
   {
    "duration": 25,
    "start_time": "2022-08-18T12:19:17.857Z"
   },
   {
    "duration": 22,
    "start_time": "2022-08-18T12:19:23.740Z"
   },
   {
    "duration": 20,
    "start_time": "2022-08-18T12:19:24.325Z"
   },
   {
    "duration": 21,
    "start_time": "2022-08-18T12:19:48.889Z"
   },
   {
    "duration": 45,
    "start_time": "2022-08-18T12:19:59.888Z"
   },
   {
    "duration": 6532,
    "start_time": "2022-08-18T12:20:11.080Z"
   },
   {
    "duration": 7,
    "start_time": "2022-08-18T12:20:49.735Z"
   },
   {
    "duration": 13,
    "start_time": "2022-08-18T12:20:55.926Z"
   },
   {
    "duration": 5,
    "start_time": "2022-08-18T12:22:23.919Z"
   },
   {
    "duration": 7,
    "start_time": "2022-08-18T12:22:25.235Z"
   },
   {
    "duration": 145,
    "start_time": "2022-08-18T12:22:43.389Z"
   },
   {
    "duration": 154,
    "start_time": "2022-08-18T12:23:57.589Z"
   },
   {
    "duration": 31,
    "start_time": "2022-08-18T12:25:04.940Z"
   },
   {
    "duration": 13,
    "start_time": "2022-08-18T12:25:19.817Z"
   },
   {
    "duration": 153,
    "start_time": "2022-08-18T12:25:19.934Z"
   },
   {
    "duration": 5,
    "start_time": "2022-08-18T12:25:20.521Z"
   },
   {
    "duration": 5,
    "start_time": "2022-08-18T12:25:22.326Z"
   },
   {
    "duration": 199,
    "start_time": "2022-08-18T12:25:24.638Z"
   },
   {
    "duration": 96,
    "start_time": "2022-08-18T12:25:27.440Z"
   },
   {
    "duration": 92,
    "start_time": "2022-08-18T12:25:58.233Z"
   },
   {
    "duration": 83,
    "start_time": "2022-08-18T12:26:03.252Z"
   },
   {
    "duration": 86,
    "start_time": "2022-08-18T12:26:20.432Z"
   },
   {
    "duration": 8,
    "start_time": "2022-08-18T12:26:47.841Z"
   },
   {
    "duration": 6,
    "start_time": "2022-08-18T12:26:48.370Z"
   },
   {
    "duration": 19,
    "start_time": "2022-08-18T12:26:49.533Z"
   },
   {
    "duration": 4,
    "start_time": "2022-08-18T12:26:50.421Z"
   },
   {
    "duration": 178,
    "start_time": "2022-08-18T12:26:59.724Z"
   },
   {
    "duration": 184,
    "start_time": "2022-08-18T12:27:03.158Z"
   },
   {
    "duration": 141,
    "start_time": "2022-08-18T12:27:06.934Z"
   },
   {
    "duration": 180,
    "start_time": "2022-08-18T12:27:11.253Z"
   },
   {
    "duration": 150,
    "start_time": "2022-08-18T12:27:12.477Z"
   },
   {
    "duration": 12,
    "start_time": "2022-08-18T12:27:16.835Z"
   },
   {
    "duration": 4,
    "start_time": "2022-08-18T12:27:33.116Z"
   },
   {
    "duration": 150,
    "start_time": "2022-08-18T12:27:35.923Z"
   },
   {
    "duration": 126,
    "start_time": "2022-08-18T12:27:39.145Z"
   },
   {
    "duration": 9,
    "start_time": "2022-08-18T12:28:43.414Z"
   },
   {
    "duration": 25,
    "start_time": "2022-08-18T12:29:36.916Z"
   },
   {
    "duration": 4,
    "start_time": "2022-08-18T12:41:14.291Z"
   },
   {
    "duration": 2548,
    "start_time": "2022-08-18T12:41:16.821Z"
   },
   {
    "duration": 0,
    "start_time": "2022-08-18T12:41:19.371Z"
   },
   {
    "duration": 1655,
    "start_time": "2022-08-18T12:42:05.511Z"
   },
   {
    "duration": 9,
    "start_time": "2022-08-18T12:42:14.618Z"
   },
   {
    "duration": 11,
    "start_time": "2022-08-18T12:42:27.932Z"
   },
   {
    "duration": 3566,
    "start_time": "2022-08-18T12:42:34.748Z"
   },
   {
    "duration": 4,
    "start_time": "2022-08-18T12:42:40.571Z"
   },
   {
    "duration": 13,
    "start_time": "2022-08-18T12:42:58.652Z"
   },
   {
    "duration": 12,
    "start_time": "2022-08-18T12:43:09.472Z"
   },
   {
    "duration": 24,
    "start_time": "2022-08-18T12:43:13.915Z"
   },
   {
    "duration": 4,
    "start_time": "2022-08-18T12:44:57.742Z"
   },
   {
    "duration": 16,
    "start_time": "2022-08-18T12:44:59.781Z"
   },
   {
    "duration": 39,
    "start_time": "2022-08-18T12:45:08.032Z"
   },
   {
    "duration": 4,
    "start_time": "2022-08-18T12:45:33.812Z"
   },
   {
    "duration": 3532,
    "start_time": "2022-08-18T12:45:33.818Z"
   },
   {
    "duration": 6,
    "start_time": "2022-08-18T12:45:38.124Z"
   },
   {
    "duration": 17,
    "start_time": "2022-08-18T12:45:38.423Z"
   },
   {
    "duration": 37,
    "start_time": "2022-08-18T12:47:50.373Z"
   },
   {
    "duration": 8,
    "start_time": "2022-08-18T12:48:02.513Z"
   },
   {
    "duration": 11,
    "start_time": "2022-08-18T12:49:14.043Z"
   },
   {
    "duration": 9,
    "start_time": "2022-08-18T12:49:23.012Z"
   },
   {
    "duration": 5,
    "start_time": "2022-08-18T12:53:30.379Z"
   },
   {
    "duration": 5,
    "start_time": "2022-08-18T12:53:41.571Z"
   },
   {
    "duration": 40,
    "start_time": "2022-08-18T12:53:42.482Z"
   },
   {
    "duration": 5,
    "start_time": "2022-08-18T12:54:43.166Z"
   },
   {
    "duration": 29,
    "start_time": "2022-08-18T12:54:43.998Z"
   },
   {
    "duration": 9,
    "start_time": "2022-08-18T12:55:22.125Z"
   },
   {
    "duration": 36,
    "start_time": "2022-08-18T12:57:10.221Z"
   },
   {
    "duration": 7,
    "start_time": "2022-08-18T12:57:19.275Z"
   },
   {
    "duration": 7,
    "start_time": "2022-08-18T12:57:22.669Z"
   },
   {
    "duration": 2,
    "start_time": "2022-08-18T12:59:40.627Z"
   },
   {
    "duration": 15,
    "start_time": "2022-08-18T12:59:43.197Z"
   },
   {
    "duration": 5,
    "start_time": "2022-08-18T12:59:44.975Z"
   },
   {
    "duration": 15,
    "start_time": "2022-08-18T12:59:46.113Z"
   },
   {
    "duration": 4,
    "start_time": "2022-08-18T12:59:56.297Z"
   },
   {
    "duration": 23,
    "start_time": "2022-08-18T13:00:23.169Z"
   },
   {
    "duration": 4,
    "start_time": "2022-08-18T13:00:27.376Z"
   },
   {
    "duration": 33,
    "start_time": "2022-08-18T13:00:30.045Z"
   },
   {
    "duration": 88,
    "start_time": "2022-08-18T13:28:21.006Z"
   },
   {
    "duration": 4,
    "start_time": "2022-08-18T13:28:35.325Z"
   },
   {
    "duration": 32,
    "start_time": "2022-08-18T13:28:38.854Z"
   },
   {
    "duration": 9,
    "start_time": "2022-08-18T13:28:43.768Z"
   },
   {
    "duration": 14,
    "start_time": "2022-08-18T13:28:44.695Z"
   },
   {
    "duration": 6,
    "start_time": "2022-08-18T13:29:56.196Z"
   },
   {
    "duration": 24,
    "start_time": "2022-08-18T13:29:58.611Z"
   },
   {
    "duration": 8,
    "start_time": "2022-08-18T13:30:17.596Z"
   },
   {
    "duration": 10,
    "start_time": "2022-08-18T13:30:20.189Z"
   },
   {
    "duration": 106,
    "start_time": "2022-08-18T13:32:20.179Z"
   },
   {
    "duration": 11,
    "start_time": "2022-08-18T13:32:49.565Z"
   },
   {
    "duration": 5,
    "start_time": "2022-08-18T13:32:53.294Z"
   },
   {
    "duration": 11,
    "start_time": "2022-08-18T13:32:55.826Z"
   },
   {
    "duration": 25,
    "start_time": "2022-08-18T13:33:11.010Z"
   },
   {
    "duration": 4,
    "start_time": "2022-08-18T13:33:20.913Z"
   },
   {
    "duration": 2181,
    "start_time": "2022-08-18T13:33:22.580Z"
   },
   {
    "duration": 6,
    "start_time": "2022-08-18T13:33:25.825Z"
   },
   {
    "duration": 16,
    "start_time": "2022-08-18T13:33:27.427Z"
   },
   {
    "duration": 18,
    "start_time": "2022-08-18T13:33:35.942Z"
   },
   {
    "duration": 4,
    "start_time": "2022-08-18T13:33:43.887Z"
   },
   {
    "duration": 2199,
    "start_time": "2022-08-18T13:33:50.298Z"
   },
   {
    "duration": 5,
    "start_time": "2022-08-18T13:33:53.546Z"
   },
   {
    "duration": 17,
    "start_time": "2022-08-18T13:33:54.381Z"
   },
   {
    "duration": 15,
    "start_time": "2022-08-18T13:34:28.689Z"
   },
   {
    "duration": 16,
    "start_time": "2022-08-18T13:34:37.896Z"
   },
   {
    "duration": 13,
    "start_time": "2022-08-18T13:34:40.884Z"
   },
   {
    "duration": 7,
    "start_time": "2022-08-18T13:35:07.050Z"
   },
   {
    "duration": 9,
    "start_time": "2022-08-18T13:37:18.985Z"
   },
   {
    "duration": 4,
    "start_time": "2022-08-18T13:37:28.838Z"
   },
   {
    "duration": 9,
    "start_time": "2022-08-18T13:37:29.318Z"
   },
   {
    "duration": 9,
    "start_time": "2022-08-18T13:37:36.149Z"
   },
   {
    "duration": 10,
    "start_time": "2022-08-18T13:37:43.311Z"
   },
   {
    "duration": 14,
    "start_time": "2022-08-18T13:38:22.576Z"
   },
   {
    "duration": 37,
    "start_time": "2022-08-18T13:38:30.899Z"
   },
   {
    "duration": 12,
    "start_time": "2022-08-18T13:38:32.701Z"
   },
   {
    "duration": 10,
    "start_time": "2022-08-18T13:38:47.785Z"
   },
   {
    "duration": 6,
    "start_time": "2022-08-18T13:38:50.169Z"
   },
   {
    "duration": 9,
    "start_time": "2022-08-18T13:38:50.648Z"
   },
   {
    "duration": 8,
    "start_time": "2022-08-18T13:38:55.776Z"
   },
   {
    "duration": 10,
    "start_time": "2022-08-18T13:39:15.110Z"
   },
   {
    "duration": 2007,
    "start_time": "2022-08-18T13:39:54.673Z"
   },
   {
    "duration": 43,
    "start_time": "2022-08-18T13:39:58.937Z"
   },
   {
    "duration": 9,
    "start_time": "2022-08-18T13:40:11.520Z"
   },
   {
    "duration": 2256,
    "start_time": "2022-08-18T13:40:14.893Z"
   },
   {
    "duration": 6,
    "start_time": "2022-08-18T13:40:17.152Z"
   },
   {
    "duration": 22,
    "start_time": "2022-08-18T13:40:30.482Z"
   },
   {
    "duration": 18,
    "start_time": "2022-08-18T13:40:40.669Z"
   },
   {
    "duration": 14,
    "start_time": "2022-08-18T13:40:43.818Z"
   },
   {
    "duration": 9,
    "start_time": "2022-08-18T13:40:47.389Z"
   },
   {
    "duration": 6,
    "start_time": "2022-08-18T13:41:53.649Z"
   },
   {
    "duration": 26,
    "start_time": "2022-08-18T13:41:53.657Z"
   },
   {
    "duration": 6,
    "start_time": "2022-08-18T13:42:08.436Z"
   },
   {
    "duration": 6,
    "start_time": "2022-08-18T13:42:19.450Z"
   },
   {
    "duration": 11,
    "start_time": "2022-08-18T13:42:21.228Z"
   },
   {
    "duration": 5,
    "start_time": "2022-08-18T13:42:29.891Z"
   },
   {
    "duration": 17,
    "start_time": "2022-08-18T13:42:30.249Z"
   },
   {
    "duration": 11,
    "start_time": "2022-08-18T13:42:32.585Z"
   },
   {
    "duration": 24,
    "start_time": "2022-08-18T13:42:32.789Z"
   },
   {
    "duration": 5,
    "start_time": "2022-08-18T13:48:50.809Z"
   },
   {
    "duration": 10,
    "start_time": "2022-08-18T13:48:54.207Z"
   },
   {
    "duration": 17,
    "start_time": "2022-08-18T13:48:57.338Z"
   },
   {
    "duration": 26,
    "start_time": "2022-08-18T13:49:00.268Z"
   },
   {
    "duration": 6,
    "start_time": "2022-08-18T13:49:06.696Z"
   },
   {
    "duration": 17,
    "start_time": "2022-08-18T13:49:09.551Z"
   },
   {
    "duration": 20,
    "start_time": "2022-08-18T13:49:11.318Z"
   },
   {
    "duration": 9,
    "start_time": "2022-08-18T13:49:11.341Z"
   },
   {
    "duration": 175,
    "start_time": "2022-08-18T13:50:58.910Z"
   },
   {
    "duration": 291,
    "start_time": "2022-08-18T13:51:02.646Z"
   },
   {
    "duration": 137,
    "start_time": "2022-08-18T13:51:46.017Z"
   },
   {
    "duration": 155,
    "start_time": "2022-08-18T13:51:54.567Z"
   },
   {
    "duration": 187,
    "start_time": "2022-08-18T13:52:14.250Z"
   },
   {
    "duration": 148,
    "start_time": "2022-08-18T13:52:18.889Z"
   },
   {
    "duration": 154,
    "start_time": "2022-08-18T13:52:33.939Z"
   },
   {
    "duration": 173,
    "start_time": "2022-08-18T13:52:41.780Z"
   },
   {
    "duration": 167,
    "start_time": "2022-08-18T13:53:31.032Z"
   },
   {
    "duration": 149,
    "start_time": "2022-08-18T13:53:36.235Z"
   },
   {
    "duration": 177,
    "start_time": "2022-08-18T13:53:43.956Z"
   },
   {
    "duration": 210,
    "start_time": "2022-08-18T13:54:01.380Z"
   },
   {
    "duration": 188,
    "start_time": "2022-08-18T13:54:21.726Z"
   },
   {
    "duration": 181,
    "start_time": "2022-08-18T13:54:34.911Z"
   },
   {
    "duration": 151,
    "start_time": "2022-08-18T13:55:42.311Z"
   },
   {
    "duration": 15,
    "start_time": "2022-08-18T13:56:00.384Z"
   },
   {
    "duration": 4,
    "start_time": "2022-08-18T13:56:11.991Z"
   },
   {
    "duration": 268,
    "start_time": "2022-08-18T13:56:12.533Z"
   },
   {
    "duration": 18,
    "start_time": "2022-08-18T13:56:14.711Z"
   },
   {
    "duration": 384,
    "start_time": "2022-08-18T13:56:20.590Z"
   },
   {
    "duration": 16,
    "start_time": "2022-08-18T13:56:24.235Z"
   },
   {
    "duration": 26,
    "start_time": "2022-08-18T13:56:27.597Z"
   },
   {
    "duration": 177,
    "start_time": "2022-08-18T13:56:37.451Z"
   },
   {
    "duration": 22,
    "start_time": "2022-08-18T13:56:39.690Z"
   },
   {
    "duration": 30,
    "start_time": "2022-08-18T13:56:42.768Z"
   },
   {
    "duration": 5,
    "start_time": "2022-08-18T13:56:44.202Z"
   },
   {
    "duration": 7,
    "start_time": "2022-08-18T13:56:45.058Z"
   },
   {
    "duration": 9,
    "start_time": "2022-08-18T13:57:06.685Z"
   },
   {
    "duration": 20,
    "start_time": "2022-08-18T13:57:09.441Z"
   },
   {
    "duration": 8,
    "start_time": "2022-08-18T13:57:11.123Z"
   },
   {
    "duration": 6,
    "start_time": "2022-08-18T13:57:14.444Z"
   },
   {
    "duration": 9,
    "start_time": "2022-08-18T14:00:55.905Z"
   },
   {
    "duration": 4,
    "start_time": "2022-08-18T14:01:00.395Z"
   },
   {
    "duration": 18,
    "start_time": "2022-08-18T14:01:05.830Z"
   },
   {
    "duration": 14,
    "start_time": "2022-08-18T14:01:11.235Z"
   },
   {
    "duration": 11,
    "start_time": "2022-08-18T14:01:19.806Z"
   },
   {
    "duration": 19,
    "start_time": "2022-08-18T14:02:14.713Z"
   },
   {
    "duration": 47,
    "start_time": "2022-08-18T14:04:25.759Z"
   },
   {
    "duration": 44,
    "start_time": "2022-08-18T14:04:48.953Z"
   },
   {
    "duration": 41,
    "start_time": "2022-08-18T14:05:12.878Z"
   },
   {
    "duration": 40,
    "start_time": "2022-08-18T14:05:30.788Z"
   },
   {
    "duration": 38,
    "start_time": "2022-08-18T14:05:49.171Z"
   },
   {
    "duration": 871,
    "start_time": "2022-08-18T14:05:51.310Z"
   },
   {
    "duration": 48,
    "start_time": "2022-08-18T14:06:04.194Z"
   },
   {
    "duration": 41,
    "start_time": "2022-08-18T14:06:10.193Z"
   },
   {
    "duration": 5,
    "start_time": "2022-08-18T14:15:48.952Z"
   },
   {
    "duration": 17,
    "start_time": "2022-08-18T14:16:08.401Z"
   },
   {
    "duration": 4,
    "start_time": "2022-08-18T14:16:15.601Z"
   },
   {
    "duration": 32,
    "start_time": "2022-08-18T14:16:16.630Z"
   },
   {
    "duration": 5,
    "start_time": "2022-08-18T14:16:36.353Z"
   },
   {
    "duration": 25,
    "start_time": "2022-08-18T14:16:36.930Z"
   },
   {
    "duration": 3,
    "start_time": "2022-08-18T14:17:07.773Z"
   },
   {
    "duration": 3,
    "start_time": "2022-08-18T14:17:18.245Z"
   },
   {
    "duration": 5,
    "start_time": "2022-08-18T14:17:26.239Z"
   },
   {
    "duration": 17,
    "start_time": "2022-08-18T14:17:27.277Z"
   },
   {
    "duration": 5917,
    "start_time": "2022-08-18T14:17:32.324Z"
   },
   {
    "duration": 3,
    "start_time": "2022-08-18T14:18:13.228Z"
   },
   {
    "duration": 4,
    "start_time": "2022-08-18T14:18:48.847Z"
   },
   {
    "duration": 16,
    "start_time": "2022-08-18T14:18:49.631Z"
   },
   {
    "duration": 5779,
    "start_time": "2022-08-18T14:18:54.371Z"
   },
   {
    "duration": 21,
    "start_time": "2022-08-18T14:19:03.618Z"
   },
   {
    "duration": 4,
    "start_time": "2022-08-18T14:19:17.059Z"
   },
   {
    "duration": 18,
    "start_time": "2022-08-18T14:19:17.300Z"
   },
   {
    "duration": 14,
    "start_time": "2022-08-18T14:19:30.363Z"
   },
   {
    "duration": 18,
    "start_time": "2022-08-18T14:19:36.195Z"
   },
   {
    "duration": 21,
    "start_time": "2022-08-18T14:19:38.810Z"
   },
   {
    "duration": 16,
    "start_time": "2022-08-18T14:19:53.367Z"
   },
   {
    "duration": 16,
    "start_time": "2022-08-18T14:19:58.022Z"
   },
   {
    "duration": 15,
    "start_time": "2022-08-18T14:23:02.372Z"
   },
   {
    "duration": 4,
    "start_time": "2022-08-18T14:26:03.778Z"
   },
   {
    "duration": 3,
    "start_time": "2022-08-18T14:26:10.680Z"
   },
   {
    "duration": 4,
    "start_time": "2022-08-18T14:26:29.448Z"
   },
   {
    "duration": 5,
    "start_time": "2022-08-18T14:27:44.725Z"
   },
   {
    "duration": 13,
    "start_time": "2022-08-18T14:27:45.197Z"
   },
   {
    "duration": 6,
    "start_time": "2022-08-18T14:28:51.603Z"
   },
   {
    "duration": 15,
    "start_time": "2022-08-18T14:28:52.879Z"
   },
   {
    "duration": 5,
    "start_time": "2022-08-18T14:29:05.677Z"
   },
   {
    "duration": 11,
    "start_time": "2022-08-18T14:29:06.327Z"
   },
   {
    "duration": 5,
    "start_time": "2022-08-18T14:29:27.845Z"
   },
   {
    "duration": 16,
    "start_time": "2022-08-18T14:29:28.550Z"
   },
   {
    "duration": 4,
    "start_time": "2022-08-18T14:30:03.047Z"
   },
   {
    "duration": 13,
    "start_time": "2022-08-18T14:30:03.436Z"
   },
   {
    "duration": 4,
    "start_time": "2022-08-18T14:30:23.452Z"
   },
   {
    "duration": 24,
    "start_time": "2022-08-18T14:30:23.877Z"
   },
   {
    "duration": 6,
    "start_time": "2022-08-18T14:43:48.997Z"
   },
   {
    "duration": 5,
    "start_time": "2022-08-18T14:43:59.240Z"
   },
   {
    "duration": 11,
    "start_time": "2022-08-18T14:44:28.833Z"
   },
   {
    "duration": 10,
    "start_time": "2022-08-18T14:44:40.491Z"
   },
   {
    "duration": 6,
    "start_time": "2022-08-18T14:44:46.041Z"
   },
   {
    "duration": 6,
    "start_time": "2022-08-18T14:44:53.677Z"
   },
   {
    "duration": 12,
    "start_time": "2022-08-18T14:47:29.611Z"
   },
   {
    "duration": 17,
    "start_time": "2022-08-18T14:47:32.316Z"
   },
   {
    "duration": 5,
    "start_time": "2022-08-18T14:47:57.861Z"
   },
   {
    "duration": 7,
    "start_time": "2022-08-18T14:48:04.752Z"
   },
   {
    "duration": 90,
    "start_time": "2022-08-18T14:51:21.090Z"
   },
   {
    "duration": 5,
    "start_time": "2022-08-18T14:51:28.932Z"
   },
   {
    "duration": 5,
    "start_time": "2022-08-18T14:51:29.601Z"
   },
   {
    "duration": 7,
    "start_time": "2022-08-18T14:51:42.942Z"
   },
   {
    "duration": 5,
    "start_time": "2022-08-18T14:52:18.576Z"
   },
   {
    "duration": 5,
    "start_time": "2022-08-18T14:52:36.350Z"
   },
   {
    "duration": 14,
    "start_time": "2022-08-18T14:53:03.583Z"
   },
   {
    "duration": 4,
    "start_time": "2022-08-18T14:53:52.892Z"
   },
   {
    "duration": 16,
    "start_time": "2022-08-18T14:53:55.902Z"
   },
   {
    "duration": 5,
    "start_time": "2022-08-18T14:54:02.427Z"
   },
   {
    "duration": 21,
    "start_time": "2022-08-18T14:54:02.920Z"
   },
   {
    "duration": 8,
    "start_time": "2022-08-18T14:54:10.463Z"
   },
   {
    "duration": 15,
    "start_time": "2022-08-18T14:54:10.791Z"
   },
   {
    "duration": 13,
    "start_time": "2022-08-18T14:54:20.801Z"
   },
   {
    "duration": 77,
    "start_time": "2022-08-18T14:57:00.636Z"
   },
   {
    "duration": 4,
    "start_time": "2022-08-18T14:57:00.884Z"
   },
   {
    "duration": 80,
    "start_time": "2022-08-18T14:57:10.416Z"
   },
   {
    "duration": 4,
    "start_time": "2022-08-18T14:57:10.913Z"
   },
   {
    "duration": 77,
    "start_time": "2022-08-18T14:57:16.325Z"
   },
   {
    "duration": 6,
    "start_time": "2022-08-18T14:57:23.526Z"
   },
   {
    "duration": 5,
    "start_time": "2022-08-18T14:57:26.438Z"
   },
   {
    "duration": 5,
    "start_time": "2022-08-18T14:58:45.958Z"
   },
   {
    "duration": 42,
    "start_time": "2022-08-18T14:58:58.556Z"
   },
   {
    "duration": 7,
    "start_time": "2022-08-18T14:58:59.116Z"
   },
   {
    "duration": 4,
    "start_time": "2022-08-18T14:59:03.358Z"
   },
   {
    "duration": 21,
    "start_time": "2022-08-18T14:59:06.634Z"
   },
   {
    "duration": 6,
    "start_time": "2022-08-18T14:59:08.135Z"
   },
   {
    "duration": 21,
    "start_time": "2022-08-18T15:00:07.997Z"
   },
   {
    "duration": 6,
    "start_time": "2022-08-18T15:00:15.533Z"
   },
   {
    "duration": 41,
    "start_time": "2022-08-18T15:00:17.815Z"
   },
   {
    "duration": 105,
    "start_time": "2022-08-18T15:00:58.674Z"
   },
   {
    "duration": 45,
    "start_time": "2022-08-18T15:01:00.891Z"
   },
   {
    "duration": 6,
    "start_time": "2022-08-18T15:01:22.381Z"
   },
   {
    "duration": 5,
    "start_time": "2022-08-18T15:01:40.875Z"
   },
   {
    "duration": 39,
    "start_time": "2022-08-18T15:01:42.946Z"
   },
   {
    "duration": 5,
    "start_time": "2022-08-18T15:02:58.127Z"
   },
   {
    "duration": 47,
    "start_time": "2022-08-18T15:03:01.397Z"
   },
   {
    "duration": 78,
    "start_time": "2022-08-18T15:04:39.844Z"
   },
   {
    "duration": 41,
    "start_time": "2022-08-18T15:04:41.438Z"
   },
   {
    "duration": 40,
    "start_time": "2022-08-18T15:05:00.194Z"
   },
   {
    "duration": 4,
    "start_time": "2022-08-18T15:05:22.161Z"
   },
   {
    "duration": 20,
    "start_time": "2022-08-18T15:05:27.521Z"
   },
   {
    "duration": 13,
    "start_time": "2022-08-18T15:08:32.113Z"
   },
   {
    "duration": 17,
    "start_time": "2022-08-18T15:08:32.235Z"
   },
   {
    "duration": 7,
    "start_time": "2022-08-18T15:08:32.410Z"
   },
   {
    "duration": 355,
    "start_time": "2022-08-18T15:08:36.519Z"
   },
   {
    "duration": 197,
    "start_time": "2022-08-18T15:08:36.876Z"
   },
   {
    "duration": 159,
    "start_time": "2022-08-18T15:08:37.074Z"
   },
   {
    "duration": 160,
    "start_time": "2022-08-18T15:08:37.235Z"
   },
   {
    "duration": 135,
    "start_time": "2022-08-18T15:08:41.691Z"
   },
   {
    "duration": 163,
    "start_time": "2022-08-18T15:08:41.890Z"
   },
   {
    "duration": 186,
    "start_time": "2022-08-18T15:09:28.888Z"
   },
   {
    "duration": 179,
    "start_time": "2022-08-18T15:09:48.868Z"
   },
   {
    "duration": 182,
    "start_time": "2022-08-18T15:10:00.820Z"
   },
   {
    "duration": 144,
    "start_time": "2022-08-18T15:11:17.925Z"
   },
   {
    "duration": 173,
    "start_time": "2022-08-18T15:12:25.600Z"
   },
   {
    "duration": 169,
    "start_time": "2022-08-18T15:12:28.676Z"
   },
   {
    "duration": 164,
    "start_time": "2022-08-18T15:13:07.796Z"
   },
   {
    "duration": 178,
    "start_time": "2022-08-18T15:13:44.193Z"
   },
   {
    "duration": 187,
    "start_time": "2022-08-18T15:14:18.811Z"
   },
   {
    "duration": 190,
    "start_time": "2022-08-18T15:14:32.679Z"
   },
   {
    "duration": 213,
    "start_time": "2022-08-18T15:15:06.552Z"
   },
   {
    "duration": 175,
    "start_time": "2022-08-18T15:15:19.356Z"
   },
   {
    "duration": 13,
    "start_time": "2022-08-18T15:15:22.833Z"
   },
   {
    "duration": 137,
    "start_time": "2022-08-18T15:17:29.098Z"
   },
   {
    "duration": 291,
    "start_time": "2022-08-18T15:17:35.803Z"
   },
   {
    "duration": 29,
    "start_time": "2022-08-18T15:18:36.677Z"
   },
   {
    "duration": 146,
    "start_time": "2022-08-18T15:18:37.581Z"
   },
   {
    "duration": 10,
    "start_time": "2022-08-18T15:22:36.868Z"
   },
   {
    "duration": 124,
    "start_time": "2022-08-18T15:22:56.286Z"
   },
   {
    "duration": 21,
    "start_time": "2022-08-18T15:22:58.970Z"
   },
   {
    "duration": 5,
    "start_time": "2022-08-18T15:25:16.876Z"
   },
   {
    "duration": 5,
    "start_time": "2022-08-18T15:25:32.478Z"
   },
   {
    "duration": 4,
    "start_time": "2022-08-18T15:25:32.752Z"
   },
   {
    "duration": 111,
    "start_time": "2022-08-18T15:25:37.876Z"
   },
   {
    "duration": 21,
    "start_time": "2022-08-18T15:25:40.969Z"
   },
   {
    "duration": 435,
    "start_time": "2022-08-18T15:25:44.738Z"
   },
   {
    "duration": 14,
    "start_time": "2022-08-18T15:25:45.224Z"
   },
   {
    "duration": 34,
    "start_time": "2022-08-18T15:30:19.190Z"
   },
   {
    "duration": 44,
    "start_time": "2022-08-18T15:30:27.083Z"
   },
   {
    "duration": 46,
    "start_time": "2022-08-18T15:30:36.597Z"
   },
   {
    "duration": 19,
    "start_time": "2022-08-18T15:30:45.623Z"
   },
   {
    "duration": 43,
    "start_time": "2022-08-18T15:31:09.521Z"
   },
   {
    "duration": 4,
    "start_time": "2022-08-18T15:31:12.969Z"
   },
   {
    "duration": 79,
    "start_time": "2022-08-18T15:31:15.919Z"
   },
   {
    "duration": 37,
    "start_time": "2022-08-18T15:31:20.708Z"
   },
   {
    "duration": 41,
    "start_time": "2022-08-18T15:31:31.130Z"
   },
   {
    "duration": 35,
    "start_time": "2022-08-18T15:31:38.749Z"
   },
   {
    "duration": 40,
    "start_time": "2022-08-18T15:32:06.414Z"
   },
   {
    "duration": 38,
    "start_time": "2022-08-18T15:32:32.590Z"
   },
   {
    "duration": 47,
    "start_time": "2022-08-18T15:32:53.134Z"
   },
   {
    "duration": 22,
    "start_time": "2022-08-18T15:34:17.397Z"
   },
   {
    "duration": 9,
    "start_time": "2022-08-18T15:34:24.209Z"
   },
   {
    "duration": 13,
    "start_time": "2022-08-18T15:35:32.543Z"
   },
   {
    "duration": 6,
    "start_time": "2022-08-18T15:37:04.067Z"
   },
   {
    "duration": 29,
    "start_time": "2022-08-18T15:39:01.328Z"
   },
   {
    "duration": 26,
    "start_time": "2022-08-18T16:31:59.719Z"
   },
   {
    "duration": 31,
    "start_time": "2022-08-18T16:32:22.401Z"
   },
   {
    "duration": 31,
    "start_time": "2022-08-18T16:33:03.566Z"
   },
   {
    "duration": 28,
    "start_time": "2022-08-18T16:33:08.953Z"
   },
   {
    "duration": 30,
    "start_time": "2022-08-18T16:33:22.290Z"
   },
   {
    "duration": 14,
    "start_time": "2022-08-18T16:33:28.168Z"
   },
   {
    "duration": 19,
    "start_time": "2022-08-18T16:34:51.644Z"
   },
   {
    "duration": 12,
    "start_time": "2022-08-18T16:35:01.407Z"
   },
   {
    "duration": 11,
    "start_time": "2022-08-18T16:35:20.298Z"
   },
   {
    "duration": 14,
    "start_time": "2022-08-18T16:35:29.441Z"
   },
   {
    "duration": 111,
    "start_time": "2022-08-18T16:38:02.984Z"
   },
   {
    "duration": 27,
    "start_time": "2022-08-18T16:38:18.733Z"
   },
   {
    "duration": 19,
    "start_time": "2022-08-18T16:38:23.897Z"
   },
   {
    "duration": 25,
    "start_time": "2022-08-18T16:38:40.234Z"
   },
   {
    "duration": 24,
    "start_time": "2022-08-18T16:38:47.649Z"
   },
   {
    "duration": 79,
    "start_time": "2022-08-18T16:39:25.956Z"
   },
   {
    "duration": 28,
    "start_time": "2022-08-18T16:39:30.548Z"
   },
   {
    "duration": 25,
    "start_time": "2022-08-18T16:41:55.097Z"
   },
   {
    "duration": 74,
    "start_time": "2022-08-18T16:42:05.417Z"
   },
   {
    "duration": 24,
    "start_time": "2022-08-18T16:42:20.938Z"
   },
   {
    "duration": 24,
    "start_time": "2022-08-18T16:42:27.976Z"
   },
   {
    "duration": 26,
    "start_time": "2022-08-18T16:44:29.181Z"
   },
   {
    "duration": 28,
    "start_time": "2022-08-18T16:44:38.143Z"
   },
   {
    "duration": 31,
    "start_time": "2022-08-18T16:44:41.669Z"
   },
   {
    "duration": 27,
    "start_time": "2022-08-18T16:44:58.526Z"
   },
   {
    "duration": 27,
    "start_time": "2022-08-18T16:45:03.265Z"
   },
   {
    "duration": 28,
    "start_time": "2022-08-18T16:46:29.111Z"
   },
   {
    "duration": 342,
    "start_time": "2022-08-18T16:48:42.011Z"
   },
   {
    "duration": 24,
    "start_time": "2022-08-18T16:49:01.820Z"
   },
   {
    "duration": 36,
    "start_time": "2022-08-18T16:49:36.722Z"
   },
   {
    "duration": 75,
    "start_time": "2022-08-18T16:49:55.064Z"
   },
   {
    "duration": 27,
    "start_time": "2022-08-18T16:50:01.818Z"
   },
   {
    "duration": 28,
    "start_time": "2022-08-18T16:51:48.725Z"
   },
   {
    "duration": 186,
    "start_time": "2022-08-18T16:53:02.348Z"
   },
   {
    "duration": 209,
    "start_time": "2022-08-18T16:53:46.744Z"
   },
   {
    "duration": 17,
    "start_time": "2022-08-18T16:55:36.219Z"
   },
   {
    "duration": 181,
    "start_time": "2022-08-18T16:58:02.163Z"
   },
   {
    "duration": 172,
    "start_time": "2022-08-18T16:58:15.938Z"
   },
   {
    "duration": 190,
    "start_time": "2022-08-18T16:58:29.746Z"
   },
   {
    "duration": 178,
    "start_time": "2022-08-18T16:59:07.592Z"
   },
   {
    "duration": 5,
    "start_time": "2022-08-18T16:59:42.916Z"
   },
   {
    "duration": 30,
    "start_time": "2022-08-18T17:01:15.008Z"
   },
   {
    "duration": 216,
    "start_time": "2022-08-18T17:01:45.983Z"
   },
   {
    "duration": 123,
    "start_time": "2022-08-18T17:02:28.108Z"
   },
   {
    "duration": 83,
    "start_time": "2022-08-18T17:07:57.810Z"
   },
   {
    "duration": 18,
    "start_time": "2022-08-18T17:08:06.209Z"
   },
   {
    "duration": 12,
    "start_time": "2022-08-18T17:08:18.190Z"
   },
   {
    "duration": 15,
    "start_time": "2022-08-18T17:08:22.230Z"
   },
   {
    "duration": 23,
    "start_time": "2022-08-18T17:08:45.572Z"
   },
   {
    "duration": 26,
    "start_time": "2022-08-18T17:08:56.257Z"
   },
   {
    "duration": 13,
    "start_time": "2022-08-18T17:09:21.131Z"
   },
   {
    "duration": 14,
    "start_time": "2022-08-18T17:09:47.116Z"
   },
   {
    "duration": 16,
    "start_time": "2022-08-18T17:09:55.049Z"
   },
   {
    "duration": 15,
    "start_time": "2022-08-18T17:10:04.420Z"
   },
   {
    "duration": 14,
    "start_time": "2022-08-18T17:10:08.138Z"
   },
   {
    "duration": 14,
    "start_time": "2022-08-18T17:10:10.929Z"
   },
   {
    "duration": 15,
    "start_time": "2022-08-18T17:10:23.955Z"
   },
   {
    "duration": 13,
    "start_time": "2022-08-18T17:10:29.035Z"
   },
   {
    "duration": 22,
    "start_time": "2022-08-18T17:10:38.583Z"
   },
   {
    "duration": 14,
    "start_time": "2022-08-18T17:10:51.012Z"
   },
   {
    "duration": 33,
    "start_time": "2022-08-18T17:14:19.185Z"
   },
   {
    "duration": 27,
    "start_time": "2022-08-18T17:14:36.436Z"
   },
   {
    "duration": 47,
    "start_time": "2022-08-18T17:14:59.992Z"
   },
   {
    "duration": 142,
    "start_time": "2022-08-18T17:15:13.678Z"
   },
   {
    "duration": 563,
    "start_time": "2022-08-18T17:15:29.208Z"
   },
   {
    "duration": 15,
    "start_time": "2022-08-18T17:15:30.379Z"
   },
   {
    "duration": 148,
    "start_time": "2022-08-18T17:15:50.064Z"
   },
   {
    "duration": 190,
    "start_time": "2022-08-18T17:15:51.969Z"
   },
   {
    "duration": 29,
    "start_time": "2022-08-18T17:15:52.662Z"
   },
   {
    "duration": 33,
    "start_time": "2022-08-18T17:15:54.964Z"
   },
   {
    "duration": 23,
    "start_time": "2022-08-18T17:16:01.445Z"
   },
   {
    "duration": 19,
    "start_time": "2022-08-18T17:16:12.234Z"
   },
   {
    "duration": 11,
    "start_time": "2022-08-18T17:16:43.282Z"
   },
   {
    "duration": 18,
    "start_time": "2022-08-18T17:16:49.518Z"
   },
   {
    "duration": 11,
    "start_time": "2022-08-18T17:16:51.325Z"
   },
   {
    "duration": 29,
    "start_time": "2022-08-18T17:16:57.256Z"
   },
   {
    "duration": 23,
    "start_time": "2022-08-18T17:16:59.464Z"
   },
   {
    "duration": 38,
    "start_time": "2022-08-18T17:17:22.014Z"
   },
   {
    "duration": 95,
    "start_time": "2022-08-18T17:17:55.609Z"
   },
   {
    "duration": 172,
    "start_time": "2022-08-18T17:17:56.685Z"
   },
   {
    "duration": 99,
    "start_time": "2022-08-18T17:18:09.916Z"
   },
   {
    "duration": 92,
    "start_time": "2022-08-18T17:18:52.308Z"
   },
   {
    "duration": 90,
    "start_time": "2022-08-18T17:19:21.676Z"
   },
   {
    "duration": 104,
    "start_time": "2022-08-18T17:19:39.943Z"
   },
   {
    "duration": 6,
    "start_time": "2022-08-18T17:24:32.366Z"
   },
   {
    "duration": 21,
    "start_time": "2022-08-18T17:31:15.268Z"
   },
   {
    "duration": 29,
    "start_time": "2022-08-18T17:31:21.559Z"
   },
   {
    "duration": 119,
    "start_time": "2022-08-18T17:31:32.691Z"
   },
   {
    "duration": 100,
    "start_time": "2022-08-18T17:31:35.584Z"
   },
   {
    "duration": 13,
    "start_time": "2022-08-18T17:33:50.016Z"
   },
   {
    "duration": 13,
    "start_time": "2022-08-18T17:33:54.874Z"
   },
   {
    "duration": 13,
    "start_time": "2022-08-18T17:33:59.242Z"
   },
   {
    "duration": 166,
    "start_time": "2022-08-18T17:35:10.303Z"
   },
   {
    "duration": 144,
    "start_time": "2022-08-18T17:35:16.230Z"
   },
   {
    "duration": 9,
    "start_time": "2022-08-18T17:37:19.662Z"
   },
   {
    "duration": 11,
    "start_time": "2022-08-18T17:38:50.358Z"
   },
   {
    "duration": 129,
    "start_time": "2022-08-18T17:38:55.994Z"
   },
   {
    "duration": 73,
    "start_time": "2022-08-18T17:38:59.352Z"
   },
   {
    "duration": 132,
    "start_time": "2022-08-18T17:39:01.350Z"
   },
   {
    "duration": 122,
    "start_time": "2022-08-18T17:39:27.932Z"
   },
   {
    "duration": 5,
    "start_time": "2022-08-18T17:40:26.507Z"
   },
   {
    "duration": 22,
    "start_time": "2022-08-18T17:41:47.633Z"
   },
   {
    "duration": 29,
    "start_time": "2022-08-18T17:42:09.596Z"
   },
   {
    "duration": 28,
    "start_time": "2022-08-18T17:43:53.585Z"
   },
   {
    "duration": 35,
    "start_time": "2022-08-18T17:44:18.245Z"
   },
   {
    "duration": 23,
    "start_time": "2022-08-18T17:45:04.529Z"
   },
   {
    "duration": 133,
    "start_time": "2022-08-18T17:54:56.411Z"
   },
   {
    "duration": 14,
    "start_time": "2022-08-18T17:55:02.595Z"
   },
   {
    "duration": 28,
    "start_time": "2022-08-18T17:55:09.788Z"
   },
   {
    "duration": 21,
    "start_time": "2022-08-18T17:55:28.894Z"
   },
   {
    "duration": 22,
    "start_time": "2022-08-18T17:55:55.307Z"
   },
   {
    "duration": 16,
    "start_time": "2022-08-18T17:56:03.246Z"
   },
   {
    "duration": 1628,
    "start_time": "2022-08-18T17:56:15.300Z"
   },
   {
    "duration": 1429,
    "start_time": "2022-08-18T17:56:17.899Z"
   },
   {
    "duration": 29,
    "start_time": "2022-08-18T17:56:23.145Z"
   },
   {
    "duration": 1523,
    "start_time": "2022-08-18T17:56:23.637Z"
   },
   {
    "duration": 7,
    "start_time": "2022-08-18T17:56:29.991Z"
   },
   {
    "duration": 34,
    "start_time": "2022-08-18T17:56:44.339Z"
   },
   {
    "duration": 6,
    "start_time": "2022-08-18T17:56:45.451Z"
   },
   {
    "duration": 91,
    "start_time": "2022-08-18T17:56:51.451Z"
   },
   {
    "duration": 5,
    "start_time": "2022-08-18T17:57:03.144Z"
   },
   {
    "duration": 24,
    "start_time": "2022-08-18T17:57:19.769Z"
   },
   {
    "duration": 6,
    "start_time": "2022-08-18T17:57:20.836Z"
   },
   {
    "duration": 8,
    "start_time": "2022-08-18T17:58:36.393Z"
   },
   {
    "duration": 6,
    "start_time": "2022-08-18T17:58:39.135Z"
   },
   {
    "duration": 16,
    "start_time": "2022-08-18T17:59:33.336Z"
   },
   {
    "duration": 17,
    "start_time": "2022-08-18T17:59:36.564Z"
   },
   {
    "duration": 5,
    "start_time": "2022-08-18T18:00:35.982Z"
   },
   {
    "duration": 5,
    "start_time": "2022-08-18T18:00:49.486Z"
   },
   {
    "duration": 18,
    "start_time": "2022-08-18T18:00:50.764Z"
   },
   {
    "duration": 726,
    "start_time": "2022-08-18T18:01:25.797Z"
   },
   {
    "duration": 9,
    "start_time": "2022-08-18T18:01:26.526Z"
   },
   {
    "duration": 52,
    "start_time": "2022-08-18T18:01:26.537Z"
   },
   {
    "duration": 37,
    "start_time": "2022-08-18T18:01:26.591Z"
   },
   {
    "duration": 23,
    "start_time": "2022-08-18T18:01:26.726Z"
   },
   {
    "duration": 23,
    "start_time": "2022-08-18T18:01:27.042Z"
   },
   {
    "duration": 105,
    "start_time": "2022-08-18T18:01:27.237Z"
   },
   {
    "duration": 26,
    "start_time": "2022-08-18T18:01:27.451Z"
   },
   {
    "duration": 24,
    "start_time": "2022-08-18T18:01:27.634Z"
   },
   {
    "duration": 47,
    "start_time": "2022-08-18T18:01:27.660Z"
   },
   {
    "duration": 7,
    "start_time": "2022-08-18T18:01:27.728Z"
   },
   {
    "duration": 13,
    "start_time": "2022-08-18T18:01:27.782Z"
   },
   {
    "duration": 11,
    "start_time": "2022-08-18T18:01:27.951Z"
   },
   {
    "duration": 7,
    "start_time": "2022-08-18T18:01:28.137Z"
   },
   {
    "duration": 23,
    "start_time": "2022-08-18T18:01:28.368Z"
   },
   {
    "duration": 156,
    "start_time": "2022-08-18T18:01:28.479Z"
   },
   {
    "duration": 4,
    "start_time": "2022-08-18T18:01:28.734Z"
   },
   {
    "duration": 5,
    "start_time": "2022-08-18T18:01:28.783Z"
   },
   {
    "duration": 91,
    "start_time": "2022-08-18T18:01:28.880Z"
   },
   {
    "duration": 10,
    "start_time": "2022-08-18T18:01:29.141Z"
   },
   {
    "duration": 5,
    "start_time": "2022-08-18T18:01:29.337Z"
   },
   {
    "duration": 6,
    "start_time": "2022-08-18T18:01:29.344Z"
   },
   {
    "duration": 9,
    "start_time": "2022-08-18T18:01:29.538Z"
   },
   {
    "duration": 18,
    "start_time": "2022-08-18T18:01:29.630Z"
   },
   {
    "duration": 7,
    "start_time": "2022-08-18T18:01:29.731Z"
   },
   {
    "duration": 191,
    "start_time": "2022-08-18T18:01:29.952Z"
   },
   {
    "duration": 367,
    "start_time": "2022-08-18T18:01:30.145Z"
   },
   {
    "duration": 173,
    "start_time": "2022-08-18T18:01:30.514Z"
   },
   {
    "duration": 211,
    "start_time": "2022-08-18T18:01:30.690Z"
   },
   {
    "duration": 205,
    "start_time": "2022-08-18T18:01:30.902Z"
   },
   {
    "duration": 15,
    "start_time": "2022-08-18T18:01:31.109Z"
   },
   {
    "duration": 21,
    "start_time": "2022-08-18T18:01:31.126Z"
   },
   {
    "duration": 8,
    "start_time": "2022-08-18T18:01:31.149Z"
   },
   {
    "duration": 6,
    "start_time": "2022-08-18T18:01:31.832Z"
   },
   {
    "duration": 128,
    "start_time": "2022-08-18T18:01:32.666Z"
   },
   {
    "duration": 25,
    "start_time": "2022-08-18T18:01:32.868Z"
   },
   {
    "duration": 390,
    "start_time": "2022-08-18T18:01:33.008Z"
   },
   {
    "duration": 21,
    "start_time": "2022-08-18T18:01:33.538Z"
   },
   {
    "duration": 143,
    "start_time": "2022-08-18T18:01:33.675Z"
   },
   {
    "duration": 201,
    "start_time": "2022-08-18T18:01:33.922Z"
   },
   {
    "duration": 26,
    "start_time": "2022-08-18T18:01:34.126Z"
   },
   {
    "duration": 15,
    "start_time": "2022-08-18T18:01:34.168Z"
   },
   {
    "duration": 7,
    "start_time": "2022-08-18T18:01:34.185Z"
   },
   {
    "duration": 46,
    "start_time": "2022-08-18T18:01:34.964Z"
   },
   {
    "duration": 30,
    "start_time": "2022-08-18T18:01:36.860Z"
   },
   {
    "duration": 19,
    "start_time": "2022-08-18T18:01:37.061Z"
   },
   {
    "duration": 6,
    "start_time": "2022-08-18T18:01:44.413Z"
   },
   {
    "duration": 9,
    "start_time": "2022-08-18T18:01:45.662Z"
   },
   {
    "duration": 33,
    "start_time": "2022-08-18T18:01:57.084Z"
   },
   {
    "duration": 6,
    "start_time": "2022-08-18T18:01:57.389Z"
   },
   {
    "duration": 4,
    "start_time": "2022-08-18T18:01:58.512Z"
   },
   {
    "duration": 7,
    "start_time": "2022-08-18T18:02:00.034Z"
   },
   {
    "duration": 9,
    "start_time": "2022-08-18T18:02:09.567Z"
   },
   {
    "duration": 9,
    "start_time": "2022-08-18T18:02:11.273Z"
   },
   {
    "duration": 18,
    "start_time": "2022-08-18T18:02:37.066Z"
   },
   {
    "duration": 8,
    "start_time": "2022-08-18T18:02:47.196Z"
   },
   {
    "duration": 12,
    "start_time": "2022-08-18T18:02:53.466Z"
   },
   {
    "duration": 12,
    "start_time": "2022-08-18T18:02:59.948Z"
   },
   {
    "duration": 8,
    "start_time": "2022-08-18T18:03:02.366Z"
   },
   {
    "duration": 7,
    "start_time": "2022-08-18T18:03:08.384Z"
   },
   {
    "duration": 12,
    "start_time": "2022-08-18T18:03:13.784Z"
   },
   {
    "duration": 10,
    "start_time": "2022-08-18T18:03:23.075Z"
   },
   {
    "duration": 16,
    "start_time": "2022-08-18T18:03:39.937Z"
   },
   {
    "duration": 163,
    "start_time": "2022-08-18T18:03:51.974Z"
   },
   {
    "duration": 5,
    "start_time": "2022-08-18T18:04:15.733Z"
   },
   {
    "duration": 8,
    "start_time": "2022-08-18T18:04:25.882Z"
   },
   {
    "duration": 1345,
    "start_time": "2022-08-18T18:04:57.737Z"
   },
   {
    "duration": 8,
    "start_time": "2022-08-18T18:05:16.233Z"
   },
   {
    "duration": 6,
    "start_time": "2022-08-18T18:07:24.565Z"
   },
   {
    "duration": 9,
    "start_time": "2022-08-18T18:07:37.840Z"
   },
   {
    "duration": 10,
    "start_time": "2022-08-18T18:14:11.749Z"
   },
   {
    "duration": 203,
    "start_time": "2022-08-18T18:14:36.491Z"
   },
   {
    "duration": 98,
    "start_time": "2022-08-18T18:21:33.726Z"
   },
   {
    "duration": 106,
    "start_time": "2022-08-18T18:21:44.343Z"
   },
   {
    "duration": 102,
    "start_time": "2022-08-18T18:21:49.584Z"
   },
   {
    "duration": 117,
    "start_time": "2022-08-18T18:21:52.815Z"
   },
   {
    "duration": 92,
    "start_time": "2022-08-18T18:22:37.075Z"
   },
   {
    "duration": 1237,
    "start_time": "2022-08-18T18:23:01.584Z"
   },
   {
    "duration": 3382,
    "start_time": "2022-08-18T18:23:05.579Z"
   },
   {
    "duration": 30,
    "start_time": "2022-08-18T18:23:08.963Z"
   },
   {
    "duration": 18,
    "start_time": "2022-08-18T18:23:10.421Z"
   },
   {
    "duration": 10,
    "start_time": "2022-08-18T18:23:11.680Z"
   },
   {
    "duration": 25,
    "start_time": "2022-08-18T18:23:18.558Z"
   },
   {
    "duration": 8,
    "start_time": "2022-08-18T18:23:38.940Z"
   },
   {
    "duration": 13,
    "start_time": "2022-08-18T18:23:41.233Z"
   },
   {
    "duration": 15,
    "start_time": "2022-08-18T18:23:42.482Z"
   },
   {
    "duration": 16,
    "start_time": "2022-08-18T18:23:43.137Z"
   },
   {
    "duration": 8,
    "start_time": "2022-08-18T18:23:47.457Z"
   },
   {
    "duration": 8,
    "start_time": "2022-08-18T18:23:47.725Z"
   },
   {
    "duration": 13,
    "start_time": "2022-08-18T18:23:49.436Z"
   },
   {
    "duration": 17,
    "start_time": "2022-08-18T18:23:49.528Z"
   },
   {
    "duration": 26,
    "start_time": "2022-08-18T18:23:49.829Z"
   },
   {
    "duration": 29,
    "start_time": "2022-08-18T18:23:54.359Z"
   },
   {
    "duration": 41,
    "start_time": "2022-08-18T18:23:54.669Z"
   },
   {
    "duration": 24,
    "start_time": "2022-08-18T18:23:54.720Z"
   },
   {
    "duration": 30,
    "start_time": "2022-08-18T18:23:55.062Z"
   },
   {
    "duration": 26,
    "start_time": "2022-08-18T18:23:56.769Z"
   },
   {
    "duration": 47,
    "start_time": "2022-08-18T18:23:56.798Z"
   },
   {
    "duration": 72,
    "start_time": "2022-08-18T18:23:56.882Z"
   },
   {
    "duration": 20,
    "start_time": "2022-08-18T18:23:57.034Z"
   },
   {
    "duration": 5,
    "start_time": "2022-08-18T18:23:59.725Z"
   },
   {
    "duration": 16,
    "start_time": "2022-08-18T18:23:59.949Z"
   },
   {
    "duration": 14,
    "start_time": "2022-08-18T18:24:00.125Z"
   },
   {
    "duration": 10,
    "start_time": "2022-08-18T18:24:00.429Z"
   },
   {
    "duration": 10,
    "start_time": "2022-08-18T18:24:02.587Z"
   },
   {
    "duration": 9,
    "start_time": "2022-08-18T18:24:02.729Z"
   },
   {
    "duration": 100,
    "start_time": "2022-08-18T18:24:03.220Z"
   },
   {
    "duration": 97,
    "start_time": "2022-08-18T18:24:06.249Z"
   },
   {
    "duration": 7,
    "start_time": "2022-08-18T18:24:09.817Z"
   },
   {
    "duration": 22,
    "start_time": "2022-08-18T18:24:09.975Z"
   },
   {
    "duration": 520,
    "start_time": "2022-08-18T18:24:10.416Z"
   },
   {
    "duration": 604,
    "start_time": "2022-08-18T18:24:12.888Z"
   },
   {
    "duration": 527,
    "start_time": "2022-08-18T18:24:13.494Z"
   },
   {
    "duration": 326,
    "start_time": "2022-08-18T18:24:14.023Z"
   },
   {
    "duration": 11,
    "start_time": "2022-08-18T18:24:15.686Z"
   },
   {
    "duration": 11,
    "start_time": "2022-08-18T18:24:15.835Z"
   },
   {
    "duration": 28,
    "start_time": "2022-08-18T18:24:16.165Z"
   },
   {
    "duration": 23,
    "start_time": "2022-08-18T18:24:17.748Z"
   },
   {
    "duration": 25,
    "start_time": "2022-08-18T18:24:18.129Z"
   },
   {
    "duration": 19,
    "start_time": "2022-08-18T18:24:18.425Z"
   },
   {
    "duration": 9,
    "start_time": "2022-08-18T18:24:18.788Z"
   },
   {
    "duration": 11,
    "start_time": "2022-08-18T18:24:19.239Z"
   },
   {
    "duration": 125,
    "start_time": "2022-08-18T18:24:24.080Z"
   },
   {
    "duration": 36,
    "start_time": "2022-08-18T18:24:54.251Z"
   },
   {
    "duration": 40,
    "start_time": "2022-08-18T18:25:00.568Z"
   },
   {
    "duration": 26,
    "start_time": "2022-08-18T18:25:18.553Z"
   },
   {
    "duration": 20,
    "start_time": "2022-08-18T18:25:36.125Z"
   },
   {
    "duration": 853,
    "start_time": "2022-08-18T18:25:46.433Z"
   },
   {
    "duration": 9,
    "start_time": "2022-08-18T18:25:47.588Z"
   },
   {
    "duration": 30,
    "start_time": "2022-08-18T18:25:49.633Z"
   },
   {
    "duration": 44,
    "start_time": "2022-08-18T18:25:59.532Z"
   },
   {
    "duration": 18,
    "start_time": "2022-08-18T18:26:01.729Z"
   },
   {
    "duration": 17,
    "start_time": "2022-08-18T18:26:12.117Z"
   },
   {
    "duration": 105,
    "start_time": "2022-08-18T18:26:14.138Z"
   },
   {
    "duration": 21,
    "start_time": "2022-08-18T18:26:16.888Z"
   },
   {
    "duration": 32,
    "start_time": "2022-08-18T18:26:17.048Z"
   },
   {
    "duration": 39,
    "start_time": "2022-08-18T18:26:17.282Z"
   },
   {
    "duration": 8,
    "start_time": "2022-08-18T18:26:17.879Z"
   },
   {
    "duration": 13,
    "start_time": "2022-08-18T18:26:18.417Z"
   },
   {
    "duration": 17,
    "start_time": "2022-08-18T18:26:21.768Z"
   },
   {
    "duration": 6,
    "start_time": "2022-08-18T18:26:31.222Z"
   },
   {
    "duration": 19,
    "start_time": "2022-08-18T18:26:33.740Z"
   },
   {
    "duration": 167,
    "start_time": "2022-08-18T18:26:34.659Z"
   },
   {
    "duration": 5,
    "start_time": "2022-08-18T18:26:37.925Z"
   },
   {
    "duration": 6,
    "start_time": "2022-08-18T18:26:38.259Z"
   },
   {
    "duration": 115,
    "start_time": "2022-08-18T18:26:38.289Z"
   },
   {
    "duration": 11,
    "start_time": "2022-08-18T18:26:42.626Z"
   },
   {
    "duration": 6,
    "start_time": "2022-08-18T18:26:43.026Z"
   },
   {
    "duration": 5,
    "start_time": "2022-08-18T18:26:43.186Z"
   },
   {
    "duration": 12,
    "start_time": "2022-08-18T18:26:53.042Z"
   },
   {
    "duration": 25,
    "start_time": "2022-08-18T18:26:53.330Z"
   },
   {
    "duration": 8,
    "start_time": "2022-08-18T18:26:53.514Z"
   },
   {
    "duration": 228,
    "start_time": "2022-08-18T18:26:55.722Z"
   },
   {
    "duration": 245,
    "start_time": "2022-08-18T18:26:55.952Z"
   },
   {
    "duration": 285,
    "start_time": "2022-08-18T18:26:57.333Z"
   },
   {
    "duration": 218,
    "start_time": "2022-08-18T18:26:57.619Z"
   },
   {
    "duration": 204,
    "start_time": "2022-08-18T18:27:01.329Z"
   },
   {
    "duration": 17,
    "start_time": "2022-08-18T18:27:01.536Z"
   },
   {
    "duration": 11,
    "start_time": "2022-08-18T18:27:05.182Z"
   },
   {
    "duration": 5,
    "start_time": "2022-08-18T18:27:05.319Z"
   },
   {
    "duration": 6,
    "start_time": "2022-08-18T18:27:05.526Z"
   },
   {
    "duration": 127,
    "start_time": "2022-08-18T18:27:10.510Z"
   },
   {
    "duration": 23,
    "start_time": "2022-08-18T18:27:10.757Z"
   },
   {
    "duration": 390,
    "start_time": "2022-08-18T18:27:10.840Z"
   },
   {
    "duration": 13,
    "start_time": "2022-08-18T18:27:11.232Z"
   },
   {
    "duration": 184,
    "start_time": "2022-08-18T18:27:14.954Z"
   },
   {
    "duration": 192,
    "start_time": "2022-08-18T18:27:15.238Z"
   },
   {
    "duration": 25,
    "start_time": "2022-08-18T18:27:15.432Z"
   },
   {
    "duration": 6,
    "start_time": "2022-08-18T18:27:17.347Z"
   },
   {
    "duration": 5,
    "start_time": "2022-08-18T18:27:17.546Z"
   },
   {
    "duration": 44,
    "start_time": "2022-08-18T18:27:19.962Z"
   },
   {
    "duration": 22,
    "start_time": "2022-08-18T18:27:23.036Z"
   },
   {
    "duration": 8,
    "start_time": "2022-08-18T18:27:23.145Z"
   },
   {
    "duration": 5,
    "start_time": "2022-08-18T18:27:24.911Z"
   },
   {
    "duration": 15,
    "start_time": "2022-08-18T18:27:42.223Z"
   },
   {
    "duration": 14,
    "start_time": "2022-08-18T18:27:42.284Z"
   },
   {
    "duration": 27,
    "start_time": "2022-08-18T18:27:43.987Z"
   },
   {
    "duration": 139,
    "start_time": "2022-08-18T18:28:26.532Z"
   },
   {
    "duration": 6,
    "start_time": "2022-08-18T18:28:46.673Z"
   },
   {
    "duration": 27,
    "start_time": "2022-08-18T18:28:55.882Z"
   },
   {
    "duration": 26,
    "start_time": "2022-08-18T18:28:56.065Z"
   },
   {
    "duration": 5,
    "start_time": "2022-08-18T18:28:56.149Z"
   },
   {
    "duration": 195,
    "start_time": "2022-08-18T18:28:56.948Z"
   },
   {
    "duration": 202,
    "start_time": "2022-08-18T18:28:58.841Z"
   },
   {
    "duration": 202,
    "start_time": "2022-08-18T18:28:59.045Z"
   },
   {
    "duration": 8,
    "start_time": "2022-08-18T18:30:47.221Z"
   },
   {
    "duration": 160,
    "start_time": "2022-08-18T18:30:48.043Z"
   },
   {
    "duration": 7,
    "start_time": "2022-08-18T18:30:48.459Z"
   },
   {
    "duration": 12,
    "start_time": "2022-08-18T18:30:49.045Z"
   },
   {
    "duration": 8,
    "start_time": "2022-08-18T18:30:52.429Z"
   },
   {
    "duration": 161,
    "start_time": "2022-08-18T18:30:52.536Z"
   },
   {
    "duration": 12,
    "start_time": "2022-08-18T18:30:52.727Z"
   },
   {
    "duration": 16,
    "start_time": "2022-08-18T18:31:00.421Z"
   },
   {
    "duration": 185,
    "start_time": "2022-08-18T18:31:10.376Z"
   },
   {
    "duration": 102,
    "start_time": "2022-08-18T18:31:11.282Z"
   },
   {
    "duration": 1344,
    "start_time": "2022-08-19T05:03:12.669Z"
   },
   {
    "duration": 3864,
    "start_time": "2022-08-19T05:03:14.015Z"
   },
   {
    "duration": 22,
    "start_time": "2022-08-19T05:03:17.881Z"
   },
   {
    "duration": 16,
    "start_time": "2022-08-19T05:03:17.905Z"
   },
   {
    "duration": 9,
    "start_time": "2022-08-19T05:03:17.922Z"
   },
   {
    "duration": 35,
    "start_time": "2022-08-19T05:03:17.933Z"
   },
   {
    "duration": 7,
    "start_time": "2022-08-19T05:03:17.970Z"
   },
   {
    "duration": 11,
    "start_time": "2022-08-19T05:03:17.978Z"
   },
   {
    "duration": 12,
    "start_time": "2022-08-19T05:03:17.991Z"
   },
   {
    "duration": 14,
    "start_time": "2022-08-19T05:03:18.006Z"
   },
   {
    "duration": 7,
    "start_time": "2022-08-19T05:03:18.021Z"
   },
   {
    "duration": 44,
    "start_time": "2022-08-19T05:03:18.030Z"
   },
   {
    "duration": 11,
    "start_time": "2022-08-19T05:03:18.076Z"
   },
   {
    "duration": 15,
    "start_time": "2022-08-19T05:03:18.089Z"
   },
   {
    "duration": 23,
    "start_time": "2022-08-19T05:03:18.106Z"
   },
   {
    "duration": 53,
    "start_time": "2022-08-19T05:03:18.132Z"
   },
   {
    "duration": 25,
    "start_time": "2022-08-19T05:03:18.187Z"
   },
   {
    "duration": 21,
    "start_time": "2022-08-19T05:03:18.214Z"
   },
   {
    "duration": 45,
    "start_time": "2022-08-19T05:03:18.237Z"
   },
   {
    "duration": 17,
    "start_time": "2022-08-19T05:03:18.283Z"
   },
   {
    "duration": 6,
    "start_time": "2022-08-19T05:03:18.302Z"
   },
   {
    "duration": 14,
    "start_time": "2022-08-19T05:03:18.309Z"
   },
   {
    "duration": 13,
    "start_time": "2022-08-19T05:03:18.324Z"
   },
   {
    "duration": 36,
    "start_time": "2022-08-19T05:03:18.339Z"
   },
   {
    "duration": 5,
    "start_time": "2022-08-19T05:03:18.377Z"
   },
   {
    "duration": 11,
    "start_time": "2022-08-19T05:03:18.383Z"
   },
   {
    "duration": 107,
    "start_time": "2022-08-19T05:03:18.396Z"
   },
   {
    "duration": 97,
    "start_time": "2022-08-19T05:03:18.508Z"
   },
   {
    "duration": 7,
    "start_time": "2022-08-19T05:03:18.607Z"
   },
   {
    "duration": 27,
    "start_time": "2022-08-19T05:03:18.616Z"
   },
   {
    "duration": 485,
    "start_time": "2022-08-19T05:03:18.645Z"
   },
   {
    "duration": 483,
    "start_time": "2022-08-19T05:03:19.132Z"
   },
   {
    "duration": 557,
    "start_time": "2022-08-19T05:03:19.617Z"
   },
   {
    "duration": 326,
    "start_time": "2022-08-19T05:03:20.176Z"
   },
   {
    "duration": 8,
    "start_time": "2022-08-19T05:03:20.504Z"
   },
   {
    "duration": 14,
    "start_time": "2022-08-19T05:03:20.513Z"
   },
   {
    "duration": 40,
    "start_time": "2022-08-19T05:03:20.528Z"
   },
   {
    "duration": 20,
    "start_time": "2022-08-19T05:03:20.569Z"
   },
   {
    "duration": 25,
    "start_time": "2022-08-19T05:03:20.591Z"
   },
   {
    "duration": 26,
    "start_time": "2022-08-19T05:03:20.619Z"
   },
   {
    "duration": 27,
    "start_time": "2022-08-19T05:03:20.647Z"
   },
   {
    "duration": 18,
    "start_time": "2022-08-19T05:03:20.676Z"
   },
   {
    "duration": 16,
    "start_time": "2022-08-19T05:03:20.696Z"
   },
   {
    "duration": 733,
    "start_time": "2022-08-19T05:03:20.714Z"
   },
   {
    "duration": 7,
    "start_time": "2022-08-19T05:03:21.449Z"
   },
   {
    "duration": 20,
    "start_time": "2022-08-19T05:03:21.468Z"
   },
   {
    "duration": 33,
    "start_time": "2022-08-19T05:03:21.490Z"
   },
   {
    "duration": 17,
    "start_time": "2022-08-19T05:03:21.525Z"
   },
   {
    "duration": 38,
    "start_time": "2022-08-19T05:03:21.543Z"
   },
   {
    "duration": 117,
    "start_time": "2022-08-19T05:03:21.583Z"
   },
   {
    "duration": 18,
    "start_time": "2022-08-19T05:03:21.701Z"
   },
   {
    "duration": 22,
    "start_time": "2022-08-19T05:03:21.720Z"
   },
   {
    "duration": 52,
    "start_time": "2022-08-19T05:03:21.744Z"
   },
   {
    "duration": 13,
    "start_time": "2022-08-19T05:03:21.798Z"
   },
   {
    "duration": 22,
    "start_time": "2022-08-19T05:03:21.813Z"
   },
   {
    "duration": 30,
    "start_time": "2022-08-19T05:03:21.837Z"
   },
   {
    "duration": 24,
    "start_time": "2022-08-19T05:03:21.869Z"
   },
   {
    "duration": 189,
    "start_time": "2022-08-19T05:03:21.895Z"
   },
   {
    "duration": 6,
    "start_time": "2022-08-19T05:03:22.086Z"
   },
   {
    "duration": 11,
    "start_time": "2022-08-19T05:03:22.094Z"
   },
   {
    "duration": 110,
    "start_time": "2022-08-19T05:03:22.106Z"
   },
   {
    "duration": 9,
    "start_time": "2022-08-19T05:03:22.217Z"
   },
   {
    "duration": 6,
    "start_time": "2022-08-19T05:03:22.228Z"
   },
   {
    "duration": 6,
    "start_time": "2022-08-19T05:03:22.235Z"
   },
   {
    "duration": 31,
    "start_time": "2022-08-19T05:03:22.242Z"
   },
   {
    "duration": 20,
    "start_time": "2022-08-19T05:03:22.275Z"
   },
   {
    "duration": 9,
    "start_time": "2022-08-19T05:03:22.296Z"
   },
   {
    "duration": 180,
    "start_time": "2022-08-19T05:03:22.307Z"
   },
   {
    "duration": 195,
    "start_time": "2022-08-19T05:03:22.488Z"
   },
   {
    "duration": 149,
    "start_time": "2022-08-19T05:03:22.686Z"
   },
   {
    "duration": 317,
    "start_time": "2022-08-19T05:03:22.836Z"
   },
   {
    "duration": 194,
    "start_time": "2022-08-19T05:03:23.155Z"
   },
   {
    "duration": 22,
    "start_time": "2022-08-19T05:03:23.351Z"
   },
   {
    "duration": 7,
    "start_time": "2022-08-19T05:03:23.375Z"
   },
   {
    "duration": 5,
    "start_time": "2022-08-19T05:03:23.384Z"
   },
   {
    "duration": 129,
    "start_time": "2022-08-19T05:03:23.390Z"
   },
   {
    "duration": 18,
    "start_time": "2022-08-19T05:03:23.521Z"
   },
   {
    "duration": 409,
    "start_time": "2022-08-19T05:03:23.540Z"
   },
   {
    "duration": 18,
    "start_time": "2022-08-19T05:03:23.951Z"
   },
   {
    "duration": 178,
    "start_time": "2022-08-19T05:03:23.971Z"
   },
   {
    "duration": 183,
    "start_time": "2022-08-19T05:03:24.151Z"
   },
   {
    "duration": 35,
    "start_time": "2022-08-19T05:03:24.340Z"
   },
   {
    "duration": 7,
    "start_time": "2022-08-19T05:03:24.376Z"
   },
   {
    "duration": 7,
    "start_time": "2022-08-19T05:03:24.384Z"
   },
   {
    "duration": 37,
    "start_time": "2022-08-19T05:03:24.392Z"
   },
   {
    "duration": 45,
    "start_time": "2022-08-19T05:03:24.430Z"
   },
   {
    "duration": 7,
    "start_time": "2022-08-19T05:03:24.477Z"
   },
   {
    "duration": 6,
    "start_time": "2022-08-19T05:03:24.486Z"
   },
   {
    "duration": 18,
    "start_time": "2022-08-19T05:03:24.494Z"
   },
   {
    "duration": 4,
    "start_time": "2022-08-19T05:03:24.514Z"
   },
   {
    "duration": 131,
    "start_time": "2022-08-19T05:03:24.520Z"
   },
   {
    "duration": 35,
    "start_time": "2022-08-19T05:03:24.652Z"
   },
   {
    "duration": 25,
    "start_time": "2022-08-19T05:03:24.691Z"
   },
   {
    "duration": 6,
    "start_time": "2022-08-19T05:03:24.717Z"
   },
   {
    "duration": 183,
    "start_time": "2022-08-19T05:03:24.725Z"
   },
   {
    "duration": 221,
    "start_time": "2022-08-19T05:03:24.910Z"
   },
   {
    "duration": 195,
    "start_time": "2022-08-19T05:03:25.133Z"
   },
   {
    "duration": 8,
    "start_time": "2022-08-19T05:03:25.330Z"
   },
   {
    "duration": 199,
    "start_time": "2022-08-19T05:03:25.340Z"
   },
   {
    "duration": 7,
    "start_time": "2022-08-19T05:03:25.541Z"
   },
   {
    "duration": 29,
    "start_time": "2022-08-19T05:03:25.550Z"
   },
   {
    "duration": 13,
    "start_time": "2022-08-19T05:03:25.581Z"
   },
   {
    "duration": 178,
    "start_time": "2022-08-19T05:03:25.596Z"
   },
   {
    "duration": 14,
    "start_time": "2022-08-19T05:03:25.776Z"
   },
   {
    "duration": 27,
    "start_time": "2022-08-19T05:03:25.792Z"
   },
   {
    "duration": 122,
    "start_time": "2022-08-19T05:03:25.821Z"
   },
   {
    "duration": 206,
    "start_time": "2022-08-19T05:03:25.946Z"
   },
   {
    "duration": 21,
    "start_time": "2022-08-19T06:58:37.422Z"
   },
   {
    "duration": 9,
    "start_time": "2022-08-19T06:59:15.996Z"
   },
   {
    "duration": 7,
    "start_time": "2022-08-19T06:59:43.581Z"
   },
   {
    "duration": 8,
    "start_time": "2022-08-19T07:02:44.360Z"
   },
   {
    "duration": 5,
    "start_time": "2022-08-19T07:03:12.373Z"
   },
   {
    "duration": 5,
    "start_time": "2022-08-19T07:04:25.779Z"
   },
   {
    "duration": 104,
    "start_time": "2022-08-19T07:04:41.027Z"
   },
   {
    "duration": 3,
    "start_time": "2022-08-19T07:04:45.971Z"
   },
   {
    "duration": 9,
    "start_time": "2022-08-19T07:04:47.446Z"
   },
   {
    "duration": 5,
    "start_time": "2022-08-19T07:04:50.723Z"
   },
   {
    "duration": 2096,
    "start_time": "2022-08-19T07:04:50.845Z"
   },
   {
    "duration": 12,
    "start_time": "2022-08-19T07:05:01.572Z"
   },
   {
    "duration": 18,
    "start_time": "2022-08-19T07:05:02.128Z"
   },
   {
    "duration": 5,
    "start_time": "2022-08-19T07:05:24.048Z"
   },
   {
    "duration": 1854,
    "start_time": "2022-08-19T07:05:25.248Z"
   },
   {
    "duration": 8,
    "start_time": "2022-08-19T07:05:29.831Z"
   },
   {
    "duration": 26,
    "start_time": "2022-08-19T07:05:33.148Z"
   },
   {
    "duration": 27,
    "start_time": "2022-08-19T07:06:04.122Z"
   },
   {
    "duration": 1216,
    "start_time": "2022-08-19T07:06:22.816Z"
   },
   {
    "duration": 3182,
    "start_time": "2022-08-19T07:06:24.034Z"
   },
   {
    "duration": 24,
    "start_time": "2022-08-19T07:06:27.218Z"
   },
   {
    "duration": 31,
    "start_time": "2022-08-19T07:06:27.244Z"
   },
   {
    "duration": 13,
    "start_time": "2022-08-19T07:06:27.280Z"
   },
   {
    "duration": 21,
    "start_time": "2022-08-19T07:06:27.295Z"
   },
   {
    "duration": 7,
    "start_time": "2022-08-19T07:06:27.318Z"
   },
   {
    "duration": 13,
    "start_time": "2022-08-19T07:06:27.326Z"
   },
   {
    "duration": 44,
    "start_time": "2022-08-19T07:06:27.341Z"
   },
   {
    "duration": 15,
    "start_time": "2022-08-19T07:06:27.387Z"
   },
   {
    "duration": 7,
    "start_time": "2022-08-19T07:06:27.403Z"
   },
   {
    "duration": 8,
    "start_time": "2022-08-19T07:06:27.412Z"
   },
   {
    "duration": 61,
    "start_time": "2022-08-19T07:06:27.421Z"
   },
   {
    "duration": 23,
    "start_time": "2022-08-19T07:06:27.486Z"
   },
   {
    "duration": 30,
    "start_time": "2022-08-19T07:06:27.510Z"
   },
   {
    "duration": 44,
    "start_time": "2022-08-19T07:06:27.543Z"
   },
   {
    "duration": 31,
    "start_time": "2022-08-19T07:06:27.589Z"
   },
   {
    "duration": 21,
    "start_time": "2022-08-19T07:06:27.622Z"
   },
   {
    "duration": 46,
    "start_time": "2022-08-19T07:06:27.644Z"
   },
   {
    "duration": 16,
    "start_time": "2022-08-19T07:06:27.692Z"
   },
   {
    "duration": 6,
    "start_time": "2022-08-19T07:06:27.710Z"
   },
   {
    "duration": 15,
    "start_time": "2022-08-19T07:06:27.718Z"
   },
   {
    "duration": 47,
    "start_time": "2022-08-19T07:06:27.735Z"
   },
   {
    "duration": 12,
    "start_time": "2022-08-19T07:06:27.785Z"
   },
   {
    "duration": 5,
    "start_time": "2022-08-19T07:06:27.798Z"
   },
   {
    "duration": 10,
    "start_time": "2022-08-19T07:06:27.804Z"
   },
   {
    "duration": 118,
    "start_time": "2022-08-19T07:06:27.816Z"
   },
   {
    "duration": 119,
    "start_time": "2022-08-19T07:06:27.937Z"
   },
   {
    "duration": 15,
    "start_time": "2022-08-19T07:06:28.059Z"
   },
   {
    "duration": 32,
    "start_time": "2022-08-19T07:06:28.077Z"
   },
   {
    "duration": 538,
    "start_time": "2022-08-19T07:06:28.111Z"
   },
   {
    "duration": 544,
    "start_time": "2022-08-19T07:06:28.651Z"
   },
   {
    "duration": 633,
    "start_time": "2022-08-19T07:06:29.198Z"
   },
   {
    "duration": 321,
    "start_time": "2022-08-19T07:06:29.832Z"
   },
   {
    "duration": 18,
    "start_time": "2022-08-19T07:06:30.155Z"
   },
   {
    "duration": 10,
    "start_time": "2022-08-19T07:06:30.175Z"
   },
   {
    "duration": 27,
    "start_time": "2022-08-19T07:06:30.188Z"
   },
   {
    "duration": 20,
    "start_time": "2022-08-19T07:06:30.216Z"
   },
   {
    "duration": 52,
    "start_time": "2022-08-19T07:06:30.238Z"
   },
   {
    "duration": 28,
    "start_time": "2022-08-19T07:06:30.292Z"
   },
   {
    "duration": 8,
    "start_time": "2022-08-19T07:06:30.326Z"
   },
   {
    "duration": 21,
    "start_time": "2022-08-19T07:06:30.336Z"
   },
   {
    "duration": 26,
    "start_time": "2022-08-19T07:06:30.360Z"
   },
   {
    "duration": 779,
    "start_time": "2022-08-19T07:06:30.388Z"
   },
   {
    "duration": 11,
    "start_time": "2022-08-19T07:06:31.170Z"
   },
   {
    "duration": 50,
    "start_time": "2022-08-19T07:06:31.183Z"
   },
   {
    "duration": 31,
    "start_time": "2022-08-19T07:06:31.235Z"
   },
   {
    "duration": 26,
    "start_time": "2022-08-19T07:06:31.268Z"
   },
   {
    "duration": 23,
    "start_time": "2022-08-19T07:06:31.296Z"
   },
   {
    "duration": 122,
    "start_time": "2022-08-19T07:06:31.321Z"
   },
   {
    "duration": 31,
    "start_time": "2022-08-19T07:06:31.445Z"
   },
   {
    "duration": 39,
    "start_time": "2022-08-19T07:06:31.478Z"
   },
   {
    "duration": 52,
    "start_time": "2022-08-19T07:06:31.519Z"
   },
   {
    "duration": 21,
    "start_time": "2022-08-19T07:06:31.573Z"
   },
   {
    "duration": 19,
    "start_time": "2022-08-19T07:06:31.595Z"
   },
   {
    "duration": 10,
    "start_time": "2022-08-19T07:06:31.616Z"
   },
   {
    "duration": 27,
    "start_time": "2022-08-19T07:06:31.628Z"
   },
   {
    "duration": 167,
    "start_time": "2022-08-19T07:06:31.657Z"
   },
   {
    "duration": 5,
    "start_time": "2022-08-19T07:06:31.826Z"
   },
   {
    "duration": 11,
    "start_time": "2022-08-19T07:06:31.833Z"
   },
   {
    "duration": 104,
    "start_time": "2022-08-19T07:06:31.845Z"
   },
   {
    "duration": 20,
    "start_time": "2022-08-19T07:06:31.950Z"
   },
   {
    "duration": 13,
    "start_time": "2022-08-19T07:06:31.975Z"
   },
   {
    "duration": 9,
    "start_time": "2022-08-19T07:06:31.989Z"
   },
   {
    "duration": 8,
    "start_time": "2022-08-19T07:06:32.000Z"
   },
   {
    "duration": 5,
    "start_time": "2022-08-19T07:06:32.010Z"
   },
   {
    "duration": 1842,
    "start_time": "2022-08-19T07:06:32.017Z"
   },
   {
    "duration": 24,
    "start_time": "2022-08-19T07:06:33.861Z"
   },
   {
    "duration": 17,
    "start_time": "2022-08-19T07:06:33.886Z"
   },
   {
    "duration": 7,
    "start_time": "2022-08-19T07:06:33.906Z"
   },
   {
    "duration": 194,
    "start_time": "2022-08-19T07:06:33.915Z"
   },
   {
    "duration": 303,
    "start_time": "2022-08-19T07:06:34.111Z"
   },
   {
    "duration": 162,
    "start_time": "2022-08-19T07:06:34.416Z"
   },
   {
    "duration": 224,
    "start_time": "2022-08-19T07:06:34.579Z"
   },
   {
    "duration": 205,
    "start_time": "2022-08-19T07:06:34.805Z"
   },
   {
    "duration": 13,
    "start_time": "2022-08-19T07:06:35.012Z"
   },
   {
    "duration": 6,
    "start_time": "2022-08-19T07:06:35.027Z"
   },
   {
    "duration": 11,
    "start_time": "2022-08-19T07:06:35.035Z"
   },
   {
    "duration": 131,
    "start_time": "2022-08-19T07:06:35.067Z"
   },
   {
    "duration": 19,
    "start_time": "2022-08-19T07:06:35.200Z"
   },
   {
    "duration": 416,
    "start_time": "2022-08-19T07:06:35.220Z"
   },
   {
    "duration": 13,
    "start_time": "2022-08-19T07:06:35.638Z"
   },
   {
    "duration": 179,
    "start_time": "2022-08-19T07:06:35.653Z"
   },
   {
    "duration": 175,
    "start_time": "2022-08-19T07:06:35.833Z"
   },
   {
    "duration": 34,
    "start_time": "2022-08-19T07:06:36.010Z"
   },
   {
    "duration": 6,
    "start_time": "2022-08-19T07:06:36.046Z"
   },
   {
    "duration": 8,
    "start_time": "2022-08-19T07:06:36.068Z"
   },
   {
    "duration": 55,
    "start_time": "2022-08-19T07:06:36.078Z"
   },
   {
    "duration": 38,
    "start_time": "2022-08-19T07:06:36.135Z"
   },
   {
    "duration": 12,
    "start_time": "2022-08-19T07:06:36.175Z"
   },
   {
    "duration": 7,
    "start_time": "2022-08-19T07:06:36.189Z"
   },
   {
    "duration": 19,
    "start_time": "2022-08-19T07:06:36.198Z"
   },
   {
    "duration": 5,
    "start_time": "2022-08-19T07:06:36.219Z"
   },
   {
    "duration": 121,
    "start_time": "2022-08-19T07:06:36.227Z"
   },
   {
    "duration": 34,
    "start_time": "2022-08-19T07:06:36.349Z"
   },
   {
    "duration": 23,
    "start_time": "2022-08-19T07:06:36.385Z"
   },
   {
    "duration": 5,
    "start_time": "2022-08-19T07:06:36.410Z"
   },
   {
    "duration": 280,
    "start_time": "2022-08-19T07:06:36.417Z"
   },
   {
    "duration": 271,
    "start_time": "2022-08-19T07:06:36.699Z"
   },
   {
    "duration": 214,
    "start_time": "2022-08-19T07:06:36.972Z"
   },
   {
    "duration": 9,
    "start_time": "2022-08-19T07:06:37.188Z"
   },
   {
    "duration": 177,
    "start_time": "2022-08-19T07:06:37.198Z"
   },
   {
    "duration": 9,
    "start_time": "2022-08-19T07:06:37.377Z"
   },
   {
    "duration": 12,
    "start_time": "2022-08-19T07:06:37.388Z"
   },
   {
    "duration": 8,
    "start_time": "2022-08-19T07:06:37.402Z"
   },
   {
    "duration": 293,
    "start_time": "2022-08-19T07:06:37.412Z"
   },
   {
    "duration": 11,
    "start_time": "2022-08-19T07:06:37.707Z"
   },
   {
    "duration": 19,
    "start_time": "2022-08-19T07:06:37.720Z"
   },
   {
    "duration": 117,
    "start_time": "2022-08-19T07:06:37.741Z"
   },
   {
    "duration": 125,
    "start_time": "2022-08-19T07:06:37.860Z"
   },
   {
    "duration": 1298,
    "start_time": "2022-08-19T07:07:38.069Z"
   },
   {
    "duration": 3096,
    "start_time": "2022-08-19T07:07:39.372Z"
   },
   {
    "duration": 30,
    "start_time": "2022-08-19T07:07:42.475Z"
   },
   {
    "duration": 21,
    "start_time": "2022-08-19T07:07:42.508Z"
   },
   {
    "duration": 11,
    "start_time": "2022-08-19T07:07:42.531Z"
   },
   {
    "duration": 47,
    "start_time": "2022-08-19T07:07:42.544Z"
   },
   {
    "duration": 8,
    "start_time": "2022-08-19T07:07:42.593Z"
   },
   {
    "duration": 20,
    "start_time": "2022-08-19T07:07:42.603Z"
   },
   {
    "duration": 15,
    "start_time": "2022-08-19T07:07:42.626Z"
   },
   {
    "duration": 42,
    "start_time": "2022-08-19T07:07:42.645Z"
   },
   {
    "duration": 10,
    "start_time": "2022-08-19T07:07:42.690Z"
   },
   {
    "duration": 9,
    "start_time": "2022-08-19T07:07:42.702Z"
   },
   {
    "duration": 12,
    "start_time": "2022-08-19T07:07:42.713Z"
   },
   {
    "duration": 55,
    "start_time": "2022-08-19T07:07:42.727Z"
   },
   {
    "duration": 27,
    "start_time": "2022-08-19T07:07:42.784Z"
   },
   {
    "duration": 22,
    "start_time": "2022-08-19T07:07:42.813Z"
   },
   {
    "duration": 59,
    "start_time": "2022-08-19T07:07:42.836Z"
   },
   {
    "duration": 23,
    "start_time": "2022-08-19T07:07:42.896Z"
   },
   {
    "duration": 21,
    "start_time": "2022-08-19T07:07:42.920Z"
   },
   {
    "duration": 44,
    "start_time": "2022-08-19T07:07:42.942Z"
   },
   {
    "duration": 8,
    "start_time": "2022-08-19T07:07:42.989Z"
   },
   {
    "duration": 19,
    "start_time": "2022-08-19T07:07:42.998Z"
   },
   {
    "duration": 12,
    "start_time": "2022-08-19T07:07:43.019Z"
   },
   {
    "duration": 11,
    "start_time": "2022-08-19T07:07:43.033Z"
   },
   {
    "duration": 6,
    "start_time": "2022-08-19T07:07:43.067Z"
   },
   {
    "duration": 13,
    "start_time": "2022-08-19T07:07:43.074Z"
   },
   {
    "duration": 147,
    "start_time": "2022-08-19T07:07:43.089Z"
   },
   {
    "duration": 123,
    "start_time": "2022-08-19T07:07:43.240Z"
   },
   {
    "duration": 8,
    "start_time": "2022-08-19T07:07:43.369Z"
   },
   {
    "duration": 34,
    "start_time": "2022-08-19T07:07:43.378Z"
   },
   {
    "duration": 549,
    "start_time": "2022-08-19T07:07:43.414Z"
   },
   {
    "duration": 534,
    "start_time": "2022-08-19T07:07:43.969Z"
   },
   {
    "duration": 655,
    "start_time": "2022-08-19T07:07:44.505Z"
   },
   {
    "duration": 343,
    "start_time": "2022-08-19T07:07:45.163Z"
   },
   {
    "duration": 12,
    "start_time": "2022-08-19T07:07:45.508Z"
   },
   {
    "duration": 12,
    "start_time": "2022-08-19T07:07:45.522Z"
   },
   {
    "duration": 60,
    "start_time": "2022-08-19T07:07:45.536Z"
   },
   {
    "duration": 19,
    "start_time": "2022-08-19T07:07:45.598Z"
   },
   {
    "duration": 22,
    "start_time": "2022-08-19T07:07:45.619Z"
   },
   {
    "duration": 38,
    "start_time": "2022-08-19T07:07:45.643Z"
   },
   {
    "duration": 12,
    "start_time": "2022-08-19T07:07:45.682Z"
   },
   {
    "duration": 11,
    "start_time": "2022-08-19T07:07:45.696Z"
   },
   {
    "duration": 16,
    "start_time": "2022-08-19T07:07:45.709Z"
   },
   {
    "duration": 895,
    "start_time": "2022-08-19T07:07:45.726Z"
   },
   {
    "duration": 10,
    "start_time": "2022-08-19T07:07:46.623Z"
   },
   {
    "duration": 53,
    "start_time": "2022-08-19T07:07:46.635Z"
   },
   {
    "duration": 80,
    "start_time": "2022-08-19T07:07:46.690Z"
   },
   {
    "duration": 27,
    "start_time": "2022-08-19T07:07:46.771Z"
   },
   {
    "duration": 35,
    "start_time": "2022-08-19T07:07:46.801Z"
   },
   {
    "duration": 171,
    "start_time": "2022-08-19T07:07:46.838Z"
   },
   {
    "duration": 19,
    "start_time": "2022-08-19T07:07:47.010Z"
   },
   {
    "duration": 42,
    "start_time": "2022-08-19T07:07:47.031Z"
   },
   {
    "duration": 38,
    "start_time": "2022-08-19T07:07:47.079Z"
   },
   {
    "duration": 12,
    "start_time": "2022-08-19T07:07:47.118Z"
   },
   {
    "duration": 12,
    "start_time": "2022-08-19T07:07:47.132Z"
   },
   {
    "duration": 27,
    "start_time": "2022-08-19T07:07:47.146Z"
   },
   {
    "duration": 33,
    "start_time": "2022-08-19T07:07:47.175Z"
   },
   {
    "duration": 181,
    "start_time": "2022-08-19T07:07:47.210Z"
   },
   {
    "duration": 5,
    "start_time": "2022-08-19T07:07:47.393Z"
   },
   {
    "duration": 11,
    "start_time": "2022-08-19T07:07:47.400Z"
   },
   {
    "duration": 138,
    "start_time": "2022-08-19T07:07:47.413Z"
   },
   {
    "duration": 11,
    "start_time": "2022-08-19T07:07:47.552Z"
   },
   {
    "duration": 26,
    "start_time": "2022-08-19T07:07:47.568Z"
   },
   {
    "duration": 6,
    "start_time": "2022-08-19T07:07:47.596Z"
   },
   {
    "duration": 2030,
    "start_time": "2022-08-19T07:07:47.604Z"
   },
   {
    "duration": 0,
    "start_time": "2022-08-19T07:07:49.636Z"
   },
   {
    "duration": 0,
    "start_time": "2022-08-19T07:07:49.637Z"
   },
   {
    "duration": 0,
    "start_time": "2022-08-19T07:07:49.639Z"
   },
   {
    "duration": 0,
    "start_time": "2022-08-19T07:07:49.640Z"
   },
   {
    "duration": 0,
    "start_time": "2022-08-19T07:07:49.641Z"
   },
   {
    "duration": 0,
    "start_time": "2022-08-19T07:07:49.643Z"
   },
   {
    "duration": 0,
    "start_time": "2022-08-19T07:07:49.644Z"
   },
   {
    "duration": 0,
    "start_time": "2022-08-19T07:07:49.645Z"
   },
   {
    "duration": 0,
    "start_time": "2022-08-19T07:07:49.667Z"
   },
   {
    "duration": 0,
    "start_time": "2022-08-19T07:07:49.669Z"
   },
   {
    "duration": 0,
    "start_time": "2022-08-19T07:07:49.670Z"
   },
   {
    "duration": 0,
    "start_time": "2022-08-19T07:07:49.672Z"
   },
   {
    "duration": 1,
    "start_time": "2022-08-19T07:07:49.673Z"
   },
   {
    "duration": 0,
    "start_time": "2022-08-19T07:07:49.675Z"
   },
   {
    "duration": 0,
    "start_time": "2022-08-19T07:07:49.676Z"
   },
   {
    "duration": 0,
    "start_time": "2022-08-19T07:07:49.678Z"
   },
   {
    "duration": 0,
    "start_time": "2022-08-19T07:07:49.680Z"
   },
   {
    "duration": 0,
    "start_time": "2022-08-19T07:07:49.681Z"
   },
   {
    "duration": 0,
    "start_time": "2022-08-19T07:07:49.683Z"
   },
   {
    "duration": 0,
    "start_time": "2022-08-19T07:07:49.685Z"
   },
   {
    "duration": 0,
    "start_time": "2022-08-19T07:07:49.686Z"
   },
   {
    "duration": 0,
    "start_time": "2022-08-19T07:07:49.688Z"
   },
   {
    "duration": 0,
    "start_time": "2022-08-19T07:07:49.689Z"
   },
   {
    "duration": 0,
    "start_time": "2022-08-19T07:07:49.691Z"
   },
   {
    "duration": 0,
    "start_time": "2022-08-19T07:07:49.693Z"
   },
   {
    "duration": 0,
    "start_time": "2022-08-19T07:07:49.694Z"
   },
   {
    "duration": 0,
    "start_time": "2022-08-19T07:07:49.696Z"
   },
   {
    "duration": 1,
    "start_time": "2022-08-19T07:07:49.697Z"
   },
   {
    "duration": 0,
    "start_time": "2022-08-19T07:07:49.699Z"
   },
   {
    "duration": 0,
    "start_time": "2022-08-19T07:07:49.700Z"
   },
   {
    "duration": 0,
    "start_time": "2022-08-19T07:07:49.702Z"
   },
   {
    "duration": 0,
    "start_time": "2022-08-19T07:07:49.703Z"
   },
   {
    "duration": 0,
    "start_time": "2022-08-19T07:07:49.705Z"
   },
   {
    "duration": 0,
    "start_time": "2022-08-19T07:07:49.706Z"
   },
   {
    "duration": 0,
    "start_time": "2022-08-19T07:07:49.708Z"
   },
   {
    "duration": 0,
    "start_time": "2022-08-19T07:07:49.710Z"
   },
   {
    "duration": 0,
    "start_time": "2022-08-19T07:07:49.712Z"
   },
   {
    "duration": 0,
    "start_time": "2022-08-19T07:07:49.768Z"
   },
   {
    "duration": 0,
    "start_time": "2022-08-19T07:07:49.769Z"
   },
   {
    "duration": 0,
    "start_time": "2022-08-19T07:07:49.770Z"
   },
   {
    "duration": 0,
    "start_time": "2022-08-19T07:07:49.772Z"
   },
   {
    "duration": 0,
    "start_time": "2022-08-19T07:07:49.774Z"
   },
   {
    "duration": 0,
    "start_time": "2022-08-19T07:07:49.775Z"
   },
   {
    "duration": 1188,
    "start_time": "2022-08-19T07:08:07.619Z"
   },
   {
    "duration": 2357,
    "start_time": "2022-08-19T07:08:08.810Z"
   },
   {
    "duration": 30,
    "start_time": "2022-08-19T07:08:11.169Z"
   },
   {
    "duration": 16,
    "start_time": "2022-08-19T07:08:11.201Z"
   },
   {
    "duration": 15,
    "start_time": "2022-08-19T07:08:11.220Z"
   },
   {
    "duration": 57,
    "start_time": "2022-08-19T07:08:11.237Z"
   },
   {
    "duration": 8,
    "start_time": "2022-08-19T07:08:11.296Z"
   },
   {
    "duration": 18,
    "start_time": "2022-08-19T07:08:11.306Z"
   },
   {
    "duration": 23,
    "start_time": "2022-08-19T07:08:11.327Z"
   },
   {
    "duration": 23,
    "start_time": "2022-08-19T07:08:11.368Z"
   },
   {
    "duration": 7,
    "start_time": "2022-08-19T07:08:11.393Z"
   },
   {
    "duration": 9,
    "start_time": "2022-08-19T07:08:11.402Z"
   },
   {
    "duration": 10,
    "start_time": "2022-08-19T07:08:11.413Z"
   },
   {
    "duration": 41,
    "start_time": "2022-08-19T07:08:11.427Z"
   },
   {
    "duration": 32,
    "start_time": "2022-08-19T07:08:11.469Z"
   },
   {
    "duration": 24,
    "start_time": "2022-08-19T07:08:11.503Z"
   },
   {
    "duration": 64,
    "start_time": "2022-08-19T07:08:11.529Z"
   },
   {
    "duration": 26,
    "start_time": "2022-08-19T07:08:11.595Z"
   },
   {
    "duration": 20,
    "start_time": "2022-08-19T07:08:11.623Z"
   },
   {
    "duration": 43,
    "start_time": "2022-08-19T07:08:11.645Z"
   },
   {
    "duration": 7,
    "start_time": "2022-08-19T07:08:11.689Z"
   },
   {
    "duration": 18,
    "start_time": "2022-08-19T07:08:11.697Z"
   },
   {
    "duration": 14,
    "start_time": "2022-08-19T07:08:11.717Z"
   },
   {
    "duration": 35,
    "start_time": "2022-08-19T07:08:11.733Z"
   },
   {
    "duration": 11,
    "start_time": "2022-08-19T07:08:11.769Z"
   },
   {
    "duration": 14,
    "start_time": "2022-08-19T07:08:11.781Z"
   },
   {
    "duration": 106,
    "start_time": "2022-08-19T07:08:11.796Z"
   },
   {
    "duration": 116,
    "start_time": "2022-08-19T07:08:11.903Z"
   },
   {
    "duration": 8,
    "start_time": "2022-08-19T07:08:12.020Z"
   },
   {
    "duration": 24,
    "start_time": "2022-08-19T07:08:12.029Z"
   },
   {
    "duration": 582,
    "start_time": "2022-08-19T07:08:12.067Z"
   },
   {
    "duration": 505,
    "start_time": "2022-08-19T07:08:12.650Z"
   },
   {
    "duration": 623,
    "start_time": "2022-08-19T07:08:13.157Z"
   },
   {
    "duration": 309,
    "start_time": "2022-08-19T07:08:13.782Z"
   },
   {
    "duration": 7,
    "start_time": "2022-08-19T07:08:14.093Z"
   },
   {
    "duration": 7,
    "start_time": "2022-08-19T07:08:14.101Z"
   },
   {
    "duration": 21,
    "start_time": "2022-08-19T07:08:14.110Z"
   },
   {
    "duration": 55,
    "start_time": "2022-08-19T07:08:14.132Z"
   },
   {
    "duration": 21,
    "start_time": "2022-08-19T07:08:14.188Z"
   },
   {
    "duration": 24,
    "start_time": "2022-08-19T07:08:14.211Z"
   },
   {
    "duration": 8,
    "start_time": "2022-08-19T07:08:14.241Z"
   },
   {
    "duration": 13,
    "start_time": "2022-08-19T07:08:14.269Z"
   },
   {
    "duration": 20,
    "start_time": "2022-08-19T07:08:14.284Z"
   },
   {
    "duration": 749,
    "start_time": "2022-08-19T07:08:14.306Z"
   },
   {
    "duration": 16,
    "start_time": "2022-08-19T07:08:15.057Z"
   },
   {
    "duration": 31,
    "start_time": "2022-08-19T07:08:15.075Z"
   },
   {
    "duration": 31,
    "start_time": "2022-08-19T07:08:15.107Z"
   },
   {
    "duration": 39,
    "start_time": "2022-08-19T07:08:15.140Z"
   },
   {
    "duration": 17,
    "start_time": "2022-08-19T07:08:15.181Z"
   },
   {
    "duration": 122,
    "start_time": "2022-08-19T07:08:15.200Z"
   },
   {
    "duration": 18,
    "start_time": "2022-08-19T07:08:15.324Z"
   },
   {
    "duration": 37,
    "start_time": "2022-08-19T07:08:15.344Z"
   },
   {
    "duration": 37,
    "start_time": "2022-08-19T07:08:15.384Z"
   },
   {
    "duration": 17,
    "start_time": "2022-08-19T07:08:15.423Z"
   },
   {
    "duration": 32,
    "start_time": "2022-08-19T07:08:15.442Z"
   },
   {
    "duration": 26,
    "start_time": "2022-08-19T07:08:15.476Z"
   },
   {
    "duration": 34,
    "start_time": "2022-08-19T07:08:15.504Z"
   },
   {
    "duration": 175,
    "start_time": "2022-08-19T07:08:15.540Z"
   },
   {
    "duration": 5,
    "start_time": "2022-08-19T07:08:15.717Z"
   },
   {
    "duration": 8,
    "start_time": "2022-08-19T07:08:15.724Z"
   },
   {
    "duration": 105,
    "start_time": "2022-08-19T07:08:15.734Z"
   },
   {
    "duration": 9,
    "start_time": "2022-08-19T07:08:15.841Z"
   },
   {
    "duration": 16,
    "start_time": "2022-08-19T07:08:15.852Z"
   },
   {
    "duration": 16,
    "start_time": "2022-08-19T07:08:15.871Z"
   },
   {
    "duration": 1865,
    "start_time": "2022-08-19T07:08:15.889Z"
   },
   {
    "duration": 21,
    "start_time": "2022-08-19T07:08:17.756Z"
   },
   {
    "duration": 26,
    "start_time": "2022-08-19T07:08:17.779Z"
   },
   {
    "duration": 9,
    "start_time": "2022-08-19T07:08:17.807Z"
   },
   {
    "duration": 193,
    "start_time": "2022-08-19T07:08:17.818Z"
   },
   {
    "duration": 328,
    "start_time": "2022-08-19T07:08:18.013Z"
   },
   {
    "duration": 166,
    "start_time": "2022-08-19T07:08:18.343Z"
   },
   {
    "duration": 213,
    "start_time": "2022-08-19T07:08:18.510Z"
   },
   {
    "duration": 195,
    "start_time": "2022-08-19T07:08:18.725Z"
   },
   {
    "duration": 14,
    "start_time": "2022-08-19T07:08:18.922Z"
   },
   {
    "duration": 6,
    "start_time": "2022-08-19T07:08:18.937Z"
   },
   {
    "duration": 23,
    "start_time": "2022-08-19T07:08:18.945Z"
   },
   {
    "duration": 145,
    "start_time": "2022-08-19T07:08:18.970Z"
   },
   {
    "duration": 20,
    "start_time": "2022-08-19T07:08:19.117Z"
   },
   {
    "duration": 429,
    "start_time": "2022-08-19T07:08:19.139Z"
   },
   {
    "duration": 18,
    "start_time": "2022-08-19T07:08:19.570Z"
   },
   {
    "duration": 199,
    "start_time": "2022-08-19T07:08:19.590Z"
   },
   {
    "duration": 204,
    "start_time": "2022-08-19T07:08:19.791Z"
   },
   {
    "duration": 25,
    "start_time": "2022-08-19T07:08:19.996Z"
   },
   {
    "duration": 22,
    "start_time": "2022-08-19T07:08:20.023Z"
   },
   {
    "duration": 19,
    "start_time": "2022-08-19T07:08:20.047Z"
   },
   {
    "duration": 55,
    "start_time": "2022-08-19T07:08:20.068Z"
   },
   {
    "duration": 23,
    "start_time": "2022-08-19T07:08:20.125Z"
   },
   {
    "duration": 26,
    "start_time": "2022-08-19T07:08:20.150Z"
   },
   {
    "duration": 19,
    "start_time": "2022-08-19T07:08:20.178Z"
   },
   {
    "duration": 15,
    "start_time": "2022-08-19T07:08:20.200Z"
   },
   {
    "duration": 10,
    "start_time": "2022-08-19T07:08:20.216Z"
   },
   {
    "duration": 112,
    "start_time": "2022-08-19T07:08:20.228Z"
   },
   {
    "duration": 39,
    "start_time": "2022-08-19T07:08:20.341Z"
   },
   {
    "duration": 25,
    "start_time": "2022-08-19T07:08:20.382Z"
   },
   {
    "duration": 8,
    "start_time": "2022-08-19T07:08:20.409Z"
   },
   {
    "duration": 229,
    "start_time": "2022-08-19T07:08:20.419Z"
   },
   {
    "duration": 203,
    "start_time": "2022-08-19T07:08:20.650Z"
   },
   {
    "duration": 210,
    "start_time": "2022-08-19T07:08:20.854Z"
   },
   {
    "duration": 10,
    "start_time": "2022-08-19T07:08:21.068Z"
   },
   {
    "duration": 194,
    "start_time": "2022-08-19T07:08:21.080Z"
   },
   {
    "duration": 8,
    "start_time": "2022-08-19T07:08:21.276Z"
   },
   {
    "duration": 20,
    "start_time": "2022-08-19T07:08:21.286Z"
   },
   {
    "duration": 11,
    "start_time": "2022-08-19T07:08:21.308Z"
   },
   {
    "duration": 311,
    "start_time": "2022-08-19T07:08:21.321Z"
   },
   {
    "duration": 11,
    "start_time": "2022-08-19T07:08:21.634Z"
   },
   {
    "duration": 29,
    "start_time": "2022-08-19T07:08:21.647Z"
   },
   {
    "duration": 120,
    "start_time": "2022-08-19T07:08:21.678Z"
   },
   {
    "duration": 118,
    "start_time": "2022-08-19T07:08:21.801Z"
   },
   {
    "duration": 15,
    "start_time": "2022-08-19T07:13:05.827Z"
   },
   {
    "duration": 6,
    "start_time": "2022-08-19T07:16:42.321Z"
   },
   {
    "duration": 102,
    "start_time": "2022-08-19T07:16:57.345Z"
   },
   {
    "duration": 5,
    "start_time": "2022-08-19T07:16:59.157Z"
   },
   {
    "duration": 4561,
    "start_time": "2022-08-19T07:16:59.621Z"
   },
   {
    "duration": 5,
    "start_time": "2022-08-19T07:17:50.725Z"
   },
   {
    "duration": 3,
    "start_time": "2022-08-19T07:18:28.254Z"
   },
   {
    "duration": 9,
    "start_time": "2022-08-19T07:18:32.954Z"
   },
   {
    "duration": 9,
    "start_time": "2022-08-19T07:18:40.882Z"
   },
   {
    "duration": 4,
    "start_time": "2022-08-19T07:20:07.321Z"
   },
   {
    "duration": 141,
    "start_time": "2022-08-19T07:20:18.017Z"
   },
   {
    "duration": 4,
    "start_time": "2022-08-19T07:20:20.880Z"
   },
   {
    "duration": 13,
    "start_time": "2022-08-19T07:20:38.329Z"
   },
   {
    "duration": 12,
    "start_time": "2022-08-19T07:20:41.655Z"
   },
   {
    "duration": 12,
    "start_time": "2022-08-19T07:20:46.755Z"
   },
   {
    "duration": 3,
    "start_time": "2022-08-19T07:21:04.747Z"
   },
   {
    "duration": 5,
    "start_time": "2022-08-19T07:21:07.579Z"
   },
   {
    "duration": 4,
    "start_time": "2022-08-19T07:21:16.355Z"
   },
   {
    "duration": 4,
    "start_time": "2022-08-19T07:21:27.039Z"
   },
   {
    "duration": 5,
    "start_time": "2022-08-19T07:22:52.737Z"
   },
   {
    "duration": 4557,
    "start_time": "2022-08-19T07:22:57.621Z"
   },
   {
    "duration": 29,
    "start_time": "2022-08-19T07:24:44.457Z"
   },
   {
    "duration": 36,
    "start_time": "2022-08-19T07:25:01.229Z"
   },
   {
    "duration": 5,
    "start_time": "2022-08-19T07:25:14.257Z"
   },
   {
    "duration": 4,
    "start_time": "2022-08-19T07:25:22.032Z"
   },
   {
    "duration": 3730,
    "start_time": "2022-08-19T07:25:31.038Z"
   },
   {
    "duration": 3909,
    "start_time": "2022-08-19T07:26:17.624Z"
   },
   {
    "duration": 1230,
    "start_time": "2022-08-19T07:35:36.761Z"
   },
   {
    "duration": 3105,
    "start_time": "2022-08-19T07:35:37.993Z"
   },
   {
    "duration": 24,
    "start_time": "2022-08-19T07:35:41.101Z"
   },
   {
    "duration": 24,
    "start_time": "2022-08-19T07:35:41.128Z"
   },
   {
    "duration": 10,
    "start_time": "2022-08-19T07:35:41.154Z"
   },
   {
    "duration": 22,
    "start_time": "2022-08-19T07:35:41.166Z"
   },
   {
    "duration": 7,
    "start_time": "2022-08-19T07:35:41.189Z"
   },
   {
    "duration": 11,
    "start_time": "2022-08-19T07:35:41.197Z"
   },
   {
    "duration": 13,
    "start_time": "2022-08-19T07:35:41.210Z"
   },
   {
    "duration": 45,
    "start_time": "2022-08-19T07:35:41.226Z"
   },
   {
    "duration": 8,
    "start_time": "2022-08-19T07:35:41.273Z"
   },
   {
    "duration": 8,
    "start_time": "2022-08-19T07:35:41.283Z"
   },
   {
    "duration": 13,
    "start_time": "2022-08-19T07:35:41.292Z"
   },
   {
    "duration": 16,
    "start_time": "2022-08-19T07:35:41.307Z"
   },
   {
    "duration": 58,
    "start_time": "2022-08-19T07:35:41.324Z"
   },
   {
    "duration": 19,
    "start_time": "2022-08-19T07:35:41.383Z"
   },
   {
    "duration": 23,
    "start_time": "2022-08-19T07:35:41.404Z"
   },
   {
    "duration": 47,
    "start_time": "2022-08-19T07:35:41.429Z"
   },
   {
    "duration": 24,
    "start_time": "2022-08-19T07:35:41.477Z"
   },
   {
    "duration": 17,
    "start_time": "2022-08-19T07:35:41.503Z"
   },
   {
    "duration": 8,
    "start_time": "2022-08-19T07:35:41.522Z"
   },
   {
    "duration": 46,
    "start_time": "2022-08-19T07:35:41.532Z"
   },
   {
    "duration": 15,
    "start_time": "2022-08-19T07:35:41.579Z"
   },
   {
    "duration": 16,
    "start_time": "2022-08-19T07:35:41.596Z"
   },
   {
    "duration": 5,
    "start_time": "2022-08-19T07:35:41.614Z"
   },
   {
    "duration": 9,
    "start_time": "2022-08-19T07:35:41.620Z"
   },
   {
    "duration": 114,
    "start_time": "2022-08-19T07:35:41.631Z"
   },
   {
    "duration": 98,
    "start_time": "2022-08-19T07:35:41.750Z"
   },
   {
    "duration": 19,
    "start_time": "2022-08-19T07:35:41.850Z"
   },
   {
    "duration": 30,
    "start_time": "2022-08-19T07:35:41.870Z"
   },
   {
    "duration": 537,
    "start_time": "2022-08-19T07:35:41.902Z"
   },
   {
    "duration": 473,
    "start_time": "2022-08-19T07:35:42.441Z"
   },
   {
    "duration": 532,
    "start_time": "2022-08-19T07:35:42.915Z"
   },
   {
    "duration": 292,
    "start_time": "2022-08-19T07:35:43.449Z"
   },
   {
    "duration": 7,
    "start_time": "2022-08-19T07:35:43.743Z"
   },
   {
    "duration": 18,
    "start_time": "2022-08-19T07:35:43.752Z"
   },
   {
    "duration": 23,
    "start_time": "2022-08-19T07:35:43.771Z"
   },
   {
    "duration": 18,
    "start_time": "2022-08-19T07:35:43.795Z"
   },
   {
    "duration": 20,
    "start_time": "2022-08-19T07:35:43.815Z"
   },
   {
    "duration": 41,
    "start_time": "2022-08-19T07:35:43.837Z"
   },
   {
    "duration": 6,
    "start_time": "2022-08-19T07:35:43.880Z"
   },
   {
    "duration": 9,
    "start_time": "2022-08-19T07:35:43.888Z"
   },
   {
    "duration": 14,
    "start_time": "2022-08-19T07:35:43.898Z"
   },
   {
    "duration": 687,
    "start_time": "2022-08-19T07:35:43.913Z"
   },
   {
    "duration": 7,
    "start_time": "2022-08-19T07:35:44.602Z"
   },
   {
    "duration": 20,
    "start_time": "2022-08-19T07:35:44.611Z"
   },
   {
    "duration": 48,
    "start_time": "2022-08-19T07:35:44.633Z"
   },
   {
    "duration": 19,
    "start_time": "2022-08-19T07:35:44.683Z"
   },
   {
    "duration": 17,
    "start_time": "2022-08-19T07:35:44.704Z"
   },
   {
    "duration": 122,
    "start_time": "2022-08-19T07:35:44.722Z"
   },
   {
    "duration": 27,
    "start_time": "2022-08-19T07:35:44.846Z"
   },
   {
    "duration": 20,
    "start_time": "2022-08-19T07:35:44.875Z"
   },
   {
    "duration": 37,
    "start_time": "2022-08-19T07:35:44.898Z"
   },
   {
    "duration": 41,
    "start_time": "2022-08-19T07:35:44.937Z"
   },
   {
    "duration": 11,
    "start_time": "2022-08-19T07:35:44.979Z"
   },
   {
    "duration": 6,
    "start_time": "2022-08-19T07:35:44.992Z"
   },
   {
    "duration": 38,
    "start_time": "2022-08-19T07:35:45.000Z"
   },
   {
    "duration": 161,
    "start_time": "2022-08-19T07:35:45.040Z"
   },
   {
    "duration": 6,
    "start_time": "2022-08-19T07:35:45.202Z"
   },
   {
    "duration": 12,
    "start_time": "2022-08-19T07:35:45.210Z"
   },
   {
    "duration": 103,
    "start_time": "2022-08-19T07:35:45.224Z"
   },
   {
    "duration": 8,
    "start_time": "2022-08-19T07:35:45.329Z"
   },
   {
    "duration": 4,
    "start_time": "2022-08-19T07:35:45.339Z"
   },
   {
    "duration": 24,
    "start_time": "2022-08-19T07:35:45.344Z"
   },
   {
    "duration": 1767,
    "start_time": "2022-08-19T07:35:45.369Z"
   },
   {
    "duration": 7,
    "start_time": "2022-08-19T07:35:47.138Z"
   },
   {
    "duration": 28,
    "start_time": "2022-08-19T07:35:47.147Z"
   },
   {
    "duration": 22,
    "start_time": "2022-08-19T07:35:47.177Z"
   },
   {
    "duration": 157,
    "start_time": "2022-08-19T07:35:47.201Z"
   },
   {
    "duration": 269,
    "start_time": "2022-08-19T07:35:47.367Z"
   },
   {
    "duration": 133,
    "start_time": "2022-08-19T07:35:47.638Z"
   },
   {
    "duration": 180,
    "start_time": "2022-08-19T07:35:47.772Z"
   },
   {
    "duration": 189,
    "start_time": "2022-08-19T07:35:47.954Z"
   },
   {
    "duration": 13,
    "start_time": "2022-08-19T07:35:48.144Z"
   },
   {
    "duration": 9,
    "start_time": "2022-08-19T07:35:48.168Z"
   },
   {
    "duration": 18,
    "start_time": "2022-08-19T07:35:48.178Z"
   },
   {
    "duration": 4291,
    "start_time": "2022-08-19T07:35:48.198Z"
   },
   {
    "duration": 110,
    "start_time": "2022-08-19T07:35:52.491Z"
   },
   {
    "duration": 18,
    "start_time": "2022-08-19T07:35:52.602Z"
   },
   {
    "duration": 387,
    "start_time": "2022-08-19T07:35:52.622Z"
   },
   {
    "duration": 13,
    "start_time": "2022-08-19T07:35:53.011Z"
   },
   {
    "duration": 191,
    "start_time": "2022-08-19T07:35:53.030Z"
   },
   {
    "duration": 161,
    "start_time": "2022-08-19T07:35:53.223Z"
   },
   {
    "duration": 20,
    "start_time": "2022-08-19T07:35:53.385Z"
   },
   {
    "duration": 10,
    "start_time": "2022-08-19T07:35:53.407Z"
   },
   {
    "duration": 7,
    "start_time": "2022-08-19T07:35:53.418Z"
   },
   {
    "duration": 49,
    "start_time": "2022-08-19T07:35:53.427Z"
   },
   {
    "duration": 23,
    "start_time": "2022-08-19T07:35:53.478Z"
   },
   {
    "duration": 10,
    "start_time": "2022-08-19T07:35:53.503Z"
   },
   {
    "duration": 10,
    "start_time": "2022-08-19T07:35:53.515Z"
   },
   {
    "duration": 14,
    "start_time": "2022-08-19T07:35:53.526Z"
   },
   {
    "duration": 27,
    "start_time": "2022-08-19T07:35:53.541Z"
   },
   {
    "duration": 85,
    "start_time": "2022-08-19T07:35:53.570Z"
   },
   {
    "duration": 33,
    "start_time": "2022-08-19T07:35:53.656Z"
   },
   {
    "duration": 23,
    "start_time": "2022-08-19T07:35:53.691Z"
   },
   {
    "duration": 4,
    "start_time": "2022-08-19T07:35:53.716Z"
   },
   {
    "duration": 184,
    "start_time": "2022-08-19T07:35:53.722Z"
   },
   {
    "duration": 195,
    "start_time": "2022-08-19T07:35:53.908Z"
   },
   {
    "duration": 277,
    "start_time": "2022-08-19T07:35:54.105Z"
   },
   {
    "duration": 8,
    "start_time": "2022-08-19T07:35:54.384Z"
   },
   {
    "duration": 163,
    "start_time": "2022-08-19T07:35:54.394Z"
   },
   {
    "duration": 14,
    "start_time": "2022-08-19T07:35:54.558Z"
   },
   {
    "duration": 15,
    "start_time": "2022-08-19T07:35:54.574Z"
   },
   {
    "duration": 9,
    "start_time": "2022-08-19T07:35:54.590Z"
   },
   {
    "duration": 160,
    "start_time": "2022-08-19T07:35:54.601Z"
   },
   {
    "duration": 11,
    "start_time": "2022-08-19T07:35:54.767Z"
   },
   {
    "duration": 20,
    "start_time": "2022-08-19T07:35:54.780Z"
   },
   {
    "duration": 107,
    "start_time": "2022-08-19T07:35:54.801Z"
   },
   {
    "duration": 100,
    "start_time": "2022-08-19T07:35:54.913Z"
   },
   {
    "duration": 75,
    "start_time": "2022-08-19T07:52:40.963Z"
   }
  ],
  "kernelspec": {
   "display_name": "Python 3 (ipykernel)",
   "language": "python",
   "name": "python3"
  },
  "language_info": {
   "codemirror_mode": {
    "name": "ipython",
    "version": 3
   },
   "file_extension": ".py",
   "mimetype": "text/x-python",
   "name": "python",
   "nbconvert_exporter": "python",
   "pygments_lexer": "ipython3",
   "version": "3.9.7"
  },
  "toc": {
   "base_numbering": 1,
   "nav_menu": {},
   "number_sections": true,
   "sideBar": true,
   "skip_h1_title": true,
   "title_cell": "Table of Contents",
   "title_sidebar": "Contents",
   "toc_cell": false,
   "toc_position": {},
   "toc_section_display": true,
   "toc_window_display": false
  }
 },
 "nbformat": 4,
 "nbformat_minor": 5
}
